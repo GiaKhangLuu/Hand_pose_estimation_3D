{
 "cells": [
  {
   "cell_type": "code",
   "execution_count": 1,
   "metadata": {},
   "outputs": [
    {
     "name": "stdout",
     "output_type": "stream",
     "text": [
      "/home/giakhang/dev/pose_sandbox/data\n"
     ]
    }
   ],
   "source": [
    "!pwd"
   ]
  },
  {
   "cell_type": "code",
   "execution_count": 2,
   "metadata": {},
   "outputs": [
    {
     "name": "stdout",
     "output_type": "stream",
     "text": [
      "/home/giakhang/dev/pose_sandbox\n"
     ]
    },
    {
     "name": "stderr",
     "output_type": "stream",
     "text": [
      "/home/giakhang/anaconda3/envs/mmdeploy/lib/python3.11/site-packages/IPython/core/magics/osm.py:417: UserWarning: This is now an optional IPython functionality, setting dhist requires you to install the `pickleshare` library.\n",
      "  self.shell.db['dhist'] = compress_dhist(dhist)[-100:]\n"
     ]
    }
   ],
   "source": [
    "%cd .."
   ]
  },
  {
   "cell_type": "code",
   "execution_count": 3,
   "metadata": {},
   "outputs": [
    {
     "name": "stdout",
     "output_type": "stream",
     "text": [
      "Jupyter environment detected. Enabling Open3D WebVisualizer.\n",
      "[Open3D INFO] WebRTC GUI backend enabled.\n",
      "[Open3D INFO] WebRTCWindowSystem: HTTP handshake server disabled.\n"
     ]
    }
   ],
   "source": [
    "import os\n",
    "import sys\n",
    "import glob\n",
    "\n",
    "sys.path.append(\"/home/giakhang/dev/pose_sandbox/Hand_pose_estimation_3D/arm_and_hand\")\n",
    "sys.path.append(\"/home/giakhang/dev/pose_sandbox/Hand_pose_estimation_3D\")\n",
    "\n",
    "from dataloader_hand_only_ann import HandLandmarksDataset_ANN\n",
    "\n",
    "import numpy as np\n",
    "import torch\n",
    "import torch.nn as nn\n",
    "import torch.optim as optim\n",
    "from torch.utils.data import DataLoader\n",
    "import matplotlib.pyplot as plt\n",
    "import os\n",
    "from datetime import datetime\n",
    "import pandas as pd\n",
    "\n",
    "from utilities import fuse_landmarks_from_two_cameras, convert_to_left_shoulder_coord\n",
    "from functools import partial\n",
    "from ann import ANN\n",
    "\n",
    "import open3d as o3d\n",
    "from utilities import convert_to_left_shoulder_coord\n",
    "import time\n",
    "\n",
    "from csv_writer import columns_to_normalize, fusion_csv_columns_name\n",
    "from landmarks_scaler import LandmarksScaler\n",
    "\n",
    "from angle_calculator import LeftArmAngleCalculator\n",
    "from angle_calculator import LeftHandAngleCalculator"
   ]
  },
  {
   "cell_type": "code",
   "execution_count": 4,
   "metadata": {},
   "outputs": [],
   "source": [
    "arm_hand_fused_names = [\"left shoulder\", \"left elbow\", \"left hip\", \"right shoulder\",\n",
    "    \"right hip\", \"WRIST\", \"THUMB_CMC\", \"THUMB_MCP\", \"THUMB_IP\", \n",
    "    \"THUMB_TIP\", \"INDEX_FINGER_MCP\", \"INDEX_FINGER_PIP\", \"INDEX_FINGER_DIP\",\n",
    "    \"INDEX_FINGER_TIP\", \"MIDDLE_FINGER_MCP\", \"MIDDLE_FINGER_PIP\", \"MIDDLE_FINGER_DIP\",\n",
    "    \"MIDDLE_FINGER_TIP\", \"RING_FINGER_MCP\", \"RING_FINGER_PIP\", \"RING_FINGER_DIP\",\n",
    "    \"RING_FINGER_TIP\", \"PINKY_MCP\", \"PINKY_PIP\", \"PINKY_DIP\", \"PINKY_TIP\", \"right elbow\",\n",
    "    \"RIGHT_WRIST\", \"RIGHT_THUMB_CMC\", \"RIGHT_THUMB_MCP\", \"RIGHT_THUMB_IP\", \"RIGHT_THUMB_TIP\",\n",
    "    \"RIGHT_INDEX_FINGER_MCP\", \"RIGHT_INDEX_FINGER_PIP\", \"RIGHT_INDEX_FINGER_DIP\",\n",
    "    \"RIGHT_INDEX_FINGER_TIP\", \"RIGHT_MIDDLE_FINGER_MCP\", \"RIGHT_MIDDLE_FINGER_PIP\",\n",
    "    \"RIGHT_MIDDLE_FINGER_DIP\", \"RIGHT_MIDDLE_FINGER_TIP\", \"RIGHT_RING_FINGER_MCP\",\n",
    "    \"RIGHT_RING_FINGER_PIP\", \"RIGHT_RING_FINGER_DIP\", \"RIGHT_RING_FINGER_TIP\",\n",
    "    \"RIGHT_PINKY_MCP\", \"RIGHT_PINKY_PIP\", \"RIGHT_PINKY_DIP\", \"RIGHT_PINKY_TIP\"]"
   ]
  },
  {
   "cell_type": "code",
   "execution_count": 5,
   "metadata": {},
   "outputs": [],
   "source": [
    "left_arm_angle_calculator = LeftArmAngleCalculator(\n",
    "    num_chain=3, \n",
    "    landmark_dictionary=arm_hand_fused_names)\n",
    "left_hand_angle_calculator = LeftHandAngleCalculator(\n",
    "    num_chain=2, \n",
    "    landmark_dictionary=arm_hand_fused_names)"
   ]
  },
  {
   "cell_type": "code",
   "execution_count": 6,
   "metadata": {},
   "outputs": [],
   "source": [
    "DATA_DIR = \"/home/giakhang/dev/pose_sandbox/data\"  \n",
    "SELECTED_DATE = \"*\"\n",
    "\n",
    "MODEL_DATE = \"20241029\"\n",
    "MODEL_TIME = \"1042\"\n",
    "NUM_HIDDEN_LAYERS = 3\n",
    "MODEL_NAME = \"ann_left_hand\""
   ]
  },
  {
   "cell_type": "code",
   "execution_count": 7,
   "metadata": {},
   "outputs": [],
   "source": [
    "train_paths = glob.glob(os.path.join(DATA_DIR, \"{}/{}/fine_landmarks_{}_*.csv\".format(SELECTED_DATE, SELECTED_DATE, \"train\")))\n",
    "val_paths = glob.glob(os.path.join(DATA_DIR, \"{}/{}/fine_landmarks_{}_*.csv\".format(SELECTED_DATE, SELECTED_DATE, \"val\")))\n",
    "test_paths = glob.glob(os.path.join(DATA_DIR, \"{}/{}/fine_landmarks_{}_*.csv\".format(SELECTED_DATE, SELECTED_DATE, \"test\")))\n",
    "body_lines = [[0,2], [0, 3], [2, 4], [3, 4]]\n",
    "lefthand_lines = [[0, 1], [1, 5], [5, 6], [5, 10], [5, 22], [10, 14], [14, 18], [18, 22], \n",
    "    [6, 7], [7, 8], [8, 9], \n",
    "    [10, 11], [11, 12], [12, 13], \n",
    "    [14, 15], [15, 16], [16, 17], \n",
    "    [18, 19], [19, 20], [20, 21], \n",
    "    [22, 23], [23, 24], [24, 25]]\n",
    "train_body_distance_thres = 550\n",
    "train_leftarm_distance_thres = 550\n",
    "train_lefthand_distance_thres = 200\n",
    "val_body_distance_thres=450,\n",
    "val_leftarm_distance_thres=450,\n",
    "val_lefthand_distance_thres=150,\n",
    "\n",
    "input_scaler_path = \"/home/giakhang/dev/pose_sandbox/Hand_pose_estimation_3D/arm_and_hand/runs/{}/{}/{}-{}/input_scaler.pkl\".format(MODEL_NAME, MODEL_DATE, MODEL_DATE, MODEL_TIME)\n",
    "#output_scaler_path = \"/home/giakhang/dev/pose_sandbox/Hand_pose_estimation_3D/arm_and_hand/runs/{}/{}/{}-{}/output_scaler.pkl\".format(MODEL_NAME, MODEL_DATE, MODEL_DATE, MODEL_TIME)\n",
    "input_scaler = LandmarksScaler(scaler_path=input_scaler_path)\n",
    "#output_scaler = LandmarksScaler(scaler_path=output_scaler_path)\n",
    "\n",
    "train_dataset = HandLandmarksDataset_ANN(train_paths, \n",
    "    arm_hand_fused_names,\n",
    "    body_lines, \n",
    "    lefthand_lines, \n",
    "    train_body_distance_thres, \n",
    "    train_leftarm_distance_thres, \n",
    "    train_lefthand_distance_thres,\n",
    "    filter_outlier=True,\n",
    "    only_keep_frames_contain_lefthand=True,\n",
    "    cvt_normalized_xy_to_XY=True,\n",
    "    input_scaler=input_scaler,\n",
    "    output_scaler=None)\n",
    "val_dataset = HandLandmarksDataset_ANN(val_paths,\n",
    "    arm_hand_fused_names,\n",
    "    body_lines,\n",
    "    lefthand_lines,\n",
    "    val_body_distance_thres,\n",
    "    val_leftarm_distance_thres,\n",
    "    val_lefthand_distance_thres,\n",
    "    filter_outlier=True,\n",
    "    only_keep_frames_contain_lefthand=True,\n",
    "    cvt_normalized_xy_to_XY=True,\n",
    "    input_scaler=input_scaler,\n",
    "    output_scaler=None)\n",
    "test_dataset = HandLandmarksDataset_ANN(test_paths,\n",
    "    arm_hand_fused_names,\n",
    "    body_lines,\n",
    "    lefthand_lines,\n",
    "    val_body_distance_thres,\n",
    "    val_leftarm_distance_thres,\n",
    "    val_lefthand_distance_thres,\n",
    "    filter_outlier=True,\n",
    "    only_keep_frames_contain_lefthand=True,\n",
    "    cvt_normalized_xy_to_XY=True,\n",
    "    input_scaler=input_scaler,\n",
    "    output_scaler=None)"
   ]
  },
  {
   "cell_type": "code",
   "execution_count": 8,
   "metadata": {},
   "outputs": [],
   "source": [
    "#thumb_landmarks = [\"left shoulder\", \"left hip\", \"right shoulder\", \"right hip\", \n",
    "    #\"left elbow\", \"WRIST\", \n",
    "    #\"THUMB_CMC\", \"INDEX_FINGER_MCP\", \"MIDDLE_FINGER_MCP\", \"RING_FINGER_MCP\", \"PINKY_MCP\",\n",
    "    #\"THUMB_TIP\", \"INDEX_FINGER_TIP\", \"MIDDLE_FINGER_TIP\", \"RING_FINGER_TIP\", \"PINKY_TIP\"]\n",
    "\n",
    "num_hand_lmks = 21\n",
    "left_wrist_idx = 5"
   ]
  },
  {
   "cell_type": "code",
   "execution_count": 9,
   "metadata": {},
   "outputs": [
    {
     "data": {
      "text/plain": [
       "ANN(\n",
       "  (network): Sequential(\n",
       "    (0): Linear(in_features=126, out_features=63, bias=True)\n",
       "    (1): BatchNorm1d(63, eps=1e-05, momentum=0.1, affine=False, track_running_stats=True)\n",
       "    (2): SiLU()\n",
       "    (3): Linear(in_features=63, out_features=63, bias=True)\n",
       "    (4): BatchNorm1d(63, eps=1e-05, momentum=0.1, affine=False, track_running_stats=True)\n",
       "    (5): SiLU()\n",
       "    (6): Linear(in_features=63, out_features=63, bias=True)\n",
       "    (7): BatchNorm1d(63, eps=1e-05, momentum=0.1, affine=False, track_running_stats=True)\n",
       "    (8): SiLU()\n",
       "    (9): Linear(in_features=63, out_features=63, bias=True)\n",
       "    (10): BatchNorm1d(63, eps=1e-05, momentum=0.1, affine=False, track_running_stats=True)\n",
       "    (11): SiLU()\n",
       "    (12): Linear(in_features=63, out_features=63, bias=True)\n",
       "    (13): BatchNorm1d(63, eps=1e-05, momentum=0.1, affine=False, track_running_stats=True)\n",
       "    (14): SiLU()\n",
       "    (15): Dropout(p=0.1, inplace=False)\n",
       "    (16): Linear(in_features=63, out_features=63, bias=True)\n",
       "    (17): BatchNorm1d(63, eps=1e-05, momentum=0.1, affine=False, track_running_stats=True)\n",
       "    (18): SiLU()\n",
       "    (19): Dropout(p=0.1, inplace=False)\n",
       "    (20): Linear(in_features=63, out_features=63, bias=True)\n",
       "  )\n",
       ")"
      ]
     },
     "execution_count": 9,
     "metadata": {},
     "output_type": "execute_result"
    }
   ],
   "source": [
    "input_dim = num_hand_lmks * 3 * 2 \n",
    "output_dim = num_hand_lmks * 3\n",
    "hidden_dim = num_hand_lmks * 3\n",
    "num_hidden_layers = NUM_HIDDEN_LAYERS\n",
    "dropout_rate = 0.1\n",
    "MODEL_NAME = \"ann_left_hand\"\n",
    "model_weight_path = \"/home/giakhang/dev/pose_sandbox/Hand_pose_estimation_3D/arm_and_hand/runs/{}/{}/{}-{}/{}_{}_layers_best.pth\".format(\n",
    "    MODEL_NAME, MODEL_DATE, MODEL_DATE, MODEL_TIME, MODEL_NAME, NUM_HIDDEN_LAYERS)\n",
    "\n",
    "ann_model = ANN(input_dim=input_dim,\n",
    "    output_dim=output_dim,\n",
    "    hidden_dim=hidden_dim,\n",
    "    num_hidden_layers=num_hidden_layers,\n",
    "    dropout_rate=dropout_rate\n",
    ")\n",
    "\n",
    "ann_model.load_state_dict(torch.load(model_weight_path))\n",
    "ann_model.to(\"cuda\")\n",
    "ann_model.eval()"
   ]
  },
  {
   "cell_type": "code",
   "execution_count": 10,
   "metadata": {},
   "outputs": [
    {
     "data": {
      "text/plain": [
       "(23902, 63)"
      ]
     },
     "execution_count": 10,
     "metadata": {},
     "output_type": "execute_result"
    }
   ],
   "source": [
    "train_dataset._outputs.shape"
   ]
  },
  {
   "cell_type": "code",
   "execution_count": 11,
   "metadata": {},
   "outputs": [
    {
     "data": {
      "text/plain": [
       "torch.Size([23902, 63])"
      ]
     },
     "execution_count": 11,
     "metadata": {},
     "output_type": "execute_result"
    }
   ],
   "source": [
    "input_data = train_dataset._inputs\n",
    "input_row = torch.Tensor(input_data)\n",
    "input_row = input_row.to(\"cuda\")\n",
    "\n",
    "pred_output = ann_model(input_row)\n",
    "pred_output.shape"
   ]
  },
  {
   "cell_type": "code",
   "execution_count": 12,
   "metadata": {},
   "outputs": [],
   "source": [
    "pred_output = pred_output.detach().to(\"cpu\").numpy()"
   ]
  },
  {
   "cell_type": "code",
   "execution_count": 13,
   "metadata": {},
   "outputs": [],
   "source": [
    "#thumb_landmarks = train_dataset._thumb_landmarks\n",
    "\n",
    "#thumb_idx = [arm_hand_fused_names.index(lmks) for lmks in thumb_landmarks]\n",
    "#thumb_idx"
   ]
  },
  {
   "cell_type": "code",
   "execution_count": 14,
   "metadata": {},
   "outputs": [],
   "source": [
    "body = train_dataset._body_outputs\n",
    "#pred_train_left_hand = output_scaler.minmax_scaler.inverse_transform(pred_output)\n",
    "pred_train_left_hand = pred_output"
   ]
  },
  {
   "cell_type": "code",
   "execution_count": 15,
   "metadata": {},
   "outputs": [],
   "source": [
    "body = body.reshape(-1, 3, 5)\n",
    "pred_train_left_hand = pred_train_left_hand.reshape(-1, 3, 21)"
   ]
  },
  {
   "cell_type": "code",
   "execution_count": 16,
   "metadata": {},
   "outputs": [],
   "source": [
    "pred_target = np.concatenate([body, pred_train_left_hand], axis=-1)"
   ]
  },
  {
   "cell_type": "code",
   "execution_count": 17,
   "metadata": {},
   "outputs": [],
   "source": [
    "pred_target = np.transpose(pred_target, (0, 2, 1))"
   ]
  },
  {
   "cell_type": "code",
   "execution_count": 18,
   "metadata": {},
   "outputs": [],
   "source": [
    "#gt_train_left_hand = output_scaler.minmax_scaler.inverse_transform(train_dataset._outputs)\n",
    "gt_train_left_hand = train_dataset._outputs\n",
    "gt_train_left_hand = gt_train_left_hand.reshape(-1, 3, 21)\n",
    "gt_target = np.concatenate([body, gt_train_left_hand], axis=-1)\n",
    "gt_target = np.transpose(gt_target, (0, 2, 1))"
   ]
  },
  {
   "cell_type": "markdown",
   "metadata": {},
   "source": [
    "Calculate angles' errors"
   ]
  },
  {
   "cell_type": "code",
   "execution_count": 19,
   "metadata": {},
   "outputs": [
    {
     "data": {
      "text/plain": [
       "(23902, 26, 3)"
      ]
     },
     "execution_count": 19,
     "metadata": {},
     "output_type": "execute_result"
    }
   ],
   "source": [
    "pred_target.shape"
   ]
  },
  {
   "cell_type": "code",
   "execution_count": 20,
   "metadata": {},
   "outputs": [
    {
     "data": {
      "text/plain": [
       "(23902, 26, 3)"
      ]
     },
     "execution_count": 20,
     "metadata": {},
     "output_type": "execute_result"
    }
   ],
   "source": [
    "gt_target.shape"
   ]
  },
  {
   "cell_type": "code",
   "execution_count": 21,
   "metadata": {},
   "outputs": [],
   "source": [
    "pred_angles = []\n",
    "\n",
    "for i in range(pred_target.shape[0]):\n",
    "    output = pred_target[i]\n",
    "    \n",
    "    train_pred_XYZ_wrt_shoulder, xyz_origin = convert_to_left_shoulder_coord(\n",
    "        output,\n",
    "        arm_hand_fused_names)\n",
    "    \n",
    "    left_arm_result = left_arm_angle_calculator(train_pred_XYZ_wrt_shoulder, \n",
    "        parent_coordinate=xyz_origin)\n",
    "    left_arm_angles = left_arm_result[\"left_arm\"][\"angles\"]\n",
    "    left_arm_rot_mats_wrt_origin = left_arm_result[\"left_arm\"][\"rot_mats_wrt_origin\"]\n",
    "    last_coordinate_from_left_arm = left_arm_rot_mats_wrt_origin[-1]\n",
    "    left_hand_result = left_hand_angle_calculator(train_pred_XYZ_wrt_shoulder, \n",
    "        parent_coordinate=last_coordinate_from_left_arm)\n",
    "    \n",
    "    left_hand_angles = []\n",
    "    for finger_name in left_hand_angle_calculator.fingers_name:\n",
    "        finger_i_angles = left_hand_result[finger_name][\"angles\"].copy()\n",
    "\n",
    "        # In robot, its finger joint 1 is our finger joint 2, and vice versa (EXCEPT FOR THUMB FINGER). \n",
    "        # So that, we need to swap these values.\n",
    "        if finger_name != \"THUMB\":\n",
    "            finger_i_angles[0], finger_i_angles[1] = finger_i_angles[1], finger_i_angles[0]\n",
    "\n",
    "        left_hand_angles.extend(finger_i_angles)\n",
    "    \n",
    "    angles = left_arm_angles.copy()\n",
    "    angles.extend(left_hand_angles)    \n",
    "    pred_angles.append(angles)\n",
    "\n",
    "pred_angles = np.array(pred_angles)"
   ]
  },
  {
   "cell_type": "code",
   "execution_count": 22,
   "metadata": {},
   "outputs": [],
   "source": [
    "gt_angles = []\n",
    "\n",
    "for i in range(gt_target.shape[0]):\n",
    "    gt = gt_target[i]\n",
    "    train_gt_XYZ_wrt_shoulder, xyz_origin = convert_to_left_shoulder_coord(\n",
    "        gt,\n",
    "        arm_hand_fused_names)\n",
    "    \n",
    "    left_arm_result = left_arm_angle_calculator(train_gt_XYZ_wrt_shoulder, \n",
    "        parent_coordinate=xyz_origin)\n",
    "    left_arm_angles = left_arm_result[\"left_arm\"][\"angles\"]\n",
    "    left_arm_rot_mats_wrt_origin = left_arm_result[\"left_arm\"][\"rot_mats_wrt_origin\"]\n",
    "    last_coordinate_from_left_arm = left_arm_rot_mats_wrt_origin[-1]\n",
    "    left_hand_result = left_hand_angle_calculator(train_gt_XYZ_wrt_shoulder, \n",
    "        parent_coordinate=last_coordinate_from_left_arm)\n",
    "    \n",
    "    left_hand_angles = []\n",
    "    for finger_name in left_hand_angle_calculator.fingers_name:\n",
    "        finger_i_angles = left_hand_result[finger_name][\"angles\"].copy()\n",
    "\n",
    "        # In robot, its finger joint 1 is our finger joint 2, and vice versa (EXCEPT FOR THUMB FINGER). \n",
    "        # So that, we need to swap these values.\n",
    "        if finger_name != \"THUMB\":\n",
    "            finger_i_angles[0], finger_i_angles[1] = finger_i_angles[1], finger_i_angles[0]\n",
    "\n",
    "        left_hand_angles.extend(finger_i_angles)\n",
    "    \n",
    "    angles = left_arm_angles.copy()\n",
    "    angles.extend(left_hand_angles)    \n",
    "    gt_angles.append(angles)\n",
    "\n",
    "gt_angles = np.array(gt_angles)"
   ]
  },
  {
   "cell_type": "code",
   "execution_count": 23,
   "metadata": {},
   "outputs": [],
   "source": [
    "angles_names = [\"left_arm_joint_01\",\n",
    "                \"left_arm_joint_02\",\n",
    "                \"left_arm_joint_03\",\n",
    "                \"left_arm_joint_04\",\n",
    "                \"left_arm_joint_05\",\n",
    "                \"left_arm_joint_06\",\n",
    "                \"left_THUMB_joint_01\",\n",
    "                \"left_THUMB_joint_02\",\n",
    "                \"left_THUMB_joint_03\",\n",
    "                \"left_INDEX_joint_01\",\n",
    "                \"left_INDEX_joint_02\",\n",
    "                \"left_INDEX_joint_03\",\n",
    "                \"left_MIDDLE_joint_01\",\n",
    "                \"left_MIDDLE_joint_02\",\n",
    "                \"left_MIDDLE_joint_03\",\n",
    "                \"left_RING_joint_01\",\n",
    "                \"left_RING_joint_02\",\n",
    "                \"left_RING_joint_03\",\n",
    "                \"left_PINKY_joint_01\",\n",
    "                \"left_PINKY_joint_02\",\n",
    "                \"left_PINKY_joint_03\"]"
   ]
  },
  {
   "cell_type": "code",
   "execution_count": 24,
   "metadata": {},
   "outputs": [],
   "source": [
    "angles_errors = np.mean(np.abs(gt_angles - pred_angles), axis=0)"
   ]
  },
  {
   "cell_type": "code",
   "execution_count": 25,
   "metadata": {},
   "outputs": [
    {
     "name": "stdout",
     "output_type": "stream",
     "text": [
      "left_arm_joint_01 mean error: 0.0\n",
      "left_arm_joint_02 mean error: 0.0\n",
      "left_arm_joint_03 mean error: 22.12\n",
      "left_arm_joint_04 mean error: 9.13\n",
      "left_arm_joint_05 mean error: 57.82\n",
      "left_arm_joint_06 mean error: 21.8\n",
      "left_THUMB_joint_01 mean error: 21.3\n",
      "left_THUMB_joint_02 mean error: 19.12\n",
      "left_THUMB_joint_03 mean error: 21.03\n",
      "left_INDEX_joint_01 mean error: 19.42\n",
      "left_INDEX_joint_02 mean error: 19.57\n",
      "left_INDEX_joint_03 mean error: 25.72\n",
      "left_MIDDLE_joint_01 mean error: 20.76\n",
      "left_MIDDLE_joint_02 mean error: 22.67\n",
      "left_MIDDLE_joint_03 mean error: 28.53\n",
      "left_RING_joint_01 mean error: 21.09\n",
      "left_RING_joint_02 mean error: 24.53\n",
      "left_RING_joint_03 mean error: 28.47\n",
      "left_PINKY_joint_01 mean error: 22.52\n",
      "left_PINKY_joint_02 mean error: 25.29\n",
      "left_PINKY_joint_03 mean error: 27.33\n"
     ]
    }
   ],
   "source": [
    "assert len(angles_errors) == len(angles_names)\n",
    "\n",
    "for joint_error, joint_name in zip(angles_errors, angles_names):\n",
    "    print(f\"{joint_name} mean error: {round(joint_error, 2)}\")"
   ]
  },
  {
   "cell_type": "code",
   "execution_count": null,
   "metadata": {},
   "outputs": [],
   "source": []
  },
  {
   "cell_type": "code",
   "execution_count": null,
   "metadata": {},
   "outputs": [],
   "source": []
  },
  {
   "cell_type": "code",
   "execution_count": null,
   "metadata": {},
   "outputs": [],
   "source": []
  },
  {
   "cell_type": "code",
   "execution_count": null,
   "metadata": {},
   "outputs": [],
   "source": []
  },
  {
   "cell_type": "code",
   "execution_count": null,
   "metadata": {},
   "outputs": [],
   "source": []
  },
  {
   "cell_type": "code",
   "execution_count": null,
   "metadata": {},
   "outputs": [],
   "source": []
  },
  {
   "cell_type": "code",
   "execution_count": null,
   "metadata": {},
   "outputs": [
    {
     "ename": "KeyboardInterrupt",
     "evalue": "",
     "output_type": "error",
     "traceback": [
      "\u001b[0;31m---------------------------------------------------------------------------\u001b[0m",
      "\u001b[0;31mKeyboardInterrupt\u001b[0m                         Traceback (most recent call last)",
      "Cell \u001b[0;32mIn[26], line 65\u001b[0m\n\u001b[1;32m     62\u001b[0m     vis\u001b[38;5;241m.\u001b[39mpoll_events()\n\u001b[1;32m     63\u001b[0m     vis\u001b[38;5;241m.\u001b[39mupdate_renderer()\n\u001b[0;32m---> 65\u001b[0m     time\u001b[38;5;241m.\u001b[39msleep(time_sleep)\n\u001b[1;32m     67\u001b[0m vis\u001b[38;5;241m.\u001b[39mdestroy_window()\n",
      "\u001b[0;31mKeyboardInterrupt\u001b[0m: "
     ]
    }
   ],
   "source": [
    "target_output = pred_target\n",
    "time_sleep = 1\n",
    "x = np.array([[500, 0, 0],\n",
    "    [0, 0, 0]])\n",
    "pcd = o3d.geometry.PointCloud()\n",
    "pcd.points = o3d.utility.Vector3dVector(x)\n",
    "lines = [[0, 0]]\n",
    "colors = [[1, 0, 0] for i in range(len(lines))]\n",
    "line_set = o3d.geometry.LineSet(\n",
    "    points=o3d.utility.Vector3dVector(x),\n",
    "    lines=o3d.utility.Vector2iVector(lines)\n",
    ")\n",
    "line_set.colors = o3d.utility.Vector3dVector(colors)\n",
    "\n",
    "bounding_box = o3d.geometry.LineSet(\n",
    "    points=o3d.utility.Vector3dVector(np.array([[500,0 ,0], [0, 0, 0]])),\n",
    "    lines=o3d.utility.Vector2iVector([[0, 0]])\n",
    ")\n",
    "    \n",
    "vis = o3d.visualization.Visualizer()\n",
    "vis.create_window()\n",
    "vis.add_geometry(pcd)\n",
    "vis.add_geometry(line_set)\n",
    "vis.add_geometry(bounding_box)\n",
    "\n",
    "for i in range(target_output.shape[0]):\n",
    "    output = target_output[i, ...]  # shape: (26, 3)\n",
    "\n",
    "    lines = body_lines.copy()\n",
    "    lines.extend(lefthand_lines)\n",
    "\n",
    "    points, _ = convert_to_left_shoulder_coord(output,\n",
    "        arm_hand_fused_names)\n",
    "\n",
    "    pcd.points = o3d.utility.Vector3dVector(points)\n",
    "    colors = [[1, 0, 0] for i in range(len(lines))]\n",
    "    line_set.points = o3d.utility.Vector3dVector(points)  \n",
    "    line_set.lines = o3d.utility.Vector2iVector(lines) \n",
    "    line_set.colors = o3d.utility.Vector3dVector(colors)\n",
    "\n",
    "    # Draw cuboid\n",
    "    min_x, min_y, min_z = np.min(points, axis=0)\n",
    "    max_x, max_y, max_z = np.max(points, axis=0)\n",
    "    vertices = [\n",
    "        [min_x, min_y, min_z], [min_x, min_y, max_z], [min_x, max_y, min_z], [min_x, max_y, max_z],\n",
    "        [max_x, min_y, min_z], [max_x, min_y, max_z], [max_x, max_y, min_z], [max_x, max_y, max_z]\n",
    "    ]\n",
    "    vertices = np.array(vertices) \n",
    "    edges = [\n",
    "        [0, 1], [1, 3], [3, 2], [2, 0],  \n",
    "        [4, 5], [5, 7], [7, 6], [6, 4],  \n",
    "        [0, 4], [1, 5], [2, 6], [3, 7]   \n",
    "    ]\n",
    "    bounding_box.points = o3d.utility.Vector3dVector(vertices)\n",
    "    bounding_box.lines = o3d.utility.Vector2iVector(edges)\n",
    "    bbox_colors = [[0, 1, 0] for _ in range(len(edges))]  \n",
    "    bounding_box.colors = o3d.utility.Vector3dVector(bbox_colors)\n",
    "\n",
    "    vis.update_geometry(pcd)\n",
    "    vis.update_geometry(line_set)\n",
    "    vis.update_geometry(bounding_box)\n",
    "    vis.poll_events()\n",
    "    vis.update_renderer()\n",
    "        \n",
    "    time.sleep(time_sleep)\n",
    "\n",
    "vis.destroy_window()"
   ]
  },
  {
   "cell_type": "code",
   "execution_count": null,
   "metadata": {},
   "outputs": [
    {
     "ename": "KeyboardInterrupt",
     "evalue": "",
     "output_type": "error",
     "traceback": [
      "\u001b[0;31m---------------------------------------------------------------------------\u001b[0m",
      "\u001b[0;31mKeyboardInterrupt\u001b[0m                         Traceback (most recent call last)",
      "Cell \u001b[0;32mIn[34], line 65\u001b[0m\n\u001b[1;32m     62\u001b[0m     vis\u001b[38;5;241m.\u001b[39mpoll_events()\n\u001b[1;32m     63\u001b[0m     vis\u001b[38;5;241m.\u001b[39mupdate_renderer()\n\u001b[0;32m---> 65\u001b[0m     time\u001b[38;5;241m.\u001b[39msleep(time_sleep)\n\u001b[1;32m     67\u001b[0m vis\u001b[38;5;241m.\u001b[39mdestroy_window()\n",
      "\u001b[0;31mKeyboardInterrupt\u001b[0m: "
     ]
    }
   ],
   "source": [
    "target_output = gt_target\n",
    "time_sleep = .1\n",
    "x = np.array([[500, 0, 0],\n",
    "    [0, 0, 0]])\n",
    "pcd = o3d.geometry.PointCloud()\n",
    "pcd.points = o3d.utility.Vector3dVector(x)\n",
    "lines = [[0, 0]]\n",
    "colors = [[1, 0, 0] for i in range(len(lines))]\n",
    "line_set = o3d.geometry.LineSet(\n",
    "    points=o3d.utility.Vector3dVector(x),\n",
    "    lines=o3d.utility.Vector2iVector(lines)\n",
    ")\n",
    "line_set.colors = o3d.utility.Vector3dVector(colors)\n",
    "\n",
    "bounding_box = o3d.geometry.LineSet(\n",
    "    points=o3d.utility.Vector3dVector(np.array([[500,0 ,0], [0, 0, 0]])),\n",
    "    lines=o3d.utility.Vector2iVector([[0, 0]])\n",
    ")\n",
    "    \n",
    "vis = o3d.visualization.Visualizer()\n",
    "vis.create_window()\n",
    "vis.add_geometry(pcd)\n",
    "vis.add_geometry(line_set)\n",
    "vis.add_geometry(bounding_box)\n",
    "\n",
    "for i in range(target_output.shape[0]):\n",
    "    output = target_output[i, ...]  # shape: (26, 3)\n",
    "\n",
    "    lines = body_lines.copy()\n",
    "    lines.extend(lefthand_lines)\n",
    "\n",
    "    points, _ = convert_to_left_shoulder_coord(output,\n",
    "        arm_hand_fused_names)\n",
    "\n",
    "    pcd.points = o3d.utility.Vector3dVector(points)\n",
    "    colors = [[1, 0, 0] for i in range(len(lines))]\n",
    "    line_set.points = o3d.utility.Vector3dVector(points)  \n",
    "    line_set.lines = o3d.utility.Vector2iVector(lines) \n",
    "    line_set.colors = o3d.utility.Vector3dVector(colors)\n",
    "\n",
    "    # Draw cuboid\n",
    "    min_x, min_y, min_z = np.min(points, axis=0)\n",
    "    max_x, max_y, max_z = np.max(points, axis=0)\n",
    "    vertices = [\n",
    "        [min_x, min_y, min_z], [min_x, min_y, max_z], [min_x, max_y, min_z], [min_x, max_y, max_z],\n",
    "        [max_x, min_y, min_z], [max_x, min_y, max_z], [max_x, max_y, min_z], [max_x, max_y, max_z]\n",
    "    ]\n",
    "    vertices = np.array(vertices) \n",
    "    edges = [\n",
    "        [0, 1], [1, 3], [3, 2], [2, 0],  \n",
    "        [4, 5], [5, 7], [7, 6], [6, 4],  \n",
    "        [0, 4], [1, 5], [2, 6], [3, 7]   \n",
    "    ]\n",
    "    bounding_box.points = o3d.utility.Vector3dVector(vertices)\n",
    "    bounding_box.lines = o3d.utility.Vector2iVector(edges)\n",
    "    bbox_colors = [[0, 1, 0] for _ in range(len(edges))]  \n",
    "    bounding_box.colors = o3d.utility.Vector3dVector(bbox_colors)\n",
    "\n",
    "    vis.update_geometry(pcd)\n",
    "    vis.update_geometry(line_set)\n",
    "    vis.update_geometry(bounding_box)\n",
    "    vis.poll_events()\n",
    "    vis.update_renderer()\n",
    "        \n",
    "    time.sleep(time_sleep)\n",
    "\n",
    "vis.destroy_window()"
   ]
  },
  {
   "cell_type": "code",
   "execution_count": null,
   "metadata": {},
   "outputs": [],
   "source": []
  },
  {
   "cell_type": "code",
   "execution_count": null,
   "metadata": {},
   "outputs": [],
   "source": []
  },
  {
   "cell_type": "code",
   "execution_count": 21,
   "metadata": {},
   "outputs": [],
   "source": []
  },
  {
   "cell_type": "code",
   "execution_count": 22,
   "metadata": {},
   "outputs": [],
   "source": []
  },
  {
   "cell_type": "code",
   "execution_count": 23,
   "metadata": {},
   "outputs": [],
   "source": []
  },
  {
   "cell_type": "code",
   "execution_count": 27,
   "metadata": {},
   "outputs": [],
   "source": [
    "pred_output = np.transpose(pred_output, (0, 2, 1))\n",
    "pred_output = pred_output.reshape(-1, 26 * 3)"
   ]
  },
  {
   "cell_type": "code",
   "execution_count": 28,
   "metadata": {},
   "outputs": [
    {
     "ename": "KeyboardInterrupt",
     "evalue": "",
     "output_type": "error",
     "traceback": [
      "\u001b[0;31m---------------------------------------------------------------------------\u001b[0m",
      "\u001b[0;31mKeyboardInterrupt\u001b[0m                         Traceback (most recent call last)",
      "Cell \u001b[0;32mIn[28], line 67\u001b[0m\n\u001b[1;32m     64\u001b[0m     vis\u001b[38;5;241m.\u001b[39mpoll_events()\n\u001b[1;32m     65\u001b[0m     vis\u001b[38;5;241m.\u001b[39mupdate_renderer()\n\u001b[0;32m---> 67\u001b[0m     \u001b[43mtime\u001b[49m\u001b[38;5;241;43m.\u001b[39;49m\u001b[43msleep\u001b[49m\u001b[43m(\u001b[49m\u001b[43mtime_sleep\u001b[49m\u001b[43m)\u001b[49m\n\u001b[1;32m     69\u001b[0m vis\u001b[38;5;241m.\u001b[39mdestroy_window()\n",
      "\u001b[0;31mKeyboardInterrupt\u001b[0m: "
     ]
    }
   ],
   "source": []
  },
  {
   "cell_type": "markdown",
   "metadata": {},
   "source": [
    "# Inspect val set"
   ]
  },
  {
   "cell_type": "code",
   "execution_count": 10,
   "metadata": {},
   "outputs": [
    {
     "data": {
      "text/plain": [
       "(2379, 306)"
      ]
     },
     "execution_count": 10,
     "metadata": {},
     "output_type": "execute_result"
    }
   ],
   "source": [
    "val_input = val_dataset._inputs\n",
    "val_input.shape"
   ]
  },
  {
   "cell_type": "code",
   "execution_count": 11,
   "metadata": {},
   "outputs": [
    {
     "data": {
      "text/plain": [
       "(2379, 144)"
      ]
     },
     "execution_count": 11,
     "metadata": {},
     "output_type": "execute_result"
    }
   ],
   "source": [
    "val_input = torch.Tensor(val_input)\n",
    "val_input = val_input.to(\"cuda\")\n",
    "val_preds = ann_model(val_input)\n",
    "val_preds = val_preds.detach().to(\"cpu\").numpy()\n",
    "val_preds.shape"
   ]
  },
  {
   "cell_type": "code",
   "execution_count": 12,
   "metadata": {},
   "outputs": [
    {
     "data": {
      "text/plain": [
       "[0, 2, 3, 4, 1, 5]"
      ]
     },
     "execution_count": 12,
     "metadata": {},
     "output_type": "execute_result"
    }
   ],
   "source": [
    "thumb_landmarks = [\"left shoulder\", \"left hip\", \"right shoulder\", \"right hip\", \"left elbow\", \"WRIST\"]\n",
    "thumb_idx = [arm_hand_fused_names.index(lmks) for lmks in thumb_landmarks]\n",
    "thumb_idx"
   ]
  },
  {
   "cell_type": "code",
   "execution_count": 13,
   "metadata": {},
   "outputs": [],
   "source": [
    "val_input = val_dataset._inputs\n",
    "val_input = landmarks_scaler.minmax_scaler.inverse_transform(val_input)\n",
    "\n",
    "val_input = val_input.reshape(-1, 3, 48 + 48 + len(thumb_idx))\n",
    "\n",
    "gt_fused_thumb_val = val_input[..., -6:]"
   ]
  },
  {
   "cell_type": "code",
   "execution_count": 14,
   "metadata": {},
   "outputs": [],
   "source": [
    "val_gt = val_dataset._outputs\n",
    "val_gt = val_gt.reshape(-1, 3, 48)"
   ]
  },
  {
   "cell_type": "code",
   "execution_count": 15,
   "metadata": {},
   "outputs": [],
   "source": [
    "val_gt[..., thumb_idx] = gt_fused_thumb_val\n",
    "\n",
    "assert np.sum(np.abs(val_gt[..., thumb_idx] - gt_fused_thumb_val)) <= 0.0001"
   ]
  },
  {
   "cell_type": "code",
   "execution_count": 16,
   "metadata": {},
   "outputs": [
    {
     "data": {
      "text/plain": [
       "(2379, 48, 3)"
      ]
     },
     "execution_count": 16,
     "metadata": {},
     "output_type": "execute_result"
    }
   ],
   "source": [
    "val_gt = np.transpose(val_gt, (0, 2, 1))\n",
    "val_gt.shape"
   ]
  },
  {
   "cell_type": "code",
   "execution_count": 17,
   "metadata": {},
   "outputs": [
    {
     "data": {
      "text/plain": [
       "(2379, 48, 3)"
      ]
     },
     "execution_count": 17,
     "metadata": {},
     "output_type": "execute_result"
    }
   ],
   "source": [
    "val_preds = val_preds.reshape(-1, 3, 48)\n",
    "val_preds[..., thumb_idx] = gt_fused_thumb_val\n",
    "val_preds = np.transpose(val_preds, (0, 2, 1))\n",
    "val_preds.shape"
   ]
  },
  {
   "cell_type": "code",
   "execution_count": 18,
   "metadata": {},
   "outputs": [
    {
     "name": "stdout",
     "output_type": "stream",
     "text": [
      "Mean abs. error of the first 26 joints: 12.14(mm)\n"
     ]
    }
   ],
   "source": [
    "mae_of_first_26_joints = np.average(np.abs(val_gt[:, :26, :] - val_preds[:, :26, :]))\n",
    "print(\"Mean abs. error of the first 26 joints: {}(mm)\".format(round(mae_of_first_26_joints, 2)))"
   ]
  },
  {
   "cell_type": "code",
   "execution_count": 19,
   "metadata": {},
   "outputs": [
    {
     "name": "stdout",
     "output_type": "stream",
     "text": [
      "(2379, 26, 3)\n"
     ]
    }
   ],
   "source": [
    "val_preds = val_preds[:, :26, :]\n",
    "print(val_preds.shape)"
   ]
  },
  {
   "cell_type": "code",
   "execution_count": 20,
   "metadata": {},
   "outputs": [
    {
     "name": "stdout",
     "output_type": "stream",
     "text": [
      "(2379, 26, 3)\n"
     ]
    }
   ],
   "source": [
    "val_gt = val_gt[:, :26, :]\n",
    "print(val_gt.shape)"
   ]
  },
  {
   "cell_type": "code",
   "execution_count": 22,
   "metadata": {},
   "outputs": [],
   "source": [
    "pred_angles = []\n",
    "\n",
    "for i in range(val_preds.shape[0]):\n",
    "    val_pred = val_preds[i]\n",
    "    val_pred_XYZ_wrt_shoulder, xyz_origin = convert_to_left_shoulder_coord(\n",
    "        val_pred,\n",
    "        arm_hand_fused_names)\n",
    "    \n",
    "    left_arm_result = left_arm_angle_calculator(val_pred_XYZ_wrt_shoulder, \n",
    "        parent_coordinate=xyz_origin)\n",
    "    left_arm_angles = left_arm_result[\"left_arm\"][\"angles\"]\n",
    "    left_arm_rot_mats_wrt_origin = left_arm_result[\"left_arm\"][\"rot_mats_wrt_origin\"]\n",
    "    last_coordinate_from_left_arm = left_arm_rot_mats_wrt_origin[-1]\n",
    "    left_hand_result = left_hand_angle_calculator(val_pred_XYZ_wrt_shoulder, \n",
    "        parent_coordinate=last_coordinate_from_left_arm)\n",
    "    \n",
    "    left_hand_angles = []\n",
    "    for finger_name in left_hand_angle_calculator.fingers_name:\n",
    "        finger_i_angles = left_hand_result[finger_name][\"angles\"].copy()\n",
    "\n",
    "        # In robot, its finger joint 1 is our finger joint 2, and vice versa (EXCEPT FOR THUMB FINGER). \n",
    "        # So that, we need to swap these values.\n",
    "        if finger_name != \"THUMB\":\n",
    "            finger_i_angles[0], finger_i_angles[1] = finger_i_angles[1], finger_i_angles[0]\n",
    "\n",
    "        left_hand_angles.extend(finger_i_angles)\n",
    "    \n",
    "    angles = left_arm_angles.copy()\n",
    "    angles.extend(left_hand_angles)    \n",
    "    pred_angles.append(angles)\n",
    "\n",
    "pred_angles = np.array(pred_angles)"
   ]
  },
  {
   "cell_type": "code",
   "execution_count": 23,
   "metadata": {},
   "outputs": [],
   "source": [
    "gt_angles = []\n",
    "\n",
    "for i in range(val_gt.shape[0]):\n",
    "    gt = val_gt[i]\n",
    "    val_gt_XYZ_wrt_shoulder, xyz_origin = convert_to_left_shoulder_coord(\n",
    "        gt,\n",
    "        arm_hand_fused_names)\n",
    "    \n",
    "    left_arm_result = left_arm_angle_calculator(val_gt_XYZ_wrt_shoulder, \n",
    "        parent_coordinate=xyz_origin)\n",
    "    left_arm_angles = left_arm_result[\"left_arm\"][\"angles\"]\n",
    "    left_arm_rot_mats_wrt_origin = left_arm_result[\"left_arm\"][\"rot_mats_wrt_origin\"]\n",
    "    last_coordinate_from_left_arm = left_arm_rot_mats_wrt_origin[-1]\n",
    "    left_hand_result = left_hand_angle_calculator(val_gt_XYZ_wrt_shoulder, \n",
    "        parent_coordinate=last_coordinate_from_left_arm)\n",
    "    \n",
    "    left_hand_angles = []\n",
    "    for finger_name in left_hand_angle_calculator.fingers_name:\n",
    "        finger_i_angles = left_hand_result[finger_name][\"angles\"].copy()\n",
    "\n",
    "        # In robot, its finger joint 1 is our finger joint 2, and vice versa (EXCEPT FOR THUMB FINGER). \n",
    "        # So that, we need to swap these values.\n",
    "        if finger_name != \"THUMB\":\n",
    "            finger_i_angles[0], finger_i_angles[1] = finger_i_angles[1], finger_i_angles[0]\n",
    "\n",
    "        left_hand_angles.extend(finger_i_angles)\n",
    "    \n",
    "    angles = left_arm_angles.copy()\n",
    "    angles.extend(left_hand_angles)    \n",
    "    gt_angles.append(angles)\n",
    "\n",
    "gt_angles = np.array(gt_angles)"
   ]
  },
  {
   "cell_type": "code",
   "execution_count": 24,
   "metadata": {},
   "outputs": [],
   "source": [
    "angles_errors = np.mean(np.abs(gt_angles - pred_angles), axis=0)"
   ]
  },
  {
   "cell_type": "code",
   "execution_count": 25,
   "metadata": {},
   "outputs": [],
   "source": [
    "angles_names = [\"left_arm_joint_01\",\n",
    "                \"left_arm_joint_02\",\n",
    "                \"left_arm_joint_03\",\n",
    "                \"left_arm_joint_04\",\n",
    "                \"left_arm_joint_05\",\n",
    "                \"left_arm_joint_06\",\n",
    "                \"left_THUMB_joint_01\",\n",
    "                \"left_THUMB_joint_02\",\n",
    "                \"left_THUMB_joint_03\",\n",
    "                \"left_INDEX_joint_01\",\n",
    "                \"left_INDEX_joint_02\",\n",
    "                \"left_INDEX_joint_03\",\n",
    "                \"left_MIDDLE_joint_01\",\n",
    "                \"left_MIDDLE_joint_02\",\n",
    "                \"left_MIDDLE_joint_03\",\n",
    "                \"left_RING_joint_01\",\n",
    "                \"left_RING_joint_02\",\n",
    "                \"left_RING_joint_03\",\n",
    "                \"left_PINKY_joint_01\",\n",
    "                \"left_PINKY_joint_02\",\n",
    "                \"left_PINKY_joint_03\"]"
   ]
  },
  {
   "cell_type": "code",
   "execution_count": 26,
   "metadata": {},
   "outputs": [
    {
     "name": "stdout",
     "output_type": "stream",
     "text": [
      "left_arm_joint_01 mean error: 0.0\n",
      "left_arm_joint_02 mean error: 0.0\n",
      "left_arm_joint_03 mean error: 0.0\n",
      "left_arm_joint_04 mean error: 0.0\n",
      "left_arm_joint_05 mean error: 63.09\n",
      "left_arm_joint_06 mean error: 20.45\n",
      "left_THUMB_joint_01 mean error: 28.96\n",
      "left_THUMB_joint_02 mean error: 21.86\n",
      "left_THUMB_joint_03 mean error: 6.93\n",
      "left_INDEX_joint_01 mean error: 18.01\n",
      "left_INDEX_joint_02 mean error: 32.34\n",
      "left_INDEX_joint_03 mean error: 23.66\n",
      "left_MIDDLE_joint_01 mean error: 19.92\n",
      "left_MIDDLE_joint_02 mean error: 34.79\n",
      "left_MIDDLE_joint_03 mean error: 26.19\n",
      "left_RING_joint_01 mean error: 21.69\n",
      "left_RING_joint_02 mean error: 34.35\n",
      "left_RING_joint_03 mean error: 25.35\n",
      "left_PINKY_joint_01 mean error: 22.42\n",
      "left_PINKY_joint_02 mean error: 33.68\n",
      "left_PINKY_joint_03 mean error: 21.96\n"
     ]
    }
   ],
   "source": [
    "assert len(angles_names) == len(angles_errors)\n",
    "\n",
    "for joint_error, joint_name in zip(angles_errors, angles_names):\n",
    "    print(f\"{joint_name} mean error: {round(joint_error, 2)}\")"
   ]
  },
  {
   "cell_type": "code",
   "execution_count": null,
   "metadata": {},
   "outputs": [],
   "source": []
  },
  {
   "cell_type": "code",
   "execution_count": null,
   "metadata": {},
   "outputs": [],
   "source": []
  },
  {
   "cell_type": "code",
   "execution_count": null,
   "metadata": {},
   "outputs": [],
   "source": []
  },
  {
   "cell_type": "code",
   "execution_count": null,
   "metadata": {},
   "outputs": [],
   "source": []
  },
  {
   "cell_type": "markdown",
   "metadata": {},
   "source": [
    "Visualize box plots from *left_shoulder -> right_elbow* (27 joints in total) from *val set*"
   ]
  },
  {
   "cell_type": "code",
   "execution_count": null,
   "metadata": {},
   "outputs": [
    {
     "data": {
      "image/png": "[encoded data removed]",
      "text/plain": [
       "<Figure size 2000x2000 with 28 Axes>"
      ]
     },
     "metadata": {},
     "output_type": "display_data"
    }
   ],
   "source": [
    "fig, axes = plt.subplots(7, 4, figsize=(20, 20))\n",
    "axes = axes.flatten()\n",
    "\n",
    "for i in range(len(arm_hand_fused_names)):\n",
    "    ax = axes[i]\n",
    "    df = pd.DataFrame(val_preds[:, i, :], columns=output_columns_name[:, i])\n",
    "    df.boxplot(ax=ax)\n",
    "    title = output_columns_name[:, i][0].split(\"_output\")[0]\n",
    "    ax.set_title(title)\n",
    "    ax.set_xticklabels([\"x\", \"y\", \"z\"])\n",
    "\n",
    "plt.tight_layout()\n",
    "plt.show()"
   ]
  },
  {
   "cell_type": "code",
   "execution_count": null,
   "metadata": {},
   "outputs": [],
   "source": []
  },
  {
   "cell_type": "code",
   "execution_count": null,
   "metadata": {},
   "outputs": [],
   "source": []
  },
  {
   "cell_type": "code",
   "execution_count": null,
   "metadata": {},
   "outputs": [],
   "source": []
  },
  {
   "cell_type": "code",
   "execution_count": 43,
   "metadata": {},
   "outputs": [],
   "source": [
    "val_gt = np.transpose(val_gt, (0, 2, 1))\n",
    "val_gt = val_gt.reshape(-1, 26 * 3)"
   ]
  },
  {
   "cell_type": "code",
   "execution_count": 44,
   "metadata": {},
   "outputs": [],
   "source": [
    "target_output = val_gt # shape: (N, 144)\n",
    "time_sleep = .1\n",
    "x = np.array([[500, 0, 0],\n",
    "    [0, 0, 0]])\n",
    "pcd = o3d.geometry.PointCloud()\n",
    "pcd.points = o3d.utility.Vector3dVector(x)\n",
    "lines = [[0, 0]]\n",
    "colors = [[1, 0, 0] for i in range(len(lines))]\n",
    "line_set = o3d.geometry.LineSet(\n",
    "    points=o3d.utility.Vector3dVector(x),\n",
    "    lines=o3d.utility.Vector2iVector(lines)\n",
    ")\n",
    "line_set.colors = o3d.utility.Vector3dVector(colors)\n",
    "\n",
    "bounding_box = o3d.geometry.LineSet(\n",
    "    points=o3d.utility.Vector3dVector(np.array([[500,0 ,0], [0, 0, 0]])),\n",
    "    lines=o3d.utility.Vector2iVector([[0, 0]])\n",
    ")\n",
    "    \n",
    "vis = o3d.visualization.Visualizer()\n",
    "vis.create_window()\n",
    "vis.add_geometry(pcd)\n",
    "vis.add_geometry(line_set)\n",
    "vis.add_geometry(bounding_box)\n",
    "\n",
    "for i in range(target_output.shape[0]):\n",
    "    output = target_output[i, ...]  # shape: (144)\n",
    "    output = output.reshape(3, 26)  # shape: (3, 26)\n",
    "    output = output.T  # shape: (26, 3)\n",
    "\n",
    "    lines = body_lines.copy()\n",
    "    lines.extend(lefthand_lines)\n",
    "\n",
    "    points, _ = convert_to_left_shoulder_coord(output,\n",
    "        arm_hand_fused_names)\n",
    "\n",
    "    pcd.points = o3d.utility.Vector3dVector(points)\n",
    "    colors = [[1, 0, 0] for i in range(len(lines))]\n",
    "    line_set.points = o3d.utility.Vector3dVector(points)  \n",
    "    line_set.lines = o3d.utility.Vector2iVector(lines) \n",
    "    line_set.colors = o3d.utility.Vector3dVector(colors)\n",
    "\n",
    "    # Draw cuboid\n",
    "    min_x, min_y, min_z = np.min(points, axis=0)\n",
    "    max_x, max_y, max_z = np.max(points, axis=0)\n",
    "    vertices = [\n",
    "        [min_x, min_y, min_z], [min_x, min_y, max_z], [min_x, max_y, min_z], [min_x, max_y, max_z],\n",
    "        [max_x, min_y, min_z], [max_x, min_y, max_z], [max_x, max_y, min_z], [max_x, max_y, max_z]\n",
    "    ]\n",
    "    vertices = np.array(vertices) \n",
    "    edges = [\n",
    "        [0, 1], [1, 3], [3, 2], [2, 0],  \n",
    "        [4, 5], [5, 7], [7, 6], [6, 4],  \n",
    "        [0, 4], [1, 5], [2, 6], [3, 7]   \n",
    "    ]\n",
    "    bounding_box.points = o3d.utility.Vector3dVector(vertices)\n",
    "    bounding_box.lines = o3d.utility.Vector2iVector(edges)\n",
    "    bbox_colors = [[0, 1, 0] for _ in range(len(edges))]  \n",
    "    bounding_box.colors = o3d.utility.Vector3dVector(bbox_colors)\n",
    "\n",
    "    vis.update_geometry(pcd)\n",
    "    vis.update_geometry(line_set)\n",
    "    vis.update_geometry(bounding_box)\n",
    "    vis.poll_events()\n",
    "    vis.update_renderer()\n",
    "        \n",
    "    time.sleep(time_sleep)\n",
    "\n",
    "vis.destroy_window()"
   ]
  },
  {
   "cell_type": "code",
   "execution_count": null,
   "metadata": {},
   "outputs": [],
   "source": []
  },
  {
   "cell_type": "code",
   "execution_count": 21,
   "metadata": {},
   "outputs": [
    {
     "data": {
      "text/plain": [
       "(2379, 26, 3)"
      ]
     },
     "execution_count": 21,
     "metadata": {},
     "output_type": "execute_result"
    }
   ],
   "source": [
    "val_preds.shape"
   ]
  },
  {
   "cell_type": "code",
   "execution_count": 22,
   "metadata": {},
   "outputs": [],
   "source": [
    "val_preds = np.transpose(val_preds, (0, 2, 1))\n",
    "val_preds = val_preds.reshape(-1, 26 * 3)"
   ]
  },
  {
   "cell_type": "code",
   "execution_count": 23,
   "metadata": {},
   "outputs": [],
   "source": [
    "target_output = val_preds\n",
    "time_sleep = .1\n",
    "x = np.array([[500, 0, 0],\n",
    "    [0, 0, 0]])\n",
    "pcd = o3d.geometry.PointCloud()\n",
    "pcd.points = o3d.utility.Vector3dVector(x)\n",
    "lines = [[0, 0]]\n",
    "colors = [[1, 0, 0] for i in range(len(lines))]\n",
    "line_set = o3d.geometry.LineSet(\n",
    "    points=o3d.utility.Vector3dVector(x),\n",
    "    lines=o3d.utility.Vector2iVector(lines)\n",
    ")\n",
    "line_set.colors = o3d.utility.Vector3dVector(colors)\n",
    "\n",
    "bounding_box = o3d.geometry.LineSet(\n",
    "    points=o3d.utility.Vector3dVector(np.array([[500,0 ,0], [0, 0, 0]])),\n",
    "    lines=o3d.utility.Vector2iVector([[0, 0]])\n",
    ")\n",
    "    \n",
    "vis = o3d.visualization.Visualizer()\n",
    "vis.create_window()\n",
    "vis.add_geometry(pcd)\n",
    "vis.add_geometry(line_set)\n",
    "vis.add_geometry(bounding_box)\n",
    "\n",
    "for i in range(target_output.shape[0]):\n",
    "    output = target_output[i, ...]  # shape: (144)\n",
    "    output = output.reshape(3, 26)  # shape: (3, 26)\n",
    "    output = output.T  # shape: (26, 3)\n",
    "\n",
    "    lines = body_lines.copy()\n",
    "    lines.extend(lefthand_lines)\n",
    "\n",
    "    points, _ = convert_to_left_shoulder_coord(output,\n",
    "        arm_hand_fused_names)\n",
    "\n",
    "    pcd.points = o3d.utility.Vector3dVector(points)\n",
    "    colors = [[1, 0, 0] for i in range(len(lines))]\n",
    "    line_set.points = o3d.utility.Vector3dVector(points)  \n",
    "    line_set.lines = o3d.utility.Vector2iVector(lines) \n",
    "    line_set.colors = o3d.utility.Vector3dVector(colors)\n",
    "\n",
    "    # Draw cuboid\n",
    "    min_x, min_y, min_z = np.min(points, axis=0)\n",
    "    max_x, max_y, max_z = np.max(points, axis=0)\n",
    "    vertices = [\n",
    "        [min_x, min_y, min_z], [min_x, min_y, max_z], [min_x, max_y, min_z], [min_x, max_y, max_z],\n",
    "        [max_x, min_y, min_z], [max_x, min_y, max_z], [max_x, max_y, min_z], [max_x, max_y, max_z]\n",
    "    ]\n",
    "    vertices = np.array(vertices) \n",
    "    edges = [\n",
    "        [0, 1], [1, 3], [3, 2], [2, 0],  \n",
    "        [4, 5], [5, 7], [7, 6], [6, 4],  \n",
    "        [0, 4], [1, 5], [2, 6], [3, 7]   \n",
    "    ]\n",
    "    bounding_box.points = o3d.utility.Vector3dVector(vertices)\n",
    "    bounding_box.lines = o3d.utility.Vector2iVector(edges)\n",
    "    bbox_colors = [[0, 1, 0] for _ in range(len(edges))]  \n",
    "    bounding_box.colors = o3d.utility.Vector3dVector(bbox_colors)\n",
    "\n",
    "    vis.update_geometry(pcd)\n",
    "    vis.update_geometry(line_set)\n",
    "    vis.update_geometry(bounding_box)\n",
    "    vis.poll_events()\n",
    "    vis.update_renderer()\n",
    "        \n",
    "    time.sleep(time_sleep)\n",
    "\n",
    "vis.destroy_window()"
   ]
  },
  {
   "cell_type": "markdown",
   "metadata": {},
   "source": [
    "# Inspect test"
   ]
  },
  {
   "cell_type": "code",
   "execution_count": null,
   "metadata": {},
   "outputs": [
    {
     "data": {
      "text/plain": [
       "(1114, 288)"
      ]
     },
     "execution_count": 41,
     "metadata": {},
     "output_type": "execute_result"
    }
   ],
   "source": [
    "test_input = test_dataset._inputs\n",
    "test_input.shape"
   ]
  },
  {
   "cell_type": "code",
   "execution_count": null,
   "metadata": {},
   "outputs": [
    {
     "data": {
      "text/plain": [
       "(1114, 48, 3)"
      ]
     },
     "execution_count": 42,
     "metadata": {},
     "output_type": "execute_result"
    }
   ],
   "source": [
    "test_gt = test_dataset._outputs\n",
    "test_gt = test_gt.reshape(-1, 3, 48)\n",
    "test_gt = np.transpose(test_gt, (0, 2, 1))\n",
    "test_gt.shape"
   ]
  },
  {
   "cell_type": "code",
   "execution_count": null,
   "metadata": {},
   "outputs": [
    {
     "data": {
      "text/plain": [
       "(1114, 48, 3)"
      ]
     },
     "execution_count": 43,
     "metadata": {},
     "output_type": "execute_result"
    }
   ],
   "source": [
    "test_input = torch.Tensor(test_input)\n",
    "test_input = test_input.to(\"cuda\")\n",
    "test_preds = ann_model(test_input)\n",
    "test_preds = test_preds.detach().to(\"cpu\").numpy()\n",
    "test_preds = test_preds.reshape(-1, 3, 48)\n",
    "test_preds = np.transpose(test_preds, (0, 2, 1))\n",
    "test_preds.shape"
   ]
  },
  {
   "cell_type": "code",
   "execution_count": null,
   "metadata": {},
   "outputs": [
    {
     "name": "stdout",
     "output_type": "stream",
     "text": [
      "Mean abs. error of the first 26 joints: 17.51(mm)\n"
     ]
    }
   ],
   "source": [
    "mae_of_first_26_joints = np.average(np.abs(test_gt[:, :26, :] - test_preds[:, :26, :]))\n",
    "print(\"Mean abs. error of the first 26 joints: {}(mm)\".format(round(mae_of_first_26_joints, 2)))"
   ]
  },
  {
   "cell_type": "code",
   "execution_count": null,
   "metadata": {},
   "outputs": [
    {
     "name": "stdout",
     "output_type": "stream",
     "text": [
      "(1114, 26, 3)\n"
     ]
    }
   ],
   "source": [
    "test_preds = test_preds[:, :26, :]\n",
    "print(test_preds.shape)"
   ]
  },
  {
   "cell_type": "code",
   "execution_count": null,
   "metadata": {},
   "outputs": [
    {
     "name": "stdout",
     "output_type": "stream",
     "text": [
      "(1114, 26, 3)\n"
     ]
    }
   ],
   "source": [
    "test_gt = test_gt[:, :26, :]\n",
    "print(test_gt.shape)"
   ]
  },
  {
   "cell_type": "code",
   "execution_count": null,
   "metadata": {},
   "outputs": [],
   "source": [
    "pred_angles = []\n",
    "\n",
    "for i in range(test_preds.shape[0]):\n",
    "    test_pred = test_preds[i]\n",
    "    test_pred_XYZ_wrt_shoulder, xyz_origin = convert_to_left_shoulder_coord(\n",
    "        test_pred,\n",
    "        arm_hand_fused_names)\n",
    "    \n",
    "    left_arm_result = left_arm_angle_calculator(test_pred_XYZ_wrt_shoulder, \n",
    "        parent_coordinate=xyz_origin)\n",
    "    left_arm_angles = left_arm_result[\"left_arm\"][\"angles\"]\n",
    "    left_arm_rot_mats_wrt_origin = left_arm_result[\"left_arm\"][\"rot_mats_wrt_origin\"]\n",
    "    last_coordinate_from_left_arm = left_arm_rot_mats_wrt_origin[-1]\n",
    "    left_hand_result = left_hand_angle_calculator(test_pred_XYZ_wrt_shoulder, \n",
    "        parent_coordinate=last_coordinate_from_left_arm)\n",
    "    \n",
    "    left_hand_angles = []\n",
    "    for finger_name in left_hand_angle_calculator.fingers_name:\n",
    "        finger_i_angles = left_hand_result[finger_name][\"angles\"].copy()\n",
    "\n",
    "        # In robot, its finger joint 1 is our finger joint 2, and vice versa (EXCEPT FOR THUMB FINGER). \n",
    "        # So that, we need to swap these values.\n",
    "        if finger_name != \"THUMB\":\n",
    "            finger_i_angles[0], finger_i_angles[1] = finger_i_angles[1], finger_i_angles[0]\n",
    "\n",
    "        left_hand_angles.extend(finger_i_angles)\n",
    "    \n",
    "    angles = left_arm_angles.copy()\n",
    "    angles.extend(left_hand_angles)    \n",
    "    pred_angles.append(angles)\n",
    "\n",
    "pred_angles = np.array(pred_angles)"
   ]
  },
  {
   "cell_type": "code",
   "execution_count": null,
   "metadata": {},
   "outputs": [],
   "source": [
    "gt_angles = []\n",
    "\n",
    "for i in range(test_gt.shape[0]):\n",
    "    gt = test_gt[i]\n",
    "    test_gt_XYZ_wrt_shoulder, xyz_origin = convert_to_left_shoulder_coord(\n",
    "        gt,\n",
    "        arm_hand_fused_names)\n",
    "    \n",
    "    left_arm_result = left_arm_angle_calculator(test_gt_XYZ_wrt_shoulder, \n",
    "        parent_coordinate=xyz_origin)\n",
    "    left_arm_angles = left_arm_result[\"left_arm\"][\"angles\"]\n",
    "    left_arm_rot_mats_wrt_origin = left_arm_result[\"left_arm\"][\"rot_mats_wrt_origin\"]\n",
    "    last_coordinate_from_left_arm = left_arm_rot_mats_wrt_origin[-1]\n",
    "    left_hand_result = left_hand_angle_calculator(test_gt_XYZ_wrt_shoulder, \n",
    "        parent_coordinate=last_coordinate_from_left_arm)\n",
    "    \n",
    "    left_hand_angles = []\n",
    "    for finger_name in left_hand_angle_calculator.fingers_name:\n",
    "        finger_i_angles = left_hand_result[finger_name][\"angles\"].copy()\n",
    "\n",
    "        # In robot, its finger joint 1 is our finger joint 2, and vice versa (EXCEPT FOR THUMB FINGER). \n",
    "        # So that, we need to swap these values.\n",
    "        if finger_name != \"THUMB\":\n",
    "            finger_i_angles[0], finger_i_angles[1] = finger_i_angles[1], finger_i_angles[0]\n",
    "\n",
    "        left_hand_angles.extend(finger_i_angles)\n",
    "    \n",
    "    angles = left_arm_angles.copy()\n",
    "    angles.extend(left_hand_angles)    \n",
    "    gt_angles.append(angles)\n",
    "\n",
    "gt_angles = np.array(gt_angles)"
   ]
  },
  {
   "cell_type": "code",
   "execution_count": null,
   "metadata": {},
   "outputs": [],
   "source": [
    "angles_errors = np.mean(np.abs(gt_angles - pred_angles), axis=0)"
   ]
  },
  {
   "cell_type": "code",
   "execution_count": null,
   "metadata": {},
   "outputs": [],
   "source": [
    "angles_names = [\"left_arm_joint_01\",\n",
    "                \"left_arm_joint_02\",\n",
    "                \"left_arm_joint_03\",\n",
    "                \"left_arm_joint_04\",\n",
    "                \"left_arm_joint_05\",\n",
    "                \"left_arm_joint_06\",\n",
    "                \"left_THUMB_joint_01\",\n",
    "                \"left_THUMB_joint_02\",\n",
    "                \"left_THUMB_joint_03\",\n",
    "                \"left_INDEX_joint_01\",\n",
    "                \"left_INDEX_joint_02\",\n",
    "                \"left_INDEX_joint_03\",\n",
    "                \"left_MIDDLE_joint_01\",\n",
    "                \"left_MIDDLE_joint_02\",\n",
    "                \"left_MIDDLE_joint_03\",\n",
    "                \"left_RING_joint_01\",\n",
    "                \"left_RING_joint_02\",\n",
    "                \"left_RING_joint_03\",\n",
    "                \"left_PINKY_joint_01\",\n",
    "                \"left_PINKY_joint_02\",\n",
    "                \"left_PINKY_joint_03\"]"
   ]
  },
  {
   "cell_type": "code",
   "execution_count": null,
   "metadata": {},
   "outputs": [
    {
     "name": "stdout",
     "output_type": "stream",
     "text": [
      "left_arm_joint_01 mean error: 7.88\n",
      "left_arm_joint_02 mean error: 8.21\n",
      "left_arm_joint_03 mean error: 22.49\n",
      "left_arm_joint_04 mean error: 9.95\n",
      "left_arm_joint_05 mean error: 47.9\n",
      "left_arm_joint_06 mean error: 13.42\n",
      "left_THUMB_joint_01 mean error: 14.81\n",
      "left_THUMB_joint_02 mean error: 17.03\n",
      "left_THUMB_joint_03 mean error: 6.85\n",
      "left_INDEX_joint_01 mean error: 14.69\n",
      "left_INDEX_joint_02 mean error: 17.73\n",
      "left_INDEX_joint_03 mean error: 22.85\n",
      "left_MIDDLE_joint_01 mean error: 16.8\n",
      "left_MIDDLE_joint_02 mean error: 22.12\n",
      "left_MIDDLE_joint_03 mean error: 27.35\n",
      "left_RING_joint_01 mean error: 18.25\n",
      "left_RING_joint_02 mean error: 23.08\n",
      "left_RING_joint_03 mean error: 28.47\n",
      "left_PINKY_joint_01 mean error: 19.52\n",
      "left_PINKY_joint_02 mean error: 27.18\n",
      "left_PINKY_joint_03 mean error: 25.69\n"
     ]
    }
   ],
   "source": [
    "assert len(angles_names) == len(angles_errors)\n",
    "\n",
    "for joint_error, joint_name in zip(angles_errors, angles_names):\n",
    "    print(f\"{joint_name} mean error: {round(joint_error, 2)}\")"
   ]
  },
  {
   "cell_type": "code",
   "execution_count": null,
   "metadata": {},
   "outputs": [],
   "source": []
  },
  {
   "cell_type": "code",
   "execution_count": null,
   "metadata": {},
   "outputs": [],
   "source": []
  },
  {
   "cell_type": "code",
   "execution_count": null,
   "metadata": {},
   "outputs": [],
   "source": []
  },
  {
   "cell_type": "code",
   "execution_count": null,
   "metadata": {},
   "outputs": [],
   "source": [
    "target_output = test_preds # shape: (N, 144)\n",
    "time_sleep = .1\n",
    "x = np.array([[500, 0, 0],\n",
    "    [0, 0, 0]])\n",
    "pcd = o3d.geometry.PointCloud()\n",
    "pcd.points = o3d.utility.Vector3dVector(x)\n",
    "lines = [[0, 0]]\n",
    "colors = [[1, 0, 0] for i in range(len(lines))]\n",
    "line_set = o3d.geometry.LineSet(\n",
    "    points=o3d.utility.Vector3dVector(x),\n",
    "    lines=o3d.utility.Vector2iVector(lines)\n",
    ")\n",
    "line_set.colors = o3d.utility.Vector3dVector(colors)\n",
    "\n",
    "bounding_box = o3d.geometry.LineSet(\n",
    "    points=o3d.utility.Vector3dVector(np.array([[500,0 ,0], [0, 0, 0]])),\n",
    "    lines=o3d.utility.Vector2iVector([[0, 0]])\n",
    ")\n",
    "    \n",
    "vis = o3d.visualization.Visualizer()\n",
    "vis.create_window()\n",
    "vis.add_geometry(pcd)\n",
    "vis.add_geometry(line_set)\n",
    "vis.add_geometry(bounding_box)\n",
    "\n",
    "for i in range(target_output.shape[0]):\n",
    "    output = target_output[i, ...]  # shape: (144)\n",
    "    output = output.reshape(3, 48)  # shape: (3, 48)\n",
    "    output = output.T  # shape: (48, 3)\n",
    "    output = output[:26, ...]  # shape: (26, 3)\n",
    "\n",
    "    lines = body_lines.copy()\n",
    "    lines.extend(lefthand_lines)\n",
    "\n",
    "    points, _ = convert_to_left_shoulder_coord(output,\n",
    "        arm_hand_fused_names)\n",
    "\n",
    "    pcd.points = o3d.utility.Vector3dVector(points)\n",
    "    colors = [[1, 0, 0] for i in range(len(lines))]\n",
    "    line_set.points = o3d.utility.Vector3dVector(points)  \n",
    "    line_set.lines = o3d.utility.Vector2iVector(lines) \n",
    "    line_set.colors = o3d.utility.Vector3dVector(colors)\n",
    "\n",
    "    # Draw cuboid\n",
    "    min_x, min_y, min_z = np.min(points, axis=0)\n",
    "    max_x, max_y, max_z = np.max(points, axis=0)\n",
    "    vertices = [\n",
    "        [min_x, min_y, min_z], [min_x, min_y, max_z], [min_x, max_y, min_z], [min_x, max_y, max_z],\n",
    "        [max_x, min_y, min_z], [max_x, min_y, max_z], [max_x, max_y, min_z], [max_x, max_y, max_z]\n",
    "    ]\n",
    "    vertices = np.array(vertices) \n",
    "    edges = [\n",
    "        [0, 1], [1, 3], [3, 2], [2, 0],  \n",
    "        [4, 5], [5, 7], [7, 6], [6, 4],  \n",
    "        [0, 4], [1, 5], [2, 6], [3, 7]   \n",
    "    ]\n",
    "    bounding_box.points = o3d.utility.Vector3dVector(vertices)\n",
    "    bounding_box.lines = o3d.utility.Vector2iVector(edges)\n",
    "    bbox_colors = [[0, 1, 0] for _ in range(len(edges))]  \n",
    "    bounding_box.colors = o3d.utility.Vector3dVector(bbox_colors)\n",
    "\n",
    "    vis.update_geometry(pcd)\n",
    "    vis.update_geometry(line_set)\n",
    "    vis.update_geometry(bounding_box)\n",
    "    vis.poll_events()\n",
    "    vis.update_renderer()\n",
    "        \n",
    "    time.sleep(time_sleep)\n",
    "\n",
    "vis.destroy_window()"
   ]
  },
  {
   "cell_type": "code",
   "execution_count": null,
   "metadata": {},
   "outputs": [],
   "source": []
  },
  {
   "cell_type": "code",
   "execution_count": null,
   "metadata": {},
   "outputs": [],
   "source": []
  }
 ],
 "metadata": {
  "kernelspec": {
   "display_name": "mmdeploy",
   "language": "python",
   "name": "mmdeploy"
  },
  "language_info": {
   "codemirror_mode": {
    "name": "ipython",
    "version": 3
   },
   "file_extension": ".py",
   "mimetype": "text/x-python",
   "name": "python",
   "nbconvert_exporter": "python",
   "pygments_lexer": "ipython3",
   "version": "3.11.10"
  }
 },
 "nbformat": 4,
 "nbformat_minor": 2
}
