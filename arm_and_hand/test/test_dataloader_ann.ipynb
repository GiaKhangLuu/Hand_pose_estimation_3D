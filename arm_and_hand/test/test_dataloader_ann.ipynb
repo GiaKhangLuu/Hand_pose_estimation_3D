{
 "cells": [
  {
   "cell_type": "code",
   "execution_count": 1,
   "metadata": {},
   "outputs": [
    {
     "name": "stdout",
     "output_type": "stream",
     "text": [
      "Jupyter environment detected. Enabling Open3D WebVisualizer.\n",
      "[Open3D INFO] WebRTC GUI backend enabled.\n",
      "[Open3D INFO] WebRTCWindowSystem: HTTP handshake server disabled.\n"
     ]
    }
   ],
   "source": [
    "import os\n",
    "import sys\n",
    "import glob\n",
    "\n",
    "sys.path.append(\"/home/giakhang/dev/pose_sandbox/Hand_pose_estimation_3D/arm_and_hand\")\n",
    "sys.path.append(\"/home/giakhang/dev/pose_sandbox/Hand_pose_estimation_3D\")\n",
    "\n",
    "from dataloader_ann import HandArmLandmarksDataset_ANN\n",
    "\n",
    "import numpy as np\n",
    "import torch\n",
    "import torch.nn as nn\n",
    "import torch.optim as optim\n",
    "from torch.utils.data import DataLoader\n",
    "import matplotlib.pyplot as plt\n",
    "import os\n",
    "from datetime import datetime\n",
    "\n",
    "import open3d as o3d\n",
    "from utilities import convert_to_left_shoulder_coord\n",
    "import time\n",
    "\n",
    "from sklearn.preprocessing import MinMaxScaler\n",
    "\n",
    "import pandas as pd\n",
    "from csv_writer import fusion_csv_columns_name\n",
    "import matplotlib.pyplot as plt\n",
    "\n",
    "import joblib\n",
    "import sklearn"
   ]
  },
  {
   "cell_type": "code",
   "execution_count": 2,
   "metadata": {},
   "outputs": [],
   "source": [
    "arm_hand_fused_names = [\"left shoulder\", \"left elbow\", \"left hip\", \"right shoulder\",\n",
    "    \"right hip\", \"WRIST\", \"THUMB_CMC\", \"THUMB_MCP\", \"THUMB_IP\", \n",
    "    \"THUMB_TIP\", \"INDEX_FINGER_MCP\", \"INDEX_FINGER_PIP\", \"INDEX_FINGER_DIP\",\n",
    "    \"INDEX_FINGER_TIP\", \"MIDDLE_FINGER_MCP\", \"MIDDLE_FINGER_PIP\", \"MIDDLE_FINGER_DIP\",\n",
    "    \"MIDDLE_FINGER_TIP\", \"RING_FINGER_MCP\", \"RING_FINGER_PIP\", \"RING_FINGER_DIP\",\n",
    "    \"RING_FINGER_TIP\", \"PINKY_MCP\", \"PINKY_PIP\", \"PINKY_DIP\", \"PINKY_TIP\", \"right elbow\",\n",
    "    \"RIGHT_WRIST\", \"RIGHT_THUMB_CMC\", \"RIGHT_THUMB_MCP\", \"RIGHT_THUMB_IP\", \"RIGHT_THUMB_TIP\",\n",
    "    \"RIGHT_INDEX_FINGER_MCP\", \"RIGHT_INDEX_FINGER_PIP\", \"RIGHT_INDEX_FINGER_DIP\",\n",
    "    \"RIGHT_INDEX_FINGER_TIP\", \"RIGHT_MIDDLE_FINGER_MCP\", \"RIGHT_MIDDLE_FINGER_PIP\",\n",
    "    \"RIGHT_MIDDLE_FINGER_DIP\", \"RIGHT_MIDDLE_FINGER_TIP\", \"RIGHT_RING_FINGER_MCP\",\n",
    "    \"RIGHT_RING_FINGER_PIP\", \"RIGHT_RING_FINGER_DIP\", \"RIGHT_RING_FINGER_TIP\",\n",
    "    \"RIGHT_PINKY_MCP\", \"RIGHT_PINKY_PIP\", \"RIGHT_PINKY_DIP\", \"RIGHT_PINKY_TIP\"]"
   ]
  },
  {
   "cell_type": "code",
   "execution_count": null,
   "metadata": {},
   "outputs": [
    {
     "ename": "KeyError",
     "evalue": "'frame_width'",
     "output_type": "error",
     "traceback": [
      "\u001b[0;31m---------------------------------------------------------------------------\u001b[0m",
      "\u001b[0;31mKeyError\u001b[0m                                  Traceback (most recent call last)",
      "File \u001b[0;32m~/py_venv/mmpose/lib/python3.10/site-packages/pandas/core/indexes/base.py:3805\u001b[0m, in \u001b[0;36mIndex.get_loc\u001b[0;34m(self, key)\u001b[0m\n\u001b[1;32m   3804\u001b[0m \u001b[38;5;28;01mtry\u001b[39;00m:\n\u001b[0;32m-> 3805\u001b[0m     \u001b[38;5;28;01mreturn\u001b[39;00m \u001b[38;5;28;43mself\u001b[39;49m\u001b[38;5;241;43m.\u001b[39;49m\u001b[43m_engine\u001b[49m\u001b[38;5;241;43m.\u001b[39;49m\u001b[43mget_loc\u001b[49m\u001b[43m(\u001b[49m\u001b[43mcasted_key\u001b[49m\u001b[43m)\u001b[49m\n\u001b[1;32m   3806\u001b[0m \u001b[38;5;28;01mexcept\u001b[39;00m \u001b[38;5;167;01mKeyError\u001b[39;00m \u001b[38;5;28;01mas\u001b[39;00m err:\n",
      "File \u001b[0;32mindex.pyx:167\u001b[0m, in \u001b[0;36mpandas._libs.index.IndexEngine.get_loc\u001b[0;34m()\u001b[0m\n",
      "File \u001b[0;32mindex.pyx:196\u001b[0m, in \u001b[0;36mpandas._libs.index.IndexEngine.get_loc\u001b[0;34m()\u001b[0m\n",
      "File \u001b[0;32mpandas/_libs/hashtable_class_helper.pxi:7081\u001b[0m, in \u001b[0;36mpandas._libs.hashtable.PyObjectHashTable.get_item\u001b[0;34m()\u001b[0m\n",
      "File \u001b[0;32mpandas/_libs/hashtable_class_helper.pxi:7089\u001b[0m, in \u001b[0;36mpandas._libs.hashtable.PyObjectHashTable.get_item\u001b[0;34m()\u001b[0m\n",
      "\u001b[0;31mKeyError\u001b[0m: 'frame_width'",
      "\nThe above exception was the direct cause of the following exception:\n",
      "\u001b[0;31mKeyError\u001b[0m                                  Traceback (most recent call last)",
      "Cell \u001b[0;32mIn[4], line 18\u001b[0m\n\u001b[1;32m     15\u001b[0m train_leftarm_distance_thres \u001b[38;5;241m=\u001b[39m \u001b[38;5;241m550\u001b[39m\n\u001b[1;32m     16\u001b[0m train_lefthand_distance_thres \u001b[38;5;241m=\u001b[39m \u001b[38;5;241m200\u001b[39m\n\u001b[0;32m---> 18\u001b[0m train_dataset \u001b[38;5;241m=\u001b[39m \u001b[43mHandArmLandmarksDataset_ANN\u001b[49m\u001b[43m(\u001b[49m\u001b[43mtrain_paths\u001b[49m\u001b[43m,\u001b[49m\u001b[43m \u001b[49m\n\u001b[1;32m     19\u001b[0m \u001b[43m    \u001b[49m\u001b[43marm_hand_fused_names\u001b[49m\u001b[43m,\u001b[49m\n\u001b[1;32m     20\u001b[0m \u001b[43m    \u001b[49m\u001b[43mbody_lines\u001b[49m\u001b[43m,\u001b[49m\u001b[43m \u001b[49m\n\u001b[1;32m     21\u001b[0m \u001b[43m    \u001b[49m\u001b[43mlefthand_lines\u001b[49m\u001b[43m,\u001b[49m\u001b[43m \u001b[49m\n\u001b[1;32m     22\u001b[0m \u001b[43m    \u001b[49m\u001b[43mtrain_body_distance_thres\u001b[49m\u001b[43m,\u001b[49m\u001b[43m \u001b[49m\n\u001b[1;32m     23\u001b[0m \u001b[43m    \u001b[49m\u001b[43mtrain_leftarm_distance_thres\u001b[49m\u001b[43m,\u001b[49m\u001b[43m \u001b[49m\n\u001b[1;32m     24\u001b[0m \u001b[43m    \u001b[49m\u001b[43mtrain_lefthand_distance_thres\u001b[49m\u001b[43m,\u001b[49m\n\u001b[1;32m     25\u001b[0m \u001b[43m    \u001b[49m\u001b[43mfilter_outlier\u001b[49m\u001b[38;5;241;43m=\u001b[39;49m\u001b[38;5;28;43;01mTrue\u001b[39;49;00m\u001b[43m,\u001b[49m\n\u001b[1;32m     26\u001b[0m \u001b[43m    \u001b[49m\u001b[43monly_keep_frames_contain_lefthand\u001b[49m\u001b[38;5;241;43m=\u001b[39;49m\u001b[38;5;28;43;01mTrue\u001b[39;49;00m\u001b[43m,\u001b[49m\n\u001b[1;32m     27\u001b[0m \u001b[43m    \u001b[49m\u001b[43mcvt_normalized_xy_to_XY\u001b[49m\u001b[38;5;241;43m=\u001b[39;49m\u001b[38;5;28;43;01mTrue\u001b[39;49;00m\u001b[43m)\u001b[49m\n\u001b[1;32m     28\u001b[0m train_dataloader \u001b[38;5;241m=\u001b[39m DataLoader(train_dataset, batch_size\u001b[38;5;241m=\u001b[39m\u001b[38;5;241m128\u001b[39m, shuffle\u001b[38;5;241m=\u001b[39m\u001b[38;5;28;01mTrue\u001b[39;00m)\n",
      "File \u001b[0;32m~/dev/pose_sandbox/Hand_pose_estimation_3D/arm_and_hand/dataloader_ann.py:61\u001b[0m, in \u001b[0;36mHandArmLandmarksDataset_ANN.__init__\u001b[0;34m(self, filepaths, fusing_landmark_dictionary, body_lines, lefthand_lines, body_distance_thres, leftarm_distance_thres, lefthand_distance_thres, filter_outlier, only_keep_frames_contain_lefthand, scaler, cvt_normalized_xy_to_XY, use_fused_thumb_as_input)\u001b[0m\n\u001b[1;32m     57\u001b[0m right_cam_intrinsics \u001b[38;5;241m=\u001b[39m np\u001b[38;5;241m.\u001b[39marray(data\u001b[38;5;241m.\u001b[39mloc[:,\n\u001b[1;32m     58\u001b[0m                                          \u001b[38;5;124m\"\u001b[39m\u001b[38;5;124mright_camera_intrinsic_x11\u001b[39m\u001b[38;5;124m\"\u001b[39m:\u001b[38;5;124m\"\u001b[39m\u001b[38;5;124mright_camera_intrinsic_x33\u001b[39m\u001b[38;5;124m\"\u001b[39m]\u001b[38;5;241m.\u001b[39mvalues)\u001b[38;5;241m.\u001b[39mreshape(\u001b[38;5;241m-\u001b[39m\u001b[38;5;241m1\u001b[39m, \u001b[38;5;241m3\u001b[39m, \u001b[38;5;241m3\u001b[39m)\n\u001b[1;32m     59\u001b[0m right_to_left_mats \u001b[38;5;241m=\u001b[39m np\u001b[38;5;241m.\u001b[39marray(data\u001b[38;5;241m.\u001b[39mloc[:,\n\u001b[1;32m     60\u001b[0m                                        \u001b[38;5;124m\"\u001b[39m\u001b[38;5;124mright_to_left_matrix_x11\u001b[39m\u001b[38;5;124m\"\u001b[39m:\u001b[38;5;124m\"\u001b[39m\u001b[38;5;124mright_to_left_matrix_x44\u001b[39m\u001b[38;5;124m\"\u001b[39m]\u001b[38;5;241m.\u001b[39mvalues)\u001b[38;5;241m.\u001b[39mreshape(\u001b[38;5;241m-\u001b[39m\u001b[38;5;241m1\u001b[39m, \u001b[38;5;241m4\u001b[39m, \u001b[38;5;241m4\u001b[39m)\n\u001b[0;32m---> 61\u001b[0m frame_size \u001b[38;5;241m=\u001b[39m \u001b[43mdata\u001b[49m\u001b[38;5;241;43m.\u001b[39;49m\u001b[43mloc\u001b[49m\u001b[43m[\u001b[49m\u001b[43m:\u001b[49m\u001b[43m,\u001b[49m\u001b[43m \u001b[49m\u001b[38;5;124;43m\"\u001b[39;49m\u001b[38;5;124;43mframe_width\u001b[39;49m\u001b[38;5;124;43m\"\u001b[39;49m\u001b[43m:\u001b[49m\u001b[38;5;124;43m\"\u001b[39;49m\u001b[38;5;124;43mframe_height\u001b[39;49m\u001b[38;5;124;43m\"\u001b[39;49m\u001b[43m]\u001b[49m\u001b[38;5;241m.\u001b[39mvalues\n\u001b[1;32m     62\u001b[0m calibrated_frame_size \u001b[38;5;241m=\u001b[39m data\u001b[38;5;241m.\u001b[39mloc[:, \u001b[38;5;124m\"\u001b[39m\u001b[38;5;124mframe_calibrated_width\u001b[39m\u001b[38;5;124m\"\u001b[39m:\u001b[38;5;124m\"\u001b[39m\u001b[38;5;124mframe_calibrated_height\u001b[39m\u001b[38;5;124m\"\u001b[39m]\u001b[38;5;241m.\u001b[39mvalues \n\u001b[1;32m     64\u001b[0m \u001b[38;5;28mself\u001b[39m\u001b[38;5;241m.\u001b[39m_inputs\u001b[38;5;241m.\u001b[39mappend(features)\n",
      "File \u001b[0;32m~/py_venv/mmpose/lib/python3.10/site-packages/pandas/core/indexing.py:1184\u001b[0m, in \u001b[0;36m_LocationIndexer.__getitem__\u001b[0;34m(self, key)\u001b[0m\n\u001b[1;32m   1182\u001b[0m     \u001b[38;5;28;01mif\u001b[39;00m \u001b[38;5;28mself\u001b[39m\u001b[38;5;241m.\u001b[39m_is_scalar_access(key):\n\u001b[1;32m   1183\u001b[0m         \u001b[38;5;28;01mreturn\u001b[39;00m \u001b[38;5;28mself\u001b[39m\u001b[38;5;241m.\u001b[39mobj\u001b[38;5;241m.\u001b[39m_get_value(\u001b[38;5;241m*\u001b[39mkey, takeable\u001b[38;5;241m=\u001b[39m\u001b[38;5;28mself\u001b[39m\u001b[38;5;241m.\u001b[39m_takeable)\n\u001b[0;32m-> 1184\u001b[0m     \u001b[38;5;28;01mreturn\u001b[39;00m \u001b[38;5;28;43mself\u001b[39;49m\u001b[38;5;241;43m.\u001b[39;49m\u001b[43m_getitem_tuple\u001b[49m\u001b[43m(\u001b[49m\u001b[43mkey\u001b[49m\u001b[43m)\u001b[49m\n\u001b[1;32m   1185\u001b[0m \u001b[38;5;28;01melse\u001b[39;00m:\n\u001b[1;32m   1186\u001b[0m     \u001b[38;5;66;03m# we by definition only have the 0th axis\u001b[39;00m\n\u001b[1;32m   1187\u001b[0m     axis \u001b[38;5;241m=\u001b[39m \u001b[38;5;28mself\u001b[39m\u001b[38;5;241m.\u001b[39maxis \u001b[38;5;129;01mor\u001b[39;00m \u001b[38;5;241m0\u001b[39m\n",
      "File \u001b[0;32m~/py_venv/mmpose/lib/python3.10/site-packages/pandas/core/indexing.py:1377\u001b[0m, in \u001b[0;36m_LocIndexer._getitem_tuple\u001b[0;34m(self, tup)\u001b[0m\n\u001b[1;32m   1374\u001b[0m \u001b[38;5;28;01mif\u001b[39;00m \u001b[38;5;28mself\u001b[39m\u001b[38;5;241m.\u001b[39m_multi_take_opportunity(tup):\n\u001b[1;32m   1375\u001b[0m     \u001b[38;5;28;01mreturn\u001b[39;00m \u001b[38;5;28mself\u001b[39m\u001b[38;5;241m.\u001b[39m_multi_take(tup)\n\u001b[0;32m-> 1377\u001b[0m \u001b[38;5;28;01mreturn\u001b[39;00m \u001b[38;5;28;43mself\u001b[39;49m\u001b[38;5;241;43m.\u001b[39;49m\u001b[43m_getitem_tuple_same_dim\u001b[49m\u001b[43m(\u001b[49m\u001b[43mtup\u001b[49m\u001b[43m)\u001b[49m\n",
      "File \u001b[0;32m~/py_venv/mmpose/lib/python3.10/site-packages/pandas/core/indexing.py:1020\u001b[0m, in \u001b[0;36m_LocationIndexer._getitem_tuple_same_dim\u001b[0;34m(self, tup)\u001b[0m\n\u001b[1;32m   1017\u001b[0m \u001b[38;5;28;01mif\u001b[39;00m com\u001b[38;5;241m.\u001b[39mis_null_slice(key):\n\u001b[1;32m   1018\u001b[0m     \u001b[38;5;28;01mcontinue\u001b[39;00m\n\u001b[0;32m-> 1020\u001b[0m retval \u001b[38;5;241m=\u001b[39m \u001b[38;5;28;43mgetattr\u001b[39;49m\u001b[43m(\u001b[49m\u001b[43mretval\u001b[49m\u001b[43m,\u001b[49m\u001b[43m \u001b[49m\u001b[38;5;28;43mself\u001b[39;49m\u001b[38;5;241;43m.\u001b[39;49m\u001b[43mname\u001b[49m\u001b[43m)\u001b[49m\u001b[38;5;241;43m.\u001b[39;49m\u001b[43m_getitem_axis\u001b[49m\u001b[43m(\u001b[49m\u001b[43mkey\u001b[49m\u001b[43m,\u001b[49m\u001b[43m \u001b[49m\u001b[43maxis\u001b[49m\u001b[38;5;241;43m=\u001b[39;49m\u001b[43mi\u001b[49m\u001b[43m)\u001b[49m\n\u001b[1;32m   1021\u001b[0m \u001b[38;5;66;03m# We should never have retval.ndim < self.ndim, as that should\u001b[39;00m\n\u001b[1;32m   1022\u001b[0m \u001b[38;5;66;03m#  be handled by the _getitem_lowerdim call above.\u001b[39;00m\n\u001b[1;32m   1023\u001b[0m \u001b[38;5;28;01massert\u001b[39;00m retval\u001b[38;5;241m.\u001b[39mndim \u001b[38;5;241m==\u001b[39m \u001b[38;5;28mself\u001b[39m\u001b[38;5;241m.\u001b[39mndim\n",
      "File \u001b[0;32m~/py_venv/mmpose/lib/python3.10/site-packages/pandas/core/indexing.py:1411\u001b[0m, in \u001b[0;36m_LocIndexer._getitem_axis\u001b[0;34m(self, key, axis)\u001b[0m\n\u001b[1;32m   1409\u001b[0m \u001b[38;5;28;01mif\u001b[39;00m \u001b[38;5;28misinstance\u001b[39m(key, \u001b[38;5;28mslice\u001b[39m):\n\u001b[1;32m   1410\u001b[0m     \u001b[38;5;28mself\u001b[39m\u001b[38;5;241m.\u001b[39m_validate_key(key, axis)\n\u001b[0;32m-> 1411\u001b[0m     \u001b[38;5;28;01mreturn\u001b[39;00m \u001b[38;5;28;43mself\u001b[39;49m\u001b[38;5;241;43m.\u001b[39;49m\u001b[43m_get_slice_axis\u001b[49m\u001b[43m(\u001b[49m\u001b[43mkey\u001b[49m\u001b[43m,\u001b[49m\u001b[43m \u001b[49m\u001b[43maxis\u001b[49m\u001b[38;5;241;43m=\u001b[39;49m\u001b[43maxis\u001b[49m\u001b[43m)\u001b[49m\n\u001b[1;32m   1412\u001b[0m \u001b[38;5;28;01melif\u001b[39;00m com\u001b[38;5;241m.\u001b[39mis_bool_indexer(key):\n\u001b[1;32m   1413\u001b[0m     \u001b[38;5;28;01mreturn\u001b[39;00m \u001b[38;5;28mself\u001b[39m\u001b[38;5;241m.\u001b[39m_getbool_axis(key, axis\u001b[38;5;241m=\u001b[39maxis)\n",
      "File \u001b[0;32m~/py_venv/mmpose/lib/python3.10/site-packages/pandas/core/indexing.py:1443\u001b[0m, in \u001b[0;36m_LocIndexer._get_slice_axis\u001b[0;34m(self, slice_obj, axis)\u001b[0m\n\u001b[1;32m   1440\u001b[0m     \u001b[38;5;28;01mreturn\u001b[39;00m obj\u001b[38;5;241m.\u001b[39mcopy(deep\u001b[38;5;241m=\u001b[39m\u001b[38;5;28;01mFalse\u001b[39;00m)\n\u001b[1;32m   1442\u001b[0m labels \u001b[38;5;241m=\u001b[39m obj\u001b[38;5;241m.\u001b[39m_get_axis(axis)\n\u001b[0;32m-> 1443\u001b[0m indexer \u001b[38;5;241m=\u001b[39m \u001b[43mlabels\u001b[49m\u001b[38;5;241;43m.\u001b[39;49m\u001b[43mslice_indexer\u001b[49m\u001b[43m(\u001b[49m\u001b[43mslice_obj\u001b[49m\u001b[38;5;241;43m.\u001b[39;49m\u001b[43mstart\u001b[49m\u001b[43m,\u001b[49m\u001b[43m \u001b[49m\u001b[43mslice_obj\u001b[49m\u001b[38;5;241;43m.\u001b[39;49m\u001b[43mstop\u001b[49m\u001b[43m,\u001b[49m\u001b[43m \u001b[49m\u001b[43mslice_obj\u001b[49m\u001b[38;5;241;43m.\u001b[39;49m\u001b[43mstep\u001b[49m\u001b[43m)\u001b[49m\n\u001b[1;32m   1445\u001b[0m \u001b[38;5;28;01mif\u001b[39;00m \u001b[38;5;28misinstance\u001b[39m(indexer, \u001b[38;5;28mslice\u001b[39m):\n\u001b[1;32m   1446\u001b[0m     \u001b[38;5;28;01mreturn\u001b[39;00m \u001b[38;5;28mself\u001b[39m\u001b[38;5;241m.\u001b[39mobj\u001b[38;5;241m.\u001b[39m_slice(indexer, axis\u001b[38;5;241m=\u001b[39maxis)\n",
      "File \u001b[0;32m~/py_venv/mmpose/lib/python3.10/site-packages/pandas/core/indexes/base.py:6662\u001b[0m, in \u001b[0;36mIndex.slice_indexer\u001b[0;34m(self, start, end, step)\u001b[0m\n\u001b[1;32m   6618\u001b[0m \u001b[38;5;28;01mdef\u001b[39;00m \u001b[38;5;21mslice_indexer\u001b[39m(\n\u001b[1;32m   6619\u001b[0m     \u001b[38;5;28mself\u001b[39m,\n\u001b[1;32m   6620\u001b[0m     start: Hashable \u001b[38;5;241m|\u001b[39m \u001b[38;5;28;01mNone\u001b[39;00m \u001b[38;5;241m=\u001b[39m \u001b[38;5;28;01mNone\u001b[39;00m,\n\u001b[1;32m   6621\u001b[0m     end: Hashable \u001b[38;5;241m|\u001b[39m \u001b[38;5;28;01mNone\u001b[39;00m \u001b[38;5;241m=\u001b[39m \u001b[38;5;28;01mNone\u001b[39;00m,\n\u001b[1;32m   6622\u001b[0m     step: \u001b[38;5;28mint\u001b[39m \u001b[38;5;241m|\u001b[39m \u001b[38;5;28;01mNone\u001b[39;00m \u001b[38;5;241m=\u001b[39m \u001b[38;5;28;01mNone\u001b[39;00m,\n\u001b[1;32m   6623\u001b[0m ) \u001b[38;5;241m-\u001b[39m\u001b[38;5;241m>\u001b[39m \u001b[38;5;28mslice\u001b[39m:\n\u001b[1;32m   6624\u001b[0m \u001b[38;5;250m    \u001b[39m\u001b[38;5;124;03m\"\"\"\u001b[39;00m\n\u001b[1;32m   6625\u001b[0m \u001b[38;5;124;03m    Compute the slice indexer for input labels and step.\u001b[39;00m\n\u001b[1;32m   6626\u001b[0m \n\u001b[0;32m   (...)\u001b[0m\n\u001b[1;32m   6660\u001b[0m \u001b[38;5;124;03m    slice(1, 3, None)\u001b[39;00m\n\u001b[1;32m   6661\u001b[0m \u001b[38;5;124;03m    \"\"\"\u001b[39;00m\n\u001b[0;32m-> 6662\u001b[0m     start_slice, end_slice \u001b[38;5;241m=\u001b[39m \u001b[38;5;28;43mself\u001b[39;49m\u001b[38;5;241;43m.\u001b[39;49m\u001b[43mslice_locs\u001b[49m\u001b[43m(\u001b[49m\u001b[43mstart\u001b[49m\u001b[43m,\u001b[49m\u001b[43m \u001b[49m\u001b[43mend\u001b[49m\u001b[43m,\u001b[49m\u001b[43m \u001b[49m\u001b[43mstep\u001b[49m\u001b[38;5;241;43m=\u001b[39;49m\u001b[43mstep\u001b[49m\u001b[43m)\u001b[49m\n\u001b[1;32m   6664\u001b[0m     \u001b[38;5;66;03m# return a slice\u001b[39;00m\n\u001b[1;32m   6665\u001b[0m     \u001b[38;5;28;01mif\u001b[39;00m \u001b[38;5;129;01mnot\u001b[39;00m is_scalar(start_slice):\n",
      "File \u001b[0;32m~/py_venv/mmpose/lib/python3.10/site-packages/pandas/core/indexes/base.py:6879\u001b[0m, in \u001b[0;36mIndex.slice_locs\u001b[0;34m(self, start, end, step)\u001b[0m\n\u001b[1;32m   6877\u001b[0m start_slice \u001b[38;5;241m=\u001b[39m \u001b[38;5;28;01mNone\u001b[39;00m\n\u001b[1;32m   6878\u001b[0m \u001b[38;5;28;01mif\u001b[39;00m start \u001b[38;5;129;01mis\u001b[39;00m \u001b[38;5;129;01mnot\u001b[39;00m \u001b[38;5;28;01mNone\u001b[39;00m:\n\u001b[0;32m-> 6879\u001b[0m     start_slice \u001b[38;5;241m=\u001b[39m \u001b[38;5;28;43mself\u001b[39;49m\u001b[38;5;241;43m.\u001b[39;49m\u001b[43mget_slice_bound\u001b[49m\u001b[43m(\u001b[49m\u001b[43mstart\u001b[49m\u001b[43m,\u001b[49m\u001b[43m \u001b[49m\u001b[38;5;124;43m\"\u001b[39;49m\u001b[38;5;124;43mleft\u001b[39;49m\u001b[38;5;124;43m\"\u001b[39;49m\u001b[43m)\u001b[49m\n\u001b[1;32m   6880\u001b[0m \u001b[38;5;28;01mif\u001b[39;00m start_slice \u001b[38;5;129;01mis\u001b[39;00m \u001b[38;5;28;01mNone\u001b[39;00m:\n\u001b[1;32m   6881\u001b[0m     start_slice \u001b[38;5;241m=\u001b[39m \u001b[38;5;241m0\u001b[39m\n",
      "File \u001b[0;32m~/py_venv/mmpose/lib/python3.10/site-packages/pandas/core/indexes/base.py:6804\u001b[0m, in \u001b[0;36mIndex.get_slice_bound\u001b[0;34m(self, label, side)\u001b[0m\n\u001b[1;32m   6801\u001b[0m         \u001b[38;5;28;01mreturn\u001b[39;00m \u001b[38;5;28mself\u001b[39m\u001b[38;5;241m.\u001b[39m_searchsorted_monotonic(label, side)\n\u001b[1;32m   6802\u001b[0m     \u001b[38;5;28;01mexcept\u001b[39;00m \u001b[38;5;167;01mValueError\u001b[39;00m:\n\u001b[1;32m   6803\u001b[0m         \u001b[38;5;66;03m# raise the original KeyError\u001b[39;00m\n\u001b[0;32m-> 6804\u001b[0m         \u001b[38;5;28;01mraise\u001b[39;00m err\n\u001b[1;32m   6806\u001b[0m \u001b[38;5;28;01mif\u001b[39;00m \u001b[38;5;28misinstance\u001b[39m(slc, np\u001b[38;5;241m.\u001b[39mndarray):\n\u001b[1;32m   6807\u001b[0m     \u001b[38;5;66;03m# get_loc may return a boolean array, which\u001b[39;00m\n\u001b[1;32m   6808\u001b[0m     \u001b[38;5;66;03m# is OK as long as they are representable by a slice.\u001b[39;00m\n\u001b[1;32m   6809\u001b[0m     \u001b[38;5;28;01massert\u001b[39;00m is_bool_dtype(slc\u001b[38;5;241m.\u001b[39mdtype)\n",
      "File \u001b[0;32m~/py_venv/mmpose/lib/python3.10/site-packages/pandas/core/indexes/base.py:6798\u001b[0m, in \u001b[0;36mIndex.get_slice_bound\u001b[0;34m(self, label, side)\u001b[0m\n\u001b[1;32m   6796\u001b[0m \u001b[38;5;66;03m# we need to look up the label\u001b[39;00m\n\u001b[1;32m   6797\u001b[0m \u001b[38;5;28;01mtry\u001b[39;00m:\n\u001b[0;32m-> 6798\u001b[0m     slc \u001b[38;5;241m=\u001b[39m \u001b[38;5;28;43mself\u001b[39;49m\u001b[38;5;241;43m.\u001b[39;49m\u001b[43mget_loc\u001b[49m\u001b[43m(\u001b[49m\u001b[43mlabel\u001b[49m\u001b[43m)\u001b[49m\n\u001b[1;32m   6799\u001b[0m \u001b[38;5;28;01mexcept\u001b[39;00m \u001b[38;5;167;01mKeyError\u001b[39;00m \u001b[38;5;28;01mas\u001b[39;00m err:\n\u001b[1;32m   6800\u001b[0m     \u001b[38;5;28;01mtry\u001b[39;00m:\n",
      "File \u001b[0;32m~/py_venv/mmpose/lib/python3.10/site-packages/pandas/core/indexes/base.py:3812\u001b[0m, in \u001b[0;36mIndex.get_loc\u001b[0;34m(self, key)\u001b[0m\n\u001b[1;32m   3807\u001b[0m     \u001b[38;5;28;01mif\u001b[39;00m \u001b[38;5;28misinstance\u001b[39m(casted_key, \u001b[38;5;28mslice\u001b[39m) \u001b[38;5;129;01mor\u001b[39;00m (\n\u001b[1;32m   3808\u001b[0m         \u001b[38;5;28misinstance\u001b[39m(casted_key, abc\u001b[38;5;241m.\u001b[39mIterable)\n\u001b[1;32m   3809\u001b[0m         \u001b[38;5;129;01mand\u001b[39;00m \u001b[38;5;28many\u001b[39m(\u001b[38;5;28misinstance\u001b[39m(x, \u001b[38;5;28mslice\u001b[39m) \u001b[38;5;28;01mfor\u001b[39;00m x \u001b[38;5;129;01min\u001b[39;00m casted_key)\n\u001b[1;32m   3810\u001b[0m     ):\n\u001b[1;32m   3811\u001b[0m         \u001b[38;5;28;01mraise\u001b[39;00m InvalidIndexError(key)\n\u001b[0;32m-> 3812\u001b[0m     \u001b[38;5;28;01mraise\u001b[39;00m \u001b[38;5;167;01mKeyError\u001b[39;00m(key) \u001b[38;5;28;01mfrom\u001b[39;00m \u001b[38;5;21;01merr\u001b[39;00m\n\u001b[1;32m   3813\u001b[0m \u001b[38;5;28;01mexcept\u001b[39;00m \u001b[38;5;167;01mTypeError\u001b[39;00m:\n\u001b[1;32m   3814\u001b[0m     \u001b[38;5;66;03m# If we have a listlike key, _check_indexing_error will raise\u001b[39;00m\n\u001b[1;32m   3815\u001b[0m     \u001b[38;5;66;03m#  InvalidIndexError. Otherwise we fall through and re-raise\u001b[39;00m\n\u001b[1;32m   3816\u001b[0m     \u001b[38;5;66;03m#  the TypeError.\u001b[39;00m\n\u001b[1;32m   3817\u001b[0m     \u001b[38;5;28mself\u001b[39m\u001b[38;5;241m.\u001b[39m_check_indexing_error(key)\n",
      "\u001b[0;31mKeyError\u001b[0m: 'frame_width'"
     ]
    }
   ],
   "source": [
    "PHASE = \"train\"\n",
    "DATA_DIR = \"/home/giakhang/dev/pose_sandbox/data\"  \n",
    "SELECTED_DATE = \"2024-*\"  # Keep '*' when using glob.glob\n",
    "\n",
    "train_paths = glob.glob(os.path.join(DATA_DIR, \"{}/{}/landmarks_{}_*.csv\".format(SELECTED_DATE, SELECTED_DATE, PHASE)))\n",
    "\n",
    "body_lines = [[0,2], [0, 3], [2, 4], [3, 4]]\n",
    "lefthand_lines = [[0, 1], [1, 5], [5, 6], [5, 10], [5, 22], [10, 14], [14, 18], [18, 22], \n",
    "    [6, 7], [7, 8], [8, 9], \n",
    "    [10, 11], [11, 12], [12, 13], \n",
    "    [14, 15], [15, 16], [16, 17], \n",
    "    [18, 19], [19, 20], [20, 21], \n",
    "    [22, 23], [23, 24], [24, 25]]\n",
    "train_body_distance_thres = 550\n",
    "train_leftarm_distance_thres = 550\n",
    "train_lefthand_distance_thres = 200\n",
    "\n",
    "train_dataset = HandArmLandmarksDataset_ANN(train_paths, \n",
    "    arm_hand_fused_names,\n",
    "    body_lines, \n",
    "    lefthand_lines, \n",
    "    train_body_distance_thres, \n",
    "    train_leftarm_distance_thres, \n",
    "    train_lefthand_distance_thres,\n",
    "    filter_outlier=True,\n",
    "    only_keep_frames_contain_lefthand=True,\n",
    "    cvt_normalized_xy_to_XY=True)\n",
    "train_dataloader = DataLoader(train_dataset, batch_size=128, shuffle=True)"
   ]
  },
  {
   "cell_type": "code",
   "execution_count": 8,
   "metadata": {},
   "outputs": [
    {
     "data": {
      "text/plain": [
       "(1533, 288)"
      ]
     },
     "execution_count": 8,
     "metadata": {},
     "output_type": "execute_result"
    }
   ],
   "source": [
    "train_dataset._inputs.shape"
   ]
  },
  {
   "cell_type": "code",
   "execution_count": 5,
   "metadata": {},
   "outputs": [],
   "source": [
    "DATA_DIR = \"/home/giakhang/dev/pose_sandbox/data\"  \n",
    "SELECTED_DATE = \"2024-*\"  # Keep '*' when using glob.glob\n",
    "\n",
    "train_paths = glob.glob(os.path.join(DATA_DIR, \"{}/{}/fine_landmarks_{}_*.csv\".format(SELECTED_DATE, SELECTED_DATE, \"train\")))\n",
    "val_paths = glob.glob(os.path.join(DATA_DIR, \"{}/{}/fine_landmarks_{}_*.csv\".format(SELECTED_DATE, SELECTED_DATE, \"val\")))\n",
    "\n",
    "#fake_train_paths = glob.glob(os.path.join(DATA_DIR, \"fake_data\", \"train\", \"fake_*.csv\"))\n",
    "\n",
    "#if len(fake_train_paths) > 0:\n",
    "    #train_paths.extend(fake_train_paths)\n",
    "\n",
    "body_lines = [[0,2], [0, 3], [2, 4], [3, 4]]\n",
    "lefthand_lines = [[0, 1], [1, 5], [5, 6], [5, 10], [5, 22], [10, 14], [14, 18], [18, 22], \n",
    "    [6, 7], [7, 8], [8, 9], \n",
    "    [10, 11], [11, 12], [12, 13], \n",
    "    [14, 15], [15, 16], [16, 17], \n",
    "    [18, 19], [19, 20], [20, 21], \n",
    "    [22, 23], [23, 24], [24, 25]]\n",
    "train_body_distance_thres = 550\n",
    "train_leftarm_distance_thres = 550\n",
    "train_lefthand_distance_thres = 200\n",
    "val_body_distance_thres = 450\n",
    "val_leftarm_distance_thres = 450\n",
    "val_lefthand_distance_thres = 150\n",
    "\n",
    "train_dataset = HandArmLandmarksDataset_ANN(train_paths, \n",
    "    arm_hand_fused_names,\n",
    "    body_lines, \n",
    "    lefthand_lines, \n",
    "    train_body_distance_thres, \n",
    "    train_leftarm_distance_thres, \n",
    "    train_lefthand_distance_thres,\n",
    "    filter_outlier=True,\n",
    "    only_keep_frames_contain_lefthand=True,\n",
    "    cvt_normalized_xy_to_XY=True)\n",
    "train_dataloader = DataLoader(train_dataset, batch_size=128, shuffle=True)\n",
    "val_dataset = HandArmLandmarksDataset_ANN(val_paths,\n",
    "    arm_hand_fused_names,\n",
    "    body_lines,\n",
    "    lefthand_lines,\n",
    "    val_body_distance_thres,\n",
    "    val_leftarm_distance_thres,\n",
    "    val_lefthand_distance_thres,\n",
    "    filter_outlier=True,\n",
    "    only_keep_frames_contain_lefthand=True,\n",
    "    cvt_normalized_xy_to_XY=True)\n",
    "val_dataloader = DataLoader(val_dataset, batch_size=64, shuffle=True)  "
   ]
  },
  {
   "cell_type": "code",
   "execution_count": 6,
   "metadata": {},
   "outputs": [
    {
     "data": {
      "text/plain": [
       "(13400, 144)"
      ]
     },
     "execution_count": 6,
     "metadata": {},
     "output_type": "execute_result"
    }
   ],
   "source": [
    "train_dataset._outputs.shape"
   ]
  },
  {
   "cell_type": "code",
   "execution_count": 7,
   "metadata": {},
   "outputs": [
    {
     "data": {
      "text/plain": [
       "(13400, 288)"
      ]
     },
     "execution_count": 7,
     "metadata": {},
     "output_type": "execute_result"
    }
   ],
   "source": [
    "train_dataset._inputs.shape"
   ]
  },
  {
   "cell_type": "code",
   "execution_count": 7,
   "metadata": {},
   "outputs": [
    {
     "data": {
      "text/plain": [
       "(2379, 144)"
      ]
     },
     "execution_count": 7,
     "metadata": {},
     "output_type": "execute_result"
    }
   ],
   "source": [
    "val_dataset._outputs.shape"
   ]
  },
  {
   "cell_type": "code",
   "execution_count": 6,
   "metadata": {},
   "outputs": [],
   "source": [
    "arm_hand_fused_names = [\"left shoulder\", \"left elbow\", \"left hip\", \"right shoulder\", \"right hip\", \n",
    " \"WRIST\", \"THUMB_CMC\", \"THUMB_MCP\", \"THUMB_IP\", \"THUMB_TIP\", \"INDEX_FINGER_MCP\", \n",
    " \"INDEX_FINGER_PIP\", \"INDEX_FINGER_DIP\", \"INDEX_FINGER_TIP\", \"MIDDLE_FINGER_MCP\", \n",
    " \"MIDDLE_FINGER_PIP\", \"MIDDLE_FINGER_DIP\", \"MIDDLE_FINGER_TIP\", \"RING_FINGER_MCP\", \n",
    " \"RING_FINGER_PIP\", \"RING_FINGER_DIP\", \"RING_FINGER_TIP\", \"PINKY_MCP\", \"PINKY_PIP\", \n",
    " \"PINKY_DIP\", \"PINKY_TIP\", \"right elbow\"]"
   ]
  },
  {
   "cell_type": "code",
   "execution_count": 7,
   "metadata": {},
   "outputs": [
    {
     "ename": "KeyboardInterrupt",
     "evalue": "",
     "output_type": "error",
     "traceback": [
      "\u001b[0;31m---------------------------------------------------------------------------\u001b[0m",
      "\u001b[0;31mKeyboardInterrupt\u001b[0m                         Traceback (most recent call last)",
      "Cell \u001b[0;32mIn[7], line 67\u001b[0m\n\u001b[1;32m     64\u001b[0m     vis\u001b[38;5;241m.\u001b[39mpoll_events()\n\u001b[1;32m     65\u001b[0m     vis\u001b[38;5;241m.\u001b[39mupdate_renderer()\n\u001b[0;32m---> 67\u001b[0m     \u001b[43mtime\u001b[49m\u001b[38;5;241;43m.\u001b[39;49m\u001b[43msleep\u001b[49m\u001b[43m(\u001b[49m\u001b[43mtime_sleep\u001b[49m\u001b[43m)\u001b[49m\n\u001b[1;32m     69\u001b[0m vis\u001b[38;5;241m.\u001b[39mdestroy_window()\n",
      "\u001b[0;31mKeyboardInterrupt\u001b[0m: "
     ]
    }
   ],
   "source": [
    "target_output = train_dataset._outputs  # shape: (N, 144)\n",
    "time_sleep = .1\n",
    "x = np.array([[500, 0, 0],\n",
    "    [0, 0, 0]])\n",
    "pcd = o3d.geometry.PointCloud()\n",
    "pcd.points = o3d.utility.Vector3dVector(x)\n",
    "lines = [[0, 0]]\n",
    "colors = [[1, 0, 0] for i in range(len(lines))]\n",
    "line_set = o3d.geometry.LineSet(\n",
    "    points=o3d.utility.Vector3dVector(x),\n",
    "    lines=o3d.utility.Vector2iVector(lines)\n",
    ")\n",
    "line_set.colors = o3d.utility.Vector3dVector(colors)\n",
    "\n",
    "bounding_box = o3d.geometry.LineSet(\n",
    "    points=o3d.utility.Vector3dVector(np.array([[500,0 ,0], [0, 0, 0]])),\n",
    "    lines=o3d.utility.Vector2iVector([[0, 0]])\n",
    ")\n",
    "    \n",
    "vis = o3d.visualization.Visualizer()\n",
    "vis.create_window()\n",
    "vis.add_geometry(pcd)\n",
    "vis.add_geometry(line_set)\n",
    "vis.add_geometry(bounding_box)\n",
    "\n",
    "for i in range(target_output.shape[0]):\n",
    "    output = target_output[i, ...]  # shape: (144)\n",
    "    output = output.reshape(3, 48)  # shape: (3, 48)\n",
    "    output = output.T  # shape: (48, 3)\n",
    "\n",
    "    lines = body_lines.copy()\n",
    "    lines.extend(lefthand_lines)\n",
    "\n",
    "    points, _ = convert_to_left_shoulder_coord(output,\n",
    "        arm_hand_fused_names)\n",
    "\n",
    "    pcd.points = o3d.utility.Vector3dVector(points)\n",
    "    colors = [[1, 0, 0] for i in range(len(lines))]\n",
    "    line_set.points = o3d.utility.Vector3dVector(points)  \n",
    "    line_set.lines = o3d.utility.Vector2iVector(lines) \n",
    "    line_set.colors = o3d.utility.Vector3dVector(colors)\n",
    "\n",
    "    # Draw cuboid\n",
    "    min_x, min_y, min_z = np.min(points, axis=0)\n",
    "    max_x, max_y, max_z = np.max(points, axis=0)\n",
    "    vertices = [\n",
    "        [min_x, min_y, min_z], [min_x, min_y, max_z], [min_x, max_y, min_z], [min_x, max_y, max_z],\n",
    "        [max_x, min_y, min_z], [max_x, min_y, max_z], [max_x, max_y, min_z], [max_x, max_y, max_z]\n",
    "    ]\n",
    "    vertices = np.array(vertices) \n",
    "    edges = [\n",
    "        [0, 1], [1, 3], [3, 2], [2, 0],  \n",
    "        [4, 5], [5, 7], [7, 6], [6, 4],  \n",
    "        [0, 4], [1, 5], [2, 6], [3, 7]   \n",
    "    ]\n",
    "    bounding_box.points = o3d.utility.Vector3dVector(vertices)\n",
    "    bounding_box.lines = o3d.utility.Vector2iVector(edges)\n",
    "    bbox_colors = [[0, 1, 0] for _ in range(len(edges))]  \n",
    "    bounding_box.colors = o3d.utility.Vector3dVector(bbox_colors)\n",
    "\n",
    "    vis.update_geometry(pcd)\n",
    "    vis.update_geometry(line_set)\n",
    "    vis.update_geometry(bounding_box)\n",
    "    vis.poll_events()\n",
    "    vis.update_renderer()\n",
    "        \n",
    "    time.sleep(time_sleep)\n",
    "\n",
    "vis.destroy_window()"
   ]
  },
  {
   "cell_type": "code",
   "execution_count": null,
   "metadata": {},
   "outputs": [],
   "source": [
    "target_output = train_dataset._outputs  #  shape: (N, 144)\n",
    "sample = target_output[0]  # shape: (144)\n",
    "sample = sample.reshape(3, 48)  # shape: (3, 48)\n",
    "sample = sample.T  # shape: (48, 3)\n",
    "sample = sample[:26]  # shape: (26, 3)"
   ]
  },
  {
   "cell_type": "code",
   "execution_count": null,
   "metadata": {},
   "outputs": [],
   "source": [
    "body_lines = [[0,2], [0, 3], [2, 4], [3, 4]]\n",
    "lefthand_lines = [[0, 1], [1, 5], [5, 6], [5, 10], [5, 22], [10, 14], [14, 18], [18, 22], \n",
    "    [6, 7], [7, 8], [8, 9], \n",
    "    [10, 11], [11, 12], [12, 13], \n",
    "    [14, 15], [15, 16], [16, 17], \n",
    "    [18, 19], [19, 20], [20, 21], \n",
    "    [22, 23], [23, 24], [24, 25]]\n",
    "lines = body_lines.copy()\n",
    "lines.extend(lefthand_lines)"
   ]
  },
  {
   "cell_type": "code",
   "execution_count": null,
   "metadata": {},
   "outputs": [],
   "source": [
    "points, original_xyz = convert_to_left_shoulder_coord(sample, arm_hand_fused_names)\n",
    "\n",
    "min_x, min_y, min_z = np.min(points, axis=0)\n",
    "max_x, max_y, max_z = np.max(points, axis=0)"
   ]
  },
  {
   "cell_type": "code",
   "execution_count": null,
   "metadata": {},
   "outputs": [],
   "source": [
    "vertices = [\n",
    "    [min_x, min_y, min_z], [min_x, min_y, max_z], [min_x, max_y, min_z], [min_x, max_y, max_z],\n",
    "    [max_x, min_y, min_z], [max_x, min_y, max_z], [max_x, max_y, min_z], [max_x, max_y, max_z]\n",
    "]\n",
    "\n",
    "# Define the edges of the bounding box (12 edges for a cuboid)\n",
    "edges = [\n",
    "    [0, 1], [1, 3], [3, 2], [2, 0],  # Bottom square\n",
    "    [4, 5], [5, 7], [7, 6], [6, 4],  # Top square\n",
    "    [0, 4], [1, 5], [2, 6], [3, 7]   # Vertical lines connecting bottom and top squares\n",
    "]\n",
    "\n",
    "# Create a LineSet object for the bounding box\n",
    "bounding_box = o3d.geometry.LineSet()\n",
    "bounding_box.points = o3d.utility.Vector3dVector(vertices)\n",
    "bounding_box.lines = o3d.utility.Vector2iVector(edges)\n",
    "\n",
    "bbox_colors = [[0, 1, 0] for _ in range(len(edges))]  # Green color for all edges\n",
    "bounding_box.colors = o3d.utility.Vector3dVector(bbox_colors)"
   ]
  },
  {
   "cell_type": "code",
   "execution_count": null,
   "metadata": {},
   "outputs": [],
   "source": [
    "colors = [[0, 0, 0] for i in range(len(lines))]\n",
    "\n",
    "x_unit, y_unit, z_unit = original_xyz[:, 0], original_xyz[:, 1], original_xyz[:, 2]\n",
    "points = np.concatenate([points, [x_unit * 40, y_unit * 40, z_unit * 40]], axis=0)\n",
    "last_index = points.shape[0] - 1\n",
    "lines.extend([[0, last_index - 2], [0, last_index - 1], [0, last_index]])\n",
    "colors.extend([[1, 0, 0], [0, 1, 0], [0, 0, 1]])\n",
    "\n",
    "pcd = o3d.geometry.PointCloud()\n",
    "pcd.points = o3d.utility.Vector3dVector(points)\n",
    "\n",
    "line_set = o3d.geometry.LineSet(\n",
    "    points=o3d.utility.Vector3dVector(points),\n",
    "    lines=o3d.utility.Vector2iVector(lines)\n",
    ")\n",
    "line_set.colors = o3d.utility.Vector3dVector(colors)\n",
    "\n",
    "# Visualize the point cloud\n",
    "o3d.visualization.draw_geometries([pcd, line_set, bounding_box], \n",
    "    window_name='Open3D Point Cloud Visualization', width=800, height=600)"
   ]
  },
  {
   "cell_type": "code",
   "execution_count": null,
   "metadata": {},
   "outputs": [
    {
     "data": {
      "text/plain": [
       "(8, 3)"
      ]
     },
     "execution_count": 24,
     "metadata": {},
     "output_type": "execute_result"
    }
   ],
   "source": [
    "vertices = np.array(vertices)\n",
    "vertices.shape"
   ]
  },
  {
   "cell_type": "code",
   "execution_count": null,
   "metadata": {},
   "outputs": [],
   "source": [
    "input_data = train_dataset._inputs\n",
    "\n",
    "left_camera_first_intrinsic_value_idx = 144\n",
    "right_camera_first_lmk_value_idx = left_camera_first_intrinsic_value_idx + 9\n",
    "right_camera_first_intrinsic_value_idx = right_camera_first_lmk_value_idx + 144\n",
    "first_right_2_left_matrix_value_idx = right_camera_first_intrinsic_value_idx + 9\n",
    "\n",
    "left_camera_lmks = input_data[:, :left_camera_first_intrinsic_value_idx]  # shape: (N, 144), N = #rows\n",
    "left_camera_intrinsic = input_data[:, left_camera_first_intrinsic_value_idx:right_camera_first_lmk_value_idx]  # shape: (N, 9), N = #rows\n",
    "right_camera_lmks = input_data[:, right_camera_first_lmk_value_idx:right_camera_first_intrinsic_value_idx]  # shape: (N, 144), N = #rows\n",
    "right_camera_intrinsic = input_data[:, right_camera_first_intrinsic_value_idx:first_right_2_left_matrix_value_idx]  # shape: (N, 9), N = #rows\n",
    "right_2_left_mat = input_data[:, first_right_2_left_matrix_value_idx:]  # shape: (N, 16), N = #rows"
   ]
  },
  {
   "cell_type": "code",
   "execution_count": null,
   "metadata": {},
   "outputs": [],
   "source": [
    "left_camera_lmks = left_camera_lmks.reshape(-1, 3, 48)  # shape: (N, 3, 48)\n",
    "right_camera_lmks = right_camera_lmks.reshape(-1, 3, 48)  # shape: (N, 3, 48)"
   ]
  },
  {
   "cell_type": "code",
   "execution_count": null,
   "metadata": {},
   "outputs": [
    {
     "data": {
      "text/plain": [
       "(1562, 322)"
      ]
     },
     "execution_count": 10,
     "metadata": {},
     "output_type": "execute_result"
    }
   ],
   "source": [
    "input_data.shape"
   ]
  },
  {
   "cell_type": "code",
   "execution_count": null,
   "metadata": {},
   "outputs": [],
   "source": [
    "df = pd.DataFrame(input_data, columns=fusion_csv_columns_name[1:323])"
   ]
  },
  {
   "cell_type": "code",
   "execution_count": null,
   "metadata": {},
   "outputs": [],
   "source": [
    "left_lmks_x = df.loc[:, \"left_shoulder_cam_left_x\":\"right_pinky_tip_cam_left_x\"].describe()\n",
    "left_lmks_y = df.loc[:, \"left_shoulder_cam_left_y\":\"right_pinky_tip_cam_left_y\"].describe()\n",
    "left_lmks_z = df.loc[:, \"left_shoulder_cam_left_z\":\"right_pinky_tip_cam_left_z\"].describe()"
   ]
  },
  {
   "cell_type": "code",
   "execution_count": null,
   "metadata": {},
   "outputs": [
    {
     "data": {
      "text/plain": [
       "<matplotlib.axes._subplots.AxesSubplot at 0x7f63c05adb80>"
      ]
     },
     "execution_count": 29,
     "metadata": {},
     "output_type": "execute_result"
    },
    {
     "data": {
      "image/png": "[encoded data removed]",
      "text/plain": [
       "<Figure size 640x480 with 1 Axes>"
      ]
     },
     "metadata": {},
     "output_type": "display_data"
    }
   ],
   "source": [
    "left_lmks_x.iloc[3, :].plot()\n",
    "left_lmks_x.iloc[-1, :].plot()"
   ]
  },
  {
   "cell_type": "code",
   "execution_count": null,
   "metadata": {},
   "outputs": [
    {
     "data": {
      "text/plain": [
       "<matplotlib.axes._subplots.AxesSubplot at 0x7f63c0592a00>"
      ]
     },
     "execution_count": 30,
     "metadata": {},
     "output_type": "execute_result"
    },
    {
     "data": {
      "image/png": "[encoded data removed]",
      "text/plain": [
       "<Figure size 640x480 with 1 Axes>"
      ]
     },
     "metadata": {},
     "output_type": "display_data"
    }
   ],
   "source": [
    "left_lmks_y.iloc[3, :].plot()\n",
    "left_lmks_y.iloc[-1, :].plot()"
   ]
  },
  {
   "cell_type": "code",
   "execution_count": null,
   "metadata": {},
   "outputs": [
    {
     "data": {
      "text/plain": [
       "<matplotlib.axes._subplots.AxesSubplot at 0x7f63c077a4c0>"
      ]
     },
     "execution_count": 31,
     "metadata": {},
     "output_type": "execute_result"
    },
    {
     "data": {
      "image/png": "[encoded data removed]",
      "text/plain": [
       "<Figure size 640x480 with 1 Axes>"
      ]
     },
     "metadata": {},
     "output_type": "display_data"
    }
   ],
   "source": [
    "left_lmks_z.iloc[3, :].plot()\n",
    "left_lmks_z.iloc[-1, :].plot()"
   ]
  },
  {
   "cell_type": "code",
   "execution_count": null,
   "metadata": {},
   "outputs": [],
   "source": [
    "right_lmks_x = df.loc[:, \"left_shoulder_cam_right_x\":\"right_pinky_tip_cam_right_x\"].describe()\n",
    "right_lmks_y = df.loc[:, \"left_shoulder_cam_right_y\":\"right_pinky_tip_cam_right_y\"].describe()\n",
    "right_lmks_z = df.loc[:, \"left_shoulder_cam_right_z\":\"right_pinky_tip_cam_right_z\"].describe()"
   ]
  },
  {
   "cell_type": "code",
   "execution_count": null,
   "metadata": {},
   "outputs": [
    {
     "data": {
      "text/plain": [
       "<matplotlib.axes._subplots.AxesSubplot at 0x7f63c048b250>"
      ]
     },
     "execution_count": 33,
     "metadata": {},
     "output_type": "execute_result"
    },
    {
     "data": {
      "image/png": "[encoded data removed]",
      "text/plain": [
       "<Figure size 640x480 with 1 Axes>"
      ]
     },
     "metadata": {},
     "output_type": "display_data"
    }
   ],
   "source": [
    "right_lmks_x.iloc[3, :].plot()\n",
    "right_lmks_x.iloc[-1, :].plot()"
   ]
  },
  {
   "cell_type": "code",
   "execution_count": null,
   "metadata": {},
   "outputs": [
    {
     "data": {
      "text/plain": [
       "<matplotlib.axes._subplots.AxesSubplot at 0x7f63c04a1f70>"
      ]
     },
     "execution_count": 34,
     "metadata": {},
     "output_type": "execute_result"
    },
    {
     "data": {
      "image/png": "[encoded data removed]",
      "text/plain": [
       "<Figure size 640x480 with 1 Axes>"
      ]
     },
     "metadata": {},
     "output_type": "display_data"
    }
   ],
   "source": [
    "right_lmks_y.iloc[3, :].plot()\n",
    "right_lmks_y.iloc[-1, :].plot()"
   ]
  },
  {
   "cell_type": "code",
   "execution_count": null,
   "metadata": {},
   "outputs": [
    {
     "data": {
      "text/plain": [
       "<matplotlib.axes._subplots.AxesSubplot at 0x7f63be3d4cd0>"
      ]
     },
     "execution_count": 35,
     "metadata": {},
     "output_type": "execute_result"
    },
    {
     "data": {
      "image/png": "[encoded data removed]",
      "text/plain": [
       "<Figure size 640x480 with 1 Axes>"
      ]
     },
     "metadata": {},
     "output_type": "display_data"
    }
   ],
   "source": [
    "right_lmks_z.iloc[3, :].plot()\n",
    "right_lmks_z.iloc[-1, :].plot()"
   ]
  },
  {
   "cell_type": "code",
   "execution_count": null,
   "metadata": {},
   "outputs": [],
   "source": [
    "left_intr = df.loc[:, \"left_camera_intrinsic_x11\":\"left_camera_intrinsic_x33\"]\n",
    "right_intr = df.loc[:, \"right_camera_intrinsic_x11\":\"right_camera_intrinsic_x33\"]\n",
    "trans_mat = df.loc[:, \"right_to_left_matrix_x11\":\"right_to_left_matrix_x44\"]"
   ]
  },
  {
   "cell_type": "code",
   "execution_count": null,
   "metadata": {},
   "outputs": [
    {
     "data": {
      "text/html": [
       "<div>\n",
       "<style scoped>\n",
       "    .dataframe tbody tr th:only-of-type {\n",
       "        vertical-align: middle;\n",
       "    }\n",
       "\n",
       "    .dataframe tbody tr th {\n",
       "        vertical-align: top;\n",
       "    }\n",
       "\n",
       "    .dataframe thead th {\n",
       "        text-align: right;\n",
       "    }\n",
       "</style>\n",
       "<table border=\"1\" class=\"dataframe\">\n",
       "  <thead>\n",
       "    <tr style=\"text-align: right;\">\n",
       "      <th></th>\n",
       "      <th>left_camera_intrinsic_x11</th>\n",
       "      <th>left_camera_intrinsic_x12</th>\n",
       "      <th>left_camera_intrinsic_x13</th>\n",
       "      <th>left_camera_intrinsic_x21</th>\n",
       "      <th>left_camera_intrinsic_x22</th>\n",
       "      <th>left_camera_intrinsic_x23</th>\n",
       "      <th>left_camera_intrinsic_x31</th>\n",
       "      <th>left_camera_intrinsic_x32</th>\n",
       "      <th>left_camera_intrinsic_x33</th>\n",
       "    </tr>\n",
       "  </thead>\n",
       "  <tbody>\n",
       "    <tr>\n",
       "      <th>count</th>\n",
       "      <td>1562.000000</td>\n",
       "      <td>1562.0</td>\n",
       "      <td>1562.000000</td>\n",
       "      <td>1562.0</td>\n",
       "      <td>1562.000000</td>\n",
       "      <td>1562.000000</td>\n",
       "      <td>1562.0</td>\n",
       "      <td>1562.0</td>\n",
       "      <td>1562.0</td>\n",
       "    </tr>\n",
       "    <tr>\n",
       "      <th>mean</th>\n",
       "      <td>4598.874791</td>\n",
       "      <td>0.0</td>\n",
       "      <td>959.456457</td>\n",
       "      <td>0.0</td>\n",
       "      <td>3751.211465</td>\n",
       "      <td>538.132510</td>\n",
       "      <td>0.0</td>\n",
       "      <td>0.0</td>\n",
       "      <td>1.0</td>\n",
       "    </tr>\n",
       "    <tr>\n",
       "      <th>std</th>\n",
       "      <td>3466.714168</td>\n",
       "      <td>0.0</td>\n",
       "      <td>24.612530</td>\n",
       "      <td>0.0</td>\n",
       "      <td>2462.042119</td>\n",
       "      <td>7.895210</td>\n",
       "      <td>0.0</td>\n",
       "      <td>0.0</td>\n",
       "      <td>0.0</td>\n",
       "    </tr>\n",
       "    <tr>\n",
       "      <th>min</th>\n",
       "      <td>1563.442199</td>\n",
       "      <td>0.0</td>\n",
       "      <td>918.869942</td>\n",
       "      <td>0.0</td>\n",
       "      <td>1546.426224</td>\n",
       "      <td>528.651557</td>\n",
       "      <td>0.0</td>\n",
       "      <td>0.0</td>\n",
       "      <td>1.0</td>\n",
       "    </tr>\n",
       "    <tr>\n",
       "      <th>25%</th>\n",
       "      <td>2263.522565</td>\n",
       "      <td>0.0</td>\n",
       "      <td>938.065291</td>\n",
       "      <td>0.0</td>\n",
       "      <td>2414.515204</td>\n",
       "      <td>534.817587</td>\n",
       "      <td>0.0</td>\n",
       "      <td>0.0</td>\n",
       "      <td>1.0</td>\n",
       "    </tr>\n",
       "    <tr>\n",
       "      <th>50%</th>\n",
       "      <td>3490.437809</td>\n",
       "      <td>0.0</td>\n",
       "      <td>959.303306</td>\n",
       "      <td>0.0</td>\n",
       "      <td>2535.911793</td>\n",
       "      <td>535.885168</td>\n",
       "      <td>0.0</td>\n",
       "      <td>0.0</td>\n",
       "      <td>1.0</td>\n",
       "    </tr>\n",
       "    <tr>\n",
       "      <th>75%</th>\n",
       "      <td>4907.507495</td>\n",
       "      <td>0.0</td>\n",
       "      <td>978.820124</td>\n",
       "      <td>0.0</td>\n",
       "      <td>4960.791703</td>\n",
       "      <td>542.520388</td>\n",
       "      <td>0.0</td>\n",
       "      <td>0.0</td>\n",
       "      <td>1.0</td>\n",
       "    </tr>\n",
       "    <tr>\n",
       "      <th>max</th>\n",
       "      <td>12465.472432</td>\n",
       "      <td>0.0</td>\n",
       "      <td>992.764689</td>\n",
       "      <td>0.0</td>\n",
       "      <td>12731.814253</td>\n",
       "      <td>577.957066</td>\n",
       "      <td>0.0</td>\n",
       "      <td>0.0</td>\n",
       "      <td>1.0</td>\n",
       "    </tr>\n",
       "  </tbody>\n",
       "</table>\n",
       "</div>"
      ],
      "text/plain": [
       "       left_camera_intrinsic_x11  left_camera_intrinsic_x12  \\\n",
       "count                1562.000000                     1562.0   \n",
       "mean                 4598.874791                        0.0   \n",
       "std                  3466.714168                        0.0   \n",
       "min                  1563.442199                        0.0   \n",
       "25%                  2263.522565                        0.0   \n",
       "50%                  3490.437809                        0.0   \n",
       "75%                  4907.507495                        0.0   \n",
       "max                 12465.472432                        0.0   \n",
       "\n",
       "       left_camera_intrinsic_x13  left_camera_intrinsic_x21  \\\n",
       "count                1562.000000                     1562.0   \n",
       "mean                  959.456457                        0.0   \n",
       "std                    24.612530                        0.0   \n",
       "min                   918.869942                        0.0   \n",
       "25%                   938.065291                        0.0   \n",
       "50%                   959.303306                        0.0   \n",
       "75%                   978.820124                        0.0   \n",
       "max                   992.764689                        0.0   \n",
       "\n",
       "       left_camera_intrinsic_x22  left_camera_intrinsic_x23  \\\n",
       "count                1562.000000                1562.000000   \n",
       "mean                 3751.211465                 538.132510   \n",
       "std                  2462.042119                   7.895210   \n",
       "min                  1546.426224                 528.651557   \n",
       "25%                  2414.515204                 534.817587   \n",
       "50%                  2535.911793                 535.885168   \n",
       "75%                  4960.791703                 542.520388   \n",
       "max                 12731.814253                 577.957066   \n",
       "\n",
       "       left_camera_intrinsic_x31  left_camera_intrinsic_x32  \\\n",
       "count                     1562.0                     1562.0   \n",
       "mean                         0.0                        0.0   \n",
       "std                          0.0                        0.0   \n",
       "min                          0.0                        0.0   \n",
       "25%                          0.0                        0.0   \n",
       "50%                          0.0                        0.0   \n",
       "75%                          0.0                        0.0   \n",
       "max                          0.0                        0.0   \n",
       "\n",
       "       left_camera_intrinsic_x33  \n",
       "count                     1562.0  \n",
       "mean                         1.0  \n",
       "std                          0.0  \n",
       "min                          1.0  \n",
       "25%                          1.0  \n",
       "50%                          1.0  \n",
       "75%                          1.0  \n",
       "max                          1.0  "
      ]
     },
     "execution_count": 44,
     "metadata": {},
     "output_type": "execute_result"
    }
   ],
   "source": [
    "left_intr.describe()"
   ]
  },
  {
   "cell_type": "code",
   "execution_count": null,
   "metadata": {},
   "outputs": [
    {
     "data": {
      "text/html": [
       "<div>\n",
       "<style scoped>\n",
       "    .dataframe tbody tr th:only-of-type {\n",
       "        vertical-align: middle;\n",
       "    }\n",
       "\n",
       "    .dataframe tbody tr th {\n",
       "        vertical-align: top;\n",
       "    }\n",
       "\n",
       "    .dataframe thead th {\n",
       "        text-align: right;\n",
       "    }\n",
       "</style>\n",
       "<table border=\"1\" class=\"dataframe\">\n",
       "  <thead>\n",
       "    <tr style=\"text-align: right;\">\n",
       "      <th></th>\n",
       "      <th>right_camera_intrinsic_x11</th>\n",
       "      <th>right_camera_intrinsic_x12</th>\n",
       "      <th>right_camera_intrinsic_x13</th>\n",
       "      <th>right_camera_intrinsic_x21</th>\n",
       "      <th>right_camera_intrinsic_x22</th>\n",
       "      <th>right_camera_intrinsic_x23</th>\n",
       "      <th>right_camera_intrinsic_x31</th>\n",
       "      <th>right_camera_intrinsic_x32</th>\n",
       "      <th>right_camera_intrinsic_x33</th>\n",
       "    </tr>\n",
       "  </thead>\n",
       "  <tbody>\n",
       "    <tr>\n",
       "      <th>count</th>\n",
       "      <td>1562.000000</td>\n",
       "      <td>1562.0</td>\n",
       "      <td>1562.000000</td>\n",
       "      <td>1562.0</td>\n",
       "      <td>1562.000000</td>\n",
       "      <td>1562.000000</td>\n",
       "      <td>1562.0</td>\n",
       "      <td>1562.0</td>\n",
       "      <td>1562.0</td>\n",
       "    </tr>\n",
       "    <tr>\n",
       "      <th>mean</th>\n",
       "      <td>2602.129983</td>\n",
       "      <td>0.0</td>\n",
       "      <td>984.293126</td>\n",
       "      <td>0.0</td>\n",
       "      <td>1984.533611</td>\n",
       "      <td>547.439440</td>\n",
       "      <td>0.0</td>\n",
       "      <td>0.0</td>\n",
       "      <td>1.0</td>\n",
       "    </tr>\n",
       "    <tr>\n",
       "      <th>std</th>\n",
       "      <td>924.519685</td>\n",
       "      <td>0.0</td>\n",
       "      <td>20.035861</td>\n",
       "      <td>0.0</td>\n",
       "      <td>321.529009</td>\n",
       "      <td>10.197533</td>\n",
       "      <td>0.0</td>\n",
       "      <td>0.0</td>\n",
       "      <td>0.0</td>\n",
       "    </tr>\n",
       "    <tr>\n",
       "      <th>min</th>\n",
       "      <td>1627.383636</td>\n",
       "      <td>0.0</td>\n",
       "      <td>957.009185</td>\n",
       "      <td>0.0</td>\n",
       "      <td>1610.743029</td>\n",
       "      <td>533.765713</td>\n",
       "      <td>0.0</td>\n",
       "      <td>0.0</td>\n",
       "      <td>1.0</td>\n",
       "    </tr>\n",
       "    <tr>\n",
       "      <th>25%</th>\n",
       "      <td>1667.582961</td>\n",
       "      <td>0.0</td>\n",
       "      <td>971.768453</td>\n",
       "      <td>0.0</td>\n",
       "      <td>1670.126165</td>\n",
       "      <td>538.404560</td>\n",
       "      <td>0.0</td>\n",
       "      <td>0.0</td>\n",
       "      <td>1.0</td>\n",
       "    </tr>\n",
       "    <tr>\n",
       "      <th>50%</th>\n",
       "      <td>2609.448703</td>\n",
       "      <td>0.0</td>\n",
       "      <td>973.039593</td>\n",
       "      <td>0.0</td>\n",
       "      <td>2123.205366</td>\n",
       "      <td>543.767867</td>\n",
       "      <td>0.0</td>\n",
       "      <td>0.0</td>\n",
       "      <td>1.0</td>\n",
       "    </tr>\n",
       "    <tr>\n",
       "      <th>75%</th>\n",
       "      <td>3557.576515</td>\n",
       "      <td>0.0</td>\n",
       "      <td>1003.108998</td>\n",
       "      <td>0.0</td>\n",
       "      <td>2244.339612</td>\n",
       "      <td>550.374463</td>\n",
       "      <td>0.0</td>\n",
       "      <td>0.0</td>\n",
       "      <td>1.0</td>\n",
       "    </tr>\n",
       "    <tr>\n",
       "      <th>max</th>\n",
       "      <td>4228.961452</td>\n",
       "      <td>0.0</td>\n",
       "      <td>1018.203584</td>\n",
       "      <td>0.0</td>\n",
       "      <td>2997.006359</td>\n",
       "      <td>562.858548</td>\n",
       "      <td>0.0</td>\n",
       "      <td>0.0</td>\n",
       "      <td>1.0</td>\n",
       "    </tr>\n",
       "  </tbody>\n",
       "</table>\n",
       "</div>"
      ],
      "text/plain": [
       "       right_camera_intrinsic_x11  right_camera_intrinsic_x12  \\\n",
       "count                 1562.000000                      1562.0   \n",
       "mean                  2602.129983                         0.0   \n",
       "std                    924.519685                         0.0   \n",
       "min                   1627.383636                         0.0   \n",
       "25%                   1667.582961                         0.0   \n",
       "50%                   2609.448703                         0.0   \n",
       "75%                   3557.576515                         0.0   \n",
       "max                   4228.961452                         0.0   \n",
       "\n",
       "       right_camera_intrinsic_x13  right_camera_intrinsic_x21  \\\n",
       "count                 1562.000000                      1562.0   \n",
       "mean                   984.293126                         0.0   \n",
       "std                     20.035861                         0.0   \n",
       "min                    957.009185                         0.0   \n",
       "25%                    971.768453                         0.0   \n",
       "50%                    973.039593                         0.0   \n",
       "75%                   1003.108998                         0.0   \n",
       "max                   1018.203584                         0.0   \n",
       "\n",
       "       right_camera_intrinsic_x22  right_camera_intrinsic_x23  \\\n",
       "count                 1562.000000                 1562.000000   \n",
       "mean                  1984.533611                  547.439440   \n",
       "std                    321.529009                   10.197533   \n",
       "min                   1610.743029                  533.765713   \n",
       "25%                   1670.126165                  538.404560   \n",
       "50%                   2123.205366                  543.767867   \n",
       "75%                   2244.339612                  550.374463   \n",
       "max                   2997.006359                  562.858548   \n",
       "\n",
       "       right_camera_intrinsic_x31  right_camera_intrinsic_x32  \\\n",
       "count                      1562.0                      1562.0   \n",
       "mean                          0.0                         0.0   \n",
       "std                           0.0                         0.0   \n",
       "min                           0.0                         0.0   \n",
       "25%                           0.0                         0.0   \n",
       "50%                           0.0                         0.0   \n",
       "75%                           0.0                         0.0   \n",
       "max                           0.0                         0.0   \n",
       "\n",
       "       right_camera_intrinsic_x33  \n",
       "count                      1562.0  \n",
       "mean                          1.0  \n",
       "std                           0.0  \n",
       "min                           1.0  \n",
       "25%                           1.0  \n",
       "50%                           1.0  \n",
       "75%                           1.0  \n",
       "max                           1.0  "
      ]
     },
     "execution_count": 45,
     "metadata": {},
     "output_type": "execute_result"
    }
   ],
   "source": [
    "right_intr.describe()"
   ]
  },
  {
   "cell_type": "code",
   "execution_count": null,
   "metadata": {},
   "outputs": [
    {
     "data": {
      "text/html": [
       "<div>\n",
       "<style scoped>\n",
       "    .dataframe tbody tr th:only-of-type {\n",
       "        vertical-align: middle;\n",
       "    }\n",
       "\n",
       "    .dataframe tbody tr th {\n",
       "        vertical-align: top;\n",
       "    }\n",
       "\n",
       "    .dataframe thead th {\n",
       "        text-align: right;\n",
       "    }\n",
       "</style>\n",
       "<table border=\"1\" class=\"dataframe\">\n",
       "  <thead>\n",
       "    <tr style=\"text-align: right;\">\n",
       "      <th></th>\n",
       "      <th>right_to_left_matrix_x11</th>\n",
       "      <th>right_to_left_matrix_x12</th>\n",
       "      <th>right_to_left_matrix_x13</th>\n",
       "      <th>right_to_left_matrix_x14</th>\n",
       "      <th>right_to_left_matrix_x21</th>\n",
       "      <th>right_to_left_matrix_x22</th>\n",
       "      <th>right_to_left_matrix_x23</th>\n",
       "      <th>right_to_left_matrix_x24</th>\n",
       "      <th>right_to_left_matrix_x31</th>\n",
       "      <th>right_to_left_matrix_x32</th>\n",
       "      <th>right_to_left_matrix_x33</th>\n",
       "      <th>right_to_left_matrix_x34</th>\n",
       "      <th>right_to_left_matrix_x41</th>\n",
       "      <th>right_to_left_matrix_x42</th>\n",
       "      <th>right_to_left_matrix_x43</th>\n",
       "      <th>right_to_left_matrix_x44</th>\n",
       "    </tr>\n",
       "  </thead>\n",
       "  <tbody>\n",
       "    <tr>\n",
       "      <th>count</th>\n",
       "      <td>1562.000000</td>\n",
       "      <td>1562.000000</td>\n",
       "      <td>1562.000000</td>\n",
       "      <td>1562.000000</td>\n",
       "      <td>1562.000000</td>\n",
       "      <td>1562.000000</td>\n",
       "      <td>1562.000000</td>\n",
       "      <td>1562.000000</td>\n",
       "      <td>1562.000000</td>\n",
       "      <td>1562.000000</td>\n",
       "      <td>1562.000000</td>\n",
       "      <td>1562.000000</td>\n",
       "      <td>1562.0</td>\n",
       "      <td>1562.0</td>\n",
       "      <td>1562.0</td>\n",
       "      <td>1562.0</td>\n",
       "    </tr>\n",
       "    <tr>\n",
       "      <th>mean</th>\n",
       "      <td>0.254124</td>\n",
       "      <td>-0.056011</td>\n",
       "      <td>0.700118</td>\n",
       "      <td>-1125.888917</td>\n",
       "      <td>0.026153</td>\n",
       "      <td>0.871843</td>\n",
       "      <td>0.051255</td>\n",
       "      <td>45.821586</td>\n",
       "      <td>-0.614856</td>\n",
       "      <td>-0.007351</td>\n",
       "      <td>0.181828</td>\n",
       "      <td>1697.558721</td>\n",
       "      <td>0.0</td>\n",
       "      <td>0.0</td>\n",
       "      <td>0.0</td>\n",
       "      <td>1.0</td>\n",
       "    </tr>\n",
       "    <tr>\n",
       "      <th>std</th>\n",
       "      <td>0.584176</td>\n",
       "      <td>0.022363</td>\n",
       "      <td>0.156070</td>\n",
       "      <td>214.196053</td>\n",
       "      <td>0.085092</td>\n",
       "      <td>0.198249</td>\n",
       "      <td>0.065261</td>\n",
       "      <td>74.055894</td>\n",
       "      <td>0.245050</td>\n",
       "      <td>0.113045</td>\n",
       "      <td>0.535346</td>\n",
       "      <td>712.467261</td>\n",
       "      <td>0.0</td>\n",
       "      <td>0.0</td>\n",
       "      <td>0.0</td>\n",
       "      <td>0.0</td>\n",
       "    </tr>\n",
       "    <tr>\n",
       "      <th>min</th>\n",
       "      <td>-0.765009</td>\n",
       "      <td>-0.113015</td>\n",
       "      <td>0.452161</td>\n",
       "      <td>-1745.801442</td>\n",
       "      <td>-0.037560</td>\n",
       "      <td>0.320167</td>\n",
       "      <td>-0.198552</td>\n",
       "      <td>-110.004330</td>\n",
       "      <td>-0.956979</td>\n",
       "      <td>-0.134901</td>\n",
       "      <td>-0.764159</td>\n",
       "      <td>129.563701</td>\n",
       "      <td>0.0</td>\n",
       "      <td>0.0</td>\n",
       "      <td>0.0</td>\n",
       "      <td>1.0</td>\n",
       "    </tr>\n",
       "    <tr>\n",
       "      <th>25%</th>\n",
       "      <td>-0.276995</td>\n",
       "      <td>-0.060036</td>\n",
       "      <td>0.577298</td>\n",
       "      <td>-1303.451410</td>\n",
       "      <td>-0.016703</td>\n",
       "      <td>0.775209</td>\n",
       "      <td>0.042529</td>\n",
       "      <td>-13.641169</td>\n",
       "      <td>-0.656671</td>\n",
       "      <td>-0.071244</td>\n",
       "      <td>-0.277875</td>\n",
       "      <td>920.971645</td>\n",
       "      <td>0.0</td>\n",
       "      <td>0.0</td>\n",
       "      <td>0.0</td>\n",
       "      <td>1.0</td>\n",
       "    </tr>\n",
       "    <tr>\n",
       "      <th>50%</th>\n",
       "      <td>0.655623</td>\n",
       "      <td>-0.053206</td>\n",
       "      <td>0.675583</td>\n",
       "      <td>-1033.889529</td>\n",
       "      <td>0.007743</td>\n",
       "      <td>0.973921</td>\n",
       "      <td>0.079987</td>\n",
       "      <td>47.325136</td>\n",
       "      <td>-0.598997</td>\n",
       "      <td>-0.045949</td>\n",
       "      <td>0.519120</td>\n",
       "      <td>1892.383133</td>\n",
       "      <td>0.0</td>\n",
       "      <td>0.0</td>\n",
       "      <td>0.0</td>\n",
       "      <td>1.0</td>\n",
       "    </tr>\n",
       "    <tr>\n",
       "      <th>75%</th>\n",
       "      <td>0.691409</td>\n",
       "      <td>-0.048206</td>\n",
       "      <td>0.771867</td>\n",
       "      <td>-961.990160</td>\n",
       "      <td>0.011454</td>\n",
       "      <td>0.997541</td>\n",
       "      <td>0.084486</td>\n",
       "      <td>67.623207</td>\n",
       "      <td>-0.395518</td>\n",
       "      <td>0.036745</td>\n",
       "      <td>0.634018</td>\n",
       "      <td>2080.701025</td>\n",
       "      <td>0.0</td>\n",
       "      <td>0.0</td>\n",
       "      <td>0.0</td>\n",
       "      <td>1.0</td>\n",
       "    </tr>\n",
       "    <tr>\n",
       "      <th>max</th>\n",
       "      <td>0.844444</td>\n",
       "      <td>-0.018432</td>\n",
       "      <td>0.955132</td>\n",
       "      <td>-878.168983</td>\n",
       "      <td>0.265354</td>\n",
       "      <td>0.998619</td>\n",
       "      <td>0.100723</td>\n",
       "      <td>209.860544</td>\n",
       "      <td>-0.082694</td>\n",
       "      <td>0.284573</td>\n",
       "      <td>0.648709</td>\n",
       "      <td>2936.297902</td>\n",
       "      <td>0.0</td>\n",
       "      <td>0.0</td>\n",
       "      <td>0.0</td>\n",
       "      <td>1.0</td>\n",
       "    </tr>\n",
       "  </tbody>\n",
       "</table>\n",
       "</div>"
      ],
      "text/plain": [
       "       right_to_left_matrix_x11  right_to_left_matrix_x12  \\\n",
       "count               1562.000000               1562.000000   \n",
       "mean                   0.254124                 -0.056011   \n",
       "std                    0.584176                  0.022363   \n",
       "min                   -0.765009                 -0.113015   \n",
       "25%                   -0.276995                 -0.060036   \n",
       "50%                    0.655623                 -0.053206   \n",
       "75%                    0.691409                 -0.048206   \n",
       "max                    0.844444                 -0.018432   \n",
       "\n",
       "       right_to_left_matrix_x13  right_to_left_matrix_x14  \\\n",
       "count               1562.000000               1562.000000   \n",
       "mean                   0.700118              -1125.888917   \n",
       "std                    0.156070                214.196053   \n",
       "min                    0.452161              -1745.801442   \n",
       "25%                    0.577298              -1303.451410   \n",
       "50%                    0.675583              -1033.889529   \n",
       "75%                    0.771867               -961.990160   \n",
       "max                    0.955132               -878.168983   \n",
       "\n",
       "       right_to_left_matrix_x21  right_to_left_matrix_x22  \\\n",
       "count               1562.000000               1562.000000   \n",
       "mean                   0.026153                  0.871843   \n",
       "std                    0.085092                  0.198249   \n",
       "min                   -0.037560                  0.320167   \n",
       "25%                   -0.016703                  0.775209   \n",
       "50%                    0.007743                  0.973921   \n",
       "75%                    0.011454                  0.997541   \n",
       "max                    0.265354                  0.998619   \n",
       "\n",
       "       right_to_left_matrix_x23  right_to_left_matrix_x24  \\\n",
       "count               1562.000000               1562.000000   \n",
       "mean                   0.051255                 45.821586   \n",
       "std                    0.065261                 74.055894   \n",
       "min                   -0.198552               -110.004330   \n",
       "25%                    0.042529                -13.641169   \n",
       "50%                    0.079987                 47.325136   \n",
       "75%                    0.084486                 67.623207   \n",
       "max                    0.100723                209.860544   \n",
       "\n",
       "       right_to_left_matrix_x31  right_to_left_matrix_x32  \\\n",
       "count               1562.000000               1562.000000   \n",
       "mean                  -0.614856                 -0.007351   \n",
       "std                    0.245050                  0.113045   \n",
       "min                   -0.956979                 -0.134901   \n",
       "25%                   -0.656671                 -0.071244   \n",
       "50%                   -0.598997                 -0.045949   \n",
       "75%                   -0.395518                  0.036745   \n",
       "max                   -0.082694                  0.284573   \n",
       "\n",
       "       right_to_left_matrix_x33  right_to_left_matrix_x34  \\\n",
       "count               1562.000000               1562.000000   \n",
       "mean                   0.181828               1697.558721   \n",
       "std                    0.535346                712.467261   \n",
       "min                   -0.764159                129.563701   \n",
       "25%                   -0.277875                920.971645   \n",
       "50%                    0.519120               1892.383133   \n",
       "75%                    0.634018               2080.701025   \n",
       "max                    0.648709               2936.297902   \n",
       "\n",
       "       right_to_left_matrix_x41  right_to_left_matrix_x42  \\\n",
       "count                    1562.0                    1562.0   \n",
       "mean                        0.0                       0.0   \n",
       "std                         0.0                       0.0   \n",
       "min                         0.0                       0.0   \n",
       "25%                         0.0                       0.0   \n",
       "50%                         0.0                       0.0   \n",
       "75%                         0.0                       0.0   \n",
       "max                         0.0                       0.0   \n",
       "\n",
       "       right_to_left_matrix_x43  right_to_left_matrix_x44  \n",
       "count                    1562.0                    1562.0  \n",
       "mean                        0.0                       1.0  \n",
       "std                         0.0                       0.0  \n",
       "min                         0.0                       1.0  \n",
       "25%                         0.0                       1.0  \n",
       "50%                         0.0                       1.0  \n",
       "75%                         0.0                       1.0  \n",
       "max                         0.0                       1.0  "
      ]
     },
     "execution_count": 47,
     "metadata": {},
     "output_type": "execute_result"
    }
   ],
   "source": [
    "trans_mat.describe()"
   ]
  },
  {
   "cell_type": "code",
   "execution_count": null,
   "metadata": {},
   "outputs": [],
   "source": [
    "columns_to_normalize = [\"left_shoulder_cam_left_z\",\n",
    "    \"left_elbow_cam_left_z\",\n",
    "    \"left_hip_cam_left_z\",\n",
    "    \"right_shoulder_cam_left_z\",\n",
    "    \"right_hip_cam_left_z\",\n",
    "    \"left_wrist_cam_left_z\",\n",
    "    \"left_thumb_cmc_cam_left_z\",\n",
    "    \"left_thumb_mcp_cam_left_z\",\n",
    "    \"left_thumb_ip_cam_left_z\",\n",
    "    \"left_thumb_tip_cam_left_z\",\n",
    "    \"left_index_finger_mcp_cam_left_z\",\n",
    "    \"left_index_finger_pip_cam_left_z\",\n",
    "    \"left_index_finger_dip_cam_left_z\",\n",
    "    \"left_index_finger_tip_cam_left_z\",\n",
    "    \"left_middle_finger_mcp_cam_left_z\",\n",
    "    \"left_middle_finger_pip_cam_left_z\",\n",
    "    \"left_middle_finger_dip_cam_left_z\",\n",
    "    \"left_middle_finger_tip_cam_left_z\",\n",
    "    \"left_ring_finger_mcp_cam_left_z\",\n",
    "    \"left_ring_finger_pip_cam_left_z\",\n",
    "    \"left_ring_finger_dip_cam_left_z\",\n",
    "    \"left_ring_finger_tip_cam_left_z\",\n",
    "    \"left_pinky_mcp_cam_left_z\",\n",
    "    \"left_pinky_pip_cam_left_z\",\n",
    "    \"left_pinky_dip_cam_left_z\",\n",
    "    \"left_pinky_tip_cam_left_z\",\n",
    "    \"right_elbow_cam_left_z\",\n",
    "    \"right_wrist_cam_left_z\",\n",
    "    \"right_thumb_cmc_cam_left_z\",\n",
    "    \"right_thumb_mcp_cam_left_z\",\n",
    "    \"right_thumb_ip_cam_left_z\",\n",
    "    \"right_thumb_tip_cam_left_z\",\n",
    "    \"right_index_finger_mcp_cam_left_z\",\n",
    "    \"right_index_finger_pip_cam_left_z\",\n",
    "    \"right_index_finger_dip_cam_left_z\",\n",
    "    \"right_index_finger_tip_cam_left_z\",\n",
    "    \"right_middle_finger_mcp_cam_left_z\",\n",
    "    \"right_middle_finger_pip_cam_left_z\",\n",
    "    \"right_middle_finger_dip_cam_left_z\",\n",
    "    \"right_middle_finger_tip_cam_left_z\",\n",
    "    \"right_ring_finger_mcp_cam_left_z\",\n",
    "    \"right_ring_finger_pip_cam_left_z\",\n",
    "    \"right_ring_finger_dip_cam_left_z\",\n",
    "    \"right_ring_finger_tip_cam_left_z\",\n",
    "    \"right_pinky_mcp_cam_left_z\",\n",
    "    \"right_pinky_pip_cam_left_z\",\n",
    "    \"right_pinky_dip_cam_left_z\",\n",
    "    \"right_pinky_tip_cam_left_z\",\n",
    "    \"left_camera_intrinsic_x11\",\n",
    "    \"left_camera_intrinsic_x12\",\n",
    "    \"left_camera_intrinsic_x13\",\n",
    "    \"left_camera_intrinsic_x21\",\n",
    "    \"left_camera_intrinsic_x22\",\n",
    "    \"left_camera_intrinsic_x23\",\n",
    "    \"left_camera_intrinsic_x31\",\n",
    "    \"left_camera_intrinsic_x32\",\n",
    "    \"left_camera_intrinsic_x33\",\n",
    "    \"left_shoulder_cam_right_z\",\n",
    "    \"left_elbow_cam_right_z\",\n",
    "    \"left_hip_cam_right_z\",\n",
    "    \"right_shoulder_cam_right_z\",\n",
    "    \"right_hip_cam_right_z\",\n",
    "    \"left_wrist_cam_right_z\",\n",
    "    \"left_thumb_cmc_cam_right_z\",\n",
    "    \"left_thumb_mcp_cam_right_z\",\n",
    "    \"left_thumb_ip_cam_right_z\",\n",
    "    \"left_thumb_tip_cam_right_z\",\n",
    "    \"left_index_finger_mcp_cam_right_z\",\n",
    "    \"left_index_finger_pip_cam_right_z\",\n",
    "    \"left_index_finger_dip_cam_right_z\",\n",
    "    \"left_index_finger_tip_cam_right_z\",\n",
    "    \"left_middle_finger_mcp_cam_right_z\",\n",
    "    \"left_middle_finger_pip_cam_right_z\",\n",
    "    \"left_middle_finger_dip_cam_right_z\",\n",
    "    \"left_middle_finger_tip_cam_right_z\",\n",
    "    \"left_ring_finger_mcp_cam_right_z\",\n",
    "    \"left_ring_finger_pip_cam_right_z\",\n",
    "    \"left_ring_finger_dip_cam_right_z\",\n",
    "    \"left_ring_finger_tip_cam_right_z\",\n",
    "    \"left_pinky_mcp_cam_right_z\",\n",
    "    \"left_pinky_pip_cam_right_z\",\n",
    "    \"left_pinky_dip_cam_right_z\",\n",
    "    \"left_pinky_tip_cam_right_z\",\n",
    "    \"right_elbow_cam_right_z\",\n",
    "    \"right_wrist_cam_right_z\",\n",
    "    \"right_thumb_cmc_cam_right_z\",\n",
    "    \"right_thumb_mcp_cam_right_z\",\n",
    "    \"right_thumb_ip_cam_right_z\",\n",
    "    \"right_thumb_tip_cam_right_z\",\n",
    "    \"right_index_finger_mcp_cam_right_z\",\n",
    "    \"right_index_finger_pip_cam_right_z\",\n",
    "    \"right_index_finger_dip_cam_right_z\",\n",
    "    \"right_index_finger_tip_cam_right_z\",\n",
    "    \"right_middle_finger_mcp_cam_right_z\",\n",
    "    \"right_middle_finger_pip_cam_right_z\",\n",
    "    \"right_middle_finger_dip_cam_right_z\",\n",
    "    \"right_middle_finger_tip_cam_right_z\",\n",
    "    \"right_ring_finger_mcp_cam_right_z\",\n",
    "    \"right_ring_finger_pip_cam_right_z\",\n",
    "    \"right_ring_finger_dip_cam_right_z\",\n",
    "    \"right_ring_finger_tip_cam_right_z\",\n",
    "    \"right_pinky_mcp_cam_right_z\",\n",
    "    \"right_pinky_pip_cam_right_z\",\n",
    "    \"right_pinky_dip_cam_right_z\",\n",
    "    \"right_pinky_tip_cam_right_z\",\n",
    "    \"right_camera_intrinsic_x11\",\n",
    "    \"right_camera_intrinsic_x12\",\n",
    "    \"right_camera_intrinsic_x13\",\n",
    "    \"right_camera_intrinsic_x21\",\n",
    "    \"right_camera_intrinsic_x22\",\n",
    "    \"right_camera_intrinsic_x23\",\n",
    "    \"right_camera_intrinsic_x31\",\n",
    "    \"right_camera_intrinsic_x32\",\n",
    "    \"right_camera_intrinsic_x33\",\n",
    "    \"right_to_left_matrix_x11\",\n",
    "    \"right_to_left_matrix_x12\",\n",
    "    \"right_to_left_matrix_x13\",\n",
    "    \"right_to_left_matrix_x14\",\n",
    "    \"right_to_left_matrix_x21\",\n",
    "    \"right_to_left_matrix_x22\",\n",
    "    \"right_to_left_matrix_x23\",\n",
    "    \"right_to_left_matrix_x24\",\n",
    "    \"right_to_left_matrix_x31\",\n",
    "    \"right_to_left_matrix_x32\",\n",
    "    \"right_to_left_matrix_x33\",\n",
    "    \"right_to_left_matrix_x34\",\n",
    "    \"right_to_left_matrix_x41\",\n",
    "    \"right_to_left_matrix_x42\",\n",
    "    \"right_to_left_matrix_x43\",\n",
    "    \"right_to_left_matrix_x44\"]"
   ]
  },
  {
   "cell_type": "code",
   "execution_count": null,
   "metadata": {},
   "outputs": [],
   "source": [
    "scaler = MinMaxScaler()\n",
    "\n",
    "df[columns_to_normalize] = scaler.fit_transform(df[columns_to_normalize])"
   ]
  },
  {
   "cell_type": "code",
   "execution_count": null,
   "metadata": {},
   "outputs": [
    {
     "data": {
      "text/plain": [
       "(1562, 2)"
      ]
     },
     "execution_count": 85,
     "metadata": {},
     "output_type": "execute_result"
    }
   ],
   "source": [
    "df.loc[:, \"left_shoulder_cam_left_x\":\"left_elbow_cam_left_x\"].values.shape"
   ]
  },
  {
   "cell_type": "code",
   "execution_count": null,
   "metadata": {},
   "outputs": [],
   "source": [
    "x = train_dataset._outputs[0]\n",
    "x = x.reshape(3, 48)[:, :26].T\n",
    "points, _ = convert_to_left_shoulder_coord(x, arm_hand_fused_names)\n",
    "lines = body_lines.copy()\n",
    "lines.extend(lefthand_lines)\n",
    "colors = [[1, 0, 0] for i in range(len(lines))]\n",
    "\n",
    "pcd = o3d.geometry.PointCloud()\n",
    "pcd.points = o3d.utility.Vector3dVector(points)\n",
    "line_set = o3d.geometry.LineSet(\n",
    "    points=o3d.utility.Vector3dVector(points),\n",
    "    lines=o3d.utility.Vector2iVector(lines)\n",
    ")\n",
    "line_set.colors = o3d.utility.Vector3dVector(colors)\n",
    "\n",
    "min_x, min_y, min_z = np.min(points, axis=0)\n",
    "max_x, max_y, max_z = np.max(points, axis=0)\n",
    "vertices = [\n",
    "    [min_x, min_y, min_z], [min_x, min_y, max_z], [min_x, max_y, min_z], [min_x, max_y, max_z],\n",
    "    [max_x, min_y, min_z], [max_x, min_y, max_z], [max_x, max_y, min_z], [max_x, max_y, max_z]\n",
    "]\n",
    "vertices = np.array(vertices) \n",
    "edges = [\n",
    "    [0, 1], [1, 3], [3, 2], [2, 0],  \n",
    "    [4, 5], [5, 7], [7, 6], [6, 4],  \n",
    "    [0, 4], [1, 5], [2, 6], [3, 7]   \n",
    "]\n",
    "bounding_box = o3d.geometry.LineSet(\n",
    "    points=o3d.utility.Vector3dVector(vertices),\n",
    "    lines=o3d.utility.Vector2iVector(edges)\n",
    ")\n",
    "bbox_colors = [[0, 1, 0] for _ in range(len(edges))]  \n",
    "bounding_box.colors = o3d.utility.Vector3dVector(bbox_colors)\n",
    "\n",
    "o3d.visualization.draw_geometries([pcd, line_set, bounding_box])"
   ]
  },
  {
   "cell_type": "code",
   "execution_count": null,
   "metadata": {},
   "outputs": [],
   "source": []
  }
 ],
 "metadata": {
  "kernelspec": {
   "display_name": "mmpose",
   "language": "python",
   "name": "mmpose"
  }
 },
 "nbformat": 4,
 "nbformat_minor": 2
}
