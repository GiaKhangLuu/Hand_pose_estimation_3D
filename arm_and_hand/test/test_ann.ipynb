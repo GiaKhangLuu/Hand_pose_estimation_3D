{
 "cells": [
  {
   "cell_type": "code",
   "execution_count": 1,
   "metadata": {},
   "outputs": [
    {
     "name": "stdout",
     "output_type": "stream",
     "text": [
      "Jupyter environment detected. Enabling Open3D WebVisualizer.\n",
      "[Open3D INFO] WebRTC GUI backend enabled.\n",
      "[Open3D INFO] WebRTCWindowSystem: HTTP handshake server disabled.\n"
     ]
    }
   ],
   "source": [
    "import os\n",
    "import sys\n",
    "import glob\n",
    "\n",
    "sys.path.append(\"/home/giakhang/dev/pose_sandbox/Hand_pose_estimation_3D/arm_and_hand\")\n",
    "sys.path.append(\"/home/giakhang/dev/pose_sandbox/Hand_pose_estimation_3D\")\n",
    "\n",
    "from dataloader_ann import HandArmLandmarksDataset_ANN\n",
    "\n",
    "import numpy as np\n",
    "import torch\n",
    "import torch.nn as nn\n",
    "import torch.optim as optim\n",
    "from torch.utils.data import DataLoader\n",
    "import matplotlib.pyplot as plt\n",
    "import os\n",
    "from datetime import datetime\n",
    "\n",
    "from utilities import fuse_landmarks_from_two_cameras\n",
    "from functools import partial\n",
    "from ann import ANN\n",
    "\n",
    "import open3d as o3d\n",
    "from utilities import convert_to_shoulder_coord\n",
    "import time\n",
    "\n",
    "import joblib\n",
    "\n",
    "from csv_writer import columns_to_normalize, fusion_csv_columns_name"
   ]
  },
  {
   "cell_type": "code",
   "execution_count": 18,
   "metadata": {},
   "outputs": [
    {
     "name": "stderr",
     "output_type": "stream",
     "text": [
      "/home/giakhang/.local/lib/python3.8/site-packages/sklearn/base.py:348: InconsistentVersionWarning: Trying to unpickle estimator MinMaxScaler from version 1.5.1 when using version 1.3.2. This might lead to breaking code or invalid results. Use at your own risk. For more info please refer to:\n",
      "https://scikit-learn.org/stable/model_persistence.html#security-maintainability-limitations\n",
      "  warnings.warn(\n"
     ]
    }
   ],
   "source": [
    "DATA_DIR = \"/home/giakhang/dev/pose_sandbox/data\"  \n",
    "SELECTED_DATE = \"*\"\n",
    "train_paths = glob.glob(os.path.join(DATA_DIR, \"{}/{}/fine_landmarks_{}_*.csv\".format(SELECTED_DATE, SELECTED_DATE, \"train\")))\n",
    "val_paths = glob.glob(os.path.join(DATA_DIR, \"{}/{}/fine_landmarks_{}_*.csv\".format(SELECTED_DATE, SELECTED_DATE, \"val\")))\n",
    "test_paths = glob.glob(os.path.join(DATA_DIR, \"{}/{}/fine_landmarks_{}_*.csv\".format(SELECTED_DATE, SELECTED_DATE, \"test\")))\n",
    "body_lines = [[0,2], [0, 3], [2, 4], [3, 4]]\n",
    "lefthand_lines = [[0, 1], [1, 5], [5, 6], [5, 10], [5, 22], [10, 14], [14, 18], [18, 22], \n",
    "    [6, 7], [7, 8], [8, 9], \n",
    "    [10, 11], [11, 12], [12, 13], \n",
    "    [14, 15], [15, 16], [16, 17], \n",
    "    [18, 19], [19, 20], [20, 21], \n",
    "    [22, 23], [23, 24], [24, 25]]\n",
    "train_body_distance_thres = 550\n",
    "train_leftarm_distance_thres = 550\n",
    "train_lefthand_distance_thres = 200\n",
    "val_body_distance_thres=450,\n",
    "val_leftarm_distance_thres=450,\n",
    "val_lefthand_distance_thres=150,\n",
    "\n",
    "minmax_scaler = joblib.load(\"/home/giakhang/dev/pose_sandbox/Hand_pose_estimation_3D/arm_and_hand/runs/ann/20240905/20240905-1147/input_scaler.pkl\")\n",
    "\n",
    "train_dataset = HandArmLandmarksDataset_ANN(train_paths, \n",
    "    body_lines, \n",
    "    lefthand_lines, \n",
    "    train_body_distance_thres, \n",
    "    train_leftarm_distance_thres, \n",
    "    train_lefthand_distance_thres,\n",
    "    filter_outlier=True,\n",
    "    only_keep_frames_contain_lefthand=True,\n",
    "    scaler=minmax_scaler,\n",
    "    columns_to_scale=columns_to_normalize)\n",
    "val_dataset = HandArmLandmarksDataset_ANN(val_paths,\n",
    "    body_lines,\n",
    "    lefthand_lines,\n",
    "    val_body_distance_thres,\n",
    "    val_leftarm_distance_thres,\n",
    "    val_lefthand_distance_thres,\n",
    "    filter_outlier=True,\n",
    "    only_keep_frames_contain_lefthand=True,\n",
    "    scaler=minmax_scaler,\n",
    "    columns_to_scale=columns_to_normalize)\n",
    "test_dataset = HandArmLandmarksDataset_ANN(test_paths,\n",
    "    body_lines,\n",
    "    lefthand_lines,\n",
    "    val_body_distance_thres,\n",
    "    val_leftarm_distance_thres,\n",
    "    val_lefthand_distance_thres,\n",
    "    filter_outlier=True,\n",
    "    only_keep_frames_contain_lefthand=True,\n",
    "    scaler=minmax_scaler,\n",
    "    columns_to_scale=columns_to_normalize)"
   ]
  },
  {
   "cell_type": "code",
   "execution_count": 3,
   "metadata": {},
   "outputs": [
    {
     "data": {
      "text/plain": [
       "(3775, 322)"
      ]
     },
     "execution_count": 3,
     "metadata": {},
     "output_type": "execute_result"
    }
   ],
   "source": [
    "input_data = train_dataset._inputs\n",
    "input_data.shape"
   ]
  },
  {
   "cell_type": "code",
   "execution_count": 4,
   "metadata": {},
   "outputs": [
    {
     "data": {
      "text/plain": [
       "(3775, 144)"
      ]
     },
     "execution_count": 4,
     "metadata": {},
     "output_type": "execute_result"
    }
   ],
   "source": [
    "ground_truth_data = train_dataset._outputs\n",
    "ground_truth_data.shape"
   ]
  },
  {
   "cell_type": "code",
   "execution_count": 5,
   "metadata": {},
   "outputs": [
    {
     "data": {
      "text/plain": [
       "ANN(\n",
       "  (network): Sequential(\n",
       "    (0): Linear(in_features=322, out_features=256, bias=True)\n",
       "    (1): BatchNorm1d(256, eps=1e-05, momentum=0.1, affine=False, track_running_stats=True)\n",
       "    (2): SiLU()\n",
       "    (3): Linear(in_features=256, out_features=256, bias=True)\n",
       "    (4): BatchNorm1d(256, eps=1e-05, momentum=0.1, affine=False, track_running_stats=True)\n",
       "    (5): SiLU()\n",
       "    (6): Dropout(p=0.1, inplace=False)\n",
       "    (7): Linear(in_features=256, out_features=256, bias=True)\n",
       "    (8): BatchNorm1d(256, eps=1e-05, momentum=0.1, affine=False, track_running_stats=True)\n",
       "    (9): SiLU()\n",
       "    (10): Dropout(p=0.1, inplace=False)\n",
       "    (11): Linear(in_features=256, out_features=256, bias=True)\n",
       "    (12): BatchNorm1d(256, eps=1e-05, momentum=0.1, affine=False, track_running_stats=True)\n",
       "    (13): SiLU()\n",
       "    (14): Dropout(p=0.1, inplace=False)\n",
       "    (15): Linear(in_features=256, out_features=256, bias=True)\n",
       "    (16): BatchNorm1d(256, eps=1e-05, momentum=0.1, affine=False, track_running_stats=True)\n",
       "    (17): SiLU()\n",
       "    (18): Dropout(p=0.1, inplace=False)\n",
       "    (19): Linear(in_features=256, out_features=144, bias=True)\n",
       "    (20): BatchNorm1d(144, eps=1e-05, momentum=0.1, affine=False, track_running_stats=True)\n",
       "    (21): SiLU()\n",
       "    (22): Dropout(p=0.1, inplace=False)\n",
       "    (23): Linear(in_features=144, out_features=144, bias=True)\n",
       "  )\n",
       ")"
      ]
     },
     "execution_count": 5,
     "metadata": {},
     "output_type": "execute_result"
    }
   ],
   "source": [
    "input_dim = 322\n",
    "output_dim = 144\n",
    "hidden_dim = 256\n",
    "num_hidden_layers = 4\n",
    "dropout_rate = 0.1\n",
    "model_weight_path = \"/home/giakhang/dev/pose_sandbox/Hand_pose_estimation_3D/arm_and_hand/runs/ann/20240905/20240905-1147/ann_best.pth\"\n",
    "\n",
    "ann_model = ANN(input_dim=input_dim,\n",
    "    output_dim=output_dim,\n",
    "    hidden_dim=hidden_dim,\n",
    "    num_hidden_layers=num_hidden_layers,\n",
    "    dropout_rate=dropout_rate\n",
    ")\n",
    "\n",
    "ann_model.load_state_dict(torch.load(model_weight_path))\n",
    "ann_model.to(\"cuda\")\n",
    "ann_model.eval()"
   ]
  },
  {
   "cell_type": "code",
   "execution_count": 6,
   "metadata": {},
   "outputs": [],
   "source": [
    "input_row = torch.Tensor(input_data)\n",
    "input_row = input_row.to(\"cuda\")"
   ]
  },
  {
   "cell_type": "code",
   "execution_count": 7,
   "metadata": {},
   "outputs": [],
   "source": [
    "output_row = ann_model(input_row)"
   ]
  },
  {
   "cell_type": "code",
   "execution_count": 8,
   "metadata": {},
   "outputs": [],
   "source": [
    "output_row = output_row.detach().to(\"cpu\").numpy()"
   ]
  },
  {
   "cell_type": "code",
   "execution_count": 9,
   "metadata": {},
   "outputs": [
    {
     "name": "stdout",
     "output_type": "stream",
     "text": [
      "Mean abs. error:  218.59140930558607\n"
     ]
    }
   ],
   "source": [
    "mae = np.average(np.abs(ground_truth_data - output_row))\n",
    "print(\"Mean abs. error: \", mae)"
   ]
  },
  {
   "cell_type": "code",
   "execution_count": 10,
   "metadata": {},
   "outputs": [],
   "source": [
    "arm_hand_fused_names = [\"left shoulder\", \"left elbow\", \"left hip\", \"right shoulder\", \"right hip\", \n",
    " \"WRIST\", \"THUMB_CMC\", \"THUMB_MCP\", \"THUMB_IP\", \"THUMB_TIP\", \"INDEX_FINGER_MCP\", \n",
    " \"INDEX_FINGER_PIP\", \"INDEX_FINGER_DIP\", \"INDEX_FINGER_TIP\", \"MIDDLE_FINGER_MCP\", \n",
    " \"MIDDLE_FINGER_PIP\", \"MIDDLE_FINGER_DIP\", \"MIDDLE_FINGER_TIP\", \"RING_FINGER_MCP\", \n",
    " \"RING_FINGER_PIP\", \"RING_FINGER_DIP\", \"RING_FINGER_TIP\", \"PINKY_MCP\", \"PINKY_PIP\", \n",
    " \"PINKY_DIP\", \"PINKY_TIP\", \"right elbow\"]"
   ]
  },
  {
   "cell_type": "code",
   "execution_count": 11,
   "metadata": {},
   "outputs": [],
   "source": [
    "target_output = ground_truth_data  # shape: (N, 144)\n",
    "time_sleep = .1\n",
    "x = np.array([[500, 0, 0],\n",
    "    [0, 0, 0]])\n",
    "pcd = o3d.geometry.PointCloud()\n",
    "pcd.points = o3d.utility.Vector3dVector(x)\n",
    "lines = [[0, 0]]\n",
    "colors = [[1, 0, 0] for i in range(len(lines))]\n",
    "line_set = o3d.geometry.LineSet(\n",
    "    points=o3d.utility.Vector3dVector(x),\n",
    "    lines=o3d.utility.Vector2iVector(lines)\n",
    ")\n",
    "line_set.colors = o3d.utility.Vector3dVector(colors)\n",
    "\n",
    "bounding_box = o3d.geometry.LineSet(\n",
    "    points=o3d.utility.Vector3dVector(np.array([[500,0 ,0], [0, 0, 0]])),\n",
    "    lines=o3d.utility.Vector2iVector([[0, 0]])\n",
    ")\n",
    "    \n",
    "vis = o3d.visualization.Visualizer()\n",
    "vis.create_window()\n",
    "vis.add_geometry(pcd)\n",
    "vis.add_geometry(line_set)\n",
    "vis.add_geometry(bounding_box)\n",
    "\n",
    "for i in range(target_output.shape[0]):\n",
    "    output = target_output[i, ...]  # shape: (144)\n",
    "    output = output.reshape(3, 48)  # shape: (3, 48)\n",
    "    output = output.T  # shape: (48, 3)\n",
    "    output = output[:26, ...]  # shape: (26, 3)\n",
    "\n",
    "    lines = body_lines.copy()\n",
    "    lines.extend(lefthand_lines)\n",
    "\n",
    "    points, _ = convert_to_shoulder_coord(output,\n",
    "        arm_hand_fused_names)\n",
    "\n",
    "    pcd.points = o3d.utility.Vector3dVector(points)\n",
    "    colors = [[1, 0, 0] for i in range(len(lines))]\n",
    "    line_set.points = o3d.utility.Vector3dVector(points)  \n",
    "    line_set.lines = o3d.utility.Vector2iVector(lines) \n",
    "    line_set.colors = o3d.utility.Vector3dVector(colors)\n",
    "\n",
    "    # Draw cuboid\n",
    "    min_x, min_y, min_z = np.min(points, axis=0)\n",
    "    max_x, max_y, max_z = np.max(points, axis=0)\n",
    "    vertices = [\n",
    "        [min_x, min_y, min_z], [min_x, min_y, max_z], [min_x, max_y, min_z], [min_x, max_y, max_z],\n",
    "        [max_x, min_y, min_z], [max_x, min_y, max_z], [max_x, max_y, min_z], [max_x, max_y, max_z]\n",
    "    ]\n",
    "    vertices = np.array(vertices) \n",
    "    edges = [\n",
    "        [0, 1], [1, 3], [3, 2], [2, 0],  \n",
    "        [4, 5], [5, 7], [7, 6], [6, 4],  \n",
    "        [0, 4], [1, 5], [2, 6], [3, 7]   \n",
    "    ]\n",
    "    bounding_box.points = o3d.utility.Vector3dVector(vertices)\n",
    "    bounding_box.lines = o3d.utility.Vector2iVector(edges)\n",
    "    bbox_colors = [[0, 1, 0] for _ in range(len(edges))]  \n",
    "    bounding_box.colors = o3d.utility.Vector3dVector(bbox_colors)\n",
    "\n",
    "    vis.update_geometry(pcd)\n",
    "    vis.update_geometry(line_set)\n",
    "    vis.update_geometry(bounding_box)\n",
    "    vis.poll_events()\n",
    "    vis.update_renderer()\n",
    "        \n",
    "    time.sleep(time_sleep)\n",
    "\n",
    "vis.destroy_window()"
   ]
  },
  {
   "cell_type": "code",
   "execution_count": 12,
   "metadata": {},
   "outputs": [],
   "source": [
    "target_output = output_row  # shape: (N, 144)\n",
    "time_sleep = .01\n",
    "x = np.array([[500, 0, 0],\n",
    "    [0, 0, 0]])\n",
    "pcd = o3d.geometry.PointCloud()\n",
    "pcd.points = o3d.utility.Vector3dVector(x)\n",
    "lines = [[0, 0]]\n",
    "colors = [[1, 0, 0] for i in range(len(lines))]\n",
    "line_set = o3d.geometry.LineSet(\n",
    "    points=o3d.utility.Vector3dVector(x),\n",
    "    lines=o3d.utility.Vector2iVector(lines)\n",
    ")\n",
    "line_set.colors = o3d.utility.Vector3dVector(colors)\n",
    "\n",
    "bounding_box = o3d.geometry.LineSet(\n",
    "    points=o3d.utility.Vector3dVector(np.array([[500,0 ,0], [0, 0, 0]])),\n",
    "    lines=o3d.utility.Vector2iVector([[0, 0]])\n",
    ")\n",
    "    \n",
    "vis = o3d.visualization.Visualizer()\n",
    "vis.create_window()\n",
    "vis.add_geometry(pcd)\n",
    "vis.add_geometry(line_set)\n",
    "vis.add_geometry(bounding_box)\n",
    "\n",
    "for i in range(target_output.shape[0]):\n",
    "    output = target_output[i, ...]  # shape: (144)\n",
    "    output = output.reshape(3, 48)  # shape: (3, 48)\n",
    "    output = output.T  # shape: (48, 3)\n",
    "    output = output[:26, ...]  # shape: (26, 3)\n",
    "\n",
    "    lines = body_lines.copy()\n",
    "    lines.extend(lefthand_lines)\n",
    "\n",
    "    points, _ = convert_to_shoulder_coord(output,\n",
    "        arm_hand_fused_names)\n",
    "\n",
    "    pcd.points = o3d.utility.Vector3dVector(points)\n",
    "    colors = [[1, 0, 0] for i in range(len(lines))]\n",
    "    line_set.points = o3d.utility.Vector3dVector(points)  \n",
    "    line_set.lines = o3d.utility.Vector2iVector(lines) \n",
    "    line_set.colors = o3d.utility.Vector3dVector(colors)\n",
    "\n",
    "    # Draw cuboid\n",
    "    min_x, min_y, min_z = np.min(points, axis=0)\n",
    "    max_x, max_y, max_z = np.max(points, axis=0)\n",
    "    vertices = [\n",
    "        [min_x, min_y, min_z], [min_x, min_y, max_z], [min_x, max_y, min_z], [min_x, max_y, max_z],\n",
    "        [max_x, min_y, min_z], [max_x, min_y, max_z], [max_x, max_y, min_z], [max_x, max_y, max_z]\n",
    "    ]\n",
    "    vertices = np.array(vertices) \n",
    "    edges = [\n",
    "        [0, 1], [1, 3], [3, 2], [2, 0],  \n",
    "        [4, 5], [5, 7], [7, 6], [6, 4],  \n",
    "        [0, 4], [1, 5], [2, 6], [3, 7]   \n",
    "    ]\n",
    "    bounding_box.points = o3d.utility.Vector3dVector(vertices)\n",
    "    bounding_box.lines = o3d.utility.Vector2iVector(edges)\n",
    "    bbox_colors = [[0, 1, 0] for _ in range(len(edges))]  \n",
    "    bounding_box.colors = o3d.utility.Vector3dVector(bbox_colors)\n",
    "\n",
    "    vis.update_geometry(pcd)\n",
    "    vis.update_geometry(line_set)\n",
    "    vis.update_geometry(bounding_box)\n",
    "    vis.poll_events()\n",
    "    vis.update_renderer()\n",
    "        \n",
    "    time.sleep(time_sleep)\n",
    "\n",
    "vis.destroy_window()"
   ]
  },
  {
   "cell_type": "code",
   "execution_count": 13,
   "metadata": {},
   "outputs": [
    {
     "data": {
      "text/plain": [
       "(646, 322)"
      ]
     },
     "execution_count": 13,
     "metadata": {},
     "output_type": "execute_result"
    }
   ],
   "source": [
    "val_input = val_dataset._inputs\n",
    "val_input.shape"
   ]
  },
  {
   "cell_type": "code",
   "execution_count": 14,
   "metadata": {},
   "outputs": [
    {
     "data": {
      "text/plain": [
       "(646, 144)"
      ]
     },
     "execution_count": 14,
     "metadata": {},
     "output_type": "execute_result"
    }
   ],
   "source": [
    "val_gt = val_dataset._outputs\n",
    "val_gt.shape"
   ]
  },
  {
   "cell_type": "code",
   "execution_count": 15,
   "metadata": {},
   "outputs": [],
   "source": [
    "val_input = torch.Tensor(val_input)\n",
    "val_input = val_input.to(\"cuda\")\n",
    "val_preds = ann_model(val_input)\n",
    "val_preds = val_preds.detach().to(\"cpu\").numpy()"
   ]
  },
  {
   "cell_type": "code",
   "execution_count": 16,
   "metadata": {},
   "outputs": [
    {
     "name": "stdout",
     "output_type": "stream",
     "text": [
      "Mean abs. error:  152.7732492221831\n"
     ]
    }
   ],
   "source": [
    "val_mae = np.average(np.abs(val_gt - val_preds))\n",
    "print(\"Mean abs. error: \", val_mae)"
   ]
  },
  {
   "cell_type": "code",
   "execution_count": 12,
   "metadata": {},
   "outputs": [],
   "source": [
    "target_output = val_gt # shape: (N, 144)\n",
    "time_sleep = .1\n",
    "x = np.array([[500, 0, 0],\n",
    "    [0, 0, 0]])\n",
    "pcd = o3d.geometry.PointCloud()\n",
    "pcd.points = o3d.utility.Vector3dVector(x)\n",
    "lines = [[0, 0]]\n",
    "colors = [[1, 0, 0] for i in range(len(lines))]\n",
    "line_set = o3d.geometry.LineSet(\n",
    "    points=o3d.utility.Vector3dVector(x),\n",
    "    lines=o3d.utility.Vector2iVector(lines)\n",
    ")\n",
    "line_set.colors = o3d.utility.Vector3dVector(colors)\n",
    "\n",
    "bounding_box = o3d.geometry.LineSet(\n",
    "    points=o3d.utility.Vector3dVector(np.array([[500,0 ,0], [0, 0, 0]])),\n",
    "    lines=o3d.utility.Vector2iVector([[0, 0]])\n",
    ")\n",
    "    \n",
    "vis = o3d.visualization.Visualizer()\n",
    "vis.create_window()\n",
    "vis.add_geometry(pcd)\n",
    "vis.add_geometry(line_set)\n",
    "vis.add_geometry(bounding_box)\n",
    "\n",
    "for i in range(target_output.shape[0]):\n",
    "    output = target_output[i, ...]  # shape: (144)\n",
    "    output = output.reshape(3, 48)  # shape: (3, 48)\n",
    "    output = output.T  # shape: (48, 3)\n",
    "    output = output[:26, ...]  # shape: (26, 3)\n",
    "\n",
    "    lines = body_lines.copy()\n",
    "    lines.extend(lefthand_lines)\n",
    "\n",
    "    points, _ = convert_to_shoulder_coord(output,\n",
    "        arm_hand_fused_names)\n",
    "\n",
    "    pcd.points = o3d.utility.Vector3dVector(points)\n",
    "    colors = [[1, 0, 0] for i in range(len(lines))]\n",
    "    line_set.points = o3d.utility.Vector3dVector(points)  \n",
    "    line_set.lines = o3d.utility.Vector2iVector(lines) \n",
    "    line_set.colors = o3d.utility.Vector3dVector(colors)\n",
    "\n",
    "    # Draw cuboid\n",
    "    min_x, min_y, min_z = np.min(points, axis=0)\n",
    "    max_x, max_y, max_z = np.max(points, axis=0)\n",
    "    vertices = [\n",
    "        [min_x, min_y, min_z], [min_x, min_y, max_z], [min_x, max_y, min_z], [min_x, max_y, max_z],\n",
    "        [max_x, min_y, min_z], [max_x, min_y, max_z], [max_x, max_y, min_z], [max_x, max_y, max_z]\n",
    "    ]\n",
    "    vertices = np.array(vertices) \n",
    "    edges = [\n",
    "        [0, 1], [1, 3], [3, 2], [2, 0],  \n",
    "        [4, 5], [5, 7], [7, 6], [6, 4],  \n",
    "        [0, 4], [1, 5], [2, 6], [3, 7]   \n",
    "    ]\n",
    "    bounding_box.points = o3d.utility.Vector3dVector(vertices)\n",
    "    bounding_box.lines = o3d.utility.Vector2iVector(edges)\n",
    "    bbox_colors = [[0, 1, 0] for _ in range(len(edges))]  \n",
    "    bounding_box.colors = o3d.utility.Vector3dVector(bbox_colors)\n",
    "\n",
    "    vis.update_geometry(pcd)\n",
    "    vis.update_geometry(line_set)\n",
    "    vis.update_geometry(bounding_box)\n",
    "    vis.poll_events()\n",
    "    vis.update_renderer()\n",
    "        \n",
    "    time.sleep(time_sleep)\n",
    "\n",
    "vis.destroy_window()"
   ]
  },
  {
   "cell_type": "code",
   "execution_count": 17,
   "metadata": {},
   "outputs": [],
   "source": [
    "target_output = val_preds # shape: (N, 144)\n",
    "time_sleep = .1\n",
    "x = np.array([[500, 0, 0],\n",
    "    [0, 0, 0]])\n",
    "pcd = o3d.geometry.PointCloud()\n",
    "pcd.points = o3d.utility.Vector3dVector(x)\n",
    "lines = [[0, 0]]\n",
    "colors = [[1, 0, 0] for i in range(len(lines))]\n",
    "line_set = o3d.geometry.LineSet(\n",
    "    points=o3d.utility.Vector3dVector(x),\n",
    "    lines=o3d.utility.Vector2iVector(lines)\n",
    ")\n",
    "line_set.colors = o3d.utility.Vector3dVector(colors)\n",
    "\n",
    "bounding_box = o3d.geometry.LineSet(\n",
    "    points=o3d.utility.Vector3dVector(np.array([[500,0 ,0], [0, 0, 0]])),\n",
    "    lines=o3d.utility.Vector2iVector([[0, 0]])\n",
    ")\n",
    "    \n",
    "vis = o3d.visualization.Visualizer()\n",
    "vis.create_window()\n",
    "vis.add_geometry(pcd)\n",
    "vis.add_geometry(line_set)\n",
    "vis.add_geometry(bounding_box)\n",
    "\n",
    "for i in range(target_output.shape[0]):\n",
    "    output = target_output[i, ...]  # shape: (144)\n",
    "    output = output.reshape(3, 48)  # shape: (3, 48)\n",
    "    output = output.T  # shape: (48, 3)\n",
    "    output = output[:26, ...]  # shape: (26, 3)\n",
    "\n",
    "    lines = body_lines.copy()\n",
    "    lines.extend(lefthand_lines)\n",
    "\n",
    "    points, _ = convert_to_shoulder_coord(output,\n",
    "        arm_hand_fused_names)\n",
    "\n",
    "    pcd.points = o3d.utility.Vector3dVector(points)\n",
    "    colors = [[1, 0, 0] for i in range(len(lines))]\n",
    "    line_set.points = o3d.utility.Vector3dVector(points)  \n",
    "    line_set.lines = o3d.utility.Vector2iVector(lines) \n",
    "    line_set.colors = o3d.utility.Vector3dVector(colors)\n",
    "\n",
    "    # Draw cuboid\n",
    "    min_x, min_y, min_z = np.min(points, axis=0)\n",
    "    max_x, max_y, max_z = np.max(points, axis=0)\n",
    "    vertices = [\n",
    "        [min_x, min_y, min_z], [min_x, min_y, max_z], [min_x, max_y, min_z], [min_x, max_y, max_z],\n",
    "        [max_x, min_y, min_z], [max_x, min_y, max_z], [max_x, max_y, min_z], [max_x, max_y, max_z]\n",
    "    ]\n",
    "    vertices = np.array(vertices) \n",
    "    edges = [\n",
    "        [0, 1], [1, 3], [3, 2], [2, 0],  \n",
    "        [4, 5], [5, 7], [7, 6], [6, 4],  \n",
    "        [0, 4], [1, 5], [2, 6], [3, 7]   \n",
    "    ]\n",
    "    bounding_box.points = o3d.utility.Vector3dVector(vertices)\n",
    "    bounding_box.lines = o3d.utility.Vector2iVector(edges)\n",
    "    bbox_colors = [[0, 1, 0] for _ in range(len(edges))]  \n",
    "    bounding_box.colors = o3d.utility.Vector3dVector(bbox_colors)\n",
    "\n",
    "    vis.update_geometry(pcd)\n",
    "    vis.update_geometry(line_set)\n",
    "    vis.update_geometry(bounding_box)\n",
    "    vis.poll_events()\n",
    "    vis.update_renderer()\n",
    "        \n",
    "    time.sleep(time_sleep)\n",
    "\n",
    "vis.destroy_window()"
   ]
  },
  {
   "cell_type": "code",
   "execution_count": 26,
   "metadata": {},
   "outputs": [
    {
     "data": {
      "text/plain": [
       "(329, 322)"
      ]
     },
     "execution_count": 26,
     "metadata": {},
     "output_type": "execute_result"
    }
   ],
   "source": [
    "test_input = test_dataset._inputs\n",
    "test_input.shape"
   ]
  },
  {
   "cell_type": "code",
   "execution_count": 27,
   "metadata": {},
   "outputs": [
    {
     "data": {
      "text/plain": [
       "(329, 144)"
      ]
     },
     "execution_count": 27,
     "metadata": {},
     "output_type": "execute_result"
    }
   ],
   "source": [
    "test_gt = test_dataset._outputs\n",
    "test_gt.shape"
   ]
  },
  {
   "cell_type": "code",
   "execution_count": 28,
   "metadata": {},
   "outputs": [],
   "source": [
    "test_input = torch.Tensor(test_input)\n",
    "test_input = test_input.to(\"cuda\")\n",
    "test_preds = ann_model(test_input)\n",
    "test_preds = test_preds.detach().to(\"cpu\").numpy()"
   ]
  },
  {
   "cell_type": "code",
   "execution_count": 29,
   "metadata": {},
   "outputs": [
    {
     "name": "stdout",
     "output_type": "stream",
     "text": [
      "Mean abs. error:  160.85867758862727\n"
     ]
    }
   ],
   "source": [
    "test_mae = np.average(np.abs(test_gt - test_preds))\n",
    "print(\"Mean abs. error: \", test_mae)"
   ]
  },
  {
   "cell_type": "code",
   "execution_count": 30,
   "metadata": {},
   "outputs": [],
   "source": [
    "target_output = test_preds # shape: (N, 144)\n",
    "time_sleep = .1\n",
    "x = np.array([[500, 0, 0],\n",
    "    [0, 0, 0]])\n",
    "pcd = o3d.geometry.PointCloud()\n",
    "pcd.points = o3d.utility.Vector3dVector(x)\n",
    "lines = [[0, 0]]\n",
    "colors = [[1, 0, 0] for i in range(len(lines))]\n",
    "line_set = o3d.geometry.LineSet(\n",
    "    points=o3d.utility.Vector3dVector(x),\n",
    "    lines=o3d.utility.Vector2iVector(lines)\n",
    ")\n",
    "line_set.colors = o3d.utility.Vector3dVector(colors)\n",
    "\n",
    "bounding_box = o3d.geometry.LineSet(\n",
    "    points=o3d.utility.Vector3dVector(np.array([[500,0 ,0], [0, 0, 0]])),\n",
    "    lines=o3d.utility.Vector2iVector([[0, 0]])\n",
    ")\n",
    "    \n",
    "vis = o3d.visualization.Visualizer()\n",
    "vis.create_window()\n",
    "vis.add_geometry(pcd)\n",
    "vis.add_geometry(line_set)\n",
    "vis.add_geometry(bounding_box)\n",
    "\n",
    "for i in range(target_output.shape[0]):\n",
    "    output = target_output[i, ...]  # shape: (144)\n",
    "    output = output.reshape(3, 48)  # shape: (3, 48)\n",
    "    output = output.T  # shape: (48, 3)\n",
    "    output = output[:26, ...]  # shape: (26, 3)\n",
    "\n",
    "    lines = body_lines.copy()\n",
    "    lines.extend(lefthand_lines)\n",
    "\n",
    "    points, _ = convert_to_shoulder_coord(output,\n",
    "        arm_hand_fused_names)\n",
    "\n",
    "    pcd.points = o3d.utility.Vector3dVector(points)\n",
    "    colors = [[1, 0, 0] for i in range(len(lines))]\n",
    "    line_set.points = o3d.utility.Vector3dVector(points)  \n",
    "    line_set.lines = o3d.utility.Vector2iVector(lines) \n",
    "    line_set.colors = o3d.utility.Vector3dVector(colors)\n",
    "\n",
    "    # Draw cuboid\n",
    "    min_x, min_y, min_z = np.min(points, axis=0)\n",
    "    max_x, max_y, max_z = np.max(points, axis=0)\n",
    "    vertices = [\n",
    "        [min_x, min_y, min_z], [min_x, min_y, max_z], [min_x, max_y, min_z], [min_x, max_y, max_z],\n",
    "        [max_x, min_y, min_z], [max_x, min_y, max_z], [max_x, max_y, min_z], [max_x, max_y, max_z]\n",
    "    ]\n",
    "    vertices = np.array(vertices) \n",
    "    edges = [\n",
    "        [0, 1], [1, 3], [3, 2], [2, 0],  \n",
    "        [4, 5], [5, 7], [7, 6], [6, 4],  \n",
    "        [0, 4], [1, 5], [2, 6], [3, 7]   \n",
    "    ]\n",
    "    bounding_box.points = o3d.utility.Vector3dVector(vertices)\n",
    "    bounding_box.lines = o3d.utility.Vector2iVector(edges)\n",
    "    bbox_colors = [[0, 1, 0] for _ in range(len(edges))]  \n",
    "    bounding_box.colors = o3d.utility.Vector3dVector(bbox_colors)\n",
    "\n",
    "    vis.update_geometry(pcd)\n",
    "    vis.update_geometry(line_set)\n",
    "    vis.update_geometry(bounding_box)\n",
    "    vis.poll_events()\n",
    "    vis.update_renderer()\n",
    "        \n",
    "    time.sleep(time_sleep)\n",
    "\n",
    "vis.destroy_window()"
   ]
  },
  {
   "cell_type": "code",
   "execution_count": null,
   "metadata": {},
   "outputs": [],
   "source": []
  }
 ],
 "metadata": {
  "kernelspec": {
   "display_name": "Python 3 (ipykernel)",
   "language": "python",
   "name": "python3"
  }
 },
 "nbformat": 4,
 "nbformat_minor": 2
}
