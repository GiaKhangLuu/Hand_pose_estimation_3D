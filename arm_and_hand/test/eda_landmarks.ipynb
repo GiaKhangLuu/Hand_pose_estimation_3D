{
 "cells": [
  {
   "cell_type": "code",
   "execution_count": 1,
   "metadata": {},
   "outputs": [
    {
     "name": "stdout",
     "output_type": "stream",
     "text": [
      "/home/giakhang/dev/pose_sandbox\n"
     ]
    }
   ],
   "source": [
    "!pwd"
   ]
  },
  {
   "cell_type": "code",
   "execution_count": 2,
   "metadata": {},
   "outputs": [
    {
     "name": "stdout",
     "output_type": "stream",
     "text": [
      "Jupyter environment detected. Enabling Open3D WebVisualizer.\n",
      "[Open3D INFO] WebRTC GUI backend enabled.\n",
      "[Open3D INFO] WebRTCWindowSystem: HTTP handshake server disabled.\n"
     ]
    }
   ],
   "source": [
    "import os\n",
    "import sys\n",
    "import glob\n",
    "\n",
    "sys.path.append(\"/home/giakhang/dev/pose_sandbox/Hand_pose_estimation_3D/arm_and_hand\")\n",
    "sys.path.append(\"/home/giakhang/dev/pose_sandbox/Hand_pose_estimation_3D\")\n",
    "\n",
    "from dataloader_ann import HandArmLandmarksDataset_ANN\n",
    "\n",
    "import numpy as np\n",
    "import torch\n",
    "import torch.nn as nn\n",
    "import torch.optim as optim\n",
    "from torch.utils.data import DataLoader\n",
    "import matplotlib.pyplot as plt\n",
    "import os\n",
    "from datetime import datetime\n",
    "\n",
    "import open3d as o3d\n",
    "from utilities import convert_to_left_shoulder_coord\n",
    "import time\n",
    "\n",
    "from sklearn.preprocessing import MinMaxScaler\n",
    "\n",
    "import pandas as pd\n",
    "from csv_writer import fusion_csv_columns_name\n",
    "import matplotlib.pyplot as plt\n",
    "\n",
    "import joblib\n",
    "import sklearn\n",
    "\n",
    "import json\n",
    "\n",
    "import pandas as pd"
   ]
  },
  {
   "cell_type": "code",
   "execution_count": 3,
   "metadata": {},
   "outputs": [],
   "source": [
    "landmarks_file = \"/home/giakhang/dev/pose_sandbox/data/2024-10-29/2024-10-29-14:56/landmarks_all_2024-10-29-14:56.csv\"\n",
    "data = pd.read_csv(landmarks_file)"
   ]
  },
  {
   "cell_type": "code",
   "execution_count": 4,
   "metadata": {},
   "outputs": [],
   "source": [
    "gt_data = data.loc[:, \"left_shoulder_output_x\":\"right_pinky_tip_output_z\"].values  # Columns 324 to the end are outputs (144 features)"
   ]
  },
  {
   "cell_type": "code",
   "execution_count": 5,
   "metadata": {},
   "outputs": [],
   "source": [
    "arm_hand_fused_names = [\"left shoulder\", \"left elbow\", \"left hip\", \"right shoulder\",\n",
    "    \"right hip\", \"WRIST\", \"THUMB_CMC\", \"THUMB_MCP\", \"THUMB_IP\", \n",
    "    \"THUMB_TIP\", \"INDEX_FINGER_MCP\", \"INDEX_FINGER_PIP\", \"INDEX_FINGER_DIP\",\n",
    "    \"INDEX_FINGER_TIP\", \"MIDDLE_FINGER_MCP\", \"MIDDLE_FINGER_PIP\", \"MIDDLE_FINGER_DIP\",\n",
    "    \"MIDDLE_FINGER_TIP\", \"RING_FINGER_MCP\", \"RING_FINGER_PIP\", \"RING_FINGER_DIP\",\n",
    "    \"RING_FINGER_TIP\", \"PINKY_MCP\", \"PINKY_PIP\", \"PINKY_DIP\", \"PINKY_TIP\", \"right elbow\",\n",
    "    \"RIGHT_WRIST\", \"RIGHT_THUMB_CMC\", \"RIGHT_THUMB_MCP\", \"RIGHT_THUMB_IP\", \"RIGHT_THUMB_TIP\",\n",
    "    \"RIGHT_INDEX_FINGER_MCP\", \"RIGHT_INDEX_FINGER_PIP\", \"RIGHT_INDEX_FINGER_DIP\",\n",
    "    \"RIGHT_INDEX_FINGER_TIP\", \"RIGHT_MIDDLE_FINGER_MCP\", \"RIGHT_MIDDLE_FINGER_PIP\",\n",
    "    \"RIGHT_MIDDLE_FINGER_DIP\", \"RIGHT_MIDDLE_FINGER_TIP\", \"RIGHT_RING_FINGER_MCP\",\n",
    "    \"RIGHT_RING_FINGER_PIP\", \"RIGHT_RING_FINGER_DIP\", \"RIGHT_RING_FINGER_TIP\",\n",
    "    \"RIGHT_PINKY_MCP\", \"RIGHT_PINKY_PIP\", \"RIGHT_PINKY_DIP\", \"RIGHT_PINKY_TIP\"]\n",
    "\n",
    "body_lines = [[0,2], [0, 3], [2, 4], [3, 4]]\n",
    "lefthand_lines = [[0, 1], [1, 5], [5, 6], [5, 10], [5, 22], [10, 14], [14, 18], [18, 22], \n",
    "    [6, 7], [7, 8], [8, 9], \n",
    "    [10, 11], [11, 12], [12, 13], \n",
    "    [14, 15], [15, 16], [16, 17], \n",
    "    [18, 19], [19, 20], [20, 21], \n",
    "    [22, 23], [23, 24], [24, 25]]\n",
    "\n",
    "train_body_distance_thres = 550\n",
    "train_leftarm_distance_thres = 550\n",
    "train_lefthand_distance_thres = 200"
   ]
  },
  {
   "cell_type": "code",
   "execution_count": 6,
   "metadata": {},
   "outputs": [
    {
     "data": {
      "text/plain": [
       "(143, 144)"
      ]
     },
     "execution_count": 6,
     "metadata": {},
     "output_type": "execute_result"
    }
   ],
   "source": [
    "gt_data.shape"
   ]
  },
  {
   "cell_type": "code",
   "execution_count": 7,
   "metadata": {},
   "outputs": [],
   "source": [
    "left_arm_lines = [[0, 1], [1, 5], [5, 10], [5, 14], [10, 14]]\n",
    "right_arm_lines = [[3, 26], [26, 27], [27, 32], [27, 36], [32, 36]] \n",
    "\n",
    "left_hand_lines = [[5, 6], [14, 18], [18, 22], [5, 22],  \n",
    "                    [6, 7], [7, 8], [8, 9],  # thumb lines\n",
    "                    [10, 11], [11, 12], [12, 13],  # index lines\n",
    "                    [14, 15], [15, 16], [16, 17],  # middle lines\n",
    "                    [18, 19], [19, 20], [20, 21],  # ring lines\n",
    "                    [22, 23], [23, 24], [24, 25]]  # pinky lines"
   ]
  },
  {
   "cell_type": "code",
   "execution_count": 8,
   "metadata": {},
   "outputs": [],
   "source": [
    "LANDMARKS_TO_FUSED_IDX = []\n",
    "\n",
    "LANDMARKS_TO_FUSED = [\"left shoulder\", \"left hip\", \"right shoulder\", \"right hip\"]\n",
    "RIGHT_ARM_LANDMARKS_TO_FUSED = [\"right elbow\", \"RIGHT_WRIST\", \"RIGHT_INDEX_FINGER_MCP\", \"RIGHT_MIDDLE_FINGER_MCP\"]\n",
    "LEFT_ARM_LANDMARKS_TO_FUSED = [\"left elbow\", \"WRIST\", \"INDEX_FINGER_MCP\", \"MIDDLE_FINGER_MCP\"]\n",
    "LEFT_HAND_LANDMARKS_TO_FUSED = [\"THUMB_CMC\", \"THUMB_MCP\", \"THUMB_IP\", \"THUMB_TIP\",    \n",
    "                                \"INDEX_FINGER_PIP\", \"INDEX_FINGER_DIP\", \"INDEX_FINGER_TIP\",    \n",
    "                                \"MIDDLE_FINGER_PIP\", \"MIDDLE_FINGER_DIP\", \"MIDDLE_FINGER_TIP\",    \n",
    "                                \"RING_FINGER_MCP\", \"RING_FINGER_PIP\", \"RING_FINGER_DIP\", \"RING_FINGER_TIP\",    \n",
    "                                \"PINKY_MCP\", \"PINKY_PIP\", \"PINKY_DIP\", \"PINKY_TIP\"]\n",
    "LANDMARKS_TO_FUSED.extend(LEFT_ARM_LANDMARKS_TO_FUSED)                \n",
    "LANDMARKS_TO_FUSED.extend(LEFT_HAND_LANDMARKS_TO_FUSED)                \n",
    "LANDMARKS_TO_FUSED.extend(RIGHT_ARM_LANDMARKS_TO_FUSED)                \n",
    "\n",
    "for landmark_name in LANDMARKS_TO_FUSED:\n",
    "    LANDMARKS_TO_FUSED_IDX.append(arm_hand_fused_names.index(landmark_name)) "
   ]
  },
  {
   "cell_type": "code",
   "execution_count": 9,
   "metadata": {},
   "outputs": [],
   "source": [
    "target_output = gt_data\n",
    "time_sleep = .1\n",
    "x = np.array([[500, 0, 0],\n",
    "    [0, 0, 0]])\n",
    "pcd = o3d.geometry.PointCloud()\n",
    "pcd.points = o3d.utility.Vector3dVector(x)\n",
    "lines = [[0, 0]]\n",
    "colors = [[1, 0, 0] for i in range(len(lines))]\n",
    "line_set = o3d.geometry.LineSet(\n",
    "    points=o3d.utility.Vector3dVector(x),\n",
    "    lines=o3d.utility.Vector2iVector(lines)\n",
    ")\n",
    "line_set.colors = o3d.utility.Vector3dVector(colors)\n",
    "\n",
    "bounding_box = o3d.geometry.LineSet(\n",
    "    points=o3d.utility.Vector3dVector(np.array([[500,0 ,0], [0, 0, 0]])),\n",
    "    lines=o3d.utility.Vector2iVector([[0, 0]])\n",
    ")\n",
    "    \n",
    "vis = o3d.visualization.Visualizer()\n",
    "vis.create_window()\n",
    "vis.add_geometry(pcd)\n",
    "vis.add_geometry(line_set)\n",
    "vis.add_geometry(bounding_box)\n",
    "\n",
    "for i in range(target_output.shape[0]):\n",
    "    output = target_output[i, ...]  # shape: (144)\n",
    "    output = output.reshape(3, 48)  # shape: (3, 48)\n",
    "    output = output.T  # shape: (26, 48)\n",
    "\n",
    "    lines = body_lines.copy()\n",
    "    lines.extend(left_arm_lines)\n",
    "\n",
    "    points, _ = convert_to_left_shoulder_coord(output,\n",
    "        arm_hand_fused_names)\n",
    "\n",
    "    points_to_plot = np.zeros_like(points)\n",
    "    points_to_plot[LANDMARKS_TO_FUSED_IDX] = points[LANDMARKS_TO_FUSED_IDX]\n",
    "\n",
    "    pcd.points = o3d.utility.Vector3dVector(points_to_plot)\n",
    "    colors = [[1, 0, 0] for i in range(len(lines))]\n",
    "    line_set.points = o3d.utility.Vector3dVector(points_to_plot)  \n",
    "    line_set.lines = o3d.utility.Vector2iVector(lines) \n",
    "    line_set.colors = o3d.utility.Vector3dVector(colors)\n",
    "\n",
    "    # Draw cuboid\n",
    "    min_x, min_y, min_z = np.min(points_to_plot, axis=0)\n",
    "    max_x, max_y, max_z = np.max(points_to_plot, axis=0)\n",
    "    vertices = [\n",
    "        [min_x, min_y, min_z], [min_x, min_y, max_z], [min_x, max_y, min_z], [min_x, max_y, max_z],\n",
    "        [max_x, min_y, min_z], [max_x, min_y, max_z], [max_x, max_y, min_z], [max_x, max_y, max_z]\n",
    "    ]\n",
    "    vertices = np.array(vertices) \n",
    "    edges = [\n",
    "        [0, 1], [1, 3], [3, 2], [2, 0],  \n",
    "        [4, 5], [5, 7], [7, 6], [6, 4],  \n",
    "        [0, 4], [1, 5], [2, 6], [3, 7]   \n",
    "    ]\n",
    "    bounding_box.points = o3d.utility.Vector3dVector(vertices)\n",
    "    bounding_box.lines = o3d.utility.Vector2iVector(edges)\n",
    "    bbox_colors = [[0, 1, 0] for _ in range(len(edges))]  \n",
    "    bounding_box.colors = o3d.utility.Vector3dVector(bbox_colors)\n",
    "\n",
    "    vis.update_geometry(pcd)\n",
    "    vis.update_geometry(line_set)\n",
    "    vis.update_geometry(bounding_box)\n",
    "    vis.poll_events()\n",
    "    vis.update_renderer()\n",
    "        \n",
    "    time.sleep(time_sleep)\n",
    "\n",
    "vis.destroy_window()"
   ]
  },
  {
   "cell_type": "code",
   "execution_count": null,
   "metadata": {},
   "outputs": [],
   "source": []
  }
 ],
 "metadata": {
  "kernelspec": {
   "display_name": "mmdeploy",
   "language": "python",
   "name": "mmdeploy"
  },
  "language_info": {
   "codemirror_mode": {
    "name": "ipython",
    "version": 3
   },
   "file_extension": ".py",
   "mimetype": "text/x-python",
   "name": "python",
   "nbconvert_exporter": "python",
   "pygments_lexer": "ipython3",
   "version": "3.11.10"
  }
 },
 "nbformat": 4,
 "nbformat_minor": 2
}
