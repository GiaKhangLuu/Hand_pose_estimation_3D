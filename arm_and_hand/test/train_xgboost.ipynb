{
 "cells": [
  {
   "cell_type": "code",
   "execution_count": 1,
   "metadata": {},
   "outputs": [
    {
     "name": "stdout",
     "output_type": "stream",
     "text": [
      "/home/giakhang/dev/pose_sandbox\n"
     ]
    }
   ],
   "source": [
    "!pwd"
   ]
  },
  {
   "cell_type": "code",
   "execution_count": 2,
   "metadata": {},
   "outputs": [
    {
     "name": "stdout",
     "output_type": "stream",
     "text": [
      "Jupyter environment detected. Enabling Open3D WebVisualizer.\n",
      "[Open3D INFO] WebRTC GUI backend enabled.\n",
      "[Open3D INFO] WebRTCWindowSystem: HTTP handshake server disabled.\n"
     ]
    }
   ],
   "source": [
    "import os\n",
    "import sys\n",
    "import glob\n",
    "\n",
    "sys.path.append(\"/home/giakhang/dev/pose_sandbox/Hand_pose_estimation_3D/arm_and_hand\")\n",
    "sys.path.append(\"/home/giakhang/dev/pose_sandbox/Hand_pose_estimation_3D\")\n",
    "\n",
    "from dataloader_ann import HandArmLandmarksDataset_ANN\n",
    "\n",
    "import numpy as np\n",
    "import torch\n",
    "import torch.nn as nn\n",
    "import torch.optim as optim\n",
    "from torch.utils.data import DataLoader\n",
    "import matplotlib.pyplot as plt\n",
    "import os\n",
    "from datetime import datetime\n",
    "import pandas as pd\n",
    "\n",
    "from utilities import fuse_landmarks_from_two_cameras, convert_to_left_shoulder_coord\n",
    "from functools import partial\n",
    "from ann import ANN\n",
    "\n",
    "import open3d as o3d\n",
    "from utilities import convert_to_left_shoulder_coord\n",
    "import time\n",
    "import joblib\n",
    "\n",
    "from csv_writer import columns_to_normalize, fusion_csv_columns_name\n",
    "from landmarks_scaler import LandmarksScaler\n",
    "\n",
    "from left_arm_angle_calculator import LeftArmAngleCalculator\n",
    "from left_hand_angle_calculator import LeftHandAngleCalculator\n",
    "from sklearn.preprocessing import MinMaxScaler\n",
    "import xgboost\n",
    "from sklearn.multioutput import MultiOutputRegressor"
   ]
  },
  {
   "cell_type": "code",
   "execution_count": 3,
   "metadata": {},
   "outputs": [],
   "source": [
    "arm_hand_fused_names = [\"left shoulder\", \"left elbow\", \"left hip\", \"right shoulder\", \"right hip\", \n",
    " \"WRIST\", \"THUMB_CMC\", \"THUMB_MCP\", \"THUMB_IP\", \"THUMB_TIP\", \"INDEX_FINGER_MCP\", \n",
    " \"INDEX_FINGER_PIP\", \"INDEX_FINGER_DIP\", \"INDEX_FINGER_TIP\", \"MIDDLE_FINGER_MCP\", \n",
    " \"MIDDLE_FINGER_PIP\", \"MIDDLE_FINGER_DIP\", \"MIDDLE_FINGER_TIP\", \"RING_FINGER_MCP\", \n",
    " \"RING_FINGER_PIP\", \"RING_FINGER_DIP\", \"RING_FINGER_TIP\", \"PINKY_MCP\", \"PINKY_PIP\", \n",
    " \"PINKY_DIP\", \"PINKY_TIP\", \"right elbow\"]"
   ]
  },
  {
   "cell_type": "code",
   "execution_count": 4,
   "metadata": {},
   "outputs": [],
   "source": [
    "left_arm_angle_calculator = LeftArmAngleCalculator(\n",
    "    num_chain=3, \n",
    "    landmark_dictionary=arm_hand_fused_names)\n",
    "left_hand_angle_calculator = LeftHandAngleCalculator(\n",
    "    num_chain=2, \n",
    "    landmark_dictionary=arm_hand_fused_names)"
   ]
  },
  {
   "cell_type": "code",
   "execution_count": 5,
   "metadata": {},
   "outputs": [],
   "source": [
    "MODEL_NAME = \"xgboost\"\n",
    "DATETIME = \"{}\".format(datetime.now().strftime(\"%Y%m%d-%H%M\"))\n",
    "DATE = \"{}\".format(datetime.now().strftime(\"%Y%m%d\"))\n",
    "BASE_DIR = \"/home/giakhang/dev/pose_sandbox/Hand_pose_estimation_3D/arm_and_hand/runs/{}\".format(MODEL_NAME)\n",
    "SAVE_DIR = os.path.join(BASE_DIR, DATE, DATETIME)\n",
    "DATA_DIR = \"/home/giakhang/dev/pose_sandbox/data\"  \n",
    "\n",
    "os.makedirs(SAVE_DIR)\n",
    "\n",
    "SELECTED_DATE = \"2024-*\"\n",
    "train_paths = glob.glob(os.path.join(DATA_DIR, \"{}/{}/fine_landmarks_{}_*.csv\".format(SELECTED_DATE, SELECTED_DATE, \"train\")))\n",
    "val_paths = glob.glob(os.path.join(DATA_DIR, \"{}/{}/fine_landmarks_{}_*.csv\".format(SELECTED_DATE, SELECTED_DATE, \"val\")))\n",
    "body_lines = [[0,2], [0, 3], [2, 4], [3, 4]]\n",
    "lefthand_lines = [[0, 1], [1, 5], [5, 6], \n",
    "                  [5, 10], [5, 22], [10, 14], \n",
    "                  [14, 18], [18, 22], [6, 7], \n",
    "                  [7, 8], [8, 9], [10, 11], \n",
    "                  [11, 12], [12, 13], [14, 15], \n",
    "                  [15, 16], [16, 17], [18, 19], \n",
    "                  [19, 20], [20, 21], [22, 23], \n",
    "                  [23, 24], [24, 25]]\n",
    "train_body_distance_thres = 550\n",
    "train_leftarm_distance_thres = 550\n",
    "train_lefthand_distance_thres = 200\n",
    "val_body_distance_thres=450,\n",
    "val_leftarm_distance_thres=450,\n",
    "val_lefthand_distance_thres=150,"
   ]
  },
  {
   "cell_type": "code",
   "execution_count": 6,
   "metadata": {},
   "outputs": [
    {
     "data": {
      "text/plain": [
       "['/home/giakhang/dev/pose_sandbox/Hand_pose_estimation_3D/arm_and_hand/runs/xgboost/20241017/20241017-1443/input_scaler.pkl']"
      ]
     },
     "execution_count": 6,
     "metadata": {},
     "output_type": "execute_result"
    }
   ],
   "source": [
    "# Load the true dataset to get the scaler then pass the scaler to the true and fake dataset\n",
    "minmax_scaler = MinMaxScaler()\n",
    "train_dataset = HandArmLandmarksDataset_ANN(train_paths, \n",
    "    body_lines, \n",
    "    lefthand_lines, \n",
    "    train_body_distance_thres, \n",
    "    train_leftarm_distance_thres, \n",
    "    train_lefthand_distance_thres,\n",
    "    filter_outlier=True,\n",
    "    only_keep_frames_contain_lefthand=True,\n",
    "    cvt_normalized_xy_to_XY=True)\n",
    "minmax_scaler.fit_transform(train_dataset._inputs)\n",
    "scaler_save_path = os.path.join(SAVE_DIR, \"input_scaler.pkl\")\n",
    "joblib.dump(minmax_scaler, scaler_save_path)"
   ]
  },
  {
   "cell_type": "code",
   "execution_count": 7,
   "metadata": {},
   "outputs": [],
   "source": [
    "scaler = LandmarksScaler(columns_to_scale=columns_to_normalize,\n",
    "    scaler_path=scaler_save_path)\n",
    "train_dataset = HandArmLandmarksDataset_ANN(train_paths, \n",
    "    body_lines, \n",
    "    lefthand_lines, \n",
    "    train_body_distance_thres, \n",
    "    train_leftarm_distance_thres, \n",
    "    train_lefthand_distance_thres,\n",
    "    filter_outlier=True,\n",
    "    only_keep_frames_contain_lefthand=True,\n",
    "    scaler=scaler,\n",
    "    cvt_normalized_xy_to_XY=True)\n",
    "train_dataloader = DataLoader(train_dataset, batch_size=256, shuffle=True)\n",
    "val_dataset = HandArmLandmarksDataset_ANN(val_paths,\n",
    "    body_lines,\n",
    "    lefthand_lines,\n",
    "    val_body_distance_thres,\n",
    "    val_leftarm_distance_thres,\n",
    "    val_lefthand_distance_thres,\n",
    "    filter_outlier=True,\n",
    "    only_keep_frames_contain_lefthand=True,\n",
    "    scaler=scaler,\n",
    "    cvt_normalized_xy_to_XY=True)\n",
    "val_dataloader = DataLoader(val_dataset, batch_size=256, shuffle=True)  "
   ]
  },
  {
   "cell_type": "code",
   "execution_count": 8,
   "metadata": {},
   "outputs": [
    {
     "data": {
      "text/plain": [
       "(10278, 288)"
      ]
     },
     "execution_count": 8,
     "metadata": {},
     "output_type": "execute_result"
    }
   ],
   "source": [
    "input_data = train_dataset._inputs\n",
    "input_data.shape"
   ]
  },
  {
   "cell_type": "code",
   "execution_count": 9,
   "metadata": {},
   "outputs": [
    {
     "data": {
      "text/plain": [
       "(10278, 48, 3)"
      ]
     },
     "execution_count": 9,
     "metadata": {},
     "output_type": "execute_result"
    }
   ],
   "source": [
    "ground_truth_data = train_dataset._outputs\n",
    "ground_truth_data = ground_truth_data.reshape(-1, 3, 48)\n",
    "ground_truth_data = np.transpose(ground_truth_data, (0, 2, 1))\n",
    "ground_truth_data.shape"
   ]
  },
  {
   "cell_type": "code",
   "execution_count": 10,
   "metadata": {},
   "outputs": [],
   "source": [
    "n_estimators = 100\n",
    "max_depth = 5\n",
    "eta = 0.1\n",
    "subsample = 1.0\n",
    "colsample_bytree = 0.3\n",
    "\n",
    "xg_reg = xgboost.XGBRegressor(objective=\"reg:squarederror\",\n",
    "                              n_estimators=n_estimators,\n",
    "                              max_depth=max_depth,\n",
    "                              eta=eta,\n",
    "                              subsample=subsample,\n",
    "                              colsample_bytree=colsample_bytree,\n",
    "                              device=\"cuda\",\n",
    "                              eval_metric=\"mae\")\n",
    "multi_xg_reg = MultiOutputRegressor(xg_reg)"
   ]
  },
  {
   "cell_type": "code",
   "execution_count": 11,
   "metadata": {},
   "outputs": [
    {
     "data": {
      "text/html": [
       "<style>#sk-container-id-1 {\n",
       "  /* Definition of color scheme common for light and dark mode */\n",
       "  --sklearn-color-text: black;\n",
       "  --sklearn-color-line: gray;\n",
       "  /* Definition of color scheme for unfitted estimators */\n",
       "  --sklearn-color-unfitted-level-0: #fff5e6;\n",
       "  --sklearn-color-unfitted-level-1: #f6e4d2;\n",
       "  --sklearn-color-unfitted-level-2: #ffe0b3;\n",
       "  --sklearn-color-unfitted-level-3: chocolate;\n",
       "  /* Definition of color scheme for fitted estimators */\n",
       "  --sklearn-color-fitted-level-0: #f0f8ff;\n",
       "  --sklearn-color-fitted-level-1: #d4ebff;\n",
       "  --sklearn-color-fitted-level-2: #b3dbfd;\n",
       "  --sklearn-color-fitted-level-3: cornflowerblue;\n",
       "\n",
       "  /* Specific color for light theme */\n",
       "  --sklearn-color-text-on-default-background: var(--sg-text-color, var(--theme-code-foreground, var(--jp-content-font-color1, black)));\n",
       "  --sklearn-color-background: var(--sg-background-color, var(--theme-background, var(--jp-layout-color0, white)));\n",
       "  --sklearn-color-border-box: var(--sg-text-color, var(--theme-code-foreground, var(--jp-content-font-color1, black)));\n",
       "  --sklearn-color-icon: #696969;\n",
       "\n",
       "  @media (prefers-color-scheme: dark) {\n",
       "    /* Redefinition of color scheme for dark theme */\n",
       "    --sklearn-color-text-on-default-background: var(--sg-text-color, var(--theme-code-foreground, var(--jp-content-font-color1, white)));\n",
       "    --sklearn-color-background: var(--sg-background-color, var(--theme-background, var(--jp-layout-color0, #111)));\n",
       "    --sklearn-color-border-box: var(--sg-text-color, var(--theme-code-foreground, var(--jp-content-font-color1, white)));\n",
       "    --sklearn-color-icon: #878787;\n",
       "  }\n",
       "}\n",
       "\n",
       "#sk-container-id-1 {\n",
       "  color: var(--sklearn-color-text);\n",
       "}\n",
       "\n",
       "#sk-container-id-1 pre {\n",
       "  padding: 0;\n",
       "}\n",
       "\n",
       "#sk-container-id-1 input.sk-hidden--visually {\n",
       "  border: 0;\n",
       "  clip: rect(1px 1px 1px 1px);\n",
       "  clip: rect(1px, 1px, 1px, 1px);\n",
       "  height: 1px;\n",
       "  margin: -1px;\n",
       "  overflow: hidden;\n",
       "  padding: 0;\n",
       "  position: absolute;\n",
       "  width: 1px;\n",
       "}\n",
       "\n",
       "#sk-container-id-1 div.sk-dashed-wrapped {\n",
       "  border: 1px dashed var(--sklearn-color-line);\n",
       "  margin: 0 0.4em 0.5em 0.4em;\n",
       "  box-sizing: border-box;\n",
       "  padding-bottom: 0.4em;\n",
       "  background-color: var(--sklearn-color-background);\n",
       "}\n",
       "\n",
       "#sk-container-id-1 div.sk-container {\n",
       "  /* jupyter's `normalize.less` sets `[hidden] { display: none; }`\n",
       "     but bootstrap.min.css set `[hidden] { display: none !important; }`\n",
       "     so we also need the `!important` here to be able to override the\n",
       "     default hidden behavior on the sphinx rendered scikit-learn.org.\n",
       "     See: https://github.com/scikit-learn/scikit-learn/issues/21755 */\n",
       "  display: inline-block !important;\n",
       "  position: relative;\n",
       "}\n",
       "\n",
       "#sk-container-id-1 div.sk-text-repr-fallback {\n",
       "  display: none;\n",
       "}\n",
       "\n",
       "div.sk-parallel-item,\n",
       "div.sk-serial,\n",
       "div.sk-item {\n",
       "  /* draw centered vertical line to link estimators */\n",
       "  background-image: linear-gradient(var(--sklearn-color-text-on-default-background), var(--sklearn-color-text-on-default-background));\n",
       "  background-size: 2px 100%;\n",
       "  background-repeat: no-repeat;\n",
       "  background-position: center center;\n",
       "}\n",
       "\n",
       "/* Parallel-specific style estimator block */\n",
       "\n",
       "#sk-container-id-1 div.sk-parallel-item::after {\n",
       "  content: \"\";\n",
       "  width: 100%;\n",
       "  border-bottom: 2px solid var(--sklearn-color-text-on-default-background);\n",
       "  flex-grow: 1;\n",
       "}\n",
       "\n",
       "#sk-container-id-1 div.sk-parallel {\n",
       "  display: flex;\n",
       "  align-items: stretch;\n",
       "  justify-content: center;\n",
       "  background-color: var(--sklearn-color-background);\n",
       "  position: relative;\n",
       "}\n",
       "\n",
       "#sk-container-id-1 div.sk-parallel-item {\n",
       "  display: flex;\n",
       "  flex-direction: column;\n",
       "}\n",
       "\n",
       "#sk-container-id-1 div.sk-parallel-item:first-child::after {\n",
       "  align-self: flex-end;\n",
       "  width: 50%;\n",
       "}\n",
       "\n",
       "#sk-container-id-1 div.sk-parallel-item:last-child::after {\n",
       "  align-self: flex-start;\n",
       "  width: 50%;\n",
       "}\n",
       "\n",
       "#sk-container-id-1 div.sk-parallel-item:only-child::after {\n",
       "  width: 0;\n",
       "}\n",
       "\n",
       "/* Serial-specific style estimator block */\n",
       "\n",
       "#sk-container-id-1 div.sk-serial {\n",
       "  display: flex;\n",
       "  flex-direction: column;\n",
       "  align-items: center;\n",
       "  background-color: var(--sklearn-color-background);\n",
       "  padding-right: 1em;\n",
       "  padding-left: 1em;\n",
       "}\n",
       "\n",
       "\n",
       "/* Toggleable style: style used for estimator/Pipeline/ColumnTransformer box that is\n",
       "clickable and can be expanded/collapsed.\n",
       "- Pipeline and ColumnTransformer use this feature and define the default style\n",
       "- Estimators will overwrite some part of the style using the `sk-estimator` class\n",
       "*/\n",
       "\n",
       "/* Pipeline and ColumnTransformer style (default) */\n",
       "\n",
       "#sk-container-id-1 div.sk-toggleable {\n",
       "  /* Default theme specific background. It is overwritten whether we have a\n",
       "  specific estimator or a Pipeline/ColumnTransformer */\n",
       "  background-color: var(--sklearn-color-background);\n",
       "}\n",
       "\n",
       "/* Toggleable label */\n",
       "#sk-container-id-1 label.sk-toggleable__label {\n",
       "  cursor: pointer;\n",
       "  display: block;\n",
       "  width: 100%;\n",
       "  margin-bottom: 0;\n",
       "  padding: 0.5em;\n",
       "  box-sizing: border-box;\n",
       "  text-align: center;\n",
       "}\n",
       "\n",
       "#sk-container-id-1 label.sk-toggleable__label-arrow:before {\n",
       "  /* Arrow on the left of the label */\n",
       "  content: \"▸\";\n",
       "  float: left;\n",
       "  margin-right: 0.25em;\n",
       "  color: var(--sklearn-color-icon);\n",
       "}\n",
       "\n",
       "#sk-container-id-1 label.sk-toggleable__label-arrow:hover:before {\n",
       "  color: var(--sklearn-color-text);\n",
       "}\n",
       "\n",
       "/* Toggleable content - dropdown */\n",
       "\n",
       "#sk-container-id-1 div.sk-toggleable__content {\n",
       "  max-height: 0;\n",
       "  max-width: 0;\n",
       "  overflow: hidden;\n",
       "  text-align: left;\n",
       "  /* unfitted */\n",
       "  background-color: var(--sklearn-color-unfitted-level-0);\n",
       "}\n",
       "\n",
       "#sk-container-id-1 div.sk-toggleable__content.fitted {\n",
       "  /* fitted */\n",
       "  background-color: var(--sklearn-color-fitted-level-0);\n",
       "}\n",
       "\n",
       "#sk-container-id-1 div.sk-toggleable__content pre {\n",
       "  margin: 0.2em;\n",
       "  border-radius: 0.25em;\n",
       "  color: var(--sklearn-color-text);\n",
       "  /* unfitted */\n",
       "  background-color: var(--sklearn-color-unfitted-level-0);\n",
       "}\n",
       "\n",
       "#sk-container-id-1 div.sk-toggleable__content.fitted pre {\n",
       "  /* unfitted */\n",
       "  background-color: var(--sklearn-color-fitted-level-0);\n",
       "}\n",
       "\n",
       "#sk-container-id-1 input.sk-toggleable__control:checked~div.sk-toggleable__content {\n",
       "  /* Expand drop-down */\n",
       "  max-height: 200px;\n",
       "  max-width: 100%;\n",
       "  overflow: auto;\n",
       "}\n",
       "\n",
       "#sk-container-id-1 input.sk-toggleable__control:checked~label.sk-toggleable__label-arrow:before {\n",
       "  content: \"▾\";\n",
       "}\n",
       "\n",
       "/* Pipeline/ColumnTransformer-specific style */\n",
       "\n",
       "#sk-container-id-1 div.sk-label input.sk-toggleable__control:checked~label.sk-toggleable__label {\n",
       "  color: var(--sklearn-color-text);\n",
       "  background-color: var(--sklearn-color-unfitted-level-2);\n",
       "}\n",
       "\n",
       "#sk-container-id-1 div.sk-label.fitted input.sk-toggleable__control:checked~label.sk-toggleable__label {\n",
       "  background-color: var(--sklearn-color-fitted-level-2);\n",
       "}\n",
       "\n",
       "/* Estimator-specific style */\n",
       "\n",
       "/* Colorize estimator box */\n",
       "#sk-container-id-1 div.sk-estimator input.sk-toggleable__control:checked~label.sk-toggleable__label {\n",
       "  /* unfitted */\n",
       "  background-color: var(--sklearn-color-unfitted-level-2);\n",
       "}\n",
       "\n",
       "#sk-container-id-1 div.sk-estimator.fitted input.sk-toggleable__control:checked~label.sk-toggleable__label {\n",
       "  /* fitted */\n",
       "  background-color: var(--sklearn-color-fitted-level-2);\n",
       "}\n",
       "\n",
       "#sk-container-id-1 div.sk-label label.sk-toggleable__label,\n",
       "#sk-container-id-1 div.sk-label label {\n",
       "  /* The background is the default theme color */\n",
       "  color: var(--sklearn-color-text-on-default-background);\n",
       "}\n",
       "\n",
       "/* On hover, darken the color of the background */\n",
       "#sk-container-id-1 div.sk-label:hover label.sk-toggleable__label {\n",
       "  color: var(--sklearn-color-text);\n",
       "  background-color: var(--sklearn-color-unfitted-level-2);\n",
       "}\n",
       "\n",
       "/* Label box, darken color on hover, fitted */\n",
       "#sk-container-id-1 div.sk-label.fitted:hover label.sk-toggleable__label.fitted {\n",
       "  color: var(--sklearn-color-text);\n",
       "  background-color: var(--sklearn-color-fitted-level-2);\n",
       "}\n",
       "\n",
       "/* Estimator label */\n",
       "\n",
       "#sk-container-id-1 div.sk-label label {\n",
       "  font-family: monospace;\n",
       "  font-weight: bold;\n",
       "  display: inline-block;\n",
       "  line-height: 1.2em;\n",
       "}\n",
       "\n",
       "#sk-container-id-1 div.sk-label-container {\n",
       "  text-align: center;\n",
       "}\n",
       "\n",
       "/* Estimator-specific */\n",
       "#sk-container-id-1 div.sk-estimator {\n",
       "  font-family: monospace;\n",
       "  border: 1px dotted var(--sklearn-color-border-box);\n",
       "  border-radius: 0.25em;\n",
       "  box-sizing: border-box;\n",
       "  margin-bottom: 0.5em;\n",
       "  /* unfitted */\n",
       "  background-color: var(--sklearn-color-unfitted-level-0);\n",
       "}\n",
       "\n",
       "#sk-container-id-1 div.sk-estimator.fitted {\n",
       "  /* fitted */\n",
       "  background-color: var(--sklearn-color-fitted-level-0);\n",
       "}\n",
       "\n",
       "/* on hover */\n",
       "#sk-container-id-1 div.sk-estimator:hover {\n",
       "  /* unfitted */\n",
       "  background-color: var(--sklearn-color-unfitted-level-2);\n",
       "}\n",
       "\n",
       "#sk-container-id-1 div.sk-estimator.fitted:hover {\n",
       "  /* fitted */\n",
       "  background-color: var(--sklearn-color-fitted-level-2);\n",
       "}\n",
       "\n",
       "/* Specification for estimator info (e.g. \"i\" and \"?\") */\n",
       "\n",
       "/* Common style for \"i\" and \"?\" */\n",
       "\n",
       ".sk-estimator-doc-link,\n",
       "a:link.sk-estimator-doc-link,\n",
       "a:visited.sk-estimator-doc-link {\n",
       "  float: right;\n",
       "  font-size: smaller;\n",
       "  line-height: 1em;\n",
       "  font-family: monospace;\n",
       "  background-color: var(--sklearn-color-background);\n",
       "  border-radius: 1em;\n",
       "  height: 1em;\n",
       "  width: 1em;\n",
       "  text-decoration: none !important;\n",
       "  margin-left: 1ex;\n",
       "  /* unfitted */\n",
       "  border: var(--sklearn-color-unfitted-level-1) 1pt solid;\n",
       "  color: var(--sklearn-color-unfitted-level-1);\n",
       "}\n",
       "\n",
       ".sk-estimator-doc-link.fitted,\n",
       "a:link.sk-estimator-doc-link.fitted,\n",
       "a:visited.sk-estimator-doc-link.fitted {\n",
       "  /* fitted */\n",
       "  border: var(--sklearn-color-fitted-level-1) 1pt solid;\n",
       "  color: var(--sklearn-color-fitted-level-1);\n",
       "}\n",
       "\n",
       "/* On hover */\n",
       "div.sk-estimator:hover .sk-estimator-doc-link:hover,\n",
       ".sk-estimator-doc-link:hover,\n",
       "div.sk-label-container:hover .sk-estimator-doc-link:hover,\n",
       ".sk-estimator-doc-link:hover {\n",
       "  /* unfitted */\n",
       "  background-color: var(--sklearn-color-unfitted-level-3);\n",
       "  color: var(--sklearn-color-background);\n",
       "  text-decoration: none;\n",
       "}\n",
       "\n",
       "div.sk-estimator.fitted:hover .sk-estimator-doc-link.fitted:hover,\n",
       ".sk-estimator-doc-link.fitted:hover,\n",
       "div.sk-label-container:hover .sk-estimator-doc-link.fitted:hover,\n",
       ".sk-estimator-doc-link.fitted:hover {\n",
       "  /* fitted */\n",
       "  background-color: var(--sklearn-color-fitted-level-3);\n",
       "  color: var(--sklearn-color-background);\n",
       "  text-decoration: none;\n",
       "}\n",
       "\n",
       "/* Span, style for the box shown on hovering the info icon */\n",
       ".sk-estimator-doc-link span {\n",
       "  display: none;\n",
       "  z-index: 9999;\n",
       "  position: relative;\n",
       "  font-weight: normal;\n",
       "  right: .2ex;\n",
       "  padding: .5ex;\n",
       "  margin: .5ex;\n",
       "  width: min-content;\n",
       "  min-width: 20ex;\n",
       "  max-width: 50ex;\n",
       "  color: var(--sklearn-color-text);\n",
       "  box-shadow: 2pt 2pt 4pt #999;\n",
       "  /* unfitted */\n",
       "  background: var(--sklearn-color-unfitted-level-0);\n",
       "  border: .5pt solid var(--sklearn-color-unfitted-level-3);\n",
       "}\n",
       "\n",
       ".sk-estimator-doc-link.fitted span {\n",
       "  /* fitted */\n",
       "  background: var(--sklearn-color-fitted-level-0);\n",
       "  border: var(--sklearn-color-fitted-level-3);\n",
       "}\n",
       "\n",
       ".sk-estimator-doc-link:hover span {\n",
       "  display: block;\n",
       "}\n",
       "\n",
       "/* \"?\"-specific style due to the `<a>` HTML tag */\n",
       "\n",
       "#sk-container-id-1 a.estimator_doc_link {\n",
       "  float: right;\n",
       "  font-size: 1rem;\n",
       "  line-height: 1em;\n",
       "  font-family: monospace;\n",
       "  background-color: var(--sklearn-color-background);\n",
       "  border-radius: 1rem;\n",
       "  height: 1rem;\n",
       "  width: 1rem;\n",
       "  text-decoration: none;\n",
       "  /* unfitted */\n",
       "  color: var(--sklearn-color-unfitted-level-1);\n",
       "  border: var(--sklearn-color-unfitted-level-1) 1pt solid;\n",
       "}\n",
       "\n",
       "#sk-container-id-1 a.estimator_doc_link.fitted {\n",
       "  /* fitted */\n",
       "  border: var(--sklearn-color-fitted-level-1) 1pt solid;\n",
       "  color: var(--sklearn-color-fitted-level-1);\n",
       "}\n",
       "\n",
       "/* On hover */\n",
       "#sk-container-id-1 a.estimator_doc_link:hover {\n",
       "  /* unfitted */\n",
       "  background-color: var(--sklearn-color-unfitted-level-3);\n",
       "  color: var(--sklearn-color-background);\n",
       "  text-decoration: none;\n",
       "}\n",
       "\n",
       "#sk-container-id-1 a.estimator_doc_link.fitted:hover {\n",
       "  /* fitted */\n",
       "  background-color: var(--sklearn-color-fitted-level-3);\n",
       "}\n",
       "</style><div id=\"sk-container-id-1\" class=\"sk-top-container\"><div class=\"sk-text-repr-fallback\"><pre>MultiOutputRegressor(estimator=XGBRegressor(base_score=None, booster=None,\n",
       "                                            callbacks=None,\n",
       "                                            colsample_bylevel=None,\n",
       "                                            colsample_bynode=None,\n",
       "                                            colsample_bytree=0.3, device=&#x27;cuda&#x27;,\n",
       "                                            early_stopping_rounds=None,\n",
       "                                            enable_categorical=False, eta=0.1,\n",
       "                                            eval_metric=&#x27;mae&#x27;,\n",
       "                                            feature_types=None, gamma=None,\n",
       "                                            grow_policy=None,\n",
       "                                            importance_type=None,\n",
       "                                            interaction_constraints=None,\n",
       "                                            learning_rate=None, max_bin=None,\n",
       "                                            max_cat_threshold=None,\n",
       "                                            max_cat_to_onehot=None,\n",
       "                                            max_delta_step=None, max_depth=5,\n",
       "                                            max_leaves=None,\n",
       "                                            min_child_weight=None, missing=nan,\n",
       "                                            monotone_constraints=None,\n",
       "                                            multi_strategy=None,\n",
       "                                            n_estimators=100, n_jobs=None,\n",
       "                                            num_parallel_tree=None, ...))</pre><b>In a Jupyter environment, please rerun this cell to show the HTML representation or trust the notebook. <br />On GitHub, the HTML representation is unable to render, please try loading this page with nbviewer.org.</b></div><div class=\"sk-container\" hidden><div class=\"sk-item sk-dashed-wrapped\"><div class=\"sk-label-container\"><div class=\"sk-label fitted sk-toggleable\"><input class=\"sk-toggleable__control sk-hidden--visually\" id=\"sk-estimator-id-1\" type=\"checkbox\" ><label for=\"sk-estimator-id-1\" class=\"sk-toggleable__label fitted sk-toggleable__label-arrow fitted\">&nbsp;&nbsp;MultiOutputRegressor<a class=\"sk-estimator-doc-link fitted\" rel=\"noreferrer\" target=\"_blank\" href=\"https://scikit-learn.org/1.5/modules/generated/sklearn.multioutput.MultiOutputRegressor.html\">?<span>Documentation for MultiOutputRegressor</span></a><span class=\"sk-estimator-doc-link fitted\">i<span>Fitted</span></span></label><div class=\"sk-toggleable__content fitted\"><pre>MultiOutputRegressor(estimator=XGBRegressor(base_score=None, booster=None,\n",
       "                                            callbacks=None,\n",
       "                                            colsample_bylevel=None,\n",
       "                                            colsample_bynode=None,\n",
       "                                            colsample_bytree=0.3, device=&#x27;cuda&#x27;,\n",
       "                                            early_stopping_rounds=None,\n",
       "                                            enable_categorical=False, eta=0.1,\n",
       "                                            eval_metric=&#x27;mae&#x27;,\n",
       "                                            feature_types=None, gamma=None,\n",
       "                                            grow_policy=None,\n",
       "                                            importance_type=None,\n",
       "                                            interaction_constraints=None,\n",
       "                                            learning_rate=None, max_bin=None,\n",
       "                                            max_cat_threshold=None,\n",
       "                                            max_cat_to_onehot=None,\n",
       "                                            max_delta_step=None, max_depth=5,\n",
       "                                            max_leaves=None,\n",
       "                                            min_child_weight=None, missing=nan,\n",
       "                                            monotone_constraints=None,\n",
       "                                            multi_strategy=None,\n",
       "                                            n_estimators=100, n_jobs=None,\n",
       "                                            num_parallel_tree=None, ...))</pre></div> </div></div><div class=\"sk-parallel\"><div class=\"sk-parallel-item\"><div class=\"sk-item\"><div class=\"sk-label-container\"><div class=\"sk-label fitted sk-toggleable\"><input class=\"sk-toggleable__control sk-hidden--visually\" id=\"sk-estimator-id-2\" type=\"checkbox\" ><label for=\"sk-estimator-id-2\" class=\"sk-toggleable__label fitted sk-toggleable__label-arrow fitted\">estimator: XGBRegressor</label><div class=\"sk-toggleable__content fitted\"><pre>XGBRegressor(base_score=None, booster=None, callbacks=None,\n",
       "             colsample_bylevel=None, colsample_bynode=None,\n",
       "             colsample_bytree=0.3, device=&#x27;cuda&#x27;, early_stopping_rounds=None,\n",
       "             enable_categorical=False, eta=0.1, eval_metric=&#x27;mae&#x27;,\n",
       "             feature_types=None, gamma=None, grow_policy=None,\n",
       "             importance_type=None, interaction_constraints=None,\n",
       "             learning_rate=None, max_bin=None, max_cat_threshold=None,\n",
       "             max_cat_to_onehot=None, max_delta_step=None, max_depth=5,\n",
       "             max_leaves=None, min_child_weight=None, missing=nan,\n",
       "             monotone_constraints=None, multi_strategy=None, n_estimators=100,\n",
       "             n_jobs=None, num_parallel_tree=None, ...)</pre></div> </div></div><div class=\"sk-serial\"><div class=\"sk-item\"><div class=\"sk-estimator fitted sk-toggleable\"><input class=\"sk-toggleable__control sk-hidden--visually\" id=\"sk-estimator-id-3\" type=\"checkbox\" ><label for=\"sk-estimator-id-3\" class=\"sk-toggleable__label fitted sk-toggleable__label-arrow fitted\">XGBRegressor</label><div class=\"sk-toggleable__content fitted\"><pre>XGBRegressor(base_score=None, booster=None, callbacks=None,\n",
       "             colsample_bylevel=None, colsample_bynode=None,\n",
       "             colsample_bytree=0.3, device=&#x27;cuda&#x27;, early_stopping_rounds=None,\n",
       "             enable_categorical=False, eta=0.1, eval_metric=&#x27;mae&#x27;,\n",
       "             feature_types=None, gamma=None, grow_policy=None,\n",
       "             importance_type=None, interaction_constraints=None,\n",
       "             learning_rate=None, max_bin=None, max_cat_threshold=None,\n",
       "             max_cat_to_onehot=None, max_delta_step=None, max_depth=5,\n",
       "             max_leaves=None, min_child_weight=None, missing=nan,\n",
       "             monotone_constraints=None, multi_strategy=None, n_estimators=100,\n",
       "             n_jobs=None, num_parallel_tree=None, ...)</pre></div> </div></div></div></div></div></div></div></div></div>"
      ],
      "text/plain": [
       "MultiOutputRegressor(estimator=XGBRegressor(base_score=None, booster=None,\n",
       "                                            callbacks=None,\n",
       "                                            colsample_bylevel=None,\n",
       "                                            colsample_bynode=None,\n",
       "                                            colsample_bytree=0.3, device='cuda',\n",
       "                                            early_stopping_rounds=None,\n",
       "                                            enable_categorical=False, eta=0.1,\n",
       "                                            eval_metric='mae',\n",
       "                                            feature_types=None, gamma=None,\n",
       "                                            grow_policy=None,\n",
       "                                            importance_type=None,\n",
       "                                            interaction_constraints=None,\n",
       "                                            learning_rate=None, max_bin=None,\n",
       "                                            max_cat_threshold=None,\n",
       "                                            max_cat_to_onehot=None,\n",
       "                                            max_delta_step=None, max_depth=5,\n",
       "                                            max_leaves=None,\n",
       "                                            min_child_weight=None, missing=nan,\n",
       "                                            monotone_constraints=None,\n",
       "                                            multi_strategy=None,\n",
       "                                            n_estimators=100, n_jobs=None,\n",
       "                                            num_parallel_tree=None, ...))"
      ]
     },
     "execution_count": 11,
     "metadata": {},
     "output_type": "execute_result"
    }
   ],
   "source": [
    "multi_xg_reg.fit(train_dataset._inputs, train_dataset._outputs)"
   ]
  },
  {
   "cell_type": "code",
   "execution_count": 12,
   "metadata": {},
   "outputs": [
    {
     "name": "stderr",
     "output_type": "stream",
     "text": [
      "/home/giakhang/py_venv/mmpose/lib/python3.10/site-packages/xgboost/core.py:158: UserWarning: [14:44:46] WARNING: /workspace/src/common/error_msg.cc:58: Falling back to prediction using DMatrix due to mismatched devices. This might lead to higher memory usage and slower performance. XGBoost is running on: cuda:0, while the input data is on: cpu.\n",
      "Potential solutions:\n",
      "- Use a data structure that matches the device ordinal in the booster.\n",
      "- Set the device for booster before call to inplace_predict.\n",
      "\n",
      "This warning will only be shown once.\n",
      "\n",
      "  warnings.warn(smsg, UserWarning)\n"
     ]
    }
   ],
   "source": [
    "predictions = multi_xg_reg.predict(train_dataset._inputs)"
   ]
  },
  {
   "cell_type": "code",
   "execution_count": 13,
   "metadata": {},
   "outputs": [
    {
     "data": {
      "text/plain": [
       "(10278, 48, 3)"
      ]
     },
     "execution_count": 13,
     "metadata": {},
     "output_type": "execute_result"
    }
   ],
   "source": [
    "pred_output = predictions.reshape(-1, 3, 48)\n",
    "pred_output = np.transpose(pred_output, (0, 2, 1))\n",
    "pred_output.shape"
   ]
  },
  {
   "cell_type": "code",
   "execution_count": 14,
   "metadata": {},
   "outputs": [
    {
     "data": {
      "text/plain": [
       "(10278, 48, 3)"
      ]
     },
     "execution_count": 14,
     "metadata": {},
     "output_type": "execute_result"
    }
   ],
   "source": [
    "gt_output = train_dataset._outputs\n",
    "gt_output = gt_output.reshape(-1, 3, 48)\n",
    "gt_output = np.transpose(gt_output, (0, 2, 1))\n",
    "gt_output.shape"
   ]
  },
  {
   "cell_type": "code",
   "execution_count": 15,
   "metadata": {},
   "outputs": [
    {
     "name": "stdout",
     "output_type": "stream",
     "text": [
      "(10278, 26, 3)\n"
     ]
    }
   ],
   "source": [
    "pred_output = pred_output[:, :26, :]\n",
    "print(pred_output.shape)"
   ]
  },
  {
   "cell_type": "code",
   "execution_count": 16,
   "metadata": {},
   "outputs": [
    {
     "name": "stdout",
     "output_type": "stream",
     "text": [
      "(10278, 26, 3)\n"
     ]
    }
   ],
   "source": [
    "gt_output = gt_output[:, :26, :]\n",
    "print(gt_output.shape)"
   ]
  },
  {
   "cell_type": "code",
   "execution_count": 17,
   "metadata": {},
   "outputs": [],
   "source": [
    "pred_angles = []\n",
    "\n",
    "for i in range(pred_output.shape[0]):\n",
    "    output = pred_output[i]\n",
    "    train_pred_XYZ_wrt_shoulder, xyz_origin = convert_to_left_shoulder_coord(\n",
    "        output,\n",
    "        arm_hand_fused_names)\n",
    "    \n",
    "    left_arm_result = left_arm_angle_calculator(train_pred_XYZ_wrt_shoulder, \n",
    "        parent_coordinate=xyz_origin)\n",
    "    left_arm_angles = left_arm_result[\"left_arm\"][\"angles\"]\n",
    "    left_arm_rot_mats_wrt_origin = left_arm_result[\"left_arm\"][\"rot_mats_wrt_origin\"]\n",
    "    last_coordinate_from_left_arm = left_arm_rot_mats_wrt_origin[-1]\n",
    "    left_hand_result = left_hand_angle_calculator(train_pred_XYZ_wrt_shoulder, \n",
    "        parent_coordinate=last_coordinate_from_left_arm)\n",
    "    \n",
    "    left_hand_angles = []\n",
    "    for finger_name in left_hand_angle_calculator.fingers_name:\n",
    "        finger_i_angles = left_hand_result[finger_name][\"angles\"].copy()\n",
    "\n",
    "        # In robot, its finger joint 1 is our finger joint 2, and vice versa (EXCEPT FOR THUMB FINGER). \n",
    "        # So that, we need to swap these values.\n",
    "        if finger_name != \"THUMB\":\n",
    "            finger_i_angles[0], finger_i_angles[1] = finger_i_angles[1], finger_i_angles[0]\n",
    "\n",
    "        left_hand_angles.extend(finger_i_angles)\n",
    "    \n",
    "    angles = left_arm_angles.copy()\n",
    "    angles.extend(left_hand_angles)    \n",
    "    pred_angles.append(angles)\n",
    "\n",
    "pred_angles = np.array(pred_angles)"
   ]
  },
  {
   "cell_type": "code",
   "execution_count": 18,
   "metadata": {},
   "outputs": [],
   "source": [
    "gt_angles = []\n",
    "\n",
    "for i in range(gt_output.shape[0]):\n",
    "    gt = gt_output[i]\n",
    "    train_gt_XYZ_wrt_shoulder, xyz_origin = convert_to_left_shoulder_coord(\n",
    "        gt,\n",
    "        arm_hand_fused_names)\n",
    "    \n",
    "    left_arm_result = left_arm_angle_calculator(train_gt_XYZ_wrt_shoulder, \n",
    "        parent_coordinate=xyz_origin)\n",
    "    left_arm_angles = left_arm_result[\"left_arm\"][\"angles\"]\n",
    "    left_arm_rot_mats_wrt_origin = left_arm_result[\"left_arm\"][\"rot_mats_wrt_origin\"]\n",
    "    last_coordinate_from_left_arm = left_arm_rot_mats_wrt_origin[-1]\n",
    "    left_hand_result = left_hand_angle_calculator(train_gt_XYZ_wrt_shoulder, \n",
    "        parent_coordinate=last_coordinate_from_left_arm)\n",
    "    \n",
    "    left_hand_angles = []\n",
    "    for finger_name in left_hand_angle_calculator.fingers_name:\n",
    "        finger_i_angles = left_hand_result[finger_name][\"angles\"].copy()\n",
    "\n",
    "        # In robot, its finger joint 1 is our finger joint 2, and vice versa (EXCEPT FOR THUMB FINGER). \n",
    "        # So that, we need to swap these values.\n",
    "        if finger_name != \"THUMB\":\n",
    "            finger_i_angles[0], finger_i_angles[1] = finger_i_angles[1], finger_i_angles[0]\n",
    "\n",
    "        left_hand_angles.extend(finger_i_angles)\n",
    "    \n",
    "    angles = left_arm_angles.copy()\n",
    "    angles.extend(left_hand_angles)    \n",
    "    gt_angles.append(angles)\n",
    "\n",
    "gt_angles = np.array(gt_angles)"
   ]
  },
  {
   "cell_type": "code",
   "execution_count": 19,
   "metadata": {},
   "outputs": [],
   "source": [
    "angles_errors = np.mean(np.abs(gt_angles - pred_angles), axis=0)"
   ]
  },
  {
   "cell_type": "code",
   "execution_count": 20,
   "metadata": {},
   "outputs": [],
   "source": [
    "angles_names = [\"left_arm_joint_01\",\n",
    "                \"left_arm_joint_02\",\n",
    "                \"left_arm_joint_03\",\n",
    "                \"left_arm_joint_04\",\n",
    "                \"left_arm_joint_05\",\n",
    "                \"left_arm_joint_06\",\n",
    "                \"left_THUMB_joint_01\",\n",
    "                \"left_THUMB_joint_02\",\n",
    "                \"left_THUMB_joint_03\",\n",
    "                \"left_INDEX_joint_01\",\n",
    "                \"left_INDEX_joint_02\",\n",
    "                \"left_INDEX_joint_03\",\n",
    "                \"left_MIDDLE_joint_01\",\n",
    "                \"left_MIDDLE_joint_02\",\n",
    "                \"left_MIDDLE_joint_03\",\n",
    "                \"left_RING_joint_01\",\n",
    "                \"left_RING_joint_02\",\n",
    "                \"left_RING_joint_03\",\n",
    "                \"left_PINKY_joint_01\",\n",
    "                \"left_PINKY_joint_02\",\n",
    "                \"left_PINKY_joint_03\"]"
   ]
  },
  {
   "cell_type": "code",
   "execution_count": 21,
   "metadata": {},
   "outputs": [
    {
     "name": "stdout",
     "output_type": "stream",
     "text": [
      "left_arm_joint_01 mean error: 5.2\n",
      "left_arm_joint_02 mean error: 2.69\n",
      "left_arm_joint_03 mean error: 15.56\n",
      "left_arm_joint_04 mean error: 5.18\n",
      "left_arm_joint_05 mean error: 48.86\n",
      "left_arm_joint_06 mean error: 14.77\n",
      "left_THUMB_joint_01 mean error: 27.23\n",
      "left_THUMB_joint_02 mean error: 18.11\n",
      "left_THUMB_joint_03 mean error: 27.43\n",
      "left_INDEX_joint_01 mean error: 17.77\n",
      "left_INDEX_joint_02 mean error: 21.97\n",
      "left_INDEX_joint_03 mean error: 31.49\n",
      "left_MIDDLE_joint_01 mean error: 17.7\n",
      "left_MIDDLE_joint_02 mean error: 23.49\n",
      "left_MIDDLE_joint_03 mean error: 33.08\n",
      "left_RING_joint_01 mean error: 18.0\n",
      "left_RING_joint_02 mean error: 24.32\n",
      "left_RING_joint_03 mean error: 32.59\n",
      "left_PINKY_joint_01 mean error: 18.51\n",
      "left_PINKY_joint_02 mean error: 27.09\n",
      "left_PINKY_joint_03 mean error: 34.69\n"
     ]
    }
   ],
   "source": [
    "assert len(angles_names) == len(angles_errors)\n",
    "\n",
    "for joint_error, joint_name in zip(angles_errors, angles_names):\n",
    "    print(f\"{joint_name} mean error: {round(joint_error, 2)}\")"
   ]
  },
  {
   "cell_type": "code",
   "execution_count": null,
   "metadata": {},
   "outputs": [],
   "source": []
  },
  {
   "cell_type": "markdown",
   "metadata": {},
   "source": [
    "# Val set"
   ]
  },
  {
   "cell_type": "code",
   "execution_count": 22,
   "metadata": {},
   "outputs": [
    {
     "data": {
      "text/plain": [
       "(2379, 288)"
      ]
     },
     "execution_count": 22,
     "metadata": {},
     "output_type": "execute_result"
    }
   ],
   "source": [
    "val_input = val_dataset._inputs\n",
    "val_input.shape"
   ]
  },
  {
   "cell_type": "code",
   "execution_count": 23,
   "metadata": {},
   "outputs": [
    {
     "data": {
      "text/plain": [
       "(2379, 48, 3)"
      ]
     },
     "execution_count": 23,
     "metadata": {},
     "output_type": "execute_result"
    }
   ],
   "source": [
    "val_gt = val_dataset._outputs\n",
    "val_gt = val_gt.reshape(-1, 3, 48)\n",
    "val_gt = np.transpose(val_gt, (0, 2, 1))\n",
    "val_gt.shape"
   ]
  },
  {
   "cell_type": "code",
   "execution_count": 25,
   "metadata": {},
   "outputs": [
    {
     "data": {
      "text/plain": [
       "(2379, 48, 3)"
      ]
     },
     "execution_count": 25,
     "metadata": {},
     "output_type": "execute_result"
    }
   ],
   "source": [
    "val_preds = multi_xg_reg.predict(val_input)\n",
    "val_preds = val_preds.reshape(-1, 3, 48)\n",
    "val_preds = np.transpose(val_preds, (0, 2, 1))\n",
    "val_preds.shape"
   ]
  },
  {
   "cell_type": "code",
   "execution_count": 26,
   "metadata": {},
   "outputs": [
    {
     "name": "stdout",
     "output_type": "stream",
     "text": [
      "(2379, 26, 3)\n"
     ]
    }
   ],
   "source": [
    "val_preds = val_preds[:, :26, :]\n",
    "print(val_preds.shape)"
   ]
  },
  {
   "cell_type": "code",
   "execution_count": 27,
   "metadata": {},
   "outputs": [
    {
     "name": "stdout",
     "output_type": "stream",
     "text": [
      "(2379, 26, 3)\n"
     ]
    }
   ],
   "source": [
    "val_gt = val_gt[:, :26, :]\n",
    "print(val_gt.shape)"
   ]
  },
  {
   "cell_type": "code",
   "execution_count": 28,
   "metadata": {},
   "outputs": [],
   "source": [
    "pred_angles = []\n",
    "\n",
    "for i in range(val_preds.shape[0]):\n",
    "    val_pred = val_preds[i]\n",
    "    val_pred_XYZ_wrt_shoulder, xyz_origin = convert_to_left_shoulder_coord(\n",
    "        val_pred,\n",
    "        arm_hand_fused_names)\n",
    "    \n",
    "    left_arm_result = left_arm_angle_calculator(val_pred_XYZ_wrt_shoulder, \n",
    "        parent_coordinate=xyz_origin)\n",
    "    left_arm_angles = left_arm_result[\"left_arm\"][\"angles\"]\n",
    "    left_arm_rot_mats_wrt_origin = left_arm_result[\"left_arm\"][\"rot_mats_wrt_origin\"]\n",
    "    last_coordinate_from_left_arm = left_arm_rot_mats_wrt_origin[-1]\n",
    "    left_hand_result = left_hand_angle_calculator(val_pred_XYZ_wrt_shoulder, \n",
    "        parent_coordinate=last_coordinate_from_left_arm)\n",
    "    \n",
    "    left_hand_angles = []\n",
    "    for finger_name in left_hand_angle_calculator.fingers_name:\n",
    "        finger_i_angles = left_hand_result[finger_name][\"angles\"].copy()\n",
    "\n",
    "        # In robot, its finger joint 1 is our finger joint 2, and vice versa (EXCEPT FOR THUMB FINGER). \n",
    "        # So that, we need to swap these values.\n",
    "        if finger_name != \"THUMB\":\n",
    "            finger_i_angles[0], finger_i_angles[1] = finger_i_angles[1], finger_i_angles[0]\n",
    "\n",
    "        left_hand_angles.extend(finger_i_angles)\n",
    "    \n",
    "    angles = left_arm_angles.copy()\n",
    "    angles.extend(left_hand_angles)    \n",
    "    pred_angles.append(angles)\n",
    "\n",
    "pred_angles = np.array(pred_angles)"
   ]
  },
  {
   "cell_type": "code",
   "execution_count": 29,
   "metadata": {},
   "outputs": [],
   "source": [
    "gt_angles = []\n",
    "\n",
    "for i in range(val_gt.shape[0]):\n",
    "    gt = val_gt[i]\n",
    "    val_gt_XYZ_wrt_shoulder, xyz_origin = convert_to_left_shoulder_coord(\n",
    "        gt,\n",
    "        arm_hand_fused_names)\n",
    "    \n",
    "    left_arm_result = left_arm_angle_calculator(val_gt_XYZ_wrt_shoulder, \n",
    "        parent_coordinate=xyz_origin)\n",
    "    left_arm_angles = left_arm_result[\"left_arm\"][\"angles\"]\n",
    "    left_arm_rot_mats_wrt_origin = left_arm_result[\"left_arm\"][\"rot_mats_wrt_origin\"]\n",
    "    last_coordinate_from_left_arm = left_arm_rot_mats_wrt_origin[-1]\n",
    "    left_hand_result = left_hand_angle_calculator(val_gt_XYZ_wrt_shoulder, \n",
    "        parent_coordinate=last_coordinate_from_left_arm)\n",
    "    \n",
    "    left_hand_angles = []\n",
    "    for finger_name in left_hand_angle_calculator.fingers_name:\n",
    "        finger_i_angles = left_hand_result[finger_name][\"angles\"].copy()\n",
    "\n",
    "        # In robot, its finger joint 1 is our finger joint 2, and vice versa (EXCEPT FOR THUMB FINGER). \n",
    "        # So that, we need to swap these values.\n",
    "        if finger_name != \"THUMB\":\n",
    "            finger_i_angles[0], finger_i_angles[1] = finger_i_angles[1], finger_i_angles[0]\n",
    "\n",
    "        left_hand_angles.extend(finger_i_angles)\n",
    "    \n",
    "    angles = left_arm_angles.copy()\n",
    "    angles.extend(left_hand_angles)    \n",
    "    gt_angles.append(angles)\n",
    "\n",
    "gt_angles = np.array(gt_angles)"
   ]
  },
  {
   "cell_type": "code",
   "execution_count": 30,
   "metadata": {},
   "outputs": [],
   "source": [
    "angles_errors = np.mean(np.abs(gt_angles - pred_angles), axis=0)"
   ]
  },
  {
   "cell_type": "code",
   "execution_count": 31,
   "metadata": {},
   "outputs": [],
   "source": [
    "angles_names = [\"left_arm_joint_01\",\n",
    "                \"left_arm_joint_02\",\n",
    "                \"left_arm_joint_03\",\n",
    "                \"left_arm_joint_04\",\n",
    "                \"left_arm_joint_05\",\n",
    "                \"left_arm_joint_06\",\n",
    "                \"left_THUMB_joint_01\",\n",
    "                \"left_THUMB_joint_02\",\n",
    "                \"left_THUMB_joint_03\",\n",
    "                \"left_INDEX_joint_01\",\n",
    "                \"left_INDEX_joint_02\",\n",
    "                \"left_INDEX_joint_03\",\n",
    "                \"left_MIDDLE_joint_01\",\n",
    "                \"left_MIDDLE_joint_02\",\n",
    "                \"left_MIDDLE_joint_03\",\n",
    "                \"left_RING_joint_01\",\n",
    "                \"left_RING_joint_02\",\n",
    "                \"left_RING_joint_03\",\n",
    "                \"left_PINKY_joint_01\",\n",
    "                \"left_PINKY_joint_02\",\n",
    "                \"left_PINKY_joint_03\"]"
   ]
  },
  {
   "cell_type": "code",
   "execution_count": 32,
   "metadata": {},
   "outputs": [
    {
     "name": "stdout",
     "output_type": "stream",
     "text": [
      "left_arm_joint_01 mean error: 8.89\n",
      "left_arm_joint_02 mean error: 5.6\n",
      "left_arm_joint_03 mean error: 31.03\n",
      "left_arm_joint_04 mean error: 10.02\n",
      "left_arm_joint_05 mean error: 88.34\n",
      "left_arm_joint_06 mean error: 24.03\n",
      "left_THUMB_joint_01 mean error: 45.09\n",
      "left_THUMB_joint_02 mean error: 23.0\n",
      "left_THUMB_joint_03 mean error: 38.02\n",
      "left_INDEX_joint_01 mean error: 22.73\n",
      "left_INDEX_joint_02 mean error: 32.22\n",
      "left_INDEX_joint_03 mean error: 38.69\n",
      "left_MIDDLE_joint_01 mean error: 21.7\n",
      "left_MIDDLE_joint_02 mean error: 33.42\n",
      "left_MIDDLE_joint_03 mean error: 41.13\n",
      "left_RING_joint_01 mean error: 22.6\n",
      "left_RING_joint_02 mean error: 35.05\n",
      "left_RING_joint_03 mean error: 40.36\n",
      "left_PINKY_joint_01 mean error: 23.34\n",
      "left_PINKY_joint_02 mean error: 37.61\n",
      "left_PINKY_joint_03 mean error: 39.13\n"
     ]
    }
   ],
   "source": [
    "assert len(angles_names) == len(angles_errors)\n",
    "\n",
    "for joint_error, joint_name in zip(angles_errors, angles_names):\n",
    "    print(f\"{joint_name} mean error: {round(joint_error, 2)}\")"
   ]
  },
  {
   "cell_type": "code",
   "execution_count": null,
   "metadata": {},
   "outputs": [],
   "source": []
  }
 ],
 "metadata": {
  "kernelspec": {
   "display_name": "mmpose",
   "language": "python",
   "name": "mmpose"
  },
  "language_info": {
   "codemirror_mode": {
    "name": "ipython",
    "version": 3
   },
   "file_extension": ".py",
   "mimetype": "text/x-python",
   "name": "python",
   "nbconvert_exporter": "python",
   "pygments_lexer": "ipython3",
   "version": "3.10.14"
  }
 },
 "nbformat": 4,
 "nbformat_minor": 2
}
