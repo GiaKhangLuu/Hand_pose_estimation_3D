{
 "cells": [
  {
   "cell_type": "code",
   "execution_count": 7,
   "id": "6b21fe6e-67e7-46a1-b7a6-b4d8aa419c02",
   "metadata": {},
   "outputs": [],
   "source": [
    "import numpy as np\n",
    "from filterpy.kalman import KalmanFilter\n",
    "from filterpy.common import Q_discrete_white_noise"
   ]
  },
  {
   "cell_type": "code",
   "execution_count": 2,
   "id": "ec611aaa-f09a-4ff6-a33e-c0076a117f04",
   "metadata": {},
   "outputs": [],
   "source": [
    "f = KalmanFilter(dim_x=90, dim_z=90)"
   ]
  },
  {
   "cell_type": "code",
   "execution_count": 9,
   "id": "af8e810a-247d-428e-9c5b-79a0f29c5298",
   "metadata": {},
   "outputs": [],
   "source": [
    "initial_state = np.zeros(90)\n",
    "state_transition_mat = np.eye(90)\n",
    "measurement_func = np.eye(90)\n",
    "cov = np.eye(90)\n",
    "measurement_noise = np.ones(90) * 0.05\n",
    "process_noise = np.ones(90) * 0.01"
   ]
  },
  {
   "cell_type": "code",
   "execution_count": 10,
   "id": "64171092-8b98-4f17-bbe1-6d5fee91b973",
   "metadata": {},
   "outputs": [],
   "source": [
    "f.x = initial_state\n",
    "f.F = state_transition_mat\n",
    "f.H = measurement_func\n",
    "f.P = cov\n",
    "f.R = measurement_noise\n",
    "f.Q = process_noise"
   ]
  },
  {
   "cell_type": "code",
   "execution_count": 11,
   "id": "7b66a056-b338-4ad7-a241-97e153cb84ff",
   "metadata": {},
   "outputs": [],
   "source": [
    "x = np.random.rand(30, 3)"
   ]
  },
  {
   "cell_type": "code",
   "execution_count": 16,
   "id": "400f0d44-ab7c-4759-972f-9778194ec636",
   "metadata": {},
   "outputs": [],
   "source": [
    "f.predict()\n",
    "f.update(x.flatten())"
   ]
  },
  {
   "cell_type": "code",
   "execution_count": 17,
   "id": "b155e2a6-2b45-415d-a30e-68ce3b9de40a",
   "metadata": {},
   "outputs": [
    {
     "data": {
      "text/plain": [
       "array([ 0.48831628, -0.26321915,  0.45532794,  0.42128893,  0.56565934,\n",
       "       -0.01562328,  0.31784394,  0.27374483,  0.54348364,  0.68337038,\n",
       "        0.57043823,  0.59537103, -0.00895764,  0.49324995,  0.51423715,\n",
       "       -0.23786917, -0.18274297,  0.57685959,  0.60010997,  0.36625947,\n",
       "        0.68244117, -0.04042614,  0.32557173,  0.69682378, -0.18756697,\n",
       "       -0.22605656,  0.59080644,  0.07698098,  0.38834041,  0.69089029,\n",
       "        0.1097992 ,  0.48720421, -0.17727837,  0.49760971,  0.10371214,\n",
       "        0.3153278 ,  0.28111148,  0.15178159,  0.14906424, -0.02742467,\n",
       "        0.37691831,  0.14988583,  0.56628892,  0.22037701, -0.11988784,\n",
       "       -0.28263964,  0.46529523, -0.07926165,  0.32750151,  0.23306306,\n",
       "        0.6037491 , -0.17069083,  0.03145278, -0.15145188,  0.22673561,\n",
       "        0.30327389,  0.26947929,  0.44367233,  0.01877665,  0.23926392,\n",
       "        0.49536882,  0.40876983,  0.39091335,  0.356471  ,  0.12892291,\n",
       "        0.40477949,  0.12382714,  0.34184678,  0.01768008,  0.27281126,\n",
       "        0.59848357, -0.22262996,  0.43150253,  0.54902708,  0.64343807,\n",
       "       -0.19675574,  0.67147267, -0.0195387 , -0.01960953, -0.21315244,\n",
       "        0.14633529,  0.40412649,  0.08125691,  0.47729325,  0.31959745,\n",
       "       -0.19768814, -0.26027301,  0.38569537,  0.31035789,  0.27087985])"
      ]
     },
     "execution_count": 17,
     "metadata": {},
     "output_type": "execute_result"
    }
   ],
   "source": [
    "f.x"
   ]
  },
  {
   "cell_type": "code",
   "execution_count": null,
   "id": "8d02c37a-9abf-4543-b052-2228caa77c1e",
   "metadata": {},
   "outputs": [],
   "source": []
  }
 ],
 "metadata": {
  "kernelspec": {
   "display_name": "Python 3 (ipykernel)",
   "language": "python",
   "name": "python3"
  },
  "language_info": {
   "codemirror_mode": {
    "name": "ipython",
    "version": 3
   },
   "file_extension": ".py",
   "mimetype": "text/x-python",
   "name": "python",
   "nbconvert_exporter": "python",
   "pygments_lexer": "ipython3",
   "version": "3.9.19"
  }
 },
 "nbformat": 4,
 "nbformat_minor": 5
}
