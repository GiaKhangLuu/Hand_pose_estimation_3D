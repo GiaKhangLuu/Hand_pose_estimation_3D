{
 "cells": [
  {
   "cell_type": "code",
   "execution_count": 1,
   "id": "a71ab7f9-e99f-4cef-a37b-7eb8536919e7",
   "metadata": {},
   "outputs": [
    {
     "name": "stdout",
     "output_type": "stream",
     "text": [
      "Jupyter environment detected. Enabling Open3D WebVisualizer.\n",
      "[Open3D INFO] WebRTC GUI backend enabled.\n",
      "[Open3D INFO] WebRTCWindowSystem: HTTP handshake server disabled.\n"
     ]
    }
   ],
   "source": [
    "%matplotlib widget\n",
    "import matplotlib.pyplot as plt\n",
    "import numpy as np\n",
    "from mpl_toolkits.mplot3d import Axes3D\n",
    "import open3d\n",
    "import open3d as o3d\n",
    "import numpy as np"
   ]
  },
  {
   "cell_type": "code",
   "execution_count": 2,
   "id": "c85787a7-76c2-483b-ab12-fe5821983493",
   "metadata": {},
   "outputs": [],
   "source": [
    "points = np.array([[ 0.00000000e+00,  0.00000000e+00, -5.68434189e-14],\n",
    " [-1.11155415e+02, -2.69411190e+00,  1.25321140e+01],\n",
    " [-1.59903917e+02,  7.68081777e+01, -3.58942213e+01],\n",
    " [-1.80406744e+02,  1.00951078e+02, -4.59219189e+01],\n",
    " [-1.68827406e+02,  1.07933061e+02, -5.03843754e+01],\n",
    " [-1.63446589e+02,  9.89319799e+01, -4.95554158e+01],\n",
    " [-2.34039617e+02,  0.00000000e+00, -7.13572988e+01],\n",
    " [ 0.00000000e+00,  0.00000000e+00, -1.34442280e+02],\n",
    " [-2.21617724e+02,  1.32620395e+01, -1.47892513e+02]])"
   ]
  },
  {
   "cell_type": "code",
   "execution_count": 3,
   "id": "c2787750-8da9-456e-98b6-f138f99a53de",
   "metadata": {},
   "outputs": [],
   "source": [
    "lines = [[0, 1], [1, 2], [2, 3], [2, 4], [2, 5], [3, 4],\n",
    "                     [0, 6], [0, 7],\n",
    "                     [6, 8], [7, 8]] \n",
    "colors = [[0, 0, 0] for i in range(len(lines))]\n",
    "\n",
    "point_cloud = o3d.geometry.PointCloud()\n",
    "point_cloud.points = o3d.utility.Vector3dVector(points)\n",
    "\n",
    "# Create Open3D line set object\n",
    "line_set = o3d.geometry.LineSet()\n",
    "line_set.points = o3d.utility.Vector3dVector(points)\n",
    "line_set.lines = o3d.utility.Vector2iVector(lines)\n",
    "\n",
    "# Define colors for the lines\n",
    "#colors = [[1, 0, 0] for i in range(len(lines))]\n",
    "line_set.colors = o3d.utility.Vector3dVector(colors)\n",
    "\n",
    "# Visualize the point cloud and lines\n",
    "o3d.visualization.draw_geometries([point_cloud, line_set])"
   ]
  },
  {
   "cell_type": "code",
   "execution_count": 4,
   "id": "ab1a493f-021e-4710-9743-e1ac19d3cc70",
   "metadata": {},
   "outputs": [],
   "source": [
    "landmark_dictionary = [\"left shoulder\", \"left elbow\", \"left wrist\",\n",
    "                  \"left pinky\", \"left index\", \"left thumb\", \"left hip\",\n",
    "                 \"right shoulder\", \"right hip\"]"
   ]
  },
  {
   "cell_type": "code",
   "execution_count": 6,
   "id": "c8f2c322-0f41-481a-8983-79e35006fb90",
   "metadata": {},
   "outputs": [],
   "source": [
    "a = np.array([0, 1, 0])\n",
    "b = points[landmark_dictionary.index(\"left wrist\")] - points[landmark_dictionary.index(\"left elbow\")]\n",
    "b = b * [0, 1, 1]"
   ]
  },
  {
   "cell_type": "code",
   "execution_count": 7,
   "id": "4582f2b9-12af-4a4f-8a37-a80ddb4413c7",
   "metadata": {},
   "outputs": [
    {
     "data": {
      "text/plain": [
       "array([ -0.       ,  79.5022896, -48.4263353])"
      ]
     },
     "execution_count": 7,
     "metadata": {},
     "output_type": "execute_result"
    }
   ],
   "source": [
    "b"
   ]
  },
  {
   "cell_type": "code",
   "execution_count": null,
   "id": "eed37a40-2730-4b70-ae32-db1de10c38cb",
   "metadata": {},
   "outputs": [],
   "source": []
  },
  {
   "cell_type": "code",
   "execution_count": null,
   "id": "e435640f-c05c-4394-9394-b870a4814db7",
   "metadata": {},
   "outputs": [],
   "source": []
  },
  {
   "cell_type": "code",
   "execution_count": null,
   "id": "c301a746-435a-4587-9f60-56403bb20411",
   "metadata": {},
   "outputs": [],
   "source": []
  },
  {
   "cell_type": "code",
   "execution_count": null,
   "id": "a94ea356-ebca-48dc-9640-255c621cd975",
   "metadata": {},
   "outputs": [],
   "source": []
  }
 ],
 "metadata": {
  "kernelspec": {
   "display_name": "Python 3 (ipykernel)",
   "language": "python",
   "name": "python3"
  },
  "language_info": {
   "codemirror_mode": {
    "name": "ipython",
    "version": 3
   },
   "file_extension": ".py",
   "mimetype": "text/x-python",
   "name": "python",
   "nbconvert_exporter": "python",
   "pygments_lexer": "ipython3",
   "version": "3.9.19"
  }
 },
 "nbformat": 4,
 "nbformat_minor": 5
}
