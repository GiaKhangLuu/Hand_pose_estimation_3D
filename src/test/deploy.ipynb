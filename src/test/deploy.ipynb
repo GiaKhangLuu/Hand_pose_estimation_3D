{
 "cells": [
  {
   "cell_type": "code",
   "execution_count": 2,
   "metadata": {},
   "outputs": [
    {
     "data": {
      "text/plain": [
       "'/home/giakhang/dev/pose_sandbox'"
      ]
     },
     "execution_count": 2,
     "metadata": {},
     "output_type": "execute_result"
    }
   ],
   "source": [
    "%pwd"
   ]
  },
  {
   "cell_type": "code",
   "execution_count": 1,
   "metadata": {},
   "outputs": [],
   "source": [
    "import cv2\n",
    "import numpy as np\n",
    "from mmdeploy_runtime import Detector, PoseDetector"
   ]
  },
  {
   "cell_type": "code",
   "execution_count": 3,
   "metadata": {},
   "outputs": [],
   "source": [
    "def visualize(frame, keypoints, filename, thr=0.5, resize=1280):\n",
    "    skeleton = [\n",
    "        [0, 5], [5, 7], [7, 92], \n",
    "        [92, 93], [93, 94], [94, 95], [95, 96],\n",
    "        [92, 97], [97, 98], [98, 99], [99, 100],\n",
    "        [101, 102], [102, 103], [103, 104],\n",
    "        [105, 106], [106, 107], [107, 108],\n",
    "        [92, 109], [109, 110], [110, 111], [111, 112],\n",
    "        [93, 97], [97, 101], [101, 105], [105, 109]\n",
    "    ]\n",
    "\n",
    "    palette = [\n",
    "        # Body colors\n",
    "        (255, 128, 0), (255, 153, 51), (255, 178, 102), (230, 230, 0), \n",
    "        (255, 153, 255), (153, 204, 255), (255, 102, 255), (255, 51, 255),\n",
    "        (102, 178, 255), (51, 153, 255), (255, 153, 153), (255, 102, 102), \n",
    "        (255, 51, 51), (153, 255, 153), (102, 255, 102), (51, 255, 51),\n",
    "        (0, 255, 0), (0, 0, 255), (255, 0, 0),\n",
    "        # Face colors\n",
    "        (255, 255, 0), (255, 255, 102), (255, 255, 153), (255, 255, 204),\n",
    "        # Right Hand colors (21 keypoints)\n",
    "        (153, 0, 255), (178, 102, 255), (204, 153, 255), (230, 204, 255),\n",
    "        (255, 204, 255), (204, 102, 255), (178, 51, 255), (153, 51, 255),\n",
    "        (128, 51, 255), (102, 51, 255), (51, 51, 255), (102, 102, 255),\n",
    "        (153, 153, 255), (204, 204, 255), (230, 230, 255), (255, 230, 255),\n",
    "        (255, 153, 230), (255, 102, 230), (255, 51, 230), (255, 0, 230),\n",
    "        # Left Hand colors (21 keypoints)\n",
    "        (0, 153, 255), (51, 178, 255), (102, 204, 255), (153, 230, 255),\n",
    "        (204, 255, 255), (51, 255, 204), (51, 255, 153), (51, 255, 102),\n",
    "        (51, 255, 51), (102, 255, 102), (153, 255,153), (153, 255,204),\n",
    "        (153, 255,255), (204, 255,255), (255, 255,204), (255, 255,153),\n",
    "        (255, 255,102), (255, 255,51), (255, 255,0), (230, 230,0)\n",
    "    ]\n",
    "\n",
    "    link_color = [\n",
    "        # Body links\n",
    "        0, 0, 0, 0, 7, 7, 7, 9, 9, 9, 9, 9, 16, 16, 16, 16, 16, 16, 16,\n",
    "        # Face links\n",
    "        4, 4, 4, 4, 4, 4, 4, 4,\n",
    "        # Right Hand links (21)\n",
    "        5, 5, 5, 5, 5, 5, 5, 5, 5, 5, 5, 5, 5, 5, 5, 5, 5, 5, 5, 5,\n",
    "        # Left Hand links (21)\n",
    "        6, 6, 6, 6, 6, 6, 6, 6, 6, 6, 6, 6, 6, 6, 6, 6, 6, 6, 6, 6\n",
    "    ]\n",
    "\n",
    "    point_color = [\n",
    "        # Body points\n",
    "        16, 16, 16, 16, 16, 9, 9, 9, 9, 9, 9, 0, 0, 0, 0, 0, 0,\n",
    "        # Face points\n",
    "        4, 4, 4, 4, 4, 4, 4, 4,\n",
    "        # Right Hand points (21)\n",
    "        5, 5, 5, 5, 5, 5, 5, 5, 5, 5, 5, 5, 5, 5, 5, 5, 5, 5, 5, 5,\n",
    "        # Left Hand points (21)\n",
    "        6, 6, 6, 6, 6, 6, 6, 6, 6, 6, 6, 6, 6, 6, 6, 6, 6, 6, 6, 6\n",
    "    ]\n",
    "\n",
    "    scale = resize / max(frame.shape[0], frame.shape[1])\n",
    "\n",
    "    scores = keypoints[..., 2]\n",
    "    keypoints = (keypoints[..., :2] * scale).astype(int)\n",
    "\n",
    "    img = cv2.resize(frame, (0, 0), fx=scale, fy=scale)\n",
    "    for kpts, score in zip(keypoints, scores):\n",
    "        show = [0] * len(kpts)\n",
    "        for (u, v), color in zip(skeleton, link_color):\n",
    "            if score[u] > thr and score[v] > thr:\n",
    "                cv2.line(img, kpts[u], tuple(kpts[v]), palette[color], 1,\n",
    "                         cv2.LINE_AA)\n",
    "                show[u] = show[v] = 1\n",
    "        for kpt, show, color in zip(kpts, show, point_color):\n",
    "            if show:\n",
    "                cv2.circle(img, kpt, 1, palette[color], 2, cv2.LINE_AA)\n",
    "    cv2.imwrite(filename, img)"
   ]
  },
  {
   "cell_type": "code",
   "execution_count": null,
   "metadata": {},
   "outputs": [
    {
     "name": "stdout",
     "output_type": "stream",
     "text": [
      "[2024-11-13 14:29:02.239] [mmdeploy] [error] [model.cpp:26] File not found: \"mmdeploy/rtmdet-trt/rtmdet_nano\"\n",
      "[2024-11-13 14:29:02.239] [mmdeploy] [error] [model.cpp:16] Failed to load model \"mmdeploy/rtmdet-trt/rtmdet_nano\"\n",
      "[2024-11-13 14:29:02.245] [mmdeploy] [error] [model.cpp:21] failed to create model: file not exist (5) @ /home/giakhang/dev/pose_sandbox/mmdeploy/csrc/mmdeploy/core/model.cpp:27\n"
     ]
    },
    {
     "ename": "RuntimeError",
     "evalue": "failed to create detector",
     "output_type": "error",
     "traceback": [
      "\u001b[0;31m---------------------------------------------------------------------------\u001b[0m",
      "\u001b[0;31mRuntimeError\u001b[0m                              Traceback (most recent call last)",
      "Cell \u001b[0;32mIn[2], line 1\u001b[0m\n\u001b[0;32m----> 1\u001b[0m person_detector \u001b[38;5;241m=\u001b[39m \u001b[43mDetector\u001b[49m\u001b[43m(\u001b[49m\u001b[43mmodel_path\u001b[49m\u001b[38;5;241;43m=\u001b[39;49m\u001b[38;5;124;43m\"\u001b[39;49m\u001b[38;5;124;43mmmdeploy/rtmdet-trt/rtmdet_nano\u001b[39;49m\u001b[38;5;124;43m\"\u001b[39;49m\u001b[43m,\u001b[49m\u001b[43m \u001b[49m\n\u001b[1;32m      2\u001b[0m \u001b[43m    \u001b[49m\u001b[43mdevice_name\u001b[49m\u001b[38;5;241;43m=\u001b[39;49m\u001b[38;5;124;43m\"\u001b[39;49m\u001b[38;5;124;43mcuda\u001b[39;49m\u001b[38;5;124;43m\"\u001b[39;49m\u001b[43m,\u001b[49m\u001b[43m \u001b[49m\n\u001b[1;32m      3\u001b[0m \u001b[43m    \u001b[49m\u001b[43mdevice_id\u001b[49m\u001b[38;5;241;43m=\u001b[39;49m\u001b[38;5;241;43m0\u001b[39;49m\u001b[43m)\u001b[49m\n\u001b[1;32m      5\u001b[0m pose_detector \u001b[38;5;241m=\u001b[39m PoseDetector(model_path\u001b[38;5;241m=\u001b[39m\u001b[38;5;124m\"\u001b[39m\u001b[38;5;124mmmdeploy/rtmpose-trt/rtmpose_l/rtmpose_l_both_sides\u001b[39m\u001b[38;5;124m\"\u001b[39m,\n\u001b[1;32m      6\u001b[0m     device_name\u001b[38;5;241m=\u001b[39m\u001b[38;5;124m\"\u001b[39m\u001b[38;5;124mcuda\u001b[39m\u001b[38;5;124m\"\u001b[39m,\n\u001b[1;32m      7\u001b[0m     device_id\u001b[38;5;241m=\u001b[39m\u001b[38;5;241m0\u001b[39m)\n",
      "\u001b[0;31mRuntimeError\u001b[0m: failed to create detector"
     ]
    }
   ],
   "source": [
    "person_detector = Detector(\n",
    "    model_path=\"/home/giakhang/dev/pose_sandbox/mmdeploy/rtmdet-trt/rtmdet-nano\",\n",
    "    device_name=\"cuda\", \n",
    "    device_id=0\n",
    ")\n",
    "\n",
    "pose_detector = PoseDetector(model_path=\"mmdeploy/rtmpose-trt/rtmpose_l/rtmpose_l_both_sides\",\n",
    "    device_name=\"cuda\",\n",
    "    device_id=0)"
   ]
  },
  {
   "cell_type": "code",
   "execution_count": 29,
   "metadata": {},
   "outputs": [],
   "source": [
    "img1 = cv2.imread(\"data/2024-10-19/2024-10-19-15:39/image/left/train/left_110.jpg\")\n",
    "img2 = cv2.imread(\"data/2024-10-19/2024-10-19-15:39/image/right/train/right_110.jpg\")\n",
    "\n",
    "batch = [img1, img2]"
   ]
  },
  {
   "cell_type": "code",
   "execution_count": 30,
   "metadata": {},
   "outputs": [],
   "source": [
    "person_detection_rs = person_detector.batch(batch)"
   ]
  },
  {
   "cell_type": "code",
   "execution_count": 32,
   "metadata": {},
   "outputs": [],
   "source": [
    "rs = pose_detector.batch(batch, [person_detection_rs[0][0][0, :4][None, :], person_detection_rs[1][0][0, :4][None, :]])"
   ]
  },
  {
   "cell_type": "code",
   "execution_count": 33,
   "metadata": {},
   "outputs": [
    {
     "data": {
      "text/plain": [
       "(1, 133, 3)"
      ]
     },
     "execution_count": 33,
     "metadata": {},
     "output_type": "execute_result"
    }
   ],
   "source": [
    "rs[0].shape"
   ]
  },
  {
   "cell_type": "code",
   "execution_count": null,
   "metadata": {},
   "outputs": [],
   "source": []
  },
  {
   "cell_type": "code",
   "execution_count": null,
   "metadata": {},
   "outputs": [],
   "source": []
  }
 ],
 "metadata": {
  "kernelspec": {
   "display_name": "mmdeploy",
   "language": "python",
   "name": "python3"
  },
  "language_info": {
   "codemirror_mode": {
    "name": "ipython",
    "version": 3
   },
   "file_extension": ".py",
   "mimetype": "text/x-python",
   "name": "python",
   "nbconvert_exporter": "python",
   "pygments_lexer": "ipython3",
   "version": "3.11.10"
  }
 },
 "nbformat": 4,
 "nbformat_minor": 2
}
