{
 "cells": [
  {
   "cell_type": "code",
   "execution_count": 3,
   "id": "7ff28557-7999-4e45-af87-3fdfe3c40544",
   "metadata": {},
   "outputs": [],
   "source": [
    "import time\n",
    "import cv2\n",
    "import numpy as np\n",
    "import glob\n",
    "import cv2.aruco as aruco"
   ]
  },
  {
   "cell_type": "code",
   "execution_count": 31,
   "id": "6c7653f4-dda1-4766-892a-7034e01e108b",
   "metadata": {},
   "outputs": [],
   "source": [
    "# Create dictionary and board object\n",
    "dictionary = cv2.aruco.getPredefinedDictionary(cv2.aruco.DICT_4X4_1000)\n",
    "board = cv2.aruco.CharucoBoard((30, 30),  0.015, 0.01135, dictionary)\n",
    "board.setLegacyPattern(True)"
   ]
  },
  {
   "cell_type": "code",
   "execution_count": 32,
   "id": "12ff1c6a-92b5-4254-8ca6-a025d17afc0c",
   "metadata": {},
   "outputs": [
    {
     "data": {
      "text/plain": [
       "True"
      ]
     },
     "execution_count": 32,
     "metadata": {},
     "output_type": "execute_result"
    }
   ],
   "source": [
    "# Generate board image\n",
    "board_image = board.generateImage((3000, 3000))  # Adjust size as needed\n",
    "\n",
    "# Save the image\n",
    "cv2.imwrite('charuco_board.png', board_image)"
   ]
  },
  {
   "cell_type": "code",
   "execution_count": 17,
   "id": "684f76d4-6b30-4ecc-a19f-2801a58ab10e",
   "metadata": {},
   "outputs": [
    {
     "name": "stdout",
     "output_type": "stream",
     "text": [
      "Help on built-in function generateImage:\n",
      "\n",
      "generateImage(...) method of cv2.aruco.CharucoBoard instance\n",
      "    generateImage(outSize[, img[, marginSize[, borderBits]]]) -> img\n",
      "    .   @brief Draw a planar board\n",
      "    .        *\n",
      "    .        * @param outSize size of the output image in pixels.\n",
      "    .        * @param img output image with the board. The size of this image will be outSize\n",
      "    .        * and the board will be on the center, keeping the board proportions.\n",
      "    .        * @param marginSize minimum margins (in pixels) of the board in the output image\n",
      "    .        * @param borderBits width of the marker borders.\n",
      "    .        *\n",
      "    .        * This function return the image of the board, ready to be printed.\n",
      "\n"
     ]
    }
   ],
   "source": [
    "help(board.generateImage)"
   ]
  },
  {
   "cell_type": "code",
   "execution_count": 28,
   "id": "e8ea3475-daf2-4df0-880b-eebe8e03dbe1",
   "metadata": {},
   "outputs": [
    {
     "name": "stdout",
     "output_type": "stream",
     "text": [
      "Help on CharucoBoard in module cv2.aruco object:\n",
      "\n",
      "class CharucoBoard(Board)\n",
      " |  Method resolution order:\n",
      " |      CharucoBoard\n",
      " |      Board\n",
      " |      builtins.object\n",
      " |  \n",
      " |  Methods defined here:\n",
      " |  \n",
      " |  __init__(self, /, *args, **kwargs)\n",
      " |      Initialize self.  See help(type(self)) for accurate signature.\n",
      " |  \n",
      " |  __repr__(self, /)\n",
      " |      Return repr(self).\n",
      " |  \n",
      " |  checkCharucoCornersCollinear(...)\n",
      " |      checkCharucoCornersCollinear(charucoIds) -> retval\n",
      " |      .   @brief check whether the ChArUco markers are collinear\n",
      " |      .        *\n",
      " |      .        * @param charucoIds list of identifiers for each corner in charucoCorners per frame.\n",
      " |      .        * @return bool value, 1 (true) if detected corners form a line, 0 (false) if they do not.\n",
      " |      .        * solvePnP, calibration functions will fail if the corners are collinear (true).\n",
      " |      .        *\n",
      " |      .        * The number of ids in charucoIDs should be <= the number of chessboard corners in the board.\n",
      " |      .        * This functions checks whether the charuco corners are on a straight line (returns true, if so), or not (false).\n",
      " |      .        * Axis parallel, as well as diagonal and other straight lines detected.  Degenerate cases:\n",
      " |      .        * for number of charucoIDs <= 2,the function returns true.\n",
      " |  \n",
      " |  getChessboardCorners(...)\n",
      " |      getChessboardCorners() -> retval\n",
      " |      .   @brief get CharucoBoard::chessboardCorners\n",
      " |  \n",
      " |  getChessboardSize(...)\n",
      " |      getChessboardSize() -> retval\n",
      " |      .\n",
      " |  \n",
      " |  getLegacyPattern(...)\n",
      " |      getLegacyPattern() -> retval\n",
      " |      .\n",
      " |  \n",
      " |  getMarkerLength(...)\n",
      " |      getMarkerLength() -> retval\n",
      " |      .\n",
      " |  \n",
      " |  getSquareLength(...)\n",
      " |      getSquareLength() -> retval\n",
      " |      .\n",
      " |  \n",
      " |  setLegacyPattern(...)\n",
      " |      setLegacyPattern(legacyPattern) -> None\n",
      " |      .   @brief set legacy chessboard pattern.\n",
      " |      .        *\n",
      " |      .        * Legacy setting creates chessboard patterns starting with a white box in the upper left corner\n",
      " |      .        * if there is an even row count of chessboard boxes, otherwise it starts with a black box.\n",
      " |      .        * This setting ensures compatibility to patterns created with OpenCV versions prior OpenCV 4.6.0.\n",
      " |      .        * See https://github.com/opencv/opencv/issues/23152.\n",
      " |      .        *\n",
      " |      .        * Default value: false.\n",
      " |  \n",
      " |  ----------------------------------------------------------------------\n",
      " |  Static methods defined here:\n",
      " |  \n",
      " |  __new__(*args, **kwargs) from builtins.type\n",
      " |      Create and return a new object.  See help(type) for accurate signature.\n",
      " |  \n",
      " |  ----------------------------------------------------------------------\n",
      " |  Methods inherited from Board:\n",
      " |  \n",
      " |  generateImage(...)\n",
      " |      generateImage(outSize[, img[, marginSize[, borderBits]]]) -> img\n",
      " |      .   @brief Draw a planar board\n",
      " |      .        *\n",
      " |      .        * @param outSize size of the output image in pixels.\n",
      " |      .        * @param img output image with the board. The size of this image will be outSize\n",
      " |      .        * and the board will be on the center, keeping the board proportions.\n",
      " |      .        * @param marginSize minimum margins (in pixels) of the board in the output image\n",
      " |      .        * @param borderBits width of the marker borders.\n",
      " |      .        *\n",
      " |      .        * This function return the image of the board, ready to be printed.\n",
      " |  \n",
      " |  getDictionary(...)\n",
      " |      getDictionary() -> retval\n",
      " |      .   @brief return the Dictionary of markers employed for this board\n",
      " |  \n",
      " |  getIds(...)\n",
      " |      getIds() -> retval\n",
      " |      .   @brief vector of the identifiers of the markers in the board (should be the same size as objPoints)\n",
      " |      .        * @return vector of the identifiers of the markers\n",
      " |  \n",
      " |  getObjPoints(...)\n",
      " |      getObjPoints() -> retval\n",
      " |      .   @brief return array of object points of all the marker corners in the board.\n",
      " |      .        *\n",
      " |      .        * Each marker include its 4 corners in this order:\n",
      " |      .        * -   objPoints[i][0] - left-top point of i-th marker\n",
      " |      .        * -   objPoints[i][1] - right-top point of i-th marker\n",
      " |      .        * -   objPoints[i][2] - right-bottom point of i-th marker\n",
      " |      .        * -   objPoints[i][3] - left-bottom point of i-th marker\n",
      " |      .        *\n",
      " |      .        * Markers are placed in a certain order - row by row, left to right in every row. For M markers, the size is Mx4.\n",
      " |  \n",
      " |  getRightBottomCorner(...)\n",
      " |      getRightBottomCorner() -> retval\n",
      " |      .   @brief get coordinate of the bottom right corner of the board, is set when calling the function create()\n",
      " |  \n",
      " |  matchImagePoints(...)\n",
      " |      matchImagePoints(detectedCorners, detectedIds[, objPoints[, imgPoints]]) -> objPoints, imgPoints\n",
      " |      .   @brief Given a board configuration and a set of detected markers, returns the corresponding\n",
      " |      .        * image points and object points, can be used in solvePnP()\n",
      " |      .        *\n",
      " |      .        * @param detectedCorners List of detected marker corners of the board.\n",
      " |      .        * For cv::Board and cv::GridBoard the method expects std::vector<std::vector<Point2f>> or std::vector<Mat> with Aruco marker corners.\n",
      " |      .        * For cv::CharucoBoard the method expects std::vector<Point2f> or Mat with ChAruco corners (chess board corners matched with Aruco markers).\n",
      " |      .        *\n",
      " |      .        * @param detectedIds List of identifiers for each marker or charuco corner.\n",
      " |      .        * For any Board class the method expects std::vector<int> or Mat.\n",
      " |      .        *\n",
      " |      .        * @param objPoints Vector of marker points in the board coordinate space.\n",
      " |      .        * For any Board class the method expects std::vector<cv::Point3f> objectPoints or cv::Mat\n",
      " |      .        *\n",
      " |      .        * @param imgPoints Vector of marker points in the image coordinate space.\n",
      " |      .        * For any Board class the method expects std::vector<cv::Point2f> objectPoints or cv::Mat\n",
      " |      .        *\n",
      " |      .        * @sa solvePnP\n",
      "\n"
     ]
    }
   ],
   "source": [
    "help(board)"
   ]
  },
  {
   "cell_type": "code",
   "execution_count": 29,
   "id": "0690672d-f7bc-41a1-a0af-efb7f584b4c5",
   "metadata": {},
   "outputs": [
    {
     "data": {
      "text/plain": [
       "['__class__',\n",
       " '__delattr__',\n",
       " '__dir__',\n",
       " '__doc__',\n",
       " '__eq__',\n",
       " '__format__',\n",
       " '__ge__',\n",
       " '__getattribute__',\n",
       " '__gt__',\n",
       " '__hash__',\n",
       " '__init__',\n",
       " '__init_subclass__',\n",
       " '__le__',\n",
       " '__lt__',\n",
       " '__module__',\n",
       " '__ne__',\n",
       " '__new__',\n",
       " '__reduce__',\n",
       " '__reduce_ex__',\n",
       " '__repr__',\n",
       " '__setattr__',\n",
       " '__sizeof__',\n",
       " '__str__',\n",
       " '__subclasshook__',\n",
       " 'checkCharucoCornersCollinear',\n",
       " 'generateImage',\n",
       " 'getChessboardCorners',\n",
       " 'getChessboardSize',\n",
       " 'getDictionary',\n",
       " 'getIds',\n",
       " 'getLegacyPattern',\n",
       " 'getMarkerLength',\n",
       " 'getObjPoints',\n",
       " 'getRightBottomCorner',\n",
       " 'getSquareLength',\n",
       " 'matchImagePoints',\n",
       " 'setLegacyPattern']"
      ]
     },
     "execution_count": 29,
     "metadata": {},
     "output_type": "execute_result"
    }
   ],
   "source": [
    "dir(board)"
   ]
  },
  {
   "cell_type": "code",
   "execution_count": 30,
   "id": "8cf294bc-ea46-412a-9e9e-d79e9d38d353",
   "metadata": {},
   "outputs": [
    {
     "name": "stdout",
     "output_type": "stream",
     "text": [
      "Help on built-in function setLegacyPattern:\n",
      "\n",
      "setLegacyPattern(...) method of cv2.aruco.CharucoBoard instance\n",
      "    setLegacyPattern(legacyPattern) -> None\n",
      "    .   @brief set legacy chessboard pattern.\n",
      "    .        *\n",
      "    .        * Legacy setting creates chessboard patterns starting with a white box in the upper left corner\n",
      "    .        * if there is an even row count of chessboard boxes, otherwise it starts with a black box.\n",
      "    .        * This setting ensures compatibility to patterns created with OpenCV versions prior OpenCV 4.6.0.\n",
      "    .        * See https://github.com/opencv/opencv/issues/23152.\n",
      "    .        *\n",
      "    .        * Default value: false.\n",
      "\n"
     ]
    }
   ],
   "source": [
    "help(board.setLegacyPattern)"
   ]
  },
  {
   "cell_type": "code",
   "execution_count": null,
   "id": "b27f3c99-c780-46ef-8d72-dbcf1b2f02e3",
   "metadata": {},
   "outputs": [],
   "source": []
  }
 ],
 "metadata": {
  "kernelspec": {
   "display_name": "Python 3 (ipykernel)",
   "language": "python",
   "name": "python3"
  },
  "language_info": {
   "codemirror_mode": {
    "name": "ipython",
    "version": 3
   },
   "file_extension": ".py",
   "mimetype": "text/x-python",
   "name": "python",
   "nbconvert_exporter": "python",
   "pygments_lexer": "ipython3",
   "version": "3.9.19"
  }
 },
 "nbformat": 4,
 "nbformat_minor": 5
}
