{
 "cells": [
  {
   "cell_type": "code",
   "execution_count": 1,
   "id": "c850a6a8-ce7f-4e4e-b484-003de66e7215",
   "metadata": {},
   "outputs": [],
   "source": [
    "import numpy as np"
   ]
  },
  {
   "cell_type": "code",
   "execution_count": 2,
   "id": "98c6119c-50c0-46f4-939c-d640956cadf9",
   "metadata": {},
   "outputs": [],
   "source": [
    "rs_data = np.load('./camera_calibration/oak_calibration.npz')\n",
    "oak_data = np.load('./camera_calibration/rs_calibration.npz')"
   ]
  },
  {
   "cell_type": "code",
   "execution_count": 3,
   "id": "78142844-9719-4998-b657-b4b7838060df",
   "metadata": {},
   "outputs": [],
   "source": [
    "rs_r_raw, rs_t_raw = rs_data['rvecs'], rs_data['tvecs']\n",
    "oak_r_raw, oak_t_raw = oak_data['rvecs'], oak_data['tvecs']"
   ]
  },
  {
   "cell_type": "code",
   "execution_count": 4,
   "id": "7f04bcdb-53ff-4464-ad39-1eef7f81d569",
   "metadata": {},
   "outputs": [
    {
     "data": {
      "text/plain": [
       "(77, 3, 1)"
      ]
     },
     "execution_count": 4,
     "metadata": {},
     "output_type": "execute_result"
    }
   ],
   "source": [
    "rs_r_raw.shape"
   ]
  },
  {
   "cell_type": "code",
   "execution_count": 5,
   "id": "bfacf256-0554-4574-bf9c-18f9d3a8daf8",
   "metadata": {},
   "outputs": [
    {
     "data": {
      "text/plain": [
       "(77, 3, 1)"
      ]
     },
     "execution_count": 5,
     "metadata": {},
     "output_type": "execute_result"
    }
   ],
   "source": [
    "rs_t_raw.shape"
   ]
  },
  {
   "cell_type": "code",
   "execution_count": 6,
   "id": "c6b81915-2ce3-4e88-a2d5-d4e67fbf115a",
   "metadata": {},
   "outputs": [
    {
     "data": {
      "text/plain": [
       "(77, 3, 1)"
      ]
     },
     "execution_count": 6,
     "metadata": {},
     "output_type": "execute_result"
    }
   ],
   "source": [
    "oak_r_raw.shape"
   ]
  },
  {
   "cell_type": "code",
   "execution_count": 7,
   "id": "c35abb65-a52b-49e4-8a79-e2aa77392060",
   "metadata": {},
   "outputs": [
    {
     "data": {
      "text/plain": [
       "(77, 3, 1)"
      ]
     },
     "execution_count": 7,
     "metadata": {},
     "output_type": "execute_result"
    }
   ],
   "source": [
    "oak_t_raw.shape"
   ]
  },
  {
   "cell_type": "code",
   "execution_count": null,
   "id": "4a049238-5b57-4936-a177-c58874e0563d",
   "metadata": {},
   "outputs": [],
   "source": []
  },
  {
   "cell_type": "code",
   "execution_count": 11,
   "id": "b2000bd4-30d8-487f-95e1-009d0d179046",
   "metadata": {},
   "outputs": [],
   "source": [
    "import cv2"
   ]
  },
  {
   "cell_type": "code",
   "execution_count": 16,
   "id": "db46120d-877f-43ed-96a2-9628a12971c3",
   "metadata": {},
   "outputs": [
    {
     "data": {
      "text/plain": [
       "(3, 3)"
      ]
     },
     "execution_count": 16,
     "metadata": {},
     "output_type": "execute_result"
    }
   ],
   "source": [
    "cv2.Rodrigues(rs_r_raw[0])[0].shape"
   ]
  },
  {
   "cell_type": "code",
   "execution_count": null,
   "id": "3553690d-837c-4bb0-8135-99681f11aa28",
   "metadata": {},
   "outputs": [],
   "source": []
  }
 ],
 "metadata": {
  "kernelspec": {
   "display_name": "Python 3 (ipykernel)",
   "language": "python",
   "name": "python3"
  },
  "language_info": {
   "codemirror_mode": {
    "name": "ipython",
    "version": 3
   },
   "file_extension": ".py",
   "mimetype": "text/x-python",
   "name": "python",
   "nbconvert_exporter": "python",
   "pygments_lexer": "ipython3",
   "version": "3.8.10"
  }
 },
 "nbformat": 4,
 "nbformat_minor": 5
}
