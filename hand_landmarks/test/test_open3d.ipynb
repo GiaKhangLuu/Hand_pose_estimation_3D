{
 "cells": [
  {
   "cell_type": "code",
   "execution_count": 1,
   "id": "e622987e",
   "metadata": {},
   "outputs": [],
   "source": [
    "import open3d as o3d\n",
    "import open3d.core as o3c\n",
    "import numpy as np\n",
    "import matplotlib.pyplot as plt\n",
    "import copy\n",
    "import os\n",
    "import sys"
   ]
  },
  {
   "cell_type": "code",
   "execution_count": 2,
   "id": "a4fc8171",
   "metadata": {},
   "outputs": [],
   "source": [
    "fingers = np.array([[[1.32558707e+01, 5.70526042e+00, 1.69161780e+01],\n",
    "  [2.49935992e+01, 1.93318989e+01, 2.57172798e+01],\n",
    "  [3.67467300e+01, 2.99647528e+01, 2.81194366e+01],\n",
    "  [4.67116934e+01, 4.07572062e+01, 2.66966378e+01]],\n",
    " [[2.84217094e-14, 4.98683859e+01, 1.35613696e+01],\n",
    "  [4.39060157e+00, 7.11242946e+01, 1.25253143e+01],\n",
    "  [1.84071488e+01, 7.75003194e+01, 9.43297986e+00],\n",
    "  [3.08398885e+01, 7.85652418e+01, 7.97198235e+00]],\n",
    " [[2.84217094e-14, 5.49572403e+01, 1.42108547e-14],\n",
    "  [1.57096851e+00, 8.18746298e+01,-7.17136734e+00],\n",
    "  [1.96200575e+01, 8.73714670e+01,-9.57695982e+00],\n",
    "  [3.45281728e+01, 8.59297159e+01,-1.05476997e+01]],\n",
    " [[4.77600779e+00, 5.50466529e+01,-1.42941234e+01],\n",
    "  [6.95157220e+00, 7.82066144e+01,-2.10754098e+01],\n",
    "  [2.39150843e+01, 8.34667807e+01,-2.15263465e+01],\n",
    "  [3.66663735e+01, 8.34497324e+01,-2.10273584e+01]],\n",
    " [[1.15149105e+01, 5.09409231e+01,-2.69961828e+01],\n",
    "  [1.75318926e+01, 6.46914267e+01,-3.43011774e+01],\n",
    "  [2.93483389e+01, 6.94451314e+01,-3.39476859e+01],\n",
    "  [3.92808684e+01, 7.08593782e+01,-3.26920115e+01]]])\n",
    "wrist = np.array([2.84217094e-14, 5.68434189e-14, 1.42108547e-14])"
   ]
  },
  {
   "cell_type": "code",
   "execution_count": 3,
   "id": "fafc060f",
   "metadata": {},
   "outputs": [],
   "source": [
    "fingers_flat = fingers.reshape(-1, 3)"
   ]
  },
  {
   "cell_type": "code",
   "execution_count": 4,
   "id": "b4a79193",
   "metadata": {},
   "outputs": [],
   "source": [
    "pts = np.vstack((wrist.reshape(1, -1), fingers_flat))"
   ]
  },
  {
   "cell_type": "code",
   "execution_count": 5,
   "id": "19676eec",
   "metadata": {},
   "outputs": [],
   "source": [
    "pcd = o3d.t.geometry.PointCloud(pts)"
   ]
  },
  {
   "cell_type": "code",
   "execution_count": 6,
   "id": "23902c25",
   "metadata": {},
   "outputs": [
    {
     "data": {
      "text/plain": [
       "PointCloud on CPU:0 [21 points (Float64)].\n",
       "Attributes: colors (dtype = Int64, shape = {21, 3})."
      ]
     },
     "execution_count": 6,
     "metadata": {},
     "output_type": "execute_result"
    }
   ],
   "source": [
    "pcd.paint_uniform_color([0, 0, 0])"
   ]
  },
  {
   "cell_type": "code",
   "execution_count": 7,
   "id": "a2a2159d",
   "metadata": {},
   "outputs": [],
   "source": [
    "#pcd.cuda()"
   ]
  },
  {
   "cell_type": "code",
   "execution_count": 8,
   "id": "59009a25",
   "metadata": {},
   "outputs": [],
   "source": [
    "lines= [[0,1],[1,2],[2,3],[3,4], \n",
    "            [0,5],[5,6],[6,7],[7,8],\n",
    "            [5,9],[9,10],[10,11],[11,12],\n",
    "            [9,13],[13,14],[14,15],[15,16],\n",
    "            [13,17],[17,18],[18,19],[19,20],[0,17]]"
   ]
  },
  {
   "cell_type": "code",
   "execution_count": 9,
   "id": "acd072a2",
   "metadata": {},
   "outputs": [
    {
     "name": "stdout",
     "output_type": "stream",
     "text": [
      "\u001b[1;33m[Open3D WARNING] GLFW Error: Cocoa: Failed to find service port for display\u001b[0;m\n"
     ]
    }
   ],
   "source": [
    "import numpy as np\n",
    "import open3d as o3d\n",
    "\n",
    "# Generate random fingers and wrist\n",
    "fingers = np.random.rand(20, 3)\n",
    "wrist = np.array([2.84217094e-14, 5.68434189e-14, 1.42108547e-14])\n",
    "pts = np.vstack((wrist.reshape(1, -1), fingers))\n",
    "\n",
    "# Create the initial point cloud\n",
    "pcd = o3d.geometry.PointCloud()\n",
    "pcd.points = o3d.utility.Vector3dVector(pts)\n",
    "\n",
    "lines = [[0,1],[1,2],[2,3],[3,4], \n",
    "         [0,5],[5,6],[6,7],[7,8],\n",
    "         [5,9],[9,10],[10,11],[11,12],\n",
    "         [9,13],[13,14],[14,15],[15,16],\n",
    "         [13,17],[17,18],[18,19],[19,20],[0,17]]\n",
    "colors = [[1, 0, 0] for i in range(len(lines))]\n",
    "line_set = o3d.geometry.LineSet(\n",
    "    points=o3d.utility.Vector3dVector(pts),\n",
    "    lines=o3d.utility.Vector2iVector(lines),\n",
    ")\n",
    "line_set.colors = o3d.utility.Vector3dVector(colors)\n",
    "\n",
    "# Create the visualizer and add the initial point cloud\n",
    "vis = o3d.visualization.Visualizer()\n",
    "vis.create_window()\n",
    "vis.add_geometry(pcd)\n",
    "vis.add_geometry(line_set)\n",
    "\n",
    "# Main loop\n",
    "for i in range(100):\n",
    "    # Update fingers and wrist with random values\n",
    "    fingers = np.random.rand(20, 3)\n",
    "    wrist = np.random.rand(1, 3)\n",
    "    pts = np.vstack((wrist, fingers))\n",
    "    \n",
    "    # Update the point cloud\n",
    "    pcd.points = o3d.utility.Vector3dVector(pts)\n",
    "    \n",
    "    line_set.points = o3d.utility.Vector3dVector(pts)\n",
    "    \n",
    "    # Update the visualization\n",
    "    vis.update_geometry(pcd)\n",
    "    vis.update_geometry(line_set)\n",
    "    vis.poll_events()\n",
    "    vis.update_renderer()\n",
    "    \n",
    "    # Capture screen image\n",
    "    #vis.capture_screen_image(\"temp_%04d.jpg\" % i)\n",
    "\n",
    "vis.destroy_window()\n"
   ]
  },
  {
   "cell_type": "code",
   "execution_count": null,
   "id": "2d9959ba",
   "metadata": {},
   "outputs": [],
   "source": [
    "import numpy as np\n",
    "import open3d as o3d\n",
    "import threading\n",
    "import queue\n",
    "import time\n",
    "\n",
    "my_queue = queue.Queue()\n",
    "\n",
    "def visualization_thread():\n",
    "    # Generate random fingers and wrist\n",
    "    \"\"\"\n",
    "    fingers = np.random.rand(20, 3)\n",
    "    wrist = np.array([2.84217094e-14, 5.68434189e-14, 1.42108547e-14])\n",
    "    pts = np.vstack((wrist.reshape(1, -1), fingers))\n",
    "\n",
    "    # Create the initial point cloud\n",
    "    pcd = o3d.geometry.PointCloud()\n",
    "    pcd.points = o3d.utility.Vector3dVector(pts)\n",
    "    vis = o3d.visualization.Visualizer()\n",
    "    vis.create_window()\n",
    "    vis.add_geometry(pcd)\n",
    "    \"\"\"\n",
    "    \n",
    "    x = np.array([[1, 0, 0],\n",
    "                  [0, 0, 0]])\n",
    "    pcd = o3d.geometry.PointCloud()\n",
    "    pcd.points = o3d.utility.Vector3dVector(x)\n",
    "    \n",
    "    vis = o3d.visualization.Visualizer()\n",
    "    vis.create_window()\n",
    "    vis.add_geometry(pcd)\n",
    "    #vis.add_geometry(None)\n",
    "    \n",
    "\n",
    "    # Main loop\n",
    "    while True:\n",
    "        if not my_queue.empty():\n",
    "            #points = my_queue.get()\n",
    "            #fingers = np.random.rand(20, 3)\n",
    "            #wrist = np.array([2.84217094e-14, 5.68434189e-14, 1.42108547e-14])\n",
    "            #pts = np.vstack((wrist.reshape(1, -1), fingers))\n",
    "            pts = my_queue.get()\n",
    "\n",
    "            # Create the initial point cloud\n",
    "            pcd.points = o3d.utility.Vector3dVector(pts)\n",
    "    \n",
    "            # Update the visualization\n",
    "            vis.update_geometry(pcd)\n",
    "            vis.poll_events()\n",
    "            vis.update_renderer()\n",
    "        \n",
    "        time.sleep(0.001)\n",
    "\n",
    "    vis.destroy_window()\n",
    "\n",
    "# Start the visualization thread\n",
    "vis_thread = threading.Thread(target=visualization_thread)\n",
    "vis_thread.start()"
   ]
  },
  {
   "cell_type": "code",
   "execution_count": null,
   "id": "5f44cdfc",
   "metadata": {},
   "outputs": [],
   "source": []
  },
  {
   "cell_type": "code",
   "execution_count": null,
   "id": "9c017f53",
   "metadata": {},
   "outputs": [],
   "source": [
    "import numpy as np\n",
    "np.array([0, 0, 0] * 21).reshape(-1, 3)"
   ]
  },
  {
   "cell_type": "code",
   "execution_count": null,
   "id": "e6f94fc4",
   "metadata": {},
   "outputs": [],
   "source": []
  }
 ],
 "metadata": {
  "kernelspec": {
   "display_name": "Python 3 (ipykernel)",
   "language": "python",
   "name": "python3"
  },
  "language_info": {
   "codemirror_mode": {
    "name": "ipython",
    "version": 3
   },
   "file_extension": ".py",
   "mimetype": "text/x-python",
   "name": "python",
   "nbconvert_exporter": "python",
   "pygments_lexer": "ipython3",
   "version": "3.8.19"
  }
 },
 "nbformat": 4,
 "nbformat_minor": 5
}
