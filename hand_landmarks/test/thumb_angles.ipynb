{
 "cells": [
  {
   "cell_type": "code",
   "execution_count": 1,
   "id": "9abec0e5",
   "metadata": {},
   "outputs": [
    {
     "name": "stdout",
     "output_type": "stream",
     "text": [
      "Jupyter environment detected. Enabling Open3D WebVisualizer.\n",
      "[Open3D INFO] WebRTC GUI backend enabled.\n",
      "[Open3D INFO] WebRTCWindowSystem: HTTP handshake server disabled.\n"
     ]
    }
   ],
   "source": [
    "%matplotlib inline\n",
    "%matplotlib widget \n",
    "\n",
    "import numpy as np\n",
    "from scipy.spatial.transform import Rotation as R\n",
    "import math\n",
    "import matplotlib.pyplot as plt\n",
    "from mpl_toolkits.mplot3d import Axes3D\n",
    "import queue\n",
    "import open3d as o3d\n",
    "import time\n",
    "import threading"
   ]
  },
  {
   "cell_type": "code",
   "execution_count": 2,
   "id": "7d1cf83d",
   "metadata": {},
   "outputs": [],
   "source": [
    "hand_lmks_file = np.load('../hand_landmarks.npz')"
   ]
  },
  {
   "cell_type": "code",
   "execution_count": 3,
   "id": "6a017c8d",
   "metadata": {},
   "outputs": [],
   "source": [
    "hand_lmks = hand_lmks_file[\"landmarks\"]"
   ]
  },
  {
   "cell_type": "code",
   "execution_count": 4,
   "id": "9e16b287",
   "metadata": {},
   "outputs": [
    {
     "data": {
      "text/plain": [
       "(67, 21, 3)"
      ]
     },
     "execution_count": 4,
     "metadata": {},
     "output_type": "execute_result"
    }
   ],
   "source": [
    "hand_lmks.shape"
   ]
  },
  {
   "cell_type": "code",
   "execution_count": 5,
   "id": "11ae80e9",
   "metadata": {},
   "outputs": [],
   "source": [
    "hand_lmks_queue = queue.Queue()"
   ]
  },
  {
   "cell_type": "code",
   "execution_count": 6,
   "id": "7c90bac0",
   "metadata": {},
   "outputs": [],
   "source": [
    "for i in range(hand_lmks.shape[0]):\n",
    "    lmks = hand_lmks[i, ...]\n",
    "    wrist, all_fingers = lmks[0, :], lmks[1:, :]\n",
    "    all_finges = np.reshape(all_fingers, (5, 4, 3))\n",
    "    hand_lmks_queue.put((wrist, all_fingers))"
   ]
  },
  {
   "cell_type": "code",
   "execution_count": 7,
   "id": "e368f75f",
   "metadata": {},
   "outputs": [
    {
     "data": {
      "text/plain": [
       "67"
      ]
     },
     "execution_count": 7,
     "metadata": {},
     "output_type": "execute_result"
    }
   ],
   "source": [
    "hand_lmks_queue.qsize()"
   ]
  },
  {
   "cell_type": "code",
   "execution_count": 8,
   "id": "876801e5",
   "metadata": {},
   "outputs": [],
   "source": [
    "def calculate_angles_between_joints(wrist_XYZ, fingers_XYZ_wrt_wrist, degrees=True):\n",
    "    def angle_between(a, b, project_to=None):\n",
    "        \"\"\"\n",
    "        project_to = None means project to \"xyz\"\n",
    "        \"\"\"\n",
    "\n",
    "        if a.ndim == 1:\n",
    "            a = np.full_like(b, a)\n",
    "\n",
    "        mask = [1, 1, 1]\n",
    "        if project_to is not None:\n",
    "            assert project_to in [\"xy\", \"xz\", \"yz\"]\n",
    "            if project_to == \"xy\":\n",
    "                #mask = [1, 1, 0]\n",
    "                a = np.delete(a, -1, axis=1)\n",
    "                b = np.delete(b, -1, axis=1)\n",
    "            elif project_to == \"xz\":\n",
    "                ##mask = [1, 0, 1]\n",
    "                a = np.delete(a, 1, axis=1)\n",
    "                b = np.delete(b, 1, axis=1)\n",
    "            else:\n",
    "                #mask = [0, 1, 1]\n",
    "                a = np.delete(a, 0, axis=1)\n",
    "                b = np.delete(b, 0, axis=1)\n",
    "        #a = a * mask\n",
    "        #b = b * mask\n",
    "\n",
    "        dot_product = np.sum(a * b, axis=1)  # calculate dot product by element-wise style instead of using np.dot\n",
    "        magnitude_a = np.linalg.norm(a, axis=1)\n",
    "        magnitude_b = np.linalg.norm(b, axis=1)\n",
    "        cos_theta = dot_product / (magnitude_a * magnitude_b)\n",
    "        angle_radians = np.arccos(cos_theta)\n",
    "        angle_degrees = np.degrees(angle_radians)\n",
    "\n",
    "        # Get the direction\n",
    "        M = np.concatenate([a[:, None, :], b[:, None, :]], axis=1)\n",
    "        dets = np.linalg.det(M)\n",
    "        directions = np.sign(dets)\n",
    "        angle_degrees *= directions\n",
    "\n",
    "        return angle_degrees\n",
    "\n",
    "    assert np.sum(np.abs(wrist_XYZ)).astype(np.int8) == 0\n",
    "\n",
    "    angles = np.zeros(shape=fingers_XYZ_wrt_wrist.shape[:-1])\n",
    "    y_unit = np.array([0, 1, 0])\n",
    "\n",
    "    \"\"\"\n",
    "    For now, we dont calculate the angles of thumb finger\n",
    "    \"\"\"\n",
    "\n",
    "    # Angles of J11 - > J51\n",
    "    # The order of params a and b is important here, because we will compute determinant to get the direction\n",
    "    angles[:, 0] = angle_between(vector_y,\n",
    "                                    fingers_XYZ_wrt_wrist[:, 1, :] - fingers_XYZ_wrt_wrist[:, 0, :],\n",
    "                                    project_to=\"yz\")\n",
    "\n",
    "    # Angles of J12 - > J52\n",
    "    # The order of params a and b is important here, because we will compute determinant to get the direction\n",
    "    angles[:, 1] = angle_between(fingers_XYZ_wrt_wrist[:, 0, :],\n",
    "                                    fingers_XYZ_wrt_wrist[:, 1, :] - fingers_XYZ_wrt_wrist[:, 0, :],\n",
    "                                    project_to=\"xy\")\n",
    "\n",
    "    # Angles of J13 - > J53\n",
    "    # The order of params a and b is important here, because we will compute determinant to get the direction\n",
    "    angles[:, 2] = angle_between(fingers_XYZ_wrt_wrist[:, 1, :] - fingers_XYZ_wrt_wrist[:, 0, :],\n",
    "                                    fingers_XYZ_wrt_wrist[:, 2, :] - fingers_XYZ_wrt_wrist[:, 1, :],\n",
    "                                    project_to=\"xy\")\n",
    "\n",
    "    # Angles of J14 - > J54\n",
    "    # The order of params a and b is important here, because we will compute determinant to get the direction\n",
    "    angles[:, 3] = angle_between(fingers_XYZ_wrt_wrist[:, 2, :] - fingers_XYZ_wrt_wrist[:, 1, :],\n",
    "                                    fingers_XYZ_wrt_wrist[:, 3, :] - fingers_XYZ_wrt_wrist[:, 2, :],\n",
    "                                    project_to=\"xy\")\n",
    "\n",
    "    joint_1_weight = np.interp(np.absolute(angles[:, 1]), [0, 90], [1, 0])\n",
    "    angles[:, 0] *= joint_1_weight\n",
    "\n",
    "    #angles = bound_angles(angles, degrees=True)\n",
    "\n",
    "    if not degrees:\n",
    "        angles = angles * math.pi / 180                                     \n",
    "    return angles"
   ]
  },
  {
   "cell_type": "code",
   "execution_count": 9,
   "id": "3e52d26f",
   "metadata": {},
   "outputs": [],
   "source": [
    "def show_lmks(hand_lmks_queue):\n",
    "    x = np.array([[500, 0, 0],\n",
    "                  [0, 0, 0]])\n",
    "    pcd = o3d.geometry.PointCloud()\n",
    "    pcd.points = o3d.utility.Vector3dVector(x)\n",
    "\n",
    "    lines = [[0, 0]]\n",
    "    colors = [[1, 0, 0] for i in range(len(lines))]\n",
    "    line_set = o3d.geometry.LineSet(\n",
    "        points=o3d.utility.Vector3dVector(x),\n",
    "        lines=o3d.utility.Vector2iVector(lines)\n",
    "    )\n",
    "    line_set.colors = o3d.utility.Vector3dVector(colors)    \n",
    "    vis = o3d.visualization.Visualizer()\n",
    "    vis.create_window()\n",
    "    vis.add_geometry(pcd)\n",
    "    vis.add_geometry(line_set)\n",
    "\n",
    "    for i in range(hand_lmks_queue.qsize()):\n",
    "        wrist, finger_lmks = hand_lmks_queue.get()\n",
    "        finger_lmks_flat = np.reshape(finger_lmks, (-1, 3))\n",
    "        pts = np.vstack((wrist[None, :], finger_lmks_flat))\n",
    "        pcd.points = o3d.utility.Vector3dVector(pts[:5, :])\n",
    "\n",
    "        lines = [[0, 1], [1, 2], [2, 3], [3, 4]]\n",
    "        colors = [[1, 0, 0] for i in range(len(lines))]\n",
    "        line_set.points = o3d.utility.Vector3dVector(pts)  # Update the points\n",
    "        line_set.lines = o3d.utility.Vector2iVector(lines)  # Update the lines\n",
    "        line_set.colors = o3d.utility.Vector3dVector(colors)\n",
    "\n",
    "        # Update the visualization\n",
    "        vis.update_geometry(pcd)\n",
    "        vis.update_geometry(line_set)\n",
    "        vis.poll_events()\n",
    "        vis.update_renderer()\n",
    "        \n",
    "        # Capture screen image\n",
    "        vis.capture_screen_image(\"temp_%04d.jpg\" % i)\n",
    "        \n",
    "        # Calc. angles\n",
    "        finger_lmks = np.reshape(finger_lmks, (5, 4, 3))\n",
    "        angles = calculate_angles_between_joints(wrist, finger_lmks)\n",
    "        \n",
    "        print(\"--- Frame {}: ---\".format(i))\n",
    "        print(angles[0, :])\n",
    "        \n",
    "        time.sleep(0.1)"
   ]
  },
  {
   "cell_type": "code",
   "execution_count": 10,
   "id": "ee2c103a",
   "metadata": {
    "scrolled": true
   },
   "outputs": [
    {
     "name": "stdout",
     "output_type": "stream",
     "text": [
      "--- Frame 0: ---\n",
      "[13.41328684 -3.77346185 -5.61133709  0.61858127]\n",
      "--- Frame 1: ---\n",
      "[12.03187402 -9.88365337 -6.95293542 -3.3093726 ]\n",
      "--- Frame 2: ---\n",
      "[12.0062507  -8.37070997 -6.54351086 -1.98267007]\n",
      "--- Frame 3: ---\n",
      "[11.80069102 -7.60169358 -6.25279916  2.21684885]\n",
      "--- Frame 4: ---\n",
      "[11.46645601 -7.10262022 -5.99323215  2.56355627]\n",
      "--- Frame 5: ---\n",
      "[11.53587713 -8.14796192 -6.15641606  1.20415029]\n",
      "--- Frame 6: ---\n",
      "[13.5866985  -7.01710656 -5.81100607 -7.8983707 ]\n",
      "--- Frame 7: ---\n",
      "[25.36256452  3.18104939  0.15396645  2.97940182]\n",
      "--- Frame 8: ---\n",
      "[27.77077108  4.18192967  4.74312909  2.44397583]\n",
      "--- Frame 9: ---\n",
      "[27.70463314  4.355189    2.77906683  2.63087691]\n",
      "--- Frame 10: ---\n",
      "[27.41531457  4.74303118  1.5517541  -1.74983372]\n",
      "--- Frame 11: ---\n",
      "[27.90031679  4.24266333 -0.96991582 -4.08254913]\n",
      "--- Frame 12: ---\n",
      "[ 28.09365051   5.19435567   0.12239566 -10.48787283]\n",
      "--- Frame 13: ---\n",
      "[ 27.80098158   5.66489237  -0.2706732  -17.60053745]\n",
      "--- Frame 14: ---\n",
      "[ 28.0574014    5.31774126  -0.68797024 -21.69185655]\n",
      "--- Frame 15: ---\n",
      "[ 27.93017444   4.83059451  -3.05842206 -24.86201038]\n",
      "--- Frame 16: ---\n",
      "[27.95896856  4.43204196 -1.84382094 -2.75563789]\n",
      "--- Frame 17: ---\n",
      "[25.63878187  3.77807329  4.9848141   8.86682955]\n",
      "--- Frame 18: ---\n",
      "[25.28886978  3.8183035   6.50839916 11.07020338]\n",
      "--- Frame 19: ---\n",
      "[25.04312544  4.3777096   6.12686811  9.23907658]\n",
      "--- Frame 20: ---\n",
      "[25.64748064  4.50342237  6.88650384 10.06402541]\n",
      "--- Frame 21: ---\n",
      "[25.66470552  3.28509908  1.19580587  2.8194898 ]\n",
      "--- Frame 22: ---\n",
      "[29.36344157  0.57969079 -3.62738806 -0.94641552]\n",
      "--- Frame 23: ---\n",
      "[28.86060668  0.1956635  -5.54731654 -8.93570321]\n",
      "--- Frame 24: ---\n",
      "[ 28.73143752   1.1205678   -3.33106262 -10.26679716]\n",
      "--- Frame 25: ---\n",
      "[19.36420512 -2.83410409 -3.34436966  5.89184034]\n",
      "--- Frame 26: ---\n",
      "[28.28027728  3.01429018  0.89055228  8.41532597]\n",
      "--- Frame 27: ---\n",
      "[27.70589154  2.76298102  2.26371384  9.62310459]\n",
      "--- Frame 28: ---\n",
      "[29.19630485  1.4268041  -5.20925558 -2.79338673]\n",
      "--- Frame 29: ---\n",
      "[28.72737355 -0.1111887  -7.95215698 -9.49303703]\n",
      "--- Frame 30: ---\n",
      "[28.74421655 -0.32683246 -4.34735196 -1.58834677]\n",
      "--- Frame 31: ---\n",
      "[ 25.89477908   0.41814682  -5.13859023 -10.2669065 ]\n",
      "--- Frame 32: ---\n",
      "[ 24.40891249  -1.94888463  -4.77856821 -12.72441126]\n",
      "--- Frame 33: ---\n",
      "[ 23.68227883  -3.24907845  -3.4576041  -12.74143721]\n",
      "--- Frame 34: ---\n",
      "[22.71299659 -3.78782063 -4.23001582 -8.96613439]\n",
      "--- Frame 35: ---\n",
      "[ 22.75055275  -4.38248136  -4.08171556 -10.69713963]\n",
      "--- Frame 36: ---\n",
      "[21.36120862 -5.6745475  -3.25454877 -7.54309229]\n",
      "--- Frame 37: ---\n",
      "[ 23.88592147  -6.07958059  -2.59328812 -12.49032307]\n",
      "--- Frame 38: ---\n",
      "[ 28.16198675  -0.44305205  -0.79585372 -15.35630839]\n",
      "--- Frame 39: ---\n",
      "[26.73669395  1.55031228 -2.29533412  1.5762782 ]\n",
      "--- Frame 40: ---\n",
      "[26.75248175  1.12435042  3.58612361  3.83098042]\n",
      "--- Frame 41: ---\n",
      "[25.08842048 -1.38018519 11.22340995  8.32659   ]\n",
      "--- Frame 42: ---\n",
      "[19.08383873 16.69945853  4.14687077 -8.02215664]\n",
      "--- Frame 43: ---\n",
      "[26.08249049 14.53797416 -5.75870852 -2.60696344]\n",
      "--- Frame 44: ---\n",
      "[23.32665056 15.27791108 -4.93605554 -9.473913  ]\n",
      "--- Frame 45: ---\n",
      "[23.00949518 12.20928503 -4.77945687 -5.0282806 ]\n",
      "--- Frame 46: ---\n",
      "[20.77328293 10.06083951 -4.12479743 -5.44739468]\n",
      "--- Frame 47: ---\n",
      "[19.64385637  8.78407733 -2.73914827 -3.30734775]\n",
      "--- Frame 48: ---\n",
      "[18.83447041  9.23737625 -2.39387646 -1.51874625]\n",
      "--- Frame 49: ---\n",
      "[18.87324181  6.74869427 -3.71850139 -2.16663349]\n",
      "--- Frame 50: ---\n",
      "[19.51292621  7.2663227  -3.01195186 -3.74140589]\n",
      "--- Frame 51: ---\n",
      "[22.75704364 10.29764958 -6.9867581   2.19811308]\n",
      "--- Frame 52: ---\n",
      "[ 27.23637737  10.68926517 -15.223875   -14.33337796]\n",
      "--- Frame 53: ---\n",
      "[26.9785885  10.020585   -5.91882535 -2.98034409]\n",
      "--- Frame 54: ---\n",
      "[22.18562657  8.79122744 -2.79369586 -1.04449053]\n",
      "--- Frame 55: ---\n",
      "[18.54131247  8.29493041 -1.69163378 -0.36558968]\n",
      "--- Frame 56: ---\n",
      "[17.29315637  7.72658656 -0.70827565  2.03488405]\n",
      "--- Frame 57: ---\n",
      "[17.60142873  7.54653642 -0.56958881  1.5161837 ]\n",
      "--- Frame 58: ---\n",
      "[15.91037231  8.91058021 -0.58327569  2.63336129]\n",
      "--- Frame 59: ---\n",
      "[ 26.48623263   8.98174373 -13.65462056  -0.22890116]\n",
      "--- Frame 60: ---\n",
      "[ 26.05005392   7.82997632 -14.79649467  -5.14613011]\n",
      "--- Frame 61: ---\n",
      "[27.02147547 18.2915268  17.87118961 12.76456401]\n",
      "--- Frame 62: ---\n",
      "[22.72747889 21.19107844 18.59224428 17.5707508 ]\n",
      "--- Frame 63: ---\n",
      "[21.22996458 17.3532213  14.98786472  5.45806537]\n",
      "--- Frame 64: ---\n",
      "[21.93495325 17.00216966 -2.46135159 -8.12457192]\n",
      "--- Frame 65: ---\n",
      "[25.69964497 15.37196026 -3.9047652  -4.66195565]\n",
      "--- Frame 66: ---\n",
      "[23.41298288 15.91989267 -3.9647186  -5.35005296]\n"
     ]
    }
   ],
   "source": [
    "show_thread = threading.Thread(target=show_lmks, args=(hand_lmks_queue,), daemon=True)\n",
    "show_thread.start()"
   ]
  },
  {
   "cell_type": "code",
   "execution_count": null,
   "id": "ae29ce5e",
   "metadata": {},
   "outputs": [],
   "source": []
  },
  {
   "cell_type": "code",
   "execution_count": 17,
   "id": "2e85adcd",
   "metadata": {},
   "outputs": [],
   "source": [
    "landmarks = hand_lmks[15, :]"
   ]
  },
  {
   "cell_type": "code",
   "execution_count": 10,
   "id": "6d97cce4",
   "metadata": {},
   "outputs": [
    {
     "data": {
      "text/plain": [
       "(21, 3)"
      ]
     },
     "execution_count": 10,
     "metadata": {},
     "output_type": "execute_result"
    }
   ],
   "source": [
    "landmarks.shape"
   ]
  },
  {
   "cell_type": "code",
   "execution_count": 37,
   "id": "8a3593fa",
   "metadata": {},
   "outputs": [],
   "source": [
    "pcd = o3d.geometry.PointCloud()\n",
    "pcd.points = o3d.utility.Vector3dVector(landmarks)\n",
    "\n",
    "lines = [[0, 1], [1, 2], [2, 3], [3, 4],\n",
    "                     [0, 5], [5, 6], [6, 7], [7, 8],\n",
    "                     [0, 9], [9, 10], [10, 11], [11, 12],\n",
    "                     [0, 13], [13, 14], [14, 15], [15, 16],\n",
    "                     [0, 17], [17, 18], [18, 19], [19, 20]]    \n",
    "colors = [[1, 0, 0] for i in range(len(lines))]\n",
    "line_set = o3d.geometry.LineSet(\n",
    "    points=o3d.utility.Vector3dVector(landmarks),\n",
    "    lines=o3d.utility.Vector2iVector(lines)\n",
    ")\n",
    "o3d.visualization.draw_geometries([line_set, pcd])"
   ]
  },
  {
   "cell_type": "code",
   "execution_count": 18,
   "id": "6d5cfc79",
   "metadata": {},
   "outputs": [],
   "source": [
    "wrist, fingers = landmarks[0, ...], landmarks[1:, ...]\n",
    "fingers = np.reshape(fingers, (5, 4, 3))"
   ]
  },
  {
   "cell_type": "code",
   "execution_count": 83,
   "id": "040bbaaf",
   "metadata": {},
   "outputs": [],
   "source": [
    "thumb = fingers[0, ...]"
   ]
  },
  {
   "cell_type": "code",
   "execution_count": 84,
   "id": "3d524725",
   "metadata": {},
   "outputs": [
    {
     "data": {
      "text/plain": [
       "(4, 3)"
      ]
     },
     "execution_count": 84,
     "metadata": {},
     "output_type": "execute_result"
    }
   ],
   "source": [
    "thumb.shape"
   ]
  },
  {
   "cell_type": "code",
   "execution_count": 85,
   "id": "97f26f93",
   "metadata": {},
   "outputs": [],
   "source": [
    "x_unit = np.array([1, 0, 0])\n",
    "y_unit = np.array([0, 1, 0])\n",
    "z_unit = np.array([0, 0, 1])"
   ]
  },
  {
   "cell_type": "code",
   "execution_count": 86,
   "id": "77d7318b",
   "metadata": {},
   "outputs": [],
   "source": [
    "dot_j11_and_x = np.dot(x_unit, (thumb[1, ...] - thumb[0, ...]) * [1, 0, 1])\n",
    "cos_value = dot_j11_and_x / (np.linalg.norm((thumb[1, ...] - thumb[0, ...]) * [1, 0, 1]) * np.linalg.norm(x_unit))\n",
    "angle_radian = np.arccos(cos_value)\n",
    "J11_angle = np.degrees(angle_radian)"
   ]
  },
  {
   "cell_type": "code",
   "execution_count": 87,
   "id": "e1b5374a",
   "metadata": {},
   "outputs": [
    {
     "data": {
      "text/plain": [
       "79.54312753152918"
      ]
     },
     "execution_count": 87,
     "metadata": {},
     "output_type": "execute_result"
    }
   ],
   "source": [
    "J11_angle"
   ]
  },
  {
   "cell_type": "code",
   "execution_count": 88,
   "id": "ad2a32b5",
   "metadata": {},
   "outputs": [],
   "source": [
    "dot_j12_and_z = np.dot(z_unit, (thumb[2, ...] - thumb[1, ...]) * [0, 1, 1])\n",
    "cos_value = dot_j12_and_z / (np.linalg.norm((thumb[2, ...] - thumb[1, ...]) * [0, 1, 1]) * np.linalg.norm(z_unit))\n",
    "angle_radian = np.arccos(cos_value)\n",
    "J12_angle = np.degrees(angle_radian)"
   ]
  },
  {
   "cell_type": "code",
   "execution_count": 89,
   "id": "b02cf158",
   "metadata": {},
   "outputs": [
    {
     "data": {
      "text/plain": [
       "68.46304998948226"
      ]
     },
     "execution_count": 89,
     "metadata": {},
     "output_type": "execute_result"
    }
   ],
   "source": [
    "J12_angle"
   ]
  },
  {
   "cell_type": "code",
   "execution_count": 90,
   "id": "b522d0e1",
   "metadata": {},
   "outputs": [],
   "source": [
    "dot_j13 = np.dot(thumb[1, ...] - thumb[0, ...], thumb[2, ...] - thumb[1, ...])\n",
    "cos_value = dot_j13 / (np.linalg.norm(thumb[1, ...] - thumb[0, ...]) * np.linalg.norm(thumb[2, ...] - thumb[1, ...]))\n",
    "angle_rad = np.arccos(cos_value)\n",
    "J13_angle = np.degrees(angle_rad)"
   ]
  },
  {
   "cell_type": "code",
   "execution_count": 91,
   "id": "1aff6043",
   "metadata": {},
   "outputs": [
    {
     "data": {
      "text/plain": [
       "8.54483050428159"
      ]
     },
     "execution_count": 91,
     "metadata": {},
     "output_type": "execute_result"
    }
   ],
   "source": [
    "J13_angle"
   ]
  },
  {
   "cell_type": "code",
   "execution_count": 95,
   "id": "69c9a40d",
   "metadata": {},
   "outputs": [
    {
     "data": {
      "text/plain": [
       "array([0., 0., 0., 0.])"
      ]
     },
     "execution_count": 95,
     "metadata": {},
     "output_type": "execute_result"
    }
   ],
   "source": [
    "np.zeros(4)"
   ]
  },
  {
   "cell_type": "code",
   "execution_count": 96,
   "id": "b26ee480",
   "metadata": {},
   "outputs": [
    {
     "data": {
      "text/plain": [
       "array([[  5.46387672,  28.65561281,  30.16236796],\n",
       "       [  9.884449  ,  70.96576297,  54.11424478],\n",
       "       [ 14.62564868, 100.8227585 ,  65.89747618],\n",
       "       [ 20.3321516 , 109.31971416,  56.97020626]])"
      ]
     },
     "execution_count": 96,
     "metadata": {},
     "output_type": "execute_result"
    }
   ],
   "source": [
    "thumb"
   ]
  },
  {
   "cell_type": "code",
   "execution_count": 97,
   "id": "04e6a6e9",
   "metadata": {},
   "outputs": [],
   "source": [
    "a = np.array([x_unit, z_unit, thumb[1, ...] - thumb[0, ...]])"
   ]
  },
  {
   "cell_type": "code",
   "execution_count": 98,
   "id": "77a66dec",
   "metadata": {},
   "outputs": [],
   "source": [
    "b = np.array([(thumb[1, ...] - thumb[0, ...]) * [1, 0, 1],\n",
    "              (thumb[2, ...] - thumb[1, ...]) * [0, 1, 1] ,\n",
    "              thumb[2, ...] - thumb[1, ...]])"
   ]
  },
  {
   "cell_type": "code",
   "execution_count": 99,
   "id": "e0f1928b",
   "metadata": {},
   "outputs": [],
   "source": [
    "x = np.arccos(np.sum(a * b, axis=1) / (np.linalg.norm(a, axis=1) * np.linalg.norm(b, axis=1)))"
   ]
  },
  {
   "cell_type": "code",
   "execution_count": 100,
   "id": "14c3df3a",
   "metadata": {},
   "outputs": [],
   "source": [
    "y = np.degrees(x)"
   ]
  },
  {
   "cell_type": "code",
   "execution_count": 101,
   "id": "7f23a135",
   "metadata": {},
   "outputs": [],
   "source": [
    "y = np.concatenate([y, y[-1:]])"
   ]
  },
  {
   "cell_type": "code",
   "execution_count": 102,
   "id": "3cfedc47",
   "metadata": {},
   "outputs": [
    {
     "data": {
      "text/plain": [
       "array([79.54312753, 68.46304999,  8.5448305 ,  8.5448305 ])"
      ]
     },
     "execution_count": 102,
     "metadata": {},
     "output_type": "execute_result"
    }
   ],
   "source": [
    "y"
   ]
  },
  {
   "cell_type": "code",
   "execution_count": 103,
   "id": "95db263a",
   "metadata": {},
   "outputs": [
    {
     "data": {
      "text/plain": [
       "-2.0000000000000004"
      ]
     },
     "execution_count": 103,
     "metadata": {},
     "output_type": "execute_result"
    }
   ],
   "source": [
    "np.linalg.det(np.array([[1, 2], [3, 4]]))"
   ]
  },
  {
   "cell_type": "code",
   "execution_count": 106,
   "id": "2d5e70cc",
   "metadata": {},
   "outputs": [
    {
     "ename": "TypeError",
     "evalue": "cross() missing 1 required positional argument: 'b'",
     "output_type": "error",
     "traceback": [
      "\u001b[0;31m---------------------------------------------------------------------------\u001b[0m",
      "\u001b[0;31mTypeError\u001b[0m                                 Traceback (most recent call last)",
      "Cell \u001b[0;32mIn[106], line 1\u001b[0m\n\u001b[0;32m----> 1\u001b[0m \u001b[43mnp\u001b[49m\u001b[38;5;241;43m.\u001b[39;49m\u001b[43mcross\u001b[49m\u001b[43m(\u001b[49m\u001b[43mnp\u001b[49m\u001b[38;5;241;43m.\u001b[39;49m\u001b[43marray\u001b[49m\u001b[43m(\u001b[49m\u001b[43m[\u001b[49m\u001b[43m[\u001b[49m\u001b[38;5;241;43m1\u001b[39;49m\u001b[43m,\u001b[49m\u001b[43m \u001b[49m\u001b[38;5;241;43m2\u001b[39;49m\u001b[43m,\u001b[49m\u001b[43m \u001b[49m\u001b[38;5;241;43m3\u001b[39;49m\u001b[43m]\u001b[49m\u001b[43m,\u001b[49m\u001b[43m \u001b[49m\u001b[43m[\u001b[49m\u001b[38;5;241;43m3\u001b[39;49m\u001b[43m,\u001b[49m\u001b[43m \u001b[49m\u001b[38;5;241;43m4\u001b[39;49m\u001b[43m,\u001b[49m\u001b[43m \u001b[49m\u001b[38;5;241;43m2\u001b[39;49m\u001b[43m]\u001b[49m\u001b[43m]\u001b[49m\u001b[43m)\u001b[49m\u001b[43m)\u001b[49m\n",
      "File \u001b[0;32m<__array_function__ internals>:198\u001b[0m, in \u001b[0;36mcross\u001b[0;34m(*args, **kwargs)\u001b[0m\n",
      "\u001b[0;31mTypeError\u001b[0m: cross() missing 1 required positional argument: 'b'"
     ]
    }
   ],
   "source": [
    "np.cross(np.array([[1, 2, 3], [3, 4, 2]]))"
   ]
  },
  {
   "cell_type": "code",
   "execution_count": 107,
   "id": "d26509fa",
   "metadata": {},
   "outputs": [
    {
     "data": {
      "text/plain": [
       "array([-8,  7, -2])"
      ]
     },
     "execution_count": 107,
     "metadata": {},
     "output_type": "execute_result"
    }
   ],
   "source": [
    "np.cross([1, 2, 3], [3, 4, 2])"
   ]
  },
  {
   "cell_type": "code",
   "execution_count": 110,
   "id": "3a548298",
   "metadata": {},
   "outputs": [
    {
     "data": {
      "text/plain": [
       "-9.999999999999998"
      ]
     },
     "execution_count": 110,
     "metadata": {},
     "output_type": "execute_result"
    }
   ],
   "source": [
    "np.linalg.det([[5, 0], [6, -2]])"
   ]
  },
  {
   "cell_type": "code",
   "execution_count": 111,
   "id": "6946dd08",
   "metadata": {},
   "outputs": [
    {
     "data": {
      "text/plain": [
       "array([0, 0, 0])"
      ]
     },
     "execution_count": 111,
     "metadata": {},
     "output_type": "execute_result"
    }
   ],
   "source": [
    "np.cross([1, 1, 1], [1, 1, 1])"
   ]
  },
  {
   "cell_type": "code",
   "execution_count": 113,
   "id": "64b7940c",
   "metadata": {},
   "outputs": [
    {
     "data": {
      "text/plain": [
       "-5.0"
      ]
     },
     "execution_count": 113,
     "metadata": {},
     "output_type": "execute_result"
    }
   ],
   "source": [
    "5 * -1100 / np.absolute(1100)"
   ]
  },
  {
   "cell_type": "code",
   "execution_count": 114,
   "id": "fbe44587",
   "metadata": {},
   "outputs": [
    {
     "data": {
      "text/plain": [
       "array([[ 0,  0,  1],\n",
       "       [ 0,  0, -1]])"
      ]
     },
     "execution_count": 114,
     "metadata": {},
     "output_type": "execute_result"
    }
   ],
   "source": [
    "a = np.array([[1, 0, 0],\n",
    "              [1, 0, 0]])\n",
    "b = np.array([[0, 1, 0],\n",
    "              [0, -1, 0]])\n",
    "np.cross(a, b)"
   ]
  },
  {
   "cell_type": "code",
   "execution_count": 120,
   "id": "b3ed811c",
   "metadata": {},
   "outputs": [
    {
     "ename": "ZeroDivisionError",
     "evalue": "float division by zero",
     "output_type": "error",
     "traceback": [
      "\u001b[0;31m---------------------------------------------------------------------------\u001b[0m",
      "\u001b[0;31mZeroDivisionError\u001b[0m                         Traceback (most recent call last)",
      "Cell \u001b[0;32mIn[120], line 1\u001b[0m\n\u001b[0;32m----> 1\u001b[0m np\u001b[38;5;241m.\u001b[39mround(\u001b[38;5;241;43m1\u001b[39;49m\u001b[43m \u001b[49m\u001b[38;5;241;43m/\u001b[39;49m\u001b[43m \u001b[49m\u001b[43m(\u001b[49m\u001b[38;5;241;43m0\u001b[39;49m\u001b[43m \u001b[49m\u001b[38;5;241;43m*\u001b[39;49m\u001b[43m \u001b[49m\u001b[38;5;241;43m1e-9\u001b[39;49m\u001b[43m)\u001b[49m)\n",
      "\u001b[0;31mZeroDivisionError\u001b[0m: float division by zero"
     ]
    }
   ],
   "source": [
    "np.round(1 / (0 * 1e-9))"
   ]
  },
  {
   "cell_type": "code",
   "execution_count": 146,
   "id": "76980a14",
   "metadata": {},
   "outputs": [],
   "source": [
    "c_z = 0"
   ]
  },
  {
   "cell_type": "code",
   "execution_count": 147,
   "id": "07eb633f",
   "metadata": {},
   "outputs": [],
   "source": [
    "c_z = c_z + 1e-9"
   ]
  },
  {
   "cell_type": "code",
   "execution_count": 148,
   "id": "3510de25",
   "metadata": {},
   "outputs": [
    {
     "data": {
      "text/plain": [
       "5.0"
      ]
     },
     "execution_count": 148,
     "metadata": {},
     "output_type": "execute_result"
    }
   ],
   "source": [
    "round(5 * c_z / np.absolute(c_z), 4)"
   ]
  },
  {
   "cell_type": "code",
   "execution_count": 152,
   "id": "f3b5c9fc",
   "metadata": {},
   "outputs": [
    {
     "data": {
      "text/plain": [
       "898.0"
      ]
     },
     "execution_count": 152,
     "metadata": {},
     "output_type": "execute_result"
    }
   ],
   "source": [
    "898 * 1e-9 / 1e-9"
   ]
  },
  {
   "cell_type": "code",
   "execution_count": 162,
   "id": "402fead6",
   "metadata": {},
   "outputs": [],
   "source": [
    "x = np.array([1, 2, 3])\n",
    "y = np.array([-1])"
   ]
  },
  {
   "cell_type": "code",
   "execution_count": 163,
   "id": "951d49ca",
   "metadata": {},
   "outputs": [],
   "source": [
    "x[-1] = x[-1] * y[0]"
   ]
  },
  {
   "cell_type": "code",
   "execution_count": 164,
   "id": "07c01a5e",
   "metadata": {},
   "outputs": [
    {
     "data": {
      "text/plain": [
       "array([ 1,  2, -3])"
      ]
     },
     "execution_count": 164,
     "metadata": {},
     "output_type": "execute_result"
    }
   ],
   "source": [
    "x"
   ]
  },
  {
   "cell_type": "code",
   "execution_count": null,
   "id": "cfe0b2b3",
   "metadata": {},
   "outputs": [],
   "source": []
  }
 ],
 "metadata": {
  "kernelspec": {
   "display_name": "Python 3 (ipykernel)",
   "language": "python",
   "name": "python3"
  },
  "language_info": {
   "codemirror_mode": {
    "name": "ipython",
    "version": 3
   },
   "file_extension": ".py",
   "mimetype": "text/x-python",
   "name": "python",
   "nbconvert_exporter": "python",
   "pygments_lexer": "ipython3",
   "version": "3.8.10"
  }
 },
 "nbformat": 4,
 "nbformat_minor": 5
}
