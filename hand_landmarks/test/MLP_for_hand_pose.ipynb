{
 "cells": [
  {
   "cell_type": "code",
   "execution_count": 1,
   "id": "90a14009-0976-41cf-8b28-896dad8c142b",
   "metadata": {},
   "outputs": [
    {
     "name": "stdout",
     "output_type": "stream",
     "text": [
      "Jupyter environment detected. Enabling Open3D WebVisualizer.\n",
      "[Open3D INFO] WebRTC GUI backend enabled.\n",
      "[Open3D INFO] WebRTCWindowSystem: HTTP handshake server disabled.\n"
     ]
    }
   ],
   "source": [
    "import numpy as np\n",
    "import open3d as o3d\n",
    "\n",
    "import torch\n",
    "import torch.nn as nn\n",
    "import torch.optim as optim\n",
    "from torch.utils.data import DataLoader, TensorDataset\n",
    "from sklearn.model_selection import train_test_split\n",
    "from sklearn.preprocessing import StandardScaler\n",
    "import pandas as pd\n",
    "import numpy as np\n",
    "\n",
    "import time"
   ]
  },
  {
   "cell_type": "code",
   "execution_count": 2,
   "id": "501d9e73-e74e-41e9-93bb-9a4c752932bc",
   "metadata": {},
   "outputs": [],
   "source": [
    "class MLP(nn.Module):\n",
    "    def __init__(self, input_size, hidden_size, output_size):\n",
    "        super(MLP, self).__init__()\n",
    "        self.fc1 = nn.Linear(input_size, hidden_size)\n",
    "        self.fc2 = nn.Linear(hidden_size, hidden_size)\n",
    "        self.fc3 = nn.Linear(hidden_size, hidden_size)\n",
    "        self.fc4 = nn.Linear(hidden_size, hidden_size)\n",
    "        self.fc5 = nn.Linear(hidden_size, hidden_size)\n",
    "        self.fc6 = nn.Linear(hidden_size, output_size)\n",
    "        self.relu = nn.ReLU()\n",
    "        \n",
    "    def forward(self, x):\n",
    "        x = self.relu(self.fc1(x))\n",
    "        x = self.relu(self.fc2(x))\n",
    "        x = self.relu(self.fc3(x))\n",
    "        x = self.relu(self.fc4(x))\n",
    "        x = self.relu(self.fc5(x))\n",
    "        x = self.fc6(x)\n",
    "        return x"
   ]
  },
  {
   "cell_type": "code",
   "execution_count": 2,
   "id": "17f7c7e3-bee6-4579-a304-aa646b681c3a",
   "metadata": {},
   "outputs": [],
   "source": [
    "hand_lmks_file = np.load('../hand_landmarks.npz')"
   ]
  },
  {
   "cell_type": "code",
   "execution_count": 3,
   "id": "5e3f6211-31bc-43c2-a8ba-f92bf28a180f",
   "metadata": {},
   "outputs": [],
   "source": [
    "hand_lmks = hand_lmks_file[\"landmarks\"]"
   ]
  },
  {
   "cell_type": "code",
   "execution_count": 4,
   "id": "bc5133af-f316-4a0a-ab2e-233fc952b8d5",
   "metadata": {},
   "outputs": [
    {
     "data": {
      "text/plain": [
       "(69, 21, 3)"
      ]
     },
     "execution_count": 4,
     "metadata": {},
     "output_type": "execute_result"
    }
   ],
   "source": [
    "hand_lmks.shape"
   ]
  },
  {
   "cell_type": "code",
   "execution_count": 5,
   "id": "96fbdd32-6ccb-403f-8674-410230bd7a2d",
   "metadata": {},
   "outputs": [],
   "source": [
    "input_cam1_cols = [\"cam1_x0_in\", \"cam1_y0_in\", \"cam1_Z0_in\",\n",
    "               \"cam1_x1_in\", \"cam1_y1_in\", \"cam1_Z1_in\",\n",
    "               \"cam1_x2_in\", \"cam1_y2_in\", \"cam1_Z2_in\",\n",
    "               \"cam1_x3_in\", \"cam1_y3_in\", \"cam1_Z3_in\",\n",
    "               \"cam1_x4_in\", \"cam1_y4_in\", \"cam1_Z4_in\",\n",
    "               \"cam1_x5_in\", \"cam1_y5_in\", \"cam1_Z5_in\",\n",
    "               \"cam1_x6_in\", \"cam1_y6_in\", \"cam1_Z6_in\",\n",
    "               \"cam1_x7_in\", \"cam1_y7_in\", \"cam1_Z7_in\",\n",
    "               \"cam1_x8_in\", \"cam1_y8_in\", \"cam1_Z8_in\",\n",
    "               \"cam1_x9_in\", \"cam1_y9_in\", \"cam1_Z9_in\",\n",
    "               \"cam1_x10_in\", \"cam1_y10_in\", \"cam1_Z10_in\",\n",
    "               \"cam1_x11_in\", \"cam1_y11_in\", \"cam1_Z11_in\",\n",
    "               \"cam1_x12_in\", \"cam1_y12_in\", \"cam1_Z12_in\",\n",
    "               \"cam1_x13_in\", \"cam1_y13_in\", \"cam1_Z13_in\",\n",
    "               \"cam1_x14_in\", \"cam1_y14_in\", \"cam1_Z14_in\",\n",
    "               \"cam1_x15_in\", \"cam1_y15_in\", \"cam1_Z15_in\",\n",
    "               \"cam1_x16_in\", \"cam1_y16_in\", \"cam1_Z16_in\",\n",
    "               \"cam1_x17_in\", \"cam1_y17_in\", \"cam1_Z17_in\",\n",
    "               \"cam1_x18_in\", \"cam1_y18_in\", \"cam1_Z18_in\",\n",
    "               \"cam1_x19_in\", \"cam1_y19_in\", \"cam1_Z19_in\",\n",
    "               \"cam1_x20_in\", \"cam1_y20_in\", \"cam1_Z20_in\"]\n",
    "input_cam1_header = ','.join(input_cam1_cols)"
   ]
  },
  {
   "cell_type": "code",
   "execution_count": 6,
   "id": "42152ce5-2893-43e3-917b-88d638bf00b2",
   "metadata": {},
   "outputs": [],
   "source": [
    "#np.savetxt('hand_landmark_data.csv', data, delimiter=',', fmt='%f', header=output_cols_header, comments='')"
   ]
  },
  {
   "cell_type": "markdown",
   "id": "9214601b-b9c2-422c-8f58-5bc1d3fde14d",
   "metadata": {
    "jp-MarkdownHeadingCollapsed": true
   },
   "source": [
    "# Create a pseudo code for storing data to .csv file"
   ]
  },
  {
   "cell_type": "code",
   "execution_count": 7,
   "id": "4b259229-7fa0-4bd8-a612-127bfe9805b4",
   "metadata": {},
   "outputs": [],
   "source": [
    "def write_data_to_csv(file_name, data, num_cam=2):\n",
    "    num_points_each_joint = 3\n",
    "    num_joints_each_hand = 21\n",
    "    num_input_cols = num_cam * num_points_each_joint * num_joints_each_hand\n",
    "\n",
    "    input_header = input_cam1_header\n",
    "    for i in range(2, num_cam+1):\n",
    "        input_cam_i_header = input_cam1_header.replace(\"cam1\", \"cam{}\".format(i))\n",
    "        input_header += ',' + input_cam_i_header\n",
    "\n",
    "    output_header = input_cam1_header.replace(\"cam1_\", \"\").replace(\"in\", \"out\")\n",
    "    csv_header = input_header + ',' + output_header\n",
    "\n",
    "    assert len(csv_header.split(\",\")) == data.shape[1]\n",
    "\n",
    "    np.savetxt(file_name, data, delimiter=',', fmt='%f', header=csv_header, comments='')"
   ]
  },
  {
   "cell_type": "code",
   "execution_count": 8,
   "id": "668451be-5c9b-4351-b016-29feb28144e5",
   "metadata": {},
   "outputs": [],
   "source": [
    "num_frames = hand_lmks.shape[0]\n",
    "num_input_cols = 2 * 3 * 21  # num_cameras * num_points_each_landmark * num_landmarks_each_hand\n",
    "\n",
    "input_fake_data = np.random.rand(num_frames, num_input_cols)"
   ]
  },
  {
   "cell_type": "code",
   "execution_count": 9,
   "id": "efed0d81-081e-4797-a3cc-1dc5ef713804",
   "metadata": {},
   "outputs": [],
   "source": [
    "output_data = hand_lmks.reshape(hand_lmks.shape[0], -1)"
   ]
  },
  {
   "cell_type": "code",
   "execution_count": 10,
   "id": "56d05e83-75cb-47e3-9437-24bcb01945e9",
   "metadata": {
    "scrolled": true
   },
   "outputs": [],
   "source": [
    "total_data = np.concatenate([input_fake_data, output_data], axis=1)"
   ]
  },
  {
   "cell_type": "code",
   "execution_count": 11,
   "id": "46a61222-b0e3-4f80-91e3-2d22502dd26a",
   "metadata": {},
   "outputs": [],
   "source": [
    "write_data_to_csv(\"hand_landmark_data.csv\", total_data)"
   ]
  },
  {
   "cell_type": "markdown",
   "id": "685782c2-e105-4050-8d39-88728167a301",
   "metadata": {
    "jp-MarkdownHeadingCollapsed": true
   },
   "source": [
    "# Prepare data and train model"
   ]
  },
  {
   "cell_type": "code",
   "execution_count": 36,
   "id": "6114277c-3746-46c1-8c2a-cd40281a54cc",
   "metadata": {},
   "outputs": [],
   "source": [
    "num_output_nodes = output_data.shape[1]"
   ]
  },
  {
   "cell_type": "code",
   "execution_count": 37,
   "id": "3dbcede4-2a15-48f6-aa40-2d45f475dff4",
   "metadata": {},
   "outputs": [],
   "source": [
    "# Load the data from a CSV file\n",
    "data = pd.read_csv('hand_landmark_data.csv')\n",
    "\n",
    "X = data.iloc[:, :-(num_output_nodes)].values\n",
    "Y = data.iloc[:, -(num_output_nodes):].values\n",
    "\n",
    "# Convert the data to PyTorch tensors\n",
    "X_train = torch.tensor(X, dtype=torch.float32)\n",
    "Y_train = torch.tensor(Y, dtype=torch.float32)\n",
    "\n",
    "# Create DataLoader\n",
    "train_dataset = TensorDataset(X_train, Y_train)\n",
    "test_dataset = TensorDataset(X_train, Y_train)\n",
    "train_loader = DataLoader(train_dataset, batch_size=32, shuffle=True)\n",
    "test_loader = DataLoader(test_dataset, batch_size=32, shuffle=False)"
   ]
  },
  {
   "cell_type": "code",
   "execution_count": 46,
   "id": "13c1fe8b-1443-4c69-987c-593cd70ef05b",
   "metadata": {},
   "outputs": [],
   "source": [
    "input_size = X.shape[1]\n",
    "hidden_size = 64\n",
    "output_size = num_output_nodes  # Regression output\n",
    "\n",
    "model = MLP(input_size, hidden_size, output_size)\n",
    "criterion = nn.MSELoss()  # Mean Squared Error Loss\n",
    "optimizer = optim.Adam(model.parameters(), lr=0.0001)"
   ]
  },
  {
   "cell_type": "code",
   "execution_count": 48,
   "id": "bfe57051-5253-42e0-b8e4-1c41c2b28118",
   "metadata": {
    "scrolled": true
   },
   "outputs": [
    {
     "name": "stdout",
     "output_type": "stream",
     "text": [
      "Epoch [1/10000], Loss: 18.1124\n",
      "Epoch [501/10000], Loss: 16.3010\n",
      "Epoch [1001/10000], Loss: 18.5695\n",
      "Epoch [1501/10000], Loss: 17.9249\n",
      "Epoch [2001/10000], Loss: 17.1661\n",
      "Epoch [2501/10000], Loss: 18.1607\n",
      "Epoch [3001/10000], Loss: 14.4619\n",
      "Epoch [3501/10000], Loss: 14.8445\n",
      "Epoch [4001/10000], Loss: 22.8916\n",
      "Epoch [4501/10000], Loss: 18.9038\n",
      "Epoch [5001/10000], Loss: 18.1075\n",
      "Epoch [5501/10000], Loss: 16.6824\n",
      "Epoch [6001/10000], Loss: 5.9086\n",
      "Epoch [6501/10000], Loss: 3.6089\n",
      "Epoch [7001/10000], Loss: 2.5379\n",
      "Epoch [7501/10000], Loss: 3.0338\n",
      "Epoch [8001/10000], Loss: 1.9298\n",
      "Epoch [8501/10000], Loss: 1.8529\n",
      "Epoch [9001/10000], Loss: 1.8207\n",
      "Epoch [9501/10000], Loss: 1.9277\n",
      "Epoch [10000/10000], Loss: 1.2841\n"
     ]
    }
   ],
   "source": [
    "num_epochs = 10000\n",
    "\n",
    "for epoch in range(num_epochs):\n",
    "    model.train()\n",
    "    running_loss = 0.0\n",
    "    for inputs, labels in train_loader:\n",
    "        optimizer.zero_grad()\n",
    "        outputs = model(inputs)\n",
    "        loss = criterion(outputs, labels)\n",
    "        loss.backward()\n",
    "        optimizer.step()\n",
    "        running_loss += loss.item()\n",
    "\n",
    "    if epoch % 500 == 0 or epoch == num_epochs - 1:\n",
    "        print(f'Epoch [{epoch+1}/{num_epochs}], Loss: {running_loss/len(train_loader):.4f}')"
   ]
  },
  {
   "cell_type": "code",
   "execution_count": 49,
   "id": "759fa4a2-5ba4-4765-9bce-005ebc6d31bc",
   "metadata": {},
   "outputs": [
    {
     "name": "stdout",
     "output_type": "stream",
     "text": [
      "Average Loss of the model on the test set: 2.0985\n"
     ]
    }
   ],
   "source": [
    "model.eval()\n",
    "with torch.no_grad():\n",
    "    total_loss = 0.0\n",
    "    for inputs, labels in test_loader:\n",
    "        outputs = model(inputs)\n",
    "        loss = criterion(outputs, labels)\n",
    "        total_loss += loss.item()\n",
    "        \n",
    "    avg_loss = total_loss / len(test_loader)\n",
    "    print(f'Average Loss of the model on the test set: {avg_loss:.4f}')"
   ]
  },
  {
   "cell_type": "code",
   "execution_count": 50,
   "id": "48924a75-1344-4e23-9d4e-eb066a1fc521",
   "metadata": {},
   "outputs": [
    {
     "name": "stdout",
     "output_type": "stream",
     "text": [
      "Model saved to mlp_model.pth\n"
     ]
    }
   ],
   "source": [
    "# Save the model state dictionary\n",
    "torch.save(model.state_dict(), 'mlp_model.pth')\n",
    "print('Model saved to mlp_model.pth')"
   ]
  },
  {
   "cell_type": "markdown",
   "id": "5ed1ebcf-c2d9-4aeb-a9e0-b03fc7f0ea9b",
   "metadata": {
    "jp-MarkdownHeadingCollapsed": true
   },
   "source": [
    "# Inference again"
   ]
  },
  {
   "cell_type": "code",
   "execution_count": 3,
   "id": "162e11b9-f0b4-4b9f-83bf-8c570bfa645f",
   "metadata": {},
   "outputs": [],
   "source": [
    "# Load the data from a CSV file\n",
    "data = pd.read_csv('hand_landmark_data.csv')\n",
    "\n",
    "X = data.iloc[:, :-63].values"
   ]
  },
  {
   "cell_type": "code",
   "execution_count": 4,
   "id": "c5a88870-0475-4edf-abb0-50e6db819514",
   "metadata": {},
   "outputs": [
    {
     "name": "stdout",
     "output_type": "stream",
     "text": [
      "Model loaded from mlp_model.pth\n"
     ]
    }
   ],
   "source": [
    "# Load the model state dictionary\n",
    "model = MLP(X.shape[1], 64, 63)\n",
    "model.load_state_dict(torch.load('mlp_model.pth'))\n",
    "model.eval()  # Set the model to evaluation mode\n",
    "print('Model loaded from mlp_model.pth')"
   ]
  },
  {
   "cell_type": "code",
   "execution_count": 5,
   "id": "79cb9ca2-4217-4606-ad51-6a8867e60591",
   "metadata": {},
   "outputs": [],
   "source": [
    "X = torch.tensor(X, dtype=torch.float32)"
   ]
  },
  {
   "cell_type": "code",
   "execution_count": 6,
   "id": "2fbcfcf8-c82e-463b-95df-861edc85f84f",
   "metadata": {},
   "outputs": [],
   "source": [
    "Y = model(X)"
   ]
  },
  {
   "cell_type": "code",
   "execution_count": 7,
   "id": "7732b642-aa4e-4526-8cc4-e1c695dde4d5",
   "metadata": {},
   "outputs": [],
   "source": [
    "hand_lnmks = Y[-1]"
   ]
  },
  {
   "cell_type": "code",
   "execution_count": 8,
   "id": "32ae7d5c-bcd6-420e-83ee-9d3d5da9e81b",
   "metadata": {},
   "outputs": [],
   "source": [
    "hand_lnmks = hand_lnmks.reshape(21, 3)"
   ]
  },
  {
   "cell_type": "code",
   "execution_count": 9,
   "id": "02dbf6a1-3598-4a84-a286-79b0321b6534",
   "metadata": {},
   "outputs": [],
   "source": [
    "hand_lnmks = hand_lnmks.detach().numpy()"
   ]
  },
  {
   "cell_type": "code",
   "execution_count": 10,
   "id": "708f9599-1a54-4e0c-b807-f3613ff897aa",
   "metadata": {},
   "outputs": [],
   "source": [
    "# Create the initial point cloud\n",
    "pcd = o3d.geometry.PointCloud()\n",
    "pcd.points = o3d.utility.Vector3dVector(hand_lnmks)\n",
    "\n",
    "lines = [[0,1],[1,2],[2,3],[3,4], \n",
    "         [0,5],[5,6],[6,7],[7,8],\n",
    "         [5,9],[9,10],[10,11],[11,12],\n",
    "         [9,13],[13,14],[14,15],[15,16],\n",
    "         [13,17],[17,18],[18,19],[19,20],[0,17]]\n",
    "colors = [[1, 0, 0] for i in range(len(lines))]\n",
    "line_set = o3d.geometry.LineSet(\n",
    "    points=o3d.utility.Vector3dVector(hand_lnmks),\n",
    "    lines=o3d.utility.Vector2iVector(lines),\n",
    ")\n",
    "line_set.colors = o3d.utility.Vector3dVector(colors)"
   ]
  },
  {
   "cell_type": "code",
   "execution_count": 11,
   "id": "03c2bb55-b229-4704-8453-ccf6339254b4",
   "metadata": {},
   "outputs": [
    {
     "name": "stdout",
     "output_type": "stream",
     "text": [
      "\u001b[1;33m[Open3D WARNING] GLFW Error: Cocoa: Failed to find service port for display\u001b[0;m\n"
     ]
    }
   ],
   "source": [
    "o3d.visualization.draw_geometries([pcd, line_set])"
   ]
  },
  {
   "cell_type": "code",
   "execution_count": null,
   "id": "bb738fa9-0687-4167-a9b3-48c863f853ab",
   "metadata": {},
   "outputs": [],
   "source": []
  },
  {
   "cell_type": "code",
   "execution_count": null,
   "id": "b00e4392-8d8e-4aee-b0f3-056adeb3dc5e",
   "metadata": {},
   "outputs": [],
   "source": []
  },
  {
   "cell_type": "code",
   "execution_count": null,
   "id": "3fe9b2be-6f65-4aaf-be82-d6a78a2359e3",
   "metadata": {},
   "outputs": [],
   "source": []
  },
  {
   "cell_type": "markdown",
   "id": "d89f3b67-4f80-4c3e-9511-fb851642c913",
   "metadata": {
    "jp-MarkdownHeadingCollapsed": true
   },
   "source": [
    "# Visualize GTs"
   ]
  },
  {
   "cell_type": "code",
   "execution_count": 3,
   "id": "b574f996-4a15-42d3-878e-42c50d844f50",
   "metadata": {},
   "outputs": [],
   "source": [
    "hand_lmks_file = np.load('../hand_landmarks.npz')\n",
    "hand_lmks_gt = hand_lmks_file[\"landmarks\"]"
   ]
  },
  {
   "cell_type": "code",
   "execution_count": null,
   "id": "aa44d4b8-aa19-4fdd-81cf-712408f1545b",
   "metadata": {},
   "outputs": [],
   "source": [
    "x = np.array([[500, 0, 0],\n",
    "              [0, 0, 0]])\n",
    "pcd = o3d.geometry.PointCloud()\n",
    "pcd.points = o3d.utility.Vector3dVector(x)\n",
    "\n",
    "lines = [[0, 0]]\n",
    "colors = [[1, 0, 0] for i in range(len(lines))]\n",
    "line_set = o3d.geometry.LineSet(\n",
    "    points=o3d.utility.Vector3dVector(x),\n",
    "    lines=o3d.utility.Vector2iVector(lines)\n",
    ")\n",
    "line_set.colors = o3d.utility.Vector3dVector(colors)\n",
    "    \n",
    "vis = o3d.visualization.Visualizer()\n",
    "vis.create_window()\n",
    "vis.add_geometry(pcd)\n",
    "vis.add_geometry(line_set)\n",
    "\n",
    "i = 0\n",
    "while True:\n",
    "    hand_lmks = hand_lmks_gt[i]\n",
    "    pcd.points = o3d.utility.Vector3dVector(hand_lmks)\n",
    "\n",
    "    lines = [[0,1],[1,2],[2,3],[3,4], \n",
    "             [0,5],[5,6],[6,7],[7,8],\n",
    "             [5,9],[9,10],[10,11],[11,12],\n",
    "             [9,13],[13,14],[14,15],[15,16],\n",
    "             [13,17],[17,18],[18,19],[19,20],[0,17]]\n",
    "    colors = [[1, 0, 0] for i in range(len(lines))]\n",
    "    line_set.points = o3d.utility.Vector3dVector(hand_lmks)  # Update the points\n",
    "    line_set.lines = o3d.utility.Vector2iVector(lines)  # Update the lines\n",
    "    line_set.colors = o3d.utility.Vector3dVector(colors)\n",
    "\n",
    "    vis.update_geometry(pcd)\n",
    "    vis.update_geometry(line_set)\n",
    "    vis.poll_events()\n",
    "    vis.update_renderer()\n",
    "\n",
    "    i += 1\n",
    "    if i == hand_lmks_gt.shape[0]:\n",
    "        i = 0\n",
    "        \n",
    "    time.sleep(0.1)\n",
    "\n",
    "vis.destroy_window()"
   ]
  },
  {
   "cell_type": "code",
   "execution_count": null,
   "id": "6a45058c-9636-4ee5-9490-8987c58203e4",
   "metadata": {},
   "outputs": [],
   "source": []
  },
  {
   "cell_type": "markdown",
   "id": "485a32eb-4bcc-4182-851f-44ddcc1118dd",
   "metadata": {
    "jp-MarkdownHeadingCollapsed": true
   },
   "source": [
    "# Visualize predictions"
   ]
  },
  {
   "cell_type": "code",
   "execution_count": 3,
   "id": "3f7715ec-9d3c-4151-a800-998fdfae87fe",
   "metadata": {},
   "outputs": [],
   "source": [
    "# Load the data from a CSV file\n",
    "data = pd.read_csv('hand_landmark_data.csv')\n",
    "\n",
    "X = data.iloc[:, :-63].values"
   ]
  },
  {
   "cell_type": "code",
   "execution_count": 4,
   "id": "3eaa2855-bb9a-419d-b168-69d7c5590dca",
   "metadata": {},
   "outputs": [
    {
     "name": "stdout",
     "output_type": "stream",
     "text": [
      "cpu\n"
     ]
    }
   ],
   "source": [
    "device = torch.device(\"mps\" if torch.backends.mps.is_available() else \"cpu\")\n",
    "print(device)"
   ]
  },
  {
   "cell_type": "code",
   "execution_count": 5,
   "id": "910cf85c-3911-4546-a02a-d753a7211944",
   "metadata": {},
   "outputs": [
    {
     "name": "stdout",
     "output_type": "stream",
     "text": [
      "Model loaded from mlp_model.pth\n"
     ]
    }
   ],
   "source": [
    "# Load the model state dictionary\n",
    "model = MLP(X.shape[1], 64, 63).to(device)\n",
    "model.load_state_dict(torch.load('mlp_model.pth'))\n",
    "model.eval()  # Set the model to evaluation mode\n",
    "print('Model loaded from mlp_model.pth')"
   ]
  },
  {
   "cell_type": "code",
   "execution_count": 6,
   "id": "d42b48b9-60d8-4abc-95e5-f38ebd4d0f3f",
   "metadata": {},
   "outputs": [],
   "source": [
    "X = torch.tensor(X, dtype=torch.float32)"
   ]
  },
  {
   "cell_type": "code",
   "execution_count": null,
   "id": "bdeb3393-a2ee-414b-85f3-1710b7ab30d9",
   "metadata": {},
   "outputs": [],
   "source": [
    "x = np.array([[500, 0, 0],\n",
    "              [0, 0, 0]])\n",
    "pcd = o3d.geometry.PointCloud()\n",
    "pcd.points = o3d.utility.Vector3dVector(x)\n",
    "\n",
    "lines = [[0, 0]]\n",
    "colors = [[1, 0, 0] for i in range(len(lines))]\n",
    "line_set = o3d.geometry.LineSet(\n",
    "    points=o3d.utility.Vector3dVector(x),\n",
    "    lines=o3d.utility.Vector2iVector(lines)\n",
    ")\n",
    "line_set.colors = o3d.utility.Vector3dVector(colors)\n",
    "    \n",
    "vis = o3d.visualization.Visualizer()\n",
    "vis.create_window()\n",
    "vis.add_geometry(pcd)\n",
    "vis.add_geometry(line_set)\n",
    "\n",
    "i = 0\n",
    "while True:\n",
    "    lmks_input = X[i].to(device)\n",
    "    lmks_output = model(lmks_input)\n",
    "    lmks_output = lmks_output.detach().to(\"cpu\").numpy()\n",
    "    lmks_output = lmks_output.reshape(-1, 3)\n",
    "    pcd.points = o3d.utility.Vector3dVector(lmks_output)\n",
    "\n",
    "    lines = [[0,1],[1,2],[2,3],[3,4], \n",
    "             [0,5],[5,6],[6,7],[7,8],\n",
    "             [5,9],[9,10],[10,11],[11,12],\n",
    "             [9,13],[13,14],[14,15],[15,16],\n",
    "             [13,17],[17,18],[18,19],[19,20],[0,17]]\n",
    "    colors = [[1, 0, 0] for i in range(len(lines))]\n",
    "    line_set.points = o3d.utility.Vector3dVector(lmks_output)  # Update the points\n",
    "    line_set.lines = o3d.utility.Vector2iVector(lines)  # Update the lines\n",
    "    line_set.colors = o3d.utility.Vector3dVector(colors)\n",
    "\n",
    "    vis.update_geometry(pcd)\n",
    "    vis.update_geometry(line_set)\n",
    "    vis.poll_events()\n",
    "    vis.update_renderer()\n",
    "\n",
    "    i += 1\n",
    "    if i == X.shape[0]:\n",
    "        i = 0\n",
    "        \n",
    "    time.sleep(0.1)\n",
    "\n",
    "vis.destroy_window()"
   ]
  },
  {
   "cell_type": "code",
   "execution_count": null,
   "id": "a83cbb70-0837-411a-9461-85baf451770d",
   "metadata": {},
   "outputs": [],
   "source": [
    "21 * 3 * 2"
   ]
  },
  {
   "cell_type": "code",
   "execution_count": null,
   "id": "cefb13b6-3cb4-4d40-92c7-651b6592c5ee",
   "metadata": {},
   "outputs": [],
   "source": [
    "21 * 3"
   ]
  }
 ],
 "metadata": {
  "kernelspec": {
   "display_name": "Python 3 (ipykernel)",
   "language": "python",
   "name": "python3"
  },
  "language_info": {
   "codemirror_mode": {
    "name": "ipython",
    "version": 3
   },
   "file_extension": ".py",
   "mimetype": "text/x-python",
   "name": "python",
   "nbconvert_exporter": "python",
   "pygments_lexer": "ipython3",
   "version": "3.8.10"
  }
 },
 "nbformat": 4,
 "nbformat_minor": 5
}
