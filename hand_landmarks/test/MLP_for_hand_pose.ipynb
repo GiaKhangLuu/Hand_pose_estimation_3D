{
 "cells": [
  {
   "cell_type": "code",
   "execution_count": 1,
   "id": "90a14009-0976-41cf-8b28-896dad8c142b",
   "metadata": {},
   "outputs": [],
   "source": [
    "import sys\n",
    "sys.path.append(\"../../\")"
   ]
  },
  {
   "cell_type": "code",
   "execution_count": 2,
   "id": "d9d477fb-a335-4c4f-8dda-9a8e6bfd87b0",
   "metadata": {},
   "outputs": [
    {
     "name": "stdout",
     "output_type": "stream",
     "text": [
      "Jupyter environment detected. Enabling Open3D WebVisualizer.\n",
      "[Open3D INFO] WebRTC GUI backend enabled.\n",
      "[Open3D INFO] WebRTCWindowSystem: HTTP handshake server disabled.\n"
     ]
    }
   ],
   "source": [
    "import numpy as np\n",
    "import open3d as o3d\n",
    "import torch\n",
    "import torch.nn as nn\n",
    "import torch.optim as optim\n",
    "from torch.utils.data import DataLoader, TensorDataset\n",
    "from sklearn.model_selection import train_test_split\n",
    "from sklearn.preprocessing import MinMaxScaler\n",
    "from sklearn.metrics import mean_squared_error\n",
    "import pandas as pd\n",
    "import numpy as np\n",
    "import joblib\n",
    "import time\n",
    "\n",
    "from hand_landmarks.neural_networks import MLP"
   ]
  },
  {
   "cell_type": "code",
   "execution_count": 3,
   "id": "8518cda9-3ca9-44fe-aeb7-5db5d2ccb806",
   "metadata": {},
   "outputs": [],
   "source": [
    "def visualize_landmarks_through_frame(landmarks, time_sleep=0.01):\n",
    "    assert landmarks.shape[1:] == (21, 3)\n",
    "    \n",
    "    x = np.array([[500, 0, 0],\n",
    "                  [0, 0, 0]])\n",
    "    pcd = o3d.geometry.PointCloud()\n",
    "    pcd.points = o3d.utility.Vector3dVector(x)\n",
    "\n",
    "    lines = [[0, 0]]\n",
    "    colors = [[1, 0, 0] for i in range(len(lines))]\n",
    "    line_set = o3d.geometry.LineSet(\n",
    "        points=o3d.utility.Vector3dVector(x),\n",
    "        lines=o3d.utility.Vector2iVector(lines)\n",
    "    )\n",
    "    line_set.colors = o3d.utility.Vector3dVector(colors)\n",
    "    \n",
    "    vis = o3d.visualization.Visualizer()\n",
    "    vis.create_window()\n",
    "    vis.add_geometry(pcd)\n",
    "    vis.add_geometry(line_set)\n",
    "\n",
    "    for i in range(landmarks.shape[0]):\n",
    "        hand_lmks = landmarks[i]\n",
    "        pcd.points = o3d.utility.Vector3dVector(hand_lmks)\n",
    "\n",
    "        lines = [[0,1],[1,2],[2,3],[3,4], \n",
    "                 [0,5],[5,6],[6,7],[7,8],\n",
    "                 [5,9],[9,10],[10,11],[11,12],\n",
    "                 [9,13],[13,14],[14,15],[15,16],\n",
    "                 [13,17],[17,18],[18,19],[19,20],[0,17]]\n",
    "        colors = [[1, 0, 0] for i in range(len(lines))]\n",
    "        line_set.points = o3d.utility.Vector3dVector(hand_lmks)  # Update the points\n",
    "        line_set.lines = o3d.utility.Vector2iVector(lines)  # Update the lines\n",
    "        line_set.colors = o3d.utility.Vector3dVector(colors)\n",
    "\n",
    "        vis.update_geometry(pcd)\n",
    "        vis.update_geometry(line_set)\n",
    "        vis.poll_events()\n",
    "        vis.update_renderer()\n",
    "        \n",
    "        time.sleep(time_sleep)\n",
    "\n",
    "    vis.destroy_window()"
   ]
  },
  {
   "cell_type": "code",
   "execution_count": 4,
   "id": "501d9e73-e74e-41e9-93bb-9a4c752932bc",
   "metadata": {},
   "outputs": [
    {
     "data": {
      "text/plain": [
       "'\\nclass MLP(nn.Module):\\n    def __init__(self, input_size=21*3*2, output_size=21*3):\\n        super(MLP, self).__init__()\\n        self.fc1 = nn.Linear(input_size, 100)\\n        self.fc2 = nn.Linear(100, 64)\\n        self.fc3 = nn.Linear(64, 64)\\n        self.fc4 = nn.Linear(64, output_size)\\n        self.relu = nn.ReLU()\\n        \\n    def forward(self, x):\\n        x = self.relu(self.fc1(x))\\n        x = self.relu(self.fc2(x))\\n        x = self.relu(self.fc3(x))\\n        x = self.fc4(x)\\n        return x\\n'"
      ]
     },
     "execution_count": 4,
     "metadata": {},
     "output_type": "execute_result"
    }
   ],
   "source": [
    "\"\"\"\n",
    "class MLP(nn.Module):\n",
    "    def __init__(self, input_size=21*3*2, output_size=21*3):\n",
    "        super(MLP, self).__init__()\n",
    "        self.fc1 = nn.Linear(input_size, 100)\n",
    "        self.fc2 = nn.Linear(100, 64)\n",
    "        self.fc3 = nn.Linear(64, 64)\n",
    "        self.fc4 = nn.Linear(64, output_size)\n",
    "        self.relu = nn.ReLU()\n",
    "        \n",
    "    def forward(self, x):\n",
    "        x = self.relu(self.fc1(x))\n",
    "        x = self.relu(self.fc2(x))\n",
    "        x = self.relu(self.fc3(x))\n",
    "        x = self.fc4(x)\n",
    "        return x\n",
    "\"\"\""
   ]
  },
  {
   "cell_type": "code",
   "execution_count": 5,
   "id": "48d24564-93ff-4736-befa-ed69d3be4f77",
   "metadata": {},
   "outputs": [],
   "source": [
    "def write_data_to_csv(file_name, data, num_cam=2):\n",
    "    num_points_each_joint = 3\n",
    "    num_joints_each_hand = 21\n",
    "    num_input_cols = num_cam * num_points_each_joint * num_joints_each_hand\n",
    "\n",
    "    input_header = input_cam1_header\n",
    "    for i in range(2, num_cam+1):\n",
    "        input_cam_i_header = input_cam1_header.replace(\"cam1\", \"cam{}\".format(i))\n",
    "        input_header += ',' + input_cam_i_header\n",
    "\n",
    "    output_header = input_cam1_header.replace(\"cam1_\", \"\").replace(\"in\", \"out\")\n",
    "    csv_header = input_header + ',' + output_header\n",
    "\n",
    "    assert len(csv_header.split(\",\")) == data.shape[1]\n",
    "\n",
    "    np.savetxt(file_name, data, delimiter=',', fmt='%f', header=csv_header, comments='')"
   ]
  },
  {
   "cell_type": "code",
   "execution_count": null,
   "id": "730ed955-9430-4acd-8d71-b80135fc1dd1",
   "metadata": {},
   "outputs": [],
   "source": []
  },
  {
   "cell_type": "code",
   "execution_count": null,
   "id": "a828eb86-e456-41f1-b017-7a1e362793ab",
   "metadata": {},
   "outputs": [],
   "source": []
  },
  {
   "cell_type": "code",
   "execution_count": null,
   "id": "3fe9b2be-6f65-4aaf-be82-d6a78a2359e3",
   "metadata": {},
   "outputs": [],
   "source": []
  },
  {
   "cell_type": "markdown",
   "id": "d89f3b67-4f80-4c3e-9511-fb851642c913",
   "metadata": {
    "jp-MarkdownHeadingCollapsed": true
   },
   "source": [
    "# Visualize GTs"
   ]
  },
  {
   "cell_type": "code",
   "execution_count": 4,
   "id": "1099b869-630b-46f7-9c8c-b2e881518d9b",
   "metadata": {},
   "outputs": [],
   "source": [
    "hand_lmks_file = np.load('../hand_landmarks_2024_06_12.npz')\n",
    "hand_lmks_gt = hand_lmks_file[\"landmarks_output\"]"
   ]
  },
  {
   "cell_type": "code",
   "execution_count": 5,
   "id": "61b70cc6-fb51-476c-80db-8e81998dca94",
   "metadata": {},
   "outputs": [],
   "source": [
    "visualize_landmarks_through_frame(hand_lmks_gt)"
   ]
  },
  {
   "cell_type": "code",
   "execution_count": null,
   "id": "6a45058c-9636-4ee5-9490-8987c58203e4",
   "metadata": {},
   "outputs": [],
   "source": []
  },
  {
   "cell_type": "markdown",
   "id": "9327ef33-afd2-4978-a3d5-bc14cafba95d",
   "metadata": {
    "jp-MarkdownHeadingCollapsed": true
   },
   "source": [
    "# Visualize raw landmarks"
   ]
  },
  {
   "cell_type": "code",
   "execution_count": 75,
   "id": "31b3c3f9-d337-4fd0-baac-96817c8c959e",
   "metadata": {},
   "outputs": [],
   "source": [
    "hand_lmks_file = np.load('../hand_landmarks_2024_06_12.npz')\n",
    "hand_lmks_input = hand_lmks_file[\"landmarks_input\"]"
   ]
  },
  {
   "cell_type": "code",
   "execution_count": 64,
   "id": "b565f459-02ce-4eb1-8087-dedfefe936e7",
   "metadata": {},
   "outputs": [],
   "source": [
    "hand_lmks_opposite_cam = hand_lmks_input[:, :21]"
   ]
  },
  {
   "cell_type": "code",
   "execution_count": 65,
   "id": "4555a6e7-0727-40c7-94e2-852bb302a25f",
   "metadata": {},
   "outputs": [],
   "source": [
    "visualize_landmarks_through_frame(hand_lmks_opposite_cam)"
   ]
  },
  {
   "cell_type": "code",
   "execution_count": 76,
   "id": "8b8b95bf-449d-418a-a5e0-6659215fc0da",
   "metadata": {},
   "outputs": [],
   "source": [
    "hand_lmks_rightside_cam = hand_lmks_input[:, 21:]"
   ]
  },
  {
   "cell_type": "code",
   "execution_count": 77,
   "id": "26e3966f-222c-4089-b983-fe1b98b1f601",
   "metadata": {},
   "outputs": [],
   "source": [
    "visualize_landmarks_through_frame(hand_lmks_rightside_cam)"
   ]
  },
  {
   "cell_type": "code",
   "execution_count": null,
   "id": "48a05f7e-d2f4-49a9-a684-db618a2ff2d5",
   "metadata": {},
   "outputs": [],
   "source": []
  },
  {
   "cell_type": "code",
   "execution_count": null,
   "id": "74d761dd-2df7-401f-8e20-83e0dd6f86ee",
   "metadata": {},
   "outputs": [],
   "source": []
  },
  {
   "cell_type": "markdown",
   "id": "21df35b9-713b-4a65-9c8c-c3be18c9b45c",
   "metadata": {
    "jp-MarkdownHeadingCollapsed": true
   },
   "source": [
    "# Save to .csv"
   ]
  },
  {
   "cell_type": "code",
   "execution_count": 25,
   "id": "f2daf10f-cbf0-4e27-9f35-5c5157fc2339",
   "metadata": {},
   "outputs": [],
   "source": [
    "input_cam1_cols = [\"cam1_X00_in\", \"cam1_Y00_in\", \"cam1_Z00_in\",\n",
    "                   \"cam1_X01_in\", \"cam1_Y01_in\", \"cam1_Z01_in\",\n",
    "                   \"cam1_X02_in\", \"cam1_Y02_in\", \"cam1_Z02_in\",\n",
    "                   \"cam1_X03_in\", \"cam1_Y03_in\", \"cam1_Z03_in\",\n",
    "                   \"cam1_X04_in\", \"cam1_Y04_in\", \"cam1_Z04_in\",\n",
    "                   \"cam1_X05_in\", \"cam1_Y05_in\", \"cam1_Z05_in\",\n",
    "                   \"cam1_X06_in\", \"cam1_Y06_in\", \"cam1_Z06_in\",\n",
    "                   \"cam1_X07_in\", \"cam1_Y07_in\", \"cam1_Z07_in\",\n",
    "                   \"cam1_X08_in\", \"cam1_Y08_in\", \"cam1_Z08_in\",\n",
    "                   \"cam1_X09_in\", \"cam1_Y09_in\", \"cam1_Z09_in\",\n",
    "                   \"cam1_X10_in\", \"cam1_Y10_in\", \"cam1_Z10_in\",\n",
    "                   \"cam1_X11_in\", \"cam1_Y11_in\", \"cam1_Z11_in\",\n",
    "                   \"cam1_X12_in\", \"cam1_Y12_in\", \"cam1_Z12_in\",\n",
    "                   \"cam1_X13_in\", \"cam1_Y13_in\", \"cam1_Z13_in\",\n",
    "                   \"cam1_X14_in\", \"cam1_Y14_in\", \"cam1_Z14_in\",\n",
    "                   \"cam1_X15_in\", \"cam1_Y15_in\", \"cam1_Z15_in\",\n",
    "                   \"cam1_X16_in\", \"cam1_Y16_in\", \"cam1_Z16_in\",\n",
    "                   \"cam1_X17_in\", \"cam1_Y17_in\", \"cam1_Z17_in\",\n",
    "                   \"cam1_X18_in\", \"cam1_Y18_in\", \"cam1_Z18_in\",\n",
    "                   \"cam1_X19_in\", \"cam1_Y19_in\", \"cam1_Z19_in\",\n",
    "                   \"cam1_X20_in\", \"cam1_Y20_in\", \"cam1_Z20_in\"]\n",
    "\n",
    "input_cam1_header = ','.join(input_cam1_cols)"
   ]
  },
  {
   "cell_type": "code",
   "execution_count": 34,
   "id": "348804fc-701f-4339-b5ba-edfc523b73b9",
   "metadata": {},
   "outputs": [],
   "source": [
    "hand_lmks_file = np.load('../hand_landmarks_2024_06_12.npz')\n",
    "hand_lmks_input, hand_lmks_gt = hand_lmks_file[\"landmarks_input\"], hand_lmks_file[\"landmarks_output\"]"
   ]
  },
  {
   "cell_type": "code",
   "execution_count": 35,
   "id": "cd4e3f8b-15c1-449f-8681-847f4061033c",
   "metadata": {},
   "outputs": [],
   "source": [
    "hand_lmks_input = hand_lmks_input.reshape(hand_lmks_input.shape[0], -1)\n",
    "hand_lmks_gt = hand_lmks_gt.reshape(hand_lmks_gt.shape[0], -1)"
   ]
  },
  {
   "cell_type": "code",
   "execution_count": 39,
   "id": "6177e8f7-1f51-4316-9804-2cd9d768fdcf",
   "metadata": {},
   "outputs": [],
   "source": [
    "total_data = np.concatenate([hand_lmks_input, hand_lmks_gt], axis=1)"
   ]
  },
  {
   "cell_type": "code",
   "execution_count": 41,
   "id": "e2503389-030a-4be3-b066-dd25f0e7eb43",
   "metadata": {},
   "outputs": [],
   "source": [
    "write_data_to_csv(\"hand_landmarks_2024_06_13.csv\", total_data)"
   ]
  },
  {
   "cell_type": "code",
   "execution_count": null,
   "id": "4e35ce9a-e27d-4144-b790-f66c25de7d56",
   "metadata": {},
   "outputs": [],
   "source": []
  },
  {
   "cell_type": "markdown",
   "id": "5a9ec944-8ea0-47fb-944d-079754f43905",
   "metadata": {},
   "source": [
    "# Prepare data"
   ]
  },
  {
   "cell_type": "code",
   "execution_count": 6,
   "id": "d80ec62a-629d-43a7-bc48-7d4b10f07404",
   "metadata": {},
   "outputs": [],
   "source": [
    "# Load the data from a CSV file\n",
    "data = pd.read_csv('hand_landmarks_2024_06_13.csv')\n",
    "\n",
    "num_output_nodes = 21 * 3\n",
    "X = data.iloc[:, :-(num_output_nodes)]\n",
    "Y = data.iloc[:, -(num_output_nodes):]"
   ]
  },
  {
   "cell_type": "code",
   "execution_count": 7,
   "id": "ec01fcde-cea7-4538-b538-8bca8ea52938",
   "metadata": {},
   "outputs": [],
   "source": [
    "num_landmarks = 21 * 3\n",
    "landmarks_opposite_cam = X.values[:, :num_landmarks]\n",
    "landmarks_rightside_cam = X.values[:, num_landmarks:]"
   ]
  },
  {
   "cell_type": "code",
   "execution_count": 8,
   "id": "303eaeaf-8a4b-404d-8080-64b6d3f05d5d",
   "metadata": {},
   "outputs": [],
   "source": [
    "landmarks_opposite_cam = landmarks_opposite_cam.reshape(landmarks_opposite_cam.shape[0], 21, -1)\n",
    "landmarks_rightside_cam = landmarks_rightside_cam.reshape(landmarks_rightside_cam.shape[0], 21, -1)\n",
    "landmarks_gt = Y.values\n",
    "landmarks_gt = landmarks_gt.reshape(landmarks_gt.shape[0], 21, -1)"
   ]
  },
  {
   "cell_type": "code",
   "execution_count": 9,
   "id": "7f73cf65-6df8-485c-8e26-4e1b8f62a760",
   "metadata": {},
   "outputs": [],
   "source": [
    "visualize_landmarks_through_frame(landmarks_rightside_cam)"
   ]
  },
  {
   "cell_type": "code",
   "execution_count": null,
   "id": "588d227d-a274-494e-b0cb-5e22cbe47704",
   "metadata": {},
   "outputs": [],
   "source": []
  },
  {
   "cell_type": "code",
   "execution_count": 10,
   "id": "9427f15a-6cdd-49be-a8c2-77a4373da606",
   "metadata": {},
   "outputs": [],
   "source": [
    "# Initialize the MinMaxScaler for scaling between 0 and 1\n",
    "scaler_X = MinMaxScaler()\n",
    "scaler_Y = MinMaxScaler()"
   ]
  },
  {
   "cell_type": "code",
   "execution_count": 11,
   "id": "c985f11c-1890-4d6f-8af5-4390c590077b",
   "metadata": {},
   "outputs": [],
   "source": [
    "# Fit the scaler on the data and transform\n",
    "X_scaled = scaler_X.fit_transform(X)\n",
    "Y_scaled = scaler_Y.fit_transform(Y)"
   ]
  },
  {
   "cell_type": "code",
   "execution_count": 12,
   "id": "25283626-2f91-485c-aea2-f8b9bf3c3d2a",
   "metadata": {},
   "outputs": [],
   "source": [
    "# Split the data into training and testing sets\n",
    "X_train, X_test, Y_train, Y_test = train_test_split(X_scaled, Y_scaled, test_size=0.2, random_state=42)"
   ]
  },
  {
   "cell_type": "code",
   "execution_count": 13,
   "id": "d074bc6a-c831-44b6-9d13-3a2c8cf84834",
   "metadata": {},
   "outputs": [],
   "source": [
    "# Convert numpy arrays to PyTorch tensors\n",
    "X_train_tensor = torch.tensor(X_train, dtype=torch.float32)\n",
    "X_test_tensor = torch.tensor(X_test, dtype=torch.float32)\n",
    "Y_train_tensor = torch.tensor(Y_train, dtype=torch.float32)\n",
    "Y_test_tensor = torch.tensor(Y_test, dtype=torch.float32)\n",
    "\n",
    "# Create datasets\n",
    "train_dataset = TensorDataset(X_train_tensor, Y_train_tensor)\n",
    "test_dataset = TensorDataset(X_test_tensor, Y_test_tensor)\n",
    "\n",
    "# Define batch size\n",
    "batch_size = 32  # Adjust according to your needs\n",
    "\n",
    "# Create DataLoader objects\n",
    "train_loader = DataLoader(dataset=train_dataset, batch_size=batch_size, shuffle=True)\n",
    "test_loader = DataLoader(dataset=test_dataset, batch_size=batch_size, shuffle=False)"
   ]
  },
  {
   "cell_type": "code",
   "execution_count": 14,
   "id": "9ebbeabc-3c0e-4cf4-b8a4-6e56f7f8c3cc",
   "metadata": {},
   "outputs": [
    {
     "data": {
      "text/plain": [
       "['scaler_input.pkl']"
      ]
     },
     "execution_count": 14,
     "metadata": {},
     "output_type": "execute_result"
    }
   ],
   "source": [
    "joblib.dump(scaler_X, \"scaler_input.pkl\")"
   ]
  },
  {
   "cell_type": "code",
   "execution_count": 15,
   "id": "26246d9b-50bf-4820-95ad-1b9b74701f97",
   "metadata": {},
   "outputs": [
    {
     "data": {
      "text/plain": [
       "['scaler_output.pkl']"
      ]
     },
     "execution_count": 15,
     "metadata": {},
     "output_type": "execute_result"
    }
   ],
   "source": [
    "joblib.dump(scaler_Y, \"scaler_output.pkl\")"
   ]
  },
  {
   "cell_type": "code",
   "execution_count": null,
   "id": "8334987b-31e8-4a28-aad8-e76cd3b6da18",
   "metadata": {},
   "outputs": [],
   "source": []
  },
  {
   "cell_type": "code",
   "execution_count": null,
   "id": "7569a7eb-8947-4bba-bc31-aecd260d397e",
   "metadata": {},
   "outputs": [],
   "source": []
  },
  {
   "cell_type": "code",
   "execution_count": null,
   "id": "a547309a-6500-4010-a516-dea228cc3a0a",
   "metadata": {},
   "outputs": [],
   "source": []
  },
  {
   "cell_type": "markdown",
   "id": "59ee2f92-9018-419e-b2b3-7ca8638ac342",
   "metadata": {},
   "source": [
    "# Train model"
   ]
  },
  {
   "cell_type": "code",
   "execution_count": 16,
   "id": "22be5adc-1633-43f4-93b6-135a6467f4e0",
   "metadata": {},
   "outputs": [],
   "source": [
    "model = MLP()\n",
    "\n",
    "# Define your criterion and optimizer\n",
    "criterion = nn.MSELoss()  # Mean Squared Error Loss\n",
    "optimizer = optim.Adam(model.parameters(), lr=0.01)"
   ]
  },
  {
   "cell_type": "code",
   "execution_count": 17,
   "id": "57872b65-fa8b-4a12-9a11-f3acc0c76967",
   "metadata": {},
   "outputs": [
    {
     "name": "stdout",
     "output_type": "stream",
     "text": [
      "Epoch [1/10000], Train Loss: 0.1146, Val Loss: 0.0449\n",
      "Epoch [501/10000], Train Loss: 0.0019, Val Loss: 0.0035\n",
      "Epoch [1001/10000], Train Loss: 0.0013, Val Loss: 0.0039\n",
      "Epoch [1501/10000], Train Loss: 0.0017, Val Loss: 0.0044\n",
      "Epoch [2001/10000], Train Loss: 0.0019, Val Loss: 0.0051\n",
      "Epoch [2501/10000], Train Loss: 0.0022, Val Loss: 0.0046\n",
      "Epoch [3001/10000], Train Loss: 0.0026, Val Loss: 0.0047\n",
      "Epoch [3501/10000], Train Loss: 0.0018, Val Loss: 0.0035\n",
      "Epoch [4001/10000], Train Loss: 0.0017, Val Loss: 0.0040\n",
      "Epoch [4501/10000], Train Loss: 0.0066, Val Loss: 0.0085\n",
      "Epoch [5001/10000], Train Loss: 0.0035, Val Loss: 0.0073\n",
      "Epoch [5501/10000], Train Loss: 0.0035, Val Loss: 0.0050\n",
      "Epoch [6001/10000], Train Loss: 0.0030, Val Loss: 0.0053\n",
      "Epoch [6501/10000], Train Loss: 0.0030, Val Loss: 0.0051\n",
      "Epoch [7001/10000], Train Loss: 0.0083, Val Loss: 0.0137\n",
      "Epoch [7501/10000], Train Loss: 0.0037, Val Loss: 0.0062\n",
      "Epoch [8001/10000], Train Loss: 0.0034, Val Loss: 0.0049\n",
      "Epoch [8501/10000], Train Loss: 0.0031, Val Loss: 0.0047\n",
      "Epoch [9001/10000], Train Loss: 0.0036, Val Loss: 0.0050\n",
      "Epoch [9501/10000], Train Loss: 0.0031, Val Loss: 0.0053\n",
      "Epoch [10000/10000], Train Loss: 0.0041, Val Loss: 0.0059\n",
      "Best model found at epoch 501, with validation loss: 0.0035\n"
     ]
    }
   ],
   "source": [
    "# Initialize variables to track best model\n",
    "best_loss = float('inf')\n",
    "best_epoch = 0\n",
    "num_epochs = 10000\n",
    "device = torch.device(\"cuda\" if torch.cuda.is_available() else \"cpu\")\n",
    "model.to(device)\n",
    "\n",
    "for epoch in range(num_epochs):\n",
    "    model.train()\n",
    "    running_loss = 0.0\n",
    "    for inputs, labels in train_loader:\n",
    "        inputs, labels = inputs.to(device), labels.to(device)\n",
    "\n",
    "        optimizer.zero_grad()\n",
    "        outputs = model(inputs)\n",
    "        loss = criterion(outputs, labels)\n",
    "        loss.backward()\n",
    "        optimizer.step()\n",
    "        running_loss += loss.item()\n",
    "\n",
    "    # Calculate average training loss\n",
    "    avg_train_loss = running_loss / len(train_loader)\n",
    "\n",
    "    # Print training and validation loss\n",
    "    if epoch % 500 == 0 or epoch == num_epochs - 1:\n",
    "\n",
    "        # Validation\n",
    "        model.eval()\n",
    "        val_loss = 0.0\n",
    "        with torch.no_grad():\n",
    "            for inputs_val, labels_val in test_loader:\n",
    "                inputs_val, labels_val = inputs_val.to(device), labels_val.to(device)\n",
    "\n",
    "                outputs_val = model(inputs_val)\n",
    "                loss_val = criterion(outputs_val, labels_val)\n",
    "                val_loss += loss_val.item()\n",
    "\n",
    "        # Calculate average validation loss\n",
    "        avg_val_loss = val_loss / len(test_loader)\n",
    "        \n",
    "        print(f'Epoch [{epoch+1}/{num_epochs}], Train Loss: {avg_train_loss:.4f}, Val Loss: {avg_val_loss:.4f}')\n",
    "        \n",
    "        # Save best model based on validation loss\n",
    "        if avg_val_loss < best_loss:\n",
    "            best_loss = avg_val_loss\n",
    "            best_epoch = epoch\n",
    "            torch.save(model.state_dict(), 'best_model.pth')\n",
    "\n",
    "print(f'Best model found at epoch {best_epoch+1}, with validation loss: {best_loss:.4f}')"
   ]
  },
  {
   "cell_type": "code",
   "execution_count": null,
   "id": "2949b997-dd46-4cd3-a8b3-1fccffdad967",
   "metadata": {},
   "outputs": [],
   "source": []
  },
  {
   "cell_type": "markdown",
   "id": "a371a420-58c7-4fba-9bba-8ab9c4c66e8d",
   "metadata": {},
   "source": [
    "# Evaluate"
   ]
  },
  {
   "cell_type": "markdown",
   "id": "b8a0537d-f695-430e-8b9b-2ad9bf558e39",
   "metadata": {},
   "source": [
    "Evaluate with raw predictions"
   ]
  },
  {
   "cell_type": "code",
   "execution_count": 18,
   "id": "4b7b94ab-fca8-4969-8e08-9798f707c823",
   "metadata": {},
   "outputs": [
    {
     "name": "stdout",
     "output_type": "stream",
     "text": [
      "Model loaded from mlp_model.pth\n"
     ]
    }
   ],
   "source": [
    "# Load the model state dictionary\n",
    "model = MLP()\n",
    "model.load_state_dict(torch.load('best_model.pth'))\n",
    "model.eval()  # Set the model to evaluation mode\n",
    "model.to(device)\n",
    "print('Model loaded from mlp_model.pth')"
   ]
  },
  {
   "cell_type": "code",
   "execution_count": 19,
   "id": "44df06d5-6857-4192-8f42-784f699e9181",
   "metadata": {},
   "outputs": [
    {
     "name": "stdout",
     "output_type": "stream",
     "text": [
      "Average Loss of the model on the test set: 0.0035\n"
     ]
    }
   ],
   "source": [
    "with torch.no_grad():\n",
    "    total_loss = 0.0\n",
    "    for inputs, labels in test_loader:\n",
    "        inputs, labels = inputs.to(device), labels.to(device)\n",
    "        outputs = model(inputs)\n",
    "        loss = criterion(outputs, labels)\n",
    "        total_loss += loss.item()\n",
    "        \n",
    "    avg_loss = total_loss / len(test_loader)\n",
    "    print(f'Average Loss of the model on the test set: {avg_loss:.4f}')"
   ]
  },
  {
   "cell_type": "markdown",
   "id": "1b0add39-2edf-4f75-b7d8-fc7e4276c036",
   "metadata": {},
   "source": [
    "Evaluate with scaled predictions (error unit: mm)"
   ]
  },
  {
   "cell_type": "code",
   "execution_count": 20,
   "id": "09ed8ee9-6d8b-4952-9d13-f9e1348694dc",
   "metadata": {},
   "outputs": [],
   "source": [
    "X_test_tensor = X_test_tensor.to(device)\n",
    "predictions = model(X_test_tensor)"
   ]
  },
  {
   "cell_type": "code",
   "execution_count": 21,
   "id": "2701053b-19d3-4bd6-8cdf-8ef5901f3d09",
   "metadata": {},
   "outputs": [],
   "source": [
    "predictions = predictions.detach().to(\"cpu\").numpy()\n",
    "predictions_in_mm = scaler_Y.inverse_transform(predictions)"
   ]
  },
  {
   "cell_type": "code",
   "execution_count": 22,
   "id": "13262655-cd58-4f26-9c41-24b1abfb8248",
   "metadata": {},
   "outputs": [],
   "source": [
    "Y_test_tensor = scaler_Y.inverse_transform(Y_test_tensor)"
   ]
  },
  {
   "cell_type": "code",
   "execution_count": 23,
   "id": "a5c63c78-4c9b-4a8c-a9bd-8583419090e1",
   "metadata": {
    "scrolled": true
   },
   "outputs": [
    {
     "data": {
      "text/plain": [
       "44.63265795646973"
      ]
     },
     "execution_count": 23,
     "metadata": {},
     "output_type": "execute_result"
    }
   ],
   "source": [
    "mean_squared_error(Y_test_tensor, predictions_in_mm)"
   ]
  },
  {
   "cell_type": "code",
   "execution_count": null,
   "id": "6a86ccff-adba-41df-a075-983a576866f5",
   "metadata": {},
   "outputs": [],
   "source": []
  },
  {
   "cell_type": "markdown",
   "id": "485a32eb-4bcc-4182-851f-44ddcc1118dd",
   "metadata": {},
   "source": [
    "# Visualize predictions"
   ]
  },
  {
   "cell_type": "code",
   "execution_count": 21,
   "id": "f8db5eb2-dca9-443f-9802-bfafc03d6fe6",
   "metadata": {},
   "outputs": [],
   "source": [
    "predictions_in_mm = predictions_in_mm.reshape(predictions_in_mm.shape[0], 21, 3)"
   ]
  },
  {
   "cell_type": "code",
   "execution_count": 22,
   "id": "757bc96b-a55a-4f51-a564-ffa9c11d6c64",
   "metadata": {},
   "outputs": [],
   "source": [
    "visualize_landmarks_through_frame(predictions_in_mm, 1)"
   ]
  },
  {
   "cell_type": "code",
   "execution_count": null,
   "id": "2d0a6f3b-70d4-443d-81b4-d0ff21c312af",
   "metadata": {},
   "outputs": [],
   "source": []
  },
  {
   "cell_type": "code",
   "execution_count": 24,
   "id": "c6c8fad2-840a-4bc5-adbe-5a3b7df4c6e9",
   "metadata": {},
   "outputs": [
    {
     "ename": "AttributeError",
     "evalue": "'numpy.ndarray' object has no attribute 'abs'",
     "output_type": "error",
     "traceback": [
      "\u001b[0;31m---------------------------------------------------------------------------\u001b[0m",
      "\u001b[0;31mAttributeError\u001b[0m                            Traceback (most recent call last)",
      "Cell \u001b[0;32mIn[24], line 1\u001b[0m\n\u001b[0;32m----> 1\u001b[0m \u001b[43mpredictions_in_mm\u001b[49m\u001b[43m[\u001b[49m\u001b[43m:\u001b[49m\u001b[43m,\u001b[49m\u001b[43m \u001b[49m\u001b[43m:\u001b[49m\u001b[38;5;241;43m3\u001b[39;49m\u001b[43m]\u001b[49m\u001b[38;5;241;43m.\u001b[39;49m\u001b[43mabs\u001b[49m()\n",
      "\u001b[0;31mAttributeError\u001b[0m: 'numpy.ndarray' object has no attribute 'abs'"
     ]
    }
   ],
   "source": [
    "predictions_in_mm[:, :3]"
   ]
  },
  {
   "cell_type": "code",
   "execution_count": 25,
   "id": "1e98697a-0453-47da-aa8f-73517163eae4",
   "metadata": {},
   "outputs": [
    {
     "data": {
      "text/plain": [
       "array([[[1.85609650e-04, 4.66348865e-07, 4.28860294e-05],\n",
       "        [1.10967541e+01, 3.52253647e+01, 3.33618660e+01],\n",
       "        [2.71866302e+01, 9.21353912e+01, 4.91426544e+01]],\n",
       "\n",
       "       [[2.56806845e-04, 5.61283014e-06, 3.14971621e-05],\n",
       "        [1.23917141e+01, 2.57530136e+01, 2.52710342e+01],\n",
       "        [7.36253214e+00, 5.77145081e+01, 4.64300499e+01]],\n",
       "\n",
       "       [[3.37627367e-04, 4.94060077e-06, 3.90565983e-05],\n",
       "        [3.95332742e+00, 3.52010002e+01, 3.75600395e+01],\n",
       "        [8.32162666e+00, 8.57641144e+01, 6.38877602e+01]],\n",
       "\n",
       "       [[1.80617688e-04, 2.37532731e-06, 8.88012437e-08],\n",
       "        [1.11942749e+01, 3.06096916e+01, 1.83208580e+01],\n",
       "        [2.17585373e+01, 5.97155571e+01, 3.09899120e+01]],\n",
       "\n",
       "       [[3.31979943e-04, 6.50679794e-07, 2.42017322e-05],\n",
       "        [2.52948713e+00, 1.62722015e+01, 3.77077446e+01],\n",
       "        [1.35170424e+00, 5.00448151e+01, 6.76720505e+01]],\n",
       "\n",
       "       [[2.52390397e-04, 4.14538590e-06, 4.94359410e-05],\n",
       "        [1.54932795e+01, 3.11410351e+01, 2.76145763e+01],\n",
       "        [3.30869064e+01, 7.83054276e+01, 4.65440712e+01]],\n",
       "\n",
       "       [[3.58035555e-04, 4.48960418e-06, 2.94997590e-05],\n",
       "        [5.35744715e+00, 3.26805344e+01, 3.88071098e+01],\n",
       "        [1.06213388e+01, 8.12757111e+01, 6.76201553e+01]],\n",
       "\n",
       "       [[1.95242974e-04, 2.35569314e-06, 1.44246505e-05],\n",
       "        [9.59296036e+00, 2.95540180e+01, 2.51373119e+01],\n",
       "        [1.69260464e+01, 6.68840485e+01, 3.41067696e+01]],\n",
       "\n",
       "       [[2.57323903e-04, 6.26589826e-06, 2.87927851e-05],\n",
       "        [1.29841890e+01, 2.21862755e+01, 2.55116291e+01],\n",
       "        [1.04226961e+01, 5.34259796e+01, 4.49143753e+01]],\n",
       "\n",
       "       [[2.56271218e-04, 7.00750752e-06, 5.49769975e-05],\n",
       "        [7.76195526e+00, 3.35300255e+01, 3.64833832e+01],\n",
       "        [1.76616554e+01, 7.96544724e+01, 6.57668686e+01]],\n",
       "\n",
       "       [[2.60830333e-04, 2.70627424e-06, 1.66963528e-05],\n",
       "        [3.65549803e+00, 2.01031113e+01, 3.59560814e+01],\n",
       "        [9.64753330e-01, 5.37748413e+01, 5.63134575e+01]],\n",
       "\n",
       "       [[3.98252974e-04, 5.61747947e-06, 4.61564705e-05],\n",
       "        [2.46133938e+01, 2.25908337e+01, 2.04202156e+01],\n",
       "        [4.11566200e+01, 5.20372314e+01, 3.20377731e+01]],\n",
       "\n",
       "       [[2.48635304e-04, 5.68476025e-06, 4.54446490e-05],\n",
       "        [9.08409405e+00, 3.40898781e+01, 3.05426540e+01],\n",
       "        [2.35099316e+01, 8.48092957e+01, 4.06175499e+01]],\n",
       "\n",
       "       [[2.09622754e-04, 3.94273957e-06, 1.74690067e-05],\n",
       "        [1.36657429e+01, 1.41688175e+01, 2.80849209e+01],\n",
       "        [1.25445309e+01, 4.52885170e+01, 4.76837997e+01]],\n",
       "\n",
       "       [[2.76087143e-04, 5.86227543e-07, 3.38784957e-05],\n",
       "        [4.60163403e+00, 2.75666370e+01, 3.00927486e+01],\n",
       "        [1.85880585e+01, 7.53215637e+01, 4.16154442e+01]],\n",
       "\n",
       "       [[3.63942818e-04, 2.41125235e-07, 3.46469169e-05],\n",
       "        [1.38038330e+01, 3.64286995e+01, 2.19908257e+01],\n",
       "        [2.58613129e+01, 8.31542358e+01, 4.05410652e+01]],\n",
       "\n",
       "       [[2.78383377e-04, 1.74954948e-06, 2.00764516e-05],\n",
       "        [1.53990555e+01, 1.20957727e+01, 2.80160484e+01],\n",
       "        [2.73618660e+01, 4.03105774e+01, 4.71625977e+01]],\n",
       "\n",
       "       [[7.46829901e-05, 3.90165951e-07, 7.59162140e-06],\n",
       "        [1.26550274e+01, 2.82117939e+01, 3.16071396e+01],\n",
       "        [2.84936199e+01, 6.20182037e+01, 4.49003716e+01]],\n",
       "\n",
       "       [[1.29312713e-04, 4.13820089e-06, 2.37271161e-06],\n",
       "        [1.91585636e+01, 3.88441772e+01, 2.55937119e+01],\n",
       "        [3.28226433e+01, 8.45737686e+01, 3.40466690e+01]],\n",
       "\n",
       "       [[2.50929559e-04, 4.73092587e-06, 4.24958707e-05],\n",
       "        [9.68479729e+00, 3.47265892e+01, 2.89700050e+01],\n",
       "        [2.43934059e+01, 8.45643539e+01, 3.79115028e+01]],\n",
       "\n",
       "       [[1.48310588e-04, 2.73512705e-06, 4.15246905e-05],\n",
       "        [1.28541164e+01, 3.90284195e+01, 3.77205086e+01],\n",
       "        [2.57577286e+01, 9.66245880e+01, 5.93638077e+01]],\n",
       "\n",
       "       [[2.08578625e-04, 2.80444146e-06, 4.30299406e-05],\n",
       "        [1.20025530e+01, 3.51910667e+01, 3.25329018e+01],\n",
       "        [2.69590054e+01, 8.89796524e+01, 5.04091339e+01]],\n",
       "\n",
       "       [[2.16819346e-04, 6.34252865e-06, 4.31971421e-05],\n",
       "        [1.49642372e+01, 3.87308502e+01, 2.51589069e+01],\n",
       "        [2.49193172e+01, 8.31394272e+01, 4.79371490e+01]],\n",
       "\n",
       "       [[3.34962300e-04, 1.05798063e-06, 2.81672365e-05],\n",
       "        [3.50712800e+00, 2.81322880e+01, 3.06148300e+01],\n",
       "        [1.04493570e+01, 7.47640533e+01, 5.71594315e+01]],\n",
       "\n",
       "       [[2.19724898e-04, 2.62301546e-06, 3.00802858e-05],\n",
       "        [1.03753395e+01, 2.25941620e+01, 2.50729256e+01],\n",
       "        [3.17507887e+00, 5.61222572e+01, 4.42601089e+01]],\n",
       "\n",
       "       [[2.94410798e-04, 5.60956687e-06, 1.95582143e-05],\n",
       "        [1.57824059e+01, 2.14115601e+01, 2.75983562e+01],\n",
       "        [2.10993443e+01, 4.78901711e+01, 5.12274284e+01]],\n",
       "\n",
       "       [[3.74440686e-04, 1.62147189e-05, 4.34468602e-05],\n",
       "        [1.55431900e+01, 3.55048370e+01, 3.39634819e+01],\n",
       "        [1.46318655e+01, 7.56142654e+01, 5.56639366e+01]],\n",
       "\n",
       "       [[2.57124397e-04, 2.96022336e-08, 3.02632161e-05],\n",
       "        [2.54751992e+00, 3.32139277e+00, 1.78929024e+01],\n",
       "        [1.11260586e+01, 1.99059029e+01, 3.50685349e+01]],\n",
       "\n",
       "       [[2.16545901e-04, 2.56291241e-06, 3.33633361e-05],\n",
       "        [2.47808361e+01, 2.78831367e+01, 1.83554401e+01],\n",
       "        [2.83569050e+01, 5.49186516e+01, 3.62596817e+01]],\n",
       "\n",
       "       [[3.24955268e-04, 8.93763354e-06, 3.38247410e-05],\n",
       "        [1.48937583e+00, 2.73642731e+01, 4.06313782e+01],\n",
       "        [1.30949795e+00, 6.96353378e+01, 7.05806503e+01]],\n",
       "\n",
       "       [[2.35838233e-04, 1.76956928e-06, 1.45542981e-05],\n",
       "        [2.33453102e+01, 2.68548813e+01, 2.37393761e+01],\n",
       "        [3.80976639e+01, 6.41815414e+01, 3.56004486e+01]],\n",
       "\n",
       "       [[3.17604310e-04, 9.90132321e-06, 3.33666685e-05],\n",
       "        [2.47349858e+00, 2.76245537e+01, 4.01852074e+01],\n",
       "        [1.59235942e+00, 7.03246536e+01, 6.84997025e+01]],\n",
       "\n",
       "       [[2.44110066e-04, 7.36816946e-06, 5.96345271e-05],\n",
       "        [7.60219526e+00, 3.73849030e+01, 3.58365860e+01],\n",
       "        [1.83367882e+01, 8.66854324e+01, 6.40136185e+01]],\n",
       "\n",
       "       [[3.47552297e-04, 2.64180926e-07, 3.01659256e-05],\n",
       "        [1.11427078e+01, 2.74706707e+01, 1.53068686e+01],\n",
       "        [2.68335323e+01, 6.36997948e+01, 2.51185532e+01]],\n",
       "\n",
       "       [[2.07364370e-04, 3.01399996e-06, 2.08948040e-06],\n",
       "        [3.91321111e+00, 2.75351486e+01, 3.34402657e+01],\n",
       "        [4.34420586e+00, 6.53974075e+01, 5.72340012e+01]],\n",
       "\n",
       "       [[2.18720408e-04, 1.64997145e-05, 3.19068567e-05],\n",
       "        [1.28213930e+00, 3.46569901e+01, 3.60523987e+01],\n",
       "        [1.02918959e+00, 8.47872238e+01, 6.02818069e+01]],\n",
       "\n",
       "       [[2.52228492e-04, 4.97217115e-06, 4.24361860e-05],\n",
       "        [9.23623371e+00, 3.53070450e+01, 2.92893581e+01],\n",
       "        [2.32829666e+01, 8.54579697e+01, 3.77441483e+01]],\n",
       "\n",
       "       [[2.69822776e-04, 8.09912672e-06, 2.63956281e-05],\n",
       "        [1.05981817e+01, 2.80861397e+01, 2.59020329e+01],\n",
       "        [2.96628904e+00, 6.21290359e+01, 4.52112274e+01]],\n",
       "\n",
       "       [[2.40823472e-04, 7.59941031e-06, 3.16668302e-05],\n",
       "        [8.96191883e+00, 3.55857944e+00, 1.78704033e+01],\n",
       "        [1.21443262e+01, 2.35953827e+01, 3.65735703e+01]],\n",
       "\n",
       "       [[2.90545431e-04, 3.22492269e-07, 1.16440478e-05],\n",
       "        [1.14906244e+01, 2.46368713e+01, 2.65730858e+01],\n",
       "        [1.30960579e+01, 5.76669807e+01, 4.57404022e+01]],\n",
       "\n",
       "       [[2.61368783e-04, 5.12601400e-06, 7.42472366e-06],\n",
       "        [2.59580917e+01, 3.26409721e+01, 2.69508572e+01],\n",
       "        [4.31315498e+01, 7.52286911e+01, 3.65764999e+01]],\n",
       "\n",
       "       [[2.38575434e-04, 5.05786375e-06, 2.08413749e-05],\n",
       "        [3.17658405e+01, 2.10462399e+01, 1.95764732e+01],\n",
       "        [3.69669151e+01, 4.32819633e+01, 3.67185631e+01]],\n",
       "\n",
       "       [[2.44159542e-04, 7.95097003e-06, 4.91586616e-05],\n",
       "        [7.77575016e+00, 3.74902687e+01, 3.60873413e+01],\n",
       "        [1.55773335e+01, 9.09179001e+01, 5.94428558e+01]],\n",
       "\n",
       "       [[3.48322617e-04, 2.65661220e-06, 1.48242507e-05],\n",
       "        [4.02111340e+00, 1.70156689e+01, 3.05887318e+01],\n",
       "        [3.93484259e+00, 5.02014084e+01, 5.13956261e+01]],\n",
       "\n",
       "       [[2.24093033e-04, 3.59686965e-08, 5.57334715e-07],\n",
       "        [8.26015854e+00, 2.52228889e+01, 3.32462959e+01],\n",
       "        [2.06630707e+01, 6.21353607e+01, 4.58583336e+01]],\n",
       "\n",
       "       [[2.22951130e-04, 9.67327651e-07, 3.60523845e-05],\n",
       "        [9.64909935e+00, 2.62789936e+01, 2.35888577e+01],\n",
       "        [6.53710222e+00, 6.18010597e+01, 4.04167595e+01]],\n",
       "\n",
       "       [[2.82666588e-04, 2.47207572e-06, 6.26481688e-06],\n",
       "        [1.96044903e+01, 2.63145332e+01, 2.85300674e+01],\n",
       "        [2.60289497e+01, 5.81299667e+01, 4.88508377e+01]],\n",
       "\n",
       "       [[2.45404313e-04, 7.23859557e-07, 8.30258068e-06],\n",
       "        [6.33959103e+00, 2.23166008e+01, 3.42816925e+01],\n",
       "        [5.87585640e+00, 5.55806808e+01, 5.73390198e+01]],\n",
       "\n",
       "       [[2.67324940e-04, 4.92825711e-06, 4.31082444e-05],\n",
       "        [9.66506386e+00, 3.63413086e+01, 2.76511135e+01],\n",
       "        [2.46205101e+01, 8.56613998e+01, 3.57646713e+01]],\n",
       "\n",
       "       [[1.10583635e-04, 3.79749326e-06, 7.32931676e-06],\n",
       "        [1.38017111e+01, 3.19523926e+01, 2.96712017e+01],\n",
       "        [2.97947521e+01, 6.54222488e+01, 4.57536850e+01]],\n",
       "\n",
       "       [[2.91008037e-04, 1.09413268e-05, 2.75649618e-05],\n",
       "        [1.20703115e+01, 3.19436016e+01, 2.66201038e+01],\n",
       "        [7.07819128e+00, 6.65836639e+01, 4.72636871e+01]],\n",
       "\n",
       "       [[2.86265014e-04, 1.40527300e-06, 7.07332219e-06],\n",
       "        [2.43999901e+01, 4.04186287e+01, 1.69864616e+01],\n",
       "        [3.73952713e+01, 7.32130890e+01, 3.21572075e+01]],\n",
       "\n",
       "       [[5.49378456e-05, 4.01418947e-06, 2.43321083e-05],\n",
       "        [6.96934271e+00, 3.79686890e+01, 2.63936329e+01],\n",
       "        [1.80442429e+01, 8.33457718e+01, 3.22391853e+01]],\n",
       "\n",
       "       [[2.58231274e-04, 5.06325523e-06, 4.24855389e-05],\n",
       "        [9.49200153e+00, 3.52083855e+01, 2.90797997e+01],\n",
       "        [2.39336643e+01, 8.55590973e+01, 3.76801834e+01]],\n",
       "\n",
       "       [[3.26046051e-04, 6.87848296e-06, 3.48588292e-05],\n",
       "        [2.52169018e+01, 2.42244720e+01, 2.25319939e+01],\n",
       "        [4.17571869e+01, 5.39890251e+01, 3.63497849e+01]],\n",
       "\n",
       "       [[3.24359979e-04, 3.93661321e-06, 1.49146672e-06],\n",
       "        [2.14267769e+01, 2.39526043e+01, 2.81364231e+01],\n",
       "        [2.66425018e+01, 5.45573006e+01, 4.54463348e+01]],\n",
       "\n",
       "       [[1.47173778e-04, 2.59599256e-06, 4.32825163e-06],\n",
       "        [1.26901541e+01, 3.41231842e+01, 2.09327297e+01],\n",
       "        [2.58010502e+01, 6.79528275e+01, 3.74848671e+01]],\n",
       "\n",
       "       [[1.58147566e-04, 4.77964568e-06, 3.32462441e-05],\n",
       "        [3.46973920e+00, 2.69365330e+01, 2.95143604e+01],\n",
       "        [1.27197428e+01, 6.33961105e+01, 4.50045624e+01]],\n",
       "\n",
       "       [[2.89685588e-04, 7.54944267e-07, 3.74361553e-05],\n",
       "        [6.04213953e+00, 3.52968383e+00, 1.34548178e+01],\n",
       "        [2.00005817e+01, 2.36151981e+01, 2.48045712e+01]],\n",
       "\n",
       "       [[1.94861292e-04, 2.17003981e-06, 3.16357327e-05],\n",
       "        [1.03149519e+01, 1.76463757e+01, 2.25042191e+01],\n",
       "        [6.29957724e+00, 4.73574066e+01, 4.12655106e+01]],\n",
       "\n",
       "       [[3.62860272e-04, 3.64763036e-06, 1.87080950e-05],\n",
       "        [1.69357090e+01, 2.36824760e+01, 2.86060123e+01],\n",
       "        [2.54024162e+01, 5.20003777e+01, 4.79918709e+01]],\n",
       "\n",
       "       [[2.32201317e-04, 8.88931390e-06, 1.37658244e-05],\n",
       "        [8.14180756e+00, 1.69234962e+01, 4.05988808e+01],\n",
       "        [2.91080379e+00, 5.71628227e+01, 7.46943588e+01]],\n",
       "\n",
       "       [[3.38962127e-04, 8.95616904e-06, 6.55571785e-05],\n",
       "        [2.36783028e+01, 5.00641632e+01, 2.33694763e+01],\n",
       "        [3.59478035e+01, 9.77174835e+01, 2.78398209e+01]],\n",
       "\n",
       "       [[2.53537204e-04, 1.05544932e-05, 4.62115568e-05],\n",
       "        [2.39043570e+00, 3.31161385e+01, 3.61351357e+01],\n",
       "        [5.70969200e+00, 8.61594925e+01, 5.97372704e+01]],\n",
       "\n",
       "       [[2.02742580e-04, 2.34605977e-06, 2.73087044e-05],\n",
       "        [1.10299931e+01, 2.02658730e+01, 2.46690674e+01],\n",
       "        [6.97903395e+00, 5.39855537e+01, 4.25819130e+01]],\n",
       "\n",
       "       [[1.20699115e-04, 3.04951755e-07, 1.78576483e-05],\n",
       "        [1.20862179e+01, 2.99639931e+01, 2.71081161e+01],\n",
       "        [2.47345657e+01, 6.85496063e+01, 4.00196953e+01]],\n",
       "\n",
       "       [[2.59278371e-04, 7.05596176e-06, 5.64782531e-05],\n",
       "        [8.55660343e+00, 3.62456932e+01, 3.70317917e+01],\n",
       "        [1.86005344e+01, 8.38290863e+01, 6.58477631e+01]],\n",
       "\n",
       "       [[3.21278640e-04, 8.30241333e-07, 1.05320760e-05],\n",
       "        [1.90791168e+01, 2.38164253e+01, 2.70573139e+01],\n",
       "        [2.43687534e+01, 5.58984718e+01, 4.23869438e+01]],\n",
       "\n",
       "       [[6.94466653e-05, 7.16402792e-06, 3.54407348e-05],\n",
       "        [9.08822656e-01, 1.20174336e+00, 3.58462601e+01],\n",
       "        [2.67307782e+00, 3.64013863e+01, 6.18864555e+01]],\n",
       "\n",
       "       [[3.46199726e-04, 5.46013325e-06, 4.67109858e-05],\n",
       "        [8.89624882e+00, 3.69494858e+01, 3.36372986e+01],\n",
       "        [1.86742287e+01, 8.79356766e+01, 5.85587502e+01]],\n",
       "\n",
       "       [[2.95921665e-04, 6.37788253e-06, 1.44881360e-05],\n",
       "        [8.55891323e+00, 1.42025442e+01, 3.49870415e+01],\n",
       "        [1.18028307e+01, 4.10684929e+01, 6.29873962e+01]],\n",
       "\n",
       "       [[2.83884874e-04, 4.63010656e-06, 4.85045312e-05],\n",
       "        [9.62036705e+00, 3.80015373e+01, 2.78900223e+01],\n",
       "        [2.17953396e+01, 8.79967804e+01, 5.04034615e+01]],\n",
       "\n",
       "       [[2.76471139e-04, 3.68983092e-06, 9.58838791e-06],\n",
       "        [3.03652687e+01, 3.67406654e+01, 1.79160843e+01],\n",
       "        [3.82537537e+01, 7.14952774e+01, 2.99764004e+01]],\n",
       "\n",
       "       [[1.95865679e-04, 9.00640225e-06, 2.79364667e-05],\n",
       "        [1.76210766e+01, 4.36603661e+01, 2.05352192e+01],\n",
       "        [2.44376869e+01, 8.33259583e+01, 4.51746178e+01]],\n",
       "\n",
       "       [[1.66481128e-04, 3.98263364e-06, 4.54043584e-06],\n",
       "        [2.09277134e+01, 4.27680283e+01, 2.26899338e+01],\n",
       "        [3.48280296e+01, 8.76766815e+01, 3.01567249e+01]],\n",
       "\n",
       "       [[1.77403446e-04, 5.73736543e-06, 2.01871044e-05],\n",
       "        [1.49302244e+01, 1.25726271e+01, 3.04152489e+01],\n",
       "        [2.47687321e+01, 4.19013557e+01, 5.35210037e+01]],\n",
       "\n",
       "       [[2.46702693e-04, 5.22205664e-06, 3.10491887e-05],\n",
       "        [3.16071548e+01, 4.33023224e+01, 1.64480057e+01],\n",
       "        [4.40674324e+01, 7.71237411e+01, 3.57299690e+01]],\n",
       "\n",
       "       [[2.64882634e-04, 7.08124571e-06, 2.75104667e-05],\n",
       "        [1.22767906e+01, 2.32805424e+01, 2.56177711e+01],\n",
       "        [8.58187771e+00, 5.43066559e+01, 4.60271721e+01]],\n",
       "\n",
       "       [[2.17080829e-04, 1.41217970e-06, 3.71016577e-05],\n",
       "        [1.05164480e+01, 3.19694710e+01, 2.60118561e+01],\n",
       "        [2.42133961e+01, 7.78567963e+01, 3.56715889e+01]],\n",
       "\n",
       "       [[3.22343985e-04, 3.82294820e-06, 2.88167885e-05],\n",
       "        [1.43500185e+01, 2.38833027e+01, 2.79950199e+01],\n",
       "        [1.97490234e+01, 5.44674568e+01, 4.87107773e+01]],\n",
       "\n",
       "       [[1.80397241e-04, 6.02946966e-06, 5.36227435e-06],\n",
       "        [1.17166195e+01, 3.18484173e+01, 1.94432278e+01],\n",
       "        [2.42195377e+01, 6.41134338e+01, 3.66622620e+01]],\n",
       "\n",
       "       [[2.19290290e-04, 2.79940650e-06, 2.31100603e-05],\n",
       "        [1.43215303e+01, 1.73017635e+01, 2.79737644e+01],\n",
       "        [1.33955345e+01, 4.58767204e+01, 4.89539604e+01]],\n",
       "\n",
       "       [[3.52383999e-04, 5.65153096e-06, 3.04659752e-05],\n",
       "        [2.35789642e+01, 4.40479927e+01, 2.21695271e+01],\n",
       "        [3.95598030e+01, 8.82992859e+01, 3.35592804e+01]],\n",
       "\n",
       "       [[3.69384186e-04, 3.40438419e-07, 3.37387064e-05],\n",
       "        [1.20533457e+01, 2.74822903e+01, 1.67516747e+01],\n",
       "        [2.66881485e+01, 6.53585281e+01, 2.71063557e+01]],\n",
       "\n",
       "       [[3.26633482e-04, 9.69336179e-06, 6.09400158e-05],\n",
       "        [2.15038681e+01, 4.94914742e+01, 2.21467152e+01],\n",
       "        [3.32025146e+01, 9.78705063e+01, 2.53831291e+01]],\n",
       "\n",
       "       [[2.50733370e-04, 6.66342385e-06, 2.19763988e-05],\n",
       "        [2.99514179e+01, 1.84733238e+01, 2.50456219e+01],\n",
       "        [3.78039551e+01, 3.97596359e+01, 4.78718452e+01]],\n",
       "\n",
       "       [[1.80016024e-04, 1.77878246e-06, 1.09632692e-05],\n",
       "        [9.74597836e+00, 3.31213150e+01, 1.95929260e+01],\n",
       "        [1.96260471e+01, 7.18926392e+01, 2.45297928e+01]],\n",
       "\n",
       "       [[2.51797697e-04, 4.44657417e-06, 4.47092752e-05],\n",
       "        [9.94310760e+00, 3.46044197e+01, 2.74436054e+01],\n",
       "        [2.43039570e+01, 8.29498825e+01, 3.59936981e+01]],\n",
       "\n",
       "       [[3.07756534e-04, 9.08619768e-06, 1.11218778e-05],\n",
       "        [2.52743721e+01, 3.16514263e+01, 3.22445412e+01],\n",
       "        [4.57664299e+01, 6.83684158e+01, 4.96814232e+01]],\n",
       "\n",
       "       [[2.46263982e-04, 3.09323877e-06, 3.12650409e-05],\n",
       "        [2.44164104e+01, 3.34952431e+01, 1.96329269e+01],\n",
       "        [3.34089394e+01, 6.73798370e+01, 3.82435722e+01]],\n",
       "\n",
       "       [[3.42168700e-04, 5.55028601e-06, 3.27696471e-05],\n",
       "        [1.55540562e+01, 2.31161442e+01, 3.28550682e+01],\n",
       "        [2.66369591e+01, 5.56929855e+01, 5.30815620e+01]],\n",
       "\n",
       "       [[2.94246420e-04, 8.57173291e-07, 2.58722430e-05],\n",
       "        [2.42661495e+01, 2.90516529e+01, 2.49190693e+01],\n",
       "        [3.82486992e+01, 6.41696777e+01, 4.06786842e+01]],\n",
       "\n",
       "       [[1.88960999e-04, 1.38573705e-06, 4.61047894e-05],\n",
       "        [1.09534149e+01, 3.28948631e+01, 3.25125885e+01],\n",
       "        [2.74229031e+01, 8.71391754e+01, 4.81133499e+01]],\n",
       "\n",
       "       [[3.45178298e-04, 7.46533624e-06, 5.58613028e-05],\n",
       "        [2.49829807e+01, 4.88739471e+01, 2.20284481e+01],\n",
       "        [3.42411537e+01, 9.35073013e+01, 2.73779392e+01]],\n",
       "\n",
       "       [[1.92909269e-04, 5.94778248e-06, 6.64913969e-05],\n",
       "        [1.05877914e+01, 3.63832588e+01, 2.38730526e+01],\n",
       "        [3.18724556e+01, 8.75117569e+01, 4.12518730e+01]],\n",
       "\n",
       "       [[3.29403731e-04, 2.98217128e-06, 1.72662749e-05],\n",
       "        [1.44853706e+01, 1.58371210e+01, 3.27215576e+01],\n",
       "        [2.04336872e+01, 4.64488297e+01, 5.34400482e+01]],\n",
       "\n",
       "       [[2.28021090e-04, 3.16612568e-06, 1.92557491e-05],\n",
       "        [1.50327854e+01, 2.03541336e+01, 2.62063084e+01],\n",
       "        [1.89176903e+01, 5.13483963e+01, 4.63907356e+01]],\n",
       "\n",
       "       [[2.18783985e-04, 3.83648512e-07, 3.44237778e-05],\n",
       "        [1.00958910e+01, 1.84350033e+01, 2.53837624e+01],\n",
       "        [1.61428916e+00, 4.98585129e+01, 4.50627899e+01]],\n",
       "\n",
       "       [[2.87381321e-04, 5.98236147e-06, 5.82118228e-05],\n",
       "        [1.06041059e+01, 4.21690598e+01, 3.09388294e+01],\n",
       "        [2.69495068e+01, 9.51444244e+01, 5.44356689e+01]],\n",
       "\n",
       "       [[2.73125537e-04, 3.36557059e-06, 4.13779781e-05],\n",
       "        [9.06686878e+00, 2.12402859e+01, 3.03007793e+01],\n",
       "        [1.27788582e+01, 5.22966003e+01, 4.69887390e+01]]], dtype=float32)"
      ]
     },
     "execution_count": 25,
     "metadata": {},
     "output_type": "execute_result"
    }
   ],
   "source": [
    "np.absolute(predictions_in_mm[:, :3])"
   ]
  },
  {
   "cell_type": "code",
   "execution_count": null,
   "id": "e0e5aad8-9cf4-47d0-998e-606f15beb65a",
   "metadata": {},
   "outputs": [],
   "source": []
  }
 ],
 "metadata": {
  "kernelspec": {
   "display_name": "Python 3 (ipykernel)",
   "language": "python",
   "name": "python3"
  },
  "language_info": {
   "codemirror_mode": {
    "name": "ipython",
    "version": 3
   },
   "file_extension": ".py",
   "mimetype": "text/x-python",
   "name": "python",
   "nbconvert_exporter": "python",
   "pygments_lexer": "ipython3",
   "version": "3.9.19"
  }
 },
 "nbformat": 4,
 "nbformat_minor": 5
}
