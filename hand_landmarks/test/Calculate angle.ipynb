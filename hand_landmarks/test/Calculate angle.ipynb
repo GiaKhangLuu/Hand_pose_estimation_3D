{
 "cells": [
  {
   "cell_type": "code",
   "execution_count": 1,
   "id": "33154548-36d7-43a5-a741-a34e9d54ba33",
   "metadata": {},
   "outputs": [],
   "source": [
    "# for creating a responsive plot \n",
    "%matplotlib inline\n",
    "%matplotlib widget \n",
    "\n",
    "import mediapipe as mp\n",
    "import cv2\n",
    "import numpy as np\n",
    "import uuid\n",
    "import os\n",
    "import threading\n",
    "import math\n",
    "import matplotlib.pyplot as plt\n",
    "from mpl_toolkits.mplot3d import Axes3D"
   ]
  },
  {
   "cell_type": "code",
   "execution_count": 2,
   "id": "acb926d1-6485-4c37-85d1-4a854374c55f",
   "metadata": {},
   "outputs": [],
   "source": [
    "mp_drawing = mp.solutions.drawing_utils\n",
    "mp_hands = mp.solutions.hands"
   ]
  },
  {
   "cell_type": "code",
   "execution_count": 3,
   "id": "c4dbcf24-d2e3-4d6c-94cb-bac003d03d87",
   "metadata": {},
   "outputs": [],
   "source": [
    "finger_joints_names = [\n",
    "    \"WRIST\",\n",
    "    \"THUMB_CMC\", \"THUMB_MCP\", \"THUMB_IP\", \"THUMB_TIP\",\n",
    "    \"INDEX_FINGER_MCP\", \"INDEX_FINGER_PIP\", \"INDEX_FINGER_DIP\", \"INDEX_FINGER_TIP\",\n",
    "    \"MIDDLE_FINGER_MCP\", \"MIDDLE_FINGER_PIP\", \"MIDDLE_FINGER_DIP\", \"MIDDLE_FINGER_TIP\",\n",
    "    \"RING_FINGER_MCP\", \"RING_FINGER_PIP\", \"RING_FINGER_DIP\", \"RING_FINGER_TIP\",\n",
    "    \"PINKY_MCP\", \"PINKY_PIP\", \"PINKY_DIP\", \"PINKY_TIP\"\n",
    "]"
   ]
  },
  {
   "cell_type": "code",
   "execution_count": 4,
   "id": "94ebff6c-8f51-40a8-92cd-31cb56c3aa60",
   "metadata": {},
   "outputs": [],
   "source": [
    "def convert_to_lower_left_coord(landmarks):\n",
    "    converted_landmarks = []\n",
    "    #wrist_landmark = landmarks[finger_joints_names.index(\"WRIST\")]\n",
    "    for landmark in landmarks:\n",
    "        x = landmark.x \n",
    "        y = 1 - landmark.y\n",
    "        z = landmark.z\n",
    "        converted_landmarks.append({\"x\": landmark.x, \"y\": y, \"z\": landmark.z})\n",
    "    return converted_landmarks"
   ]
  },
  {
   "cell_type": "code",
   "execution_count": 5,
   "id": "c16033b5-ea8c-483c-8f27-9668dae89a20",
   "metadata": {},
   "outputs": [],
   "source": [
    "def vector_length(v):\n",
    "    return math.sqrt(v[0] ** 2 + v[1] ** 2 + v[2] ** 2)"
   ]
  },
  {
   "cell_type": "code",
   "execution_count": 6,
   "id": "eb458f8c-5a7e-45f7-a012-2e8bab262a30",
   "metadata": {},
   "outputs": [],
   "source": [
    "def cross_product(a, b):\n",
    "    c = [a[1]*b[2] - a[2]*b[1],\n",
    "         a[2]*b[0] - a[0]*b[2],\n",
    "         a[0]*b[1] - a[1]*b[0]]\n",
    "    return c"
   ]
  },
  {
   "cell_type": "code",
   "execution_count": 7,
   "id": "a44d183f-227f-4ad1-ad74-91c019681294",
   "metadata": {},
   "outputs": [],
   "source": [
    "def angle_between(a, b):\n",
    "    dot_product = sum(x * y for x, y in zip(a, b))\n",
    "    magnitude_a = math.sqrt(sum(x**2 for x in a))\n",
    "    magnitude_b = math.sqrt(sum(x**2 for x in b))\n",
    "    cos_theta = dot_product / (magnitude_a * magnitude_b)\n",
    "    cos_theta = min(1, cos_theta)\n",
    "    angle = math.acos(cos_theta)\n",
    "    return math.degrees(angle)"
   ]
  },
  {
   "cell_type": "code",
   "execution_count": 8,
   "id": "0a8c21ee-4eed-4b7e-bf9e-5dd15fc83125",
   "metadata": {},
   "outputs": [],
   "source": [
    "def normalize_vector(v):\n",
    "    magnitude = math.sqrt(sum(x**2 for x in v))\n",
    "    return [x / magnitude for x in v]"
   ]
  },
  {
   "cell_type": "code",
   "execution_count": 9,
   "id": "d9c6123d-c03c-4ed7-9dc9-d792e4fabe30",
   "metadata": {},
   "outputs": [],
   "source": [
    "def tuple_to_matrix(x, y, z, t):\n",
    "    array = np.array([x, y, z, t])\n",
    "    array = np.transpose(array)\n",
    "    array = np.concatenate([array, np.array([[0, 0, 0, 1]])], axis=0)\n",
    "    return array"
   ]
  },
  {
   "cell_type": "code",
   "execution_count": 10,
   "id": "a7202d7b-8335-483e-ba30-da89e910f63e",
   "metadata": {},
   "outputs": [],
   "source": [
    "def plot_3d(x, y, z):\n",
    "    fig = plt.figure()\n",
    "    ax = fig.add_subplot(111, projection='3d')\n",
    "\n",
    "    ax.scatter(x, y, z, c='b', marker='o')\n",
    "    \n",
    "    # Draw a line\n",
    "    def draw_line(ax, prev_p, next_p):\n",
    "        ax.plot([prev_p[0], next_p[0]], [prev_p[1], next_p[1]], [prev_p[2], next_p[2]], c='b')\n",
    "        return ax\n",
    "\n",
    "    for i in range(x.shape[0]):\n",
    "        if i == 0:\n",
    "            continue\n",
    "        if (i - 1) % 4 == 0:\n",
    "            prev_p = [0, 0, 0]\n",
    "        else:\n",
    "            prev_p = next_p\n",
    "        next_p = [x[i], y[i], z[i]]\n",
    "        ax = draw_line(ax, prev_p, next_p)\n",
    "\n",
    "    # Draw Oxyz coord\n",
    "    ax.plot([0, 1], [0, 0], [0, 0], c='r')\n",
    "    ax.plot([0, 0], [0, 1], [0, 0], c='g')\n",
    "    ax.plot([0, 0], [0, 0], [0, 1], c='b')\n",
    "\n",
    "    ax.set_xlabel('X')\n",
    "    ax.set_ylabel('Y')\n",
    "    ax.set_zlabel('Z')\n",
    "\n",
    "    # Set the limits for each axis\n",
    "    ax.set_xlim(0, 0.5)\n",
    "    ax.set_ylim(0, 0.5)\n",
    "    ax.set_zlim(0, 0.5)  # Setting custom limits for z-axis\n",
    "\n",
    "    fig.savefig('view_1.png')\n",
    "\n",
    "    ax.view_init(elev=11, azim=-2)\n",
    "    fig.savefig('view_2.png')\n",
    "    \n",
    "\n",
    "    ax.view_init(elev=90, azim=-90)\n",
    "    fig.savefig('view_3.png')\n",
    "    \n",
    "    view_1 = cv2.imread('view_1.png')\n",
    "    view_2 = cv2.imread('view_2.png')\n",
    "    view_3 = cv2.imread('view_3.png')\n",
    "    \n",
    "    cv2.imshow(\"View 1\", view_1)\n",
    "    cv2.moveWindow(\"View 1\", 2650, 0)\n",
    "    \n",
    "    cv2.imshow(\"View 2\", view_2)\n",
    "    cv2.moveWindow(\"View 2\", 2000, 550)\n",
    "    \n",
    "    cv2.imshow(\"View 3\", view_3)\n",
    "    cv2.moveWindow(\"View 3\", 2650, 550)\n",
    "\n",
    "    plt.close()\n",
    "    #return ax"
   ]
  },
  {
   "cell_type": "code",
   "execution_count": 11,
   "id": "d885c4a3-1033-466a-b9b8-3ced19f8bf89",
   "metadata": {},
   "outputs": [],
   "source": [
    "def convert_to_wrist_coordinate(landmarks, R_inv):\n",
    "    wrist_landmarks = []\n",
    "    for i in range(len(landmarks)):\n",
    "        landmark = landmarks[i]\n",
    "        j_camera = np.array([landmark[\"x\"], landmark[\"y\"], landmark[\"z\"], 1])\n",
    "        j_wrist = np.dot(R_inv, j_camera)\n",
    "        wrist_landmarks.append(j_wrist)\n",
    "    return wrist_landmarks"
   ]
  },
  {
   "cell_type": "code",
   "execution_count": 12,
   "id": "3ee08b83-df22-4298-a33b-6c79394336bb",
   "metadata": {},
   "outputs": [],
   "source": [
    "def hand_tracking(image):\n",
    "    processed_image = cv2.cvtColor(image, cv2.COLOR_BGR2RGB)\n",
    "    wrist_landmarks = None\n",
    "        \n",
    "    results = hands.process(processed_image)\n",
    "    if results.multi_hand_landmarks:\n",
    "        for num, hand in enumerate(results.multi_hand_landmarks):\n",
    "            mp_drawing.draw_landmarks(image, hand, mp_hands.HAND_CONNECTIONS,\n",
    "                                      mp_drawing.DrawingSpec(color=(121, 22, 76), thickness=2, circle_radius=4),\n",
    "                                      mp_drawing.DrawingSpec(color=(250, 44, 250), thickness=2, circle_radius=2))\n",
    "            \"\"\"\n",
    "            for i, landmarks in enumerate(hand.landmark):\n",
    "                #if landmarks.z < 0:\n",
    "                    #print(finger_joints_names[i])\n",
    "                    #print(landmarks)\n",
    "                if i not in [8, 12]:\n",
    "                    continue\n",
    "                coords = tuple(np.multiply(np.array((landmarks.x, \n",
    "                                                     landmarks.y)), \n",
    "                                        [640, 480]).astype(int))  \n",
    "                image = cv2.putText(image, str(round(landmarks.z, 2)), coords, cv2.FONT_HERSHEY_SIMPLEX, 1, (0, 0, 0), 1)\n",
    "            \"\"\"\n",
    "            landmarks = convert_to_lower_left_coord(hand.landmark)\n",
    "            u = (landmarks[finger_joints_names.index(\"INDEX_FINGER_MCP\")][\"x\"] - landmarks[finger_joints_names.index(\"WRIST\")][\"x\"],\n",
    "                 landmarks[finger_joints_names.index(\"INDEX_FINGER_MCP\")][\"y\"] - landmarks[finger_joints_names.index(\"WRIST\")][\"y\"],\n",
    "                 landmarks[finger_joints_names.index(\"INDEX_FINGER_MCP\")][\"z\"] - landmarks[finger_joints_names.index(\"WRIST\")][\"z\"])\n",
    "\n",
    "            y = (landmarks[finger_joints_names.index(\"MIDDLE_FINGER_MCP\")][\"x\"] - landmarks[finger_joints_names.index(\"WRIST\")][\"x\"],\n",
    "                 landmarks[finger_joints_names.index(\"MIDDLE_FINGER_MCP\")][\"y\"] - landmarks[finger_joints_names.index(\"WRIST\")][\"y\"],\n",
    "                 landmarks[finger_joints_names.index(\"MIDDLE_FINGER_MCP\")][\"z\"] - landmarks[finger_joints_names.index(\"WRIST\")][\"z\"])\n",
    "            \n",
    "            x = cross_product(y, u)\n",
    "            z = cross_product(x, y)\n",
    "            x, y, z = normalize_vector(x), normalize_vector(y), normalize_vector(z)\n",
    "\n",
    "            #print('debug angle: ', angle_between(y_old, y))\n",
    "\n",
    "            #print('|x|: ', vector_length(x))\n",
    "            #print('|y|: ', vector_length(y))\n",
    "            #print('|z|: ', vector_length(z))\n",
    "            #print(\"(x,z) = \", angle_between(x, z))\n",
    "            #print(\"(x,y) = \", angle_between(x, y))\n",
    "            #print(\"(z, y) = \", angle_between(z, y))\n",
    "\n",
    "            #print(\"x: \", x)\n",
    "            #print(\"y: \", y)\n",
    "            #print(\"z: \", z)\n",
    "\n",
    "            w_c = (landmarks[finger_joints_names.index(\"WRIST\")][\"x\"], \n",
    "                   landmarks[finger_joints_names.index(\"WRIST\")][\"y\"],\n",
    "                   landmarks[finger_joints_names.index(\"WRIST\")][\"z\"])\n",
    "\n",
    "            R = tuple_to_matrix(x, y, z, w_c)\n",
    "            R_inv = np.linalg.inv(R)\n",
    "\n",
    "            o_wrist = np.int32(np.dot(R_inv, np.array([w_c[0], w_c[1], w_c[2], 1])))\n",
    "            \n",
    "            #print(o_wrist)\n",
    "\n",
    "            wrist_landmarks = convert_to_wrist_coordinate(landmarks, R_inv)\n",
    "            wrist_landmarks = np.array(wrist_landmarks)\n",
    "            #print(\"wrist_landmarks\", wrist_landmarks)\n",
    "            \n",
    "            plot_3d(wrist_landmarks[:, 0], wrist_landmarks[:, 1], wrist_landmarks[:, 2]) \n",
    "\n",
    "            #print(wrist_landmarks)\n",
    "            #x = np.dot(R_inv, np.array([x[0], x[1], x[2], 1]))  # To ensure our computations are correct, this one must equal to [1, 0, 0]\n",
    "            #y = np.dot(R_inv, np.array([y[0], y[1], y[2], 1]))  # To ensure our computations are correct, this one must equal to [0, 1, 0]\n",
    "            #z = np.dot(R_inv, np.array([z[0], z[1], z[2], 1]))  # To ensure our computations are correct, this one must equal to [0, 0, 1]\n",
    "            \n",
    "            #print('x_w: ', x)\n",
    "            #print('y_w: ', y)\n",
    "            #print('z_w: ', z)\n",
    "            #print(test_2)\n",
    "            \"\"\"\n",
    "            wrist_coords = wrist_landmarks[0, :3]\n",
    "            index_finger_coords = wrist_landmarks[5:9, :3]\n",
    "\n",
    "            angles = []\n",
    "            for i in range(index_finger_coords.shape[0]):\n",
    "                if i == 0:\n",
    "                    continue\n",
    "                if (i - 1) % 4 == 0:\n",
    "                    prev_p = [0, 0, 0]\n",
    "                else:\n",
    "                    prev_p = next_p\n",
    "                next_p = [x[i], y[i], z[i]]\n",
    "                ax = draw_line(ax, prev_p, next_p)\"\"\"\n",
    "\n",
    "            angle_1 = angle_between(wrist_landmarks[6, :3] - wrist_landmarks[5, :3], wrist_landmarks[5, :3])\n",
    "            coords = tuple(np.multiply(np.array((hand.landmark[5].x, \n",
    "                                                 hand.landmark[5].y)), \n",
    "                                        [640, 480]).astype(int))  \n",
    "            image = cv2.putText(image, str(round(angle_1, 2)), coords, cv2.FONT_HERSHEY_SIMPLEX, 1, (0, 0, 0), 1)\n",
    "            print(angle_1)\n",
    "            \n",
    "    return image, wrist_landmarks"
   ]
  },
  {
   "cell_type": "code",
   "execution_count": 13,
   "id": "77d9442b-405c-495c-a13f-2079cd95818b",
   "metadata": {
    "scrolled": true
   },
   "outputs": [
    {
     "name": "stderr",
     "output_type": "stream",
     "text": [
      "[ WARN:0@0.330] global cap_v4l.cpp:997 open VIDEOIO(V4L2:/dev/video0): can't open camera by index\n",
      "[ERROR:0@0.330] global obsensor_uvc_stream_channel.cpp:159 getStreamChannelGroup Camera index out of range\n",
      "WARNING: All log messages before absl::InitializeLog() is called are written to STDERR\n",
      "I0000 00:00:1715588384.748282   53001 gl_context_egl.cc:85] Successfully initialized EGL. Major : 1 Minor: 5\n",
      "I0000 00:00:1715588384.751209   53056 gl_context.cc:357] GL version: 3.2 (OpenGL ES 3.2 Mesa 21.2.6), renderer: Mesa Intel(R) UHD Graphics 630 (CFL GT2)\n",
      "INFO: Created TensorFlow Lite XNNPACK delegate for CPU.\n"
     ]
    }
   ],
   "source": [
    "cap = cv2.VideoCapture(0)    \n",
    "\n",
    "with mp_hands.Hands(min_detection_confidence=0.8, min_tracking_confidence=0.5) as hands:\n",
    "    while cap.isOpened():\n",
    "        ret, frame = cap.read()\n",
    "\n",
    "        # Flip on horizontal\n",
    "        image = cv2.flip(frame, 1)\n",
    "        print(image.shape)\n",
    "\n",
    "        # Set flag\n",
    "        #image.flags.writeable = False\n",
    "\n",
    "        image, wrist_landmarks = hand_tracking(image.copy())\n",
    "        cv2.imshow(\"Hand Tracking\", image)\n",
    "        cv2.moveWindow(\"Hand Tracking\", 2000, 0)\n",
    "\n",
    "        if cv2.waitKey(10) & 0xFF == ord(\"q\"):\n",
    "            break\n",
    "\n",
    "cap.release()\n",
    "cv2.destroyAllWindows()"
   ]
  },
  {
   "cell_type": "code",
   "execution_count": null,
   "id": "ac0f5823-cb6f-44a0-8c07-bbd8f9cd8004",
   "metadata": {},
   "outputs": [],
   "source": []
  },
  {
   "cell_type": "code",
   "execution_count": 14,
   "id": "4a255dd5-4582-4406-b1d1-cf60548f4a0b",
   "metadata": {},
   "outputs": [
    {
     "ename": "NameError",
     "evalue": "name 'wrist_landmarks' is not defined",
     "output_type": "error",
     "traceback": [
      "\u001b[0;31m---------------------------------------------------------------------------\u001b[0m",
      "\u001b[0;31mNameError\u001b[0m                                 Traceback (most recent call last)",
      "Cell \u001b[0;32mIn[14], line 1\u001b[0m\n\u001b[0;32m----> 1\u001b[0m \u001b[43mwrist_landmarks\u001b[49m\n",
      "\u001b[0;31mNameError\u001b[0m: name 'wrist_landmarks' is not defined"
     ]
    }
   ],
   "source": [
    "wrist_landmarks"
   ]
  },
  {
   "cell_type": "code",
   "execution_count": null,
   "id": "3b41c901-c62f-4230-9394-63743199de4e",
   "metadata": {},
   "outputs": [],
   "source": []
  },
  {
   "cell_type": "code",
   "execution_count": null,
   "id": "24cc2598-a76d-4d62-9443-984a95e4547b",
   "metadata": {},
   "outputs": [],
   "source": []
  },
  {
   "cell_type": "code",
   "execution_count": null,
   "id": "f0431f9a-2111-4dd9-b74f-a137ad0c278e",
   "metadata": {},
   "outputs": [],
   "source": [
    "fig = plt.figure()\n",
    "ax = fig.add_subplot(111, projection='3d')\n",
    "\n",
    "# Plot points\n",
    "ax.scatter(wrist_landmarks[:, 0], wrist_landmarks[:, 1], wrist_landmarks[:, 2], c='b', marker='o')\n",
    "\n",
    "# Draw a line\n",
    "def draw_line(ax, prev_p, next_p):\n",
    "    ax.plot([prev_p[0], next_p[0]], [prev_p[1], next_p[1]], [prev_p[2], next_p[2]], c='b')\n",
    "    return ax\n",
    "\n",
    "for i in range(wrist_landmarks.shape[0]):\n",
    "    if i == 0:\n",
    "        continue\n",
    "    if (i - 1) % 4 == 0:\n",
    "        prev_p = [0, 0, 0]\n",
    "    else:\n",
    "        prev_p = next_p\n",
    "    next_p = [wrist_landmarks[i, 0], wrist_landmarks[i, 1], wrist_landmarks[i, 2]]\n",
    "    ax = draw_line(ax, prev_p, next_p)\n",
    "\n",
    "    # Draw Oxyz coord\n",
    "ax.plot([0, 1], [0, 0], [0, 0], c='r')\n",
    "ax.plot([0, 0], [0, 1], [0, 0], c='g')\n",
    "ax.plot([0, 0], [0, 0], [0, 1], c='b')\n",
    "\n",
    "ax.set_xlabel('X')\n",
    "ax.set_ylabel('Y')\n",
    "ax.set_zlabel('Z')\n",
    "\n",
    "# Set the limits for each axis\n",
    "ax.set_xlim(-0.5, 0.5)\n",
    "ax.set_ylim(0, 0.5)\n",
    "ax.set_zlim(-0.5, 0.5)  # Setting custom limits for z-axis\n",
    "\n",
    "ax.view_init(elev=11, azim=-2)\n"
   ]
  },
  {
   "cell_type": "code",
   "execution_count": null,
   "id": "766b4124-a62b-4694-831c-f036b94b4ea1",
   "metadata": {},
   "outputs": [],
   "source": []
  },
  {
   "cell_type": "code",
   "execution_count": null,
   "id": "a2ad16cc-3a72-4a73-805a-b5157f058128",
   "metadata": {},
   "outputs": [],
   "source": [
    "fig = plt.figure()\n",
    "ax = fig.add_subplot(111, projection='3d')\n",
    "\n",
    "# Plot points\n",
    "ax.scatter(wrist_landmarks[:, 0], wrist_landmarks[:, 1], wrist_landmarks[:, 2], c='b', marker='o')\n",
    "\n",
    "# Draw a line\n",
    "def draw_line(ax, prev_p, next_p):\n",
    "    ax.plot([prev_p[0], next_p[0]], [prev_p[1], next_p[1]], [prev_p[2], next_p[2]], c='b')\n",
    "    return ax\n",
    "\n",
    "for i in range(wrist_landmarks.shape[0]):\n",
    "    if i == 0:\n",
    "        continue\n",
    "    if (i - 1) % 4 == 0:\n",
    "        prev_p = [0, 0, 0]\n",
    "    else:\n",
    "        prev_p = next_p\n",
    "    next_p = [wrist_landmarks[i, 0], wrist_landmarks[i, 1], wrist_landmarks[i, 2]]\n",
    "    ax = draw_line(ax, prev_p, next_p)\n",
    "\n",
    "    # Draw Oxyz coord\n",
    "ax.plot([0, 1], [0, 0], [0, 0], c='r')\n",
    "ax.plot([0, 0], [0, 1], [0, 0], c='g')\n",
    "ax.plot([0, 0], [0, 0], [0, 1], c='b')\n",
    "\n",
    "ax.set_xlabel('X')\n",
    "ax.set_ylabel('Y')\n",
    "ax.set_zlabel('Z')\n",
    "\n",
    "# Set the limits for each axis\n",
    "ax.set_xlim(-0.5, 0.5)\n",
    "ax.set_ylim(0, 0.5)\n",
    "ax.set_zlim(-0.5, 0.5)  # Setting custom limits for z-axis\n",
    "\n",
    "ax.view_init(elev=90, azim=-90)"
   ]
  },
  {
   "cell_type": "code",
   "execution_count": null,
   "id": "80bca209-d6b7-4a35-a1d1-99dec53197f6",
   "metadata": {},
   "outputs": [],
   "source": []
  },
  {
   "cell_type": "code",
   "execution_count": null,
   "id": "6a82fc25-df9c-4e6e-9e6e-fe719eb6fd56",
   "metadata": {},
   "outputs": [],
   "source": []
  },
  {
   "cell_type": "code",
   "execution_count": null,
   "id": "9308dfc2-6ad8-42aa-9358-7e63efcbb682",
   "metadata": {},
   "outputs": [],
   "source": []
  },
  {
   "cell_type": "code",
   "execution_count": null,
   "id": "c37e7624-2d05-4404-bef6-fc073d3aa5ee",
   "metadata": {},
   "outputs": [],
   "source": []
  },
  {
   "cell_type": "code",
   "execution_count": null,
   "id": "69692f7b-e35a-4062-a8cb-ffefd751e972",
   "metadata": {},
   "outputs": [],
   "source": []
  },
  {
   "cell_type": "code",
   "execution_count": null,
   "id": "9f147732-3f55-4bad-b157-9d97aacd09e6",
   "metadata": {},
   "outputs": [],
   "source": []
  },
  {
   "cell_type": "code",
   "execution_count": null,
   "id": "27e6da30-3a20-4a5d-8173-7ee941a2494e",
   "metadata": {},
   "outputs": [],
   "source": []
  },
  {
   "cell_type": "markdown",
   "id": "739a7cad-6a6f-40b5-a77c-6148d9e640ae",
   "metadata": {},
   "source": [
    "# RealSense"
   ]
  },
  {
   "cell_type": "code",
   "execution_count": 12,
   "id": "a6b6fda0-1d1b-41dd-8667-2d0bacc3133c",
   "metadata": {},
   "outputs": [],
   "source": [
    "def hand_tracking_realsense(image):\n",
    "    #processed_image = cv2.cvtColor(image, cv2.COLOR_BGR2RGB)\n",
    "    processed_image = image\n",
    "    wrist_landmarks = None\n",
    "        \n",
    "    results = hands.process(processed_image)\n",
    "    if results.multi_hand_landmarks:\n",
    "        for num, hand in enumerate(results.multi_hand_landmarks):\n",
    "            mp_drawing.draw_landmarks(image, hand, mp_hands.HAND_CONNECTIONS,\n",
    "                                      mp_drawing.DrawingSpec(color=(121, 22, 76), thickness=2, circle_radius=4),\n",
    "                                      mp_drawing.DrawingSpec(color=(250, 44, 250), thickness=2, circle_radius=2))\n",
    "            \n",
    "            landmarks = convert_to_lower_left_coord(hand.landmark)\n",
    "            u = (landmarks[finger_joints_names.index(\"INDEX_FINGER_MCP\")][\"x\"] - landmarks[finger_joints_names.index(\"WRIST\")][\"x\"],\n",
    "                 landmarks[finger_joints_names.index(\"INDEX_FINGER_MCP\")][\"y\"] - landmarks[finger_joints_names.index(\"WRIST\")][\"y\"],\n",
    "                 landmarks[finger_joints_names.index(\"INDEX_FINGER_MCP\")][\"z\"] - landmarks[finger_joints_names.index(\"WRIST\")][\"z\"])\n",
    "\n",
    "            y = (landmarks[finger_joints_names.index(\"MIDDLE_FINGER_MCP\")][\"x\"] - landmarks[finger_joints_names.index(\"WRIST\")][\"x\"],\n",
    "                 landmarks[finger_joints_names.index(\"MIDDLE_FINGER_MCP\")][\"y\"] - landmarks[finger_joints_names.index(\"WRIST\")][\"y\"],\n",
    "                 landmarks[finger_joints_names.index(\"MIDDLE_FINGER_MCP\")][\"z\"] - landmarks[finger_joints_names.index(\"WRIST\")][\"z\"])\n",
    "            \n",
    "            x = cross_product(y, u)\n",
    "            z = cross_product(x, y)\n",
    "            x, y, z = normalize_vector(x), normalize_vector(y), normalize_vector(z)\n",
    "\n",
    "            w_c = (landmarks[finger_joints_names.index(\"WRIST\")][\"x\"], \n",
    "                   landmarks[finger_joints_names.index(\"WRIST\")][\"y\"],\n",
    "                   landmarks[finger_joints_names.index(\"WRIST\")][\"z\"])\n",
    "\n",
    "            R = tuple_to_matrix(x, y, z, w_c)\n",
    "            R_inv = np.linalg.inv(R)\n",
    "\n",
    "            o_wrist = np.int32(np.dot(R_inv, np.array([w_c[0], w_c[1], w_c[2], 1])))\n",
    "            \n",
    "            wrist_landmarks = convert_to_wrist_coordinate(landmarks, R_inv)\n",
    "            wrist_landmarks = np.array(wrist_landmarks)\n",
    "            \n",
    "            plot_3d(wrist_landmarks[:, 0], wrist_landmarks[:, 1], wrist_landmarks[:, 2]) \n",
    "\n",
    "            \"\"\"\n",
    "            wrist_coords = wrist_landmarks[0, :3]\n",
    "            index_finger_coords = wrist_landmarks[5:9, :3]\n",
    "\n",
    "            angles = []\n",
    "            for i in range(index_finger_coords.shape[0]):\n",
    "                if i == 0:\n",
    "                    continue\n",
    "                if (i - 1) % 4 == 0:\n",
    "                    prev_p = [0, 0, 0]\n",
    "                else:\n",
    "                    prev_p = next_p\n",
    "                next_p = [x[i], y[i], z[i]]\n",
    "                ax = draw_line(ax, prev_p, next_p)\"\"\"\n",
    "\n",
    "            angle_1 = angle_between(wrist_landmarks[6, :3] - wrist_landmarks[5, :3], wrist_landmarks[5, :3])\n",
    "            coords = tuple(np.multiply(np.array((hand.landmark[5].x, \n",
    "                                                 hand.landmark[5].y)), \n",
    "                                        [640, 480]).astype(int))  \n",
    "            image = cv2.putText(image, str(round(angle_1, 2)), coords, cv2.FONT_HERSHEY_SIMPLEX, 1, (0, 0, 0), 1)\n",
    "            print(angle_1)\n",
    "            \n",
    "    return image, wrist_landmarks"
   ]
  },
  {
   "cell_type": "code",
   "execution_count": 1,
   "id": "01f5ee33-9771-465d-9bdd-80143f26fa4a",
   "metadata": {},
   "outputs": [],
   "source": [
    "import pyrealsense2 as rs\n",
    "import numpy as np\n",
    "import cv2\n",
    "\n",
    "# Configure depth and color streams\n",
    "pipeline = rs.pipeline()\n",
    "config = rs.config()\n",
    "\n",
    "# Get device product line for setting a supporting resolution\n",
    "pipeline_wrapper = rs.pipeline_wrapper(pipeline)\n",
    "pipeline_profile = config.resolve(pipeline_wrapper)\n",
    "device = pipeline_profile.get_device()\n",
    "device_product_line = str(device.get_info(rs.camera_info.product_line))\n",
    "\n",
    "found_rgb = False\n",
    "for s in device.sensors:\n",
    "    if s.get_info(rs.camera_info.name) == 'RGB Camera':\n",
    "        found_rgb = True\n",
    "        break\n",
    "if not found_rgb:\n",
    "    print(\"The demo requires Depth camera with Color sensor\")\n",
    "    exit(0)\n",
    "\n",
    "config.enable_stream(rs.stream.depth, 640, 480, rs.format.z16, 30)\n",
    "config.enable_stream(rs.stream.color, 640, 480, rs.format.bgr8, 30)\n",
    "\n",
    "# Start streaming\n",
    "pipeline.start(config)\n",
    "\n",
    "try:\n",
    "    while True:\n",
    "\n",
    "        # Wait for a coherent pair of frames: depth and color\n",
    "        frames = pipeline.wait_for_frames()\n",
    "        color_frame = frames.get_color_frame()\n",
    "        if not color_frame:\n",
    "            continue\n",
    "\n",
    "        # Convert images to numpy arrays\n",
    "        image = np.asanyarray(color_frame.get_data())\n",
    "\n",
    "            #image, wrist_landmarks = hand_tracking_realsense(image.copy())\n",
    "\n",
    "        # Show images\n",
    "        cv2.namedWindow('Hand Tracking', cv2.WINDOW_AUTOSIZE)\n",
    "        cv2.imshow('Hand Tracking', image)\n",
    "\n",
    "        if cv2.waitKey(10) & 0xFF == ord(\"q\"):\n",
    "            break\n",
    "\n",
    "finally:\n",
    "    # Stop streaming\n",
    "    pipeline.stop()\n",
    "    cv2.destroyAllWindows()"
   ]
  },
  {
   "cell_type": "code",
   "execution_count": null,
   "id": "8a7dbf30-1e19-43a5-b88e-363ad93bd541",
   "metadata": {},
   "outputs": [],
   "source": []
  },
  {
   "cell_type": "code",
   "execution_count": null,
   "id": "761840d2-29ab-43bf-88fd-939315b78072",
   "metadata": {},
   "outputs": [],
   "source": []
  },
  {
   "cell_type": "code",
   "execution_count": 22,
   "id": "2f13571f-97a1-4a37-beb7-60d257b68cf9",
   "metadata": {},
   "outputs": [],
   "source": [
    "x = np.random.rand(5, 2, 2)"
   ]
  },
  {
   "cell_type": "code",
   "execution_count": 23,
   "id": "197d4c8b-ad96-40f3-abb4-1466bbee0ccc",
   "metadata": {},
   "outputs": [
    {
     "data": {
      "text/plain": [
       "array([[[0.30441226, 0.25626777],\n",
       "        [0.48686008, 0.86273574]],\n",
       "\n",
       "       [[0.27199172, 0.19041019],\n",
       "        [0.06588798, 0.84560219]],\n",
       "\n",
       "       [[0.35100584, 0.04572388],\n",
       "        [0.48384535, 0.4281388 ]],\n",
       "\n",
       "       [[0.96426854, 0.78286143],\n",
       "        [0.46291566, 0.47570115]],\n",
       "\n",
       "       [[0.18594956, 0.76290807],\n",
       "        [0.92146523, 0.20808616]]])"
      ]
     },
     "execution_count": 23,
     "metadata": {},
     "output_type": "execute_result"
    }
   ],
   "source": [
    "x"
   ]
  },
  {
   "cell_type": "code",
   "execution_count": 27,
   "id": "18190883-53ba-4570-b896-56789ccad4c1",
   "metadata": {},
   "outputs": [],
   "source": [
    "directions = np.sign(np.linalg.det(x))"
   ]
  },
  {
   "cell_type": "code",
   "execution_count": 28,
   "id": "be1ffce6-4b33-4380-905f-05d14accc427",
   "metadata": {},
   "outputs": [
    {
     "data": {
      "text/plain": [
       "array([ 1.,  1.,  1.,  1., -1.])"
      ]
     },
     "execution_count": 28,
     "metadata": {},
     "output_type": "execute_result"
    }
   ],
   "source": [
    "directions"
   ]
  },
  {
   "cell_type": "code",
   "execution_count": 29,
   "id": "0439010a-d47b-46b9-8ae6-ff45a2fafaab",
   "metadata": {},
   "outputs": [],
   "source": [
    "y = np.random.rand(5)"
   ]
  },
  {
   "cell_type": "code",
   "execution_count": 30,
   "id": "21c130ee-4133-4f55-865c-20395e7a1ff7",
   "metadata": {},
   "outputs": [
    {
     "data": {
      "text/plain": [
       "array([ 0.19541859,  0.24095602,  0.25926387,  0.42549541, -0.69043752])"
      ]
     },
     "execution_count": 30,
     "metadata": {},
     "output_type": "execute_result"
    }
   ],
   "source": [
    "y * directions"
   ]
  },
  {
   "cell_type": "code",
   "execution_count": 31,
   "id": "a9039f29-4937-4514-b173-1ce17dc4afd4",
   "metadata": {},
   "outputs": [
    {
     "ename": "ValueError",
     "evalue": "cannot reshape array of size 2 into shape (4,3)",
     "output_type": "error",
     "traceback": [
      "\u001b[0;31m---------------------------------------------------------------------------\u001b[0m",
      "\u001b[0;31mValueError\u001b[0m                                Traceback (most recent call last)",
      "Cell \u001b[0;32mIn[31], line 1\u001b[0m\n\u001b[0;32m----> 1\u001b[0m \u001b[43mA\u001b[49m\u001b[38;5;241;43m.\u001b[39;49m\u001b[43mshape\u001b[49m \u001b[38;5;241m=\u001b[39m (\u001b[38;5;241m4\u001b[39m, \u001b[38;5;241m3\u001b[39m)\n\u001b[1;32m      2\u001b[0m B\u001b[38;5;241m.\u001b[39mshape \u001b[38;5;241m=\u001b[39m (\u001b[38;5;241m4\u001b[39m, \u001b[38;5;241m3\u001b[39m)\n\u001b[1;32m      4\u001b[0m \u001b[38;5;66;03m# Remove 0 value we have\u001b[39;00m\n",
      "\u001b[0;31mValueError\u001b[0m: cannot reshape array of size 2 into shape (4,3)"
     ]
    }
   ],
   "source": [
    "A.shape = (4, 3)\n",
    "B.shape = (4, 3)\n",
    "\n",
    "# Remove 0 value we have\n",
    "A.shape = (4, 2)\n",
    "B.shape = (4, 2)\n",
    "\n",
    "# 4 is 4 fingers, 2 value in lies in a plan\n",
    "M.shape = (4, 2, 2)\n",
    "\n",
    "# Get sign of determinant\n",
    "direction.shape = (4,)"
   ]
  },
  {
   "cell_type": "code",
   "execution_count": 32,
   "id": "2e8e0d15-926b-4288-a4fb-e2bd335adf69",
   "metadata": {},
   "outputs": [],
   "source": [
    "# remove all zero\n",
    "# turn to M with 3 dims\n",
    "# get sign of det"
   ]
  },
  {
   "cell_type": "code",
   "execution_count": 6,
   "id": "132f5757-d24a-4441-add4-b63aaf3f137c",
   "metadata": {},
   "outputs": [],
   "source": [
    "import numpy as np\n",
    "\n",
    "A = np.random.rand(10, 2)\n",
    "B = np.random.rand(10, 2)"
   ]
  },
  {
   "cell_type": "code",
   "execution_count": 12,
   "id": "d1874648-8915-4cfd-8776-4827da8169d5",
   "metadata": {},
   "outputs": [
    {
     "data": {
      "text/plain": [
       "array([[0.66356393, 0.82445232],\n",
       "       [0.82060082, 0.87741292],\n",
       "       [0.05043704, 0.52706274],\n",
       "       [0.56251808, 0.60015203],\n",
       "       [0.89173084, 0.79523052],\n",
       "       [0.58667804, 0.61369583],\n",
       "       [0.00941407, 0.33200859],\n",
       "       [0.68677854, 0.75942193],\n",
       "       [0.30653357, 0.94177531],\n",
       "       [0.18102917, 0.82445096]])"
      ]
     },
     "execution_count": 12,
     "metadata": {},
     "output_type": "execute_result"
    }
   ],
   "source": [
    "A"
   ]
  },
  {
   "cell_type": "code",
   "execution_count": 13,
   "id": "9087d7e6-81b1-4efb-a1ab-ff5267bc26fb",
   "metadata": {},
   "outputs": [
    {
     "data": {
      "text/plain": [
       "array([[0.60186584, 0.84899647],\n",
       "       [0.63841814, 0.36616631],\n",
       "       [0.35445971, 0.78492193],\n",
       "       [0.5384292 , 0.77482165],\n",
       "       [0.7695046 , 0.86398979],\n",
       "       [0.09912928, 0.51797188],\n",
       "       [0.88303986, 0.6870676 ],\n",
       "       [0.42919355, 0.95212344],\n",
       "       [0.95597035, 0.18110174],\n",
       "       [0.67446968, 0.13337354]])"
      ]
     },
     "execution_count": 13,
     "metadata": {},
     "output_type": "execute_result"
    }
   ],
   "source": [
    "B"
   ]
  },
  {
   "cell_type": "code",
   "execution_count": 16,
   "id": "ecea8da2-712e-48c6-bf7a-0e9c8d04e072",
   "metadata": {
    "scrolled": true
   },
   "outputs": [],
   "source": [
    "C = np.concatenate([A[:, None, :], B[:, None, :]], axis=1)"
   ]
  },
  {
   "cell_type": "code",
   "execution_count": 17,
   "id": "a559eea9-b4c9-4cdf-b514-151615e0240f",
   "metadata": {},
   "outputs": [
    {
     "data": {
      "text/plain": [
       "array([ 0.06715374, -0.25967995, -0.14723337,  0.11271181,  0.1585128 ,\n",
       "        0.2430475 , -0.28670872,  0.32795896, -0.8447955 , -0.53192268])"
      ]
     },
     "execution_count": 17,
     "metadata": {},
     "output_type": "execute_result"
    }
   ],
   "source": [
    "np.linalg.det(C)"
   ]
  },
  {
   "cell_type": "code",
   "execution_count": 20,
   "id": "43abf462-ce69-411d-9176-a9fe014aa736",
   "metadata": {},
   "outputs": [
    {
     "data": {
      "text/plain": [
       "array([ 1., -1., -1.,  1.,  1.,  1., -1.,  1., -1., -1.])"
      ]
     },
     "execution_count": 20,
     "metadata": {},
     "output_type": "execute_result"
    }
   ],
   "source": [
    "np.sign(np.linalg.det(C))"
   ]
  },
  {
   "cell_type": "code",
   "execution_count": null,
   "id": "9106491c-9f6e-4cb1-b198-fd055178e7cf",
   "metadata": {},
   "outputs": [],
   "source": []
  },
  {
   "cell_type": "code",
   "execution_count": 24,
   "id": "83d3e281-38f9-4ecb-9b4c-b2f97bd81674",
   "metadata": {},
   "outputs": [
    {
     "data": {
      "text/plain": [
       "-1.0"
      ]
     },
     "execution_count": 24,
     "metadata": {},
     "output_type": "execute_result"
    }
   ],
   "source": [
    "np.linalg.det(np.array([[0, 1], [1, 0]]))"
   ]
  },
  {
   "cell_type": "code",
   "execution_count": null,
   "id": "360f9875-ed0c-4636-b23a-7c91fcbc7702",
   "metadata": {},
   "outputs": [],
   "source": []
  }
 ],
 "metadata": {
  "kernelspec": {
   "display_name": "Python 3 (ipykernel)",
   "language": "python",
   "name": "python3"
  },
  "language_info": {
   "codemirror_mode": {
    "name": "ipython",
    "version": 3
   },
   "file_extension": ".py",
   "mimetype": "text/x-python",
   "name": "python",
   "nbconvert_exporter": "python",
   "pygments_lexer": "ipython3",
   "version": "3.8.10"
  }
 },
 "nbformat": 4,
 "nbformat_minor": 5
}
