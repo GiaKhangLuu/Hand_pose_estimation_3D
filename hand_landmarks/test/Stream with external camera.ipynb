{
 "cells": [
  {
   "cell_type": "code",
   "execution_count": 1,
   "id": "fbcdbd9d",
   "metadata": {},
   "outputs": [],
   "source": [
    "import depthai as dai\n",
    "import pyrealsense2 as rs\n",
    "import numpy as np\n",
    "import cv2"
   ]
  },
  {
   "cell_type": "code",
   "execution_count": 2,
   "id": "1a7214c0",
   "metadata": {},
   "outputs": [],
   "source": [
    "window_size = (640, 360)"
   ]
  },
  {
   "cell_type": "code",
   "execution_count": 3,
   "id": "50b5bf5f",
   "metadata": {},
   "outputs": [],
   "source": [
    "pipeline_rs = rs.pipeline()\n",
    "config_rs = rs.config()\n",
    "config_rs.enable_stream(rs.stream.color, window_size[0], window_size[1], rs.format.bgr8, 30)\n",
    "config_rs.enable_stream(rs.stream.depth, window_size[0], window_size[1], rs.format.z16, 30)\n",
    "\n",
    "# Start streaming\n",
    "pipeline_rs.start(config_rs)\n",
    "rsalign = rs.align(rs.stream.color)"
   ]
  },
  {
   "cell_type": "code",
   "execution_count": 4,
   "id": "c01c0603",
   "metadata": {},
   "outputs": [],
   "source": [
    "while True:\n",
    "    frames = pipeline_rs.wait_for_frames()\n",
    "    frames = rsalign.process(frames)\n",
    "    color_frame_rs = frames.get_color_frame()\n",
    "    depth_frame_rs = frames.get_depth_frame()\n",
    "\n",
    "    frame_rs = np.asanyarray(color_frame_rs.get_data())\n",
    "    depth_rs = np.asanyarray(depth_frame_rs.get_data(), dtype=np.float32)\n",
    "    \n",
    "    cv2.imshow(\"RS\", frame_rs)\n",
    "    \n",
    "    if cv2.waitKey(10) & 0xFF == ord(\"q\"):\n",
    "        pipeline_rs.stop()\n",
    "        cv2.destroyAllWindows()\n",
    "        break"
   ]
  },
  {
   "cell_type": "code",
   "execution_count": null,
   "id": "bd9659e5",
   "metadata": {},
   "outputs": [],
   "source": []
  },
  {
   "cell_type": "code",
   "execution_count": 5,
   "id": "285ca881",
   "metadata": {},
   "outputs": [
    {
     "name": "stderr",
     "output_type": "stream",
     "text": [
      "/tmp/ipykernel_29615/4019615464.py:4: DeprecationWarning: RGB is deprecated, use CAM_A or address camera by name instead.\n",
      "  cam_rgb.setBoardSocket(dai.CameraBoardSocket.RGB)\n",
      "/tmp/ipykernel_29615/4019615464.py:12: DeprecationWarning: RGB is deprecated, use CAM_A or address camera by name instead.\n",
      "  stereo.setDepthAlign(dai.CameraBoardSocket.RGB)\n",
      "/tmp/ipykernel_29615/4019615464.py:15: DeprecationWarning: LEFT is deprecated, use CAM_B or address camera by name  instead.\n",
      "  mono_left.setBoardSocket(dai.CameraBoardSocket.LEFT)\n",
      "/tmp/ipykernel_29615/4019615464.py:16: DeprecationWarning: RIGHT is deprecated, use CAM_C or address camera by name  instead.\n",
      "  mono_right.setBoardSocket(dai.CameraBoardSocket.RIGHT)\n"
     ]
    }
   ],
   "source": [
    "pipeline_oak = dai.Pipeline()\n",
    "\n",
    "cam_rgb = pipeline_oak.create(dai.node.ColorCamera)\n",
    "cam_rgb.setBoardSocket(dai.CameraBoardSocket.RGB)\n",
    "cam_rgb.setResolution(dai.ColorCameraProperties.SensorResolution.THE_1080_P)\n",
    "cam_rgb.setFps(30)\n",
    "\n",
    "mono_left = pipeline_oak.create(dai.node.MonoCamera)\n",
    "mono_right = pipeline_oak.create(dai.node.MonoCamera)\n",
    "stereo = pipeline_oak.create(dai.node.StereoDepth)\n",
    "\n",
    "stereo.setDepthAlign(dai.CameraBoardSocket.RGB)\n",
    "stereo.setOutputSize(window_size[0], window_size[1])\n",
    "\n",
    "mono_left.setBoardSocket(dai.CameraBoardSocket.LEFT)\n",
    "mono_right.setBoardSocket(dai.CameraBoardSocket.RIGHT)\n",
    "mono_left.setResolution(dai.MonoCameraProperties.SensorResolution.THE_400_P)\n",
    "mono_right.setResolution(dai.MonoCameraProperties.SensorResolution.THE_400_P)\n",
    "\n",
    "stereo.setDefaultProfilePreset(dai.node.StereoDepth.PresetMode.HIGH_DENSITY)\n",
    "mono_left.out.link(stereo.left)\n",
    "mono_right.out.link(stereo.right)\n",
    "\n",
    "xout_rgb = pipeline_oak.create(dai.node.XLinkOut)\n",
    "xout_rgb.setStreamName(\"rgb\")\n",
    "cam_rgb.video.link(xout_rgb.input)\n",
    "\n",
    "xout_depth = pipeline_oak.create(dai.node.XLinkOut)\n",
    "xout_depth.setStreamName(\"depth\")\n",
    "stereo.depth.link(xout_depth.input)"
   ]
  },
  {
   "cell_type": "code",
   "execution_count": 6,
   "id": "8a8aac29",
   "metadata": {},
   "outputs": [],
   "source": [
    "device_oak = dai.Device(pipeline_oak)\n",
    "rgb_queue_oak = device_oak.getOutputQueue(name=\"rgb\", maxSize=2, blocking=False)\n",
    "depth_queue_oak = device_oak.getOutputQueue(name=\"depth\", maxSize=2, blocking=False)\n",
    "\n",
    "while True:\n",
    "    rgb_frame_oak = rgb_queue_oak.get()\n",
    "    depth_frame_oak = depth_queue_oak.get()\n",
    "\n",
    "    frame_oak = rgb_frame_oak.getCvFrame()\n",
    "    depth_oak = depth_frame_oak.getFrame()\n",
    "    depth_oak = depth_oak.astype(np.float32)\n",
    "\n",
    "    frame_oak = cv2.resize(frame_oak, window_size)\n",
    "    cv2.imshow(\"OAK\", frame_oak)\n",
    "    \n",
    "    if cv2.waitKey(10) & 0xFF == ord(\"q\"):\n",
    "        cv2.destroyAllWindows()\n",
    "        break"
   ]
  },
  {
   "cell_type": "code",
   "execution_count": null,
   "id": "2abd1d8f",
   "metadata": {},
   "outputs": [],
   "source": []
  }
 ],
 "metadata": {
  "kernelspec": {
   "display_name": "Python 3 (ipykernel)",
   "language": "python",
   "name": "python3"
  },
  "language_info": {
   "codemirror_mode": {
    "name": "ipython",
    "version": 3
   },
   "file_extension": ".py",
   "mimetype": "text/x-python",
   "name": "python",
   "nbconvert_exporter": "python",
   "pygments_lexer": "ipython3",
   "version": "3.9.19"
  }
 },
 "nbformat": 4,
 "nbformat_minor": 5
}
